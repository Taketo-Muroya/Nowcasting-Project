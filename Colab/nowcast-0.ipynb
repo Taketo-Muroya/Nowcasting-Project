{
  "cells": [
    {
      "cell_type": "markdown",
      "metadata": {
        "id": "view-in-github",
        "colab_type": "text"
      },
      "source": [
        "<a href=\"https://colab.research.google.com/github/Taketo-Muroya/Nowcasting-Project/blob/main/nowcast.ipynb\" target=\"_parent\"><img src=\"https://colab.research.google.com/assets/colab-badge.svg\" alt=\"Open In Colab\"/></a>"
      ]
    },
    {
      "cell_type": "markdown",
      "metadata": {
        "id": "04bkrl6V6Kub"
      },
      "source": [
        "# The nowcasting of economic conditions in Japan using ML"
      ]
    },
    {
      "cell_type": "markdown",
      "metadata": {
        "id": "xflSN4wChbhV"
      },
      "source": [
        "## Setting Up"
      ]
    },
    {
      "cell_type": "code",
      "source": [
        "from google.colab import drive\n",
        "drive.mount('/content/drive')\n",
        "import os\n",
        "os.chdir('drive/MyDrive/Colab Notebooks/Economic-Nowcasting-in-Japan')"
      ],
      "metadata": {
        "colab": {
          "base_uri": "https://localhost:8080/"
        },
        "id": "G2mZkw6H74ON",
        "outputId": "986ee1d7-bc1f-495b-c9ef-3e7c04e625af"
      },
      "execution_count": 2,
      "outputs": [
        {
          "output_type": "stream",
          "name": "stdout",
          "text": [
            "Mounted at /content/drive\n"
          ]
        }
      ]
    },
    {
      "cell_type": "code",
      "source": [
        "pip install pytrends"
      ],
      "metadata": {
        "colab": {
          "base_uri": "https://localhost:8080/"
        },
        "id": "nNDJg5GtV3-n",
        "outputId": "37fff687-6557-4818-ed99-53650ea44522"
      },
      "execution_count": 3,
      "outputs": [
        {
          "output_type": "stream",
          "name": "stdout",
          "text": [
            "Collecting pytrends\n",
            "  Downloading pytrends-4.7.3-py3-none-any.whl (14 kB)\n",
            "Requirement already satisfied: requests in /usr/local/lib/python3.7/dist-packages (from pytrends) (2.23.0)\n",
            "Requirement already satisfied: lxml in /usr/local/lib/python3.7/dist-packages (from pytrends) (4.2.6)\n",
            "Requirement already satisfied: pandas>=0.25 in /usr/local/lib/python3.7/dist-packages (from pytrends) (1.1.5)\n",
            "Requirement already satisfied: numpy>=1.15.4 in /usr/local/lib/python3.7/dist-packages (from pandas>=0.25->pytrends) (1.19.5)\n",
            "Requirement already satisfied: python-dateutil>=2.7.3 in /usr/local/lib/python3.7/dist-packages (from pandas>=0.25->pytrends) (2.8.2)\n",
            "Requirement already satisfied: pytz>=2017.2 in /usr/local/lib/python3.7/dist-packages (from pandas>=0.25->pytrends) (2018.9)\n",
            "Requirement already satisfied: six>=1.5 in /usr/local/lib/python3.7/dist-packages (from python-dateutil>=2.7.3->pandas>=0.25->pytrends) (1.15.0)\n",
            "Requirement already satisfied: urllib3!=1.25.0,!=1.25.1,<1.26,>=1.21.1 in /usr/local/lib/python3.7/dist-packages (from requests->pytrends) (1.24.3)\n",
            "Requirement already satisfied: idna<3,>=2.5 in /usr/local/lib/python3.7/dist-packages (from requests->pytrends) (2.10)\n",
            "Requirement already satisfied: certifi>=2017.4.17 in /usr/local/lib/python3.7/dist-packages (from requests->pytrends) (2021.10.8)\n",
            "Requirement already satisfied: chardet<4,>=3.0.2 in /usr/local/lib/python3.7/dist-packages (from requests->pytrends) (3.0.4)\n",
            "Installing collected packages: pytrends\n",
            "Successfully installed pytrends-4.7.3\n"
          ]
        }
      ]
    },
    {
      "cell_type": "code",
      "execution_count": 4,
      "metadata": {
        "id": "XVRC4jcI6KvX",
        "colab": {
          "base_uri": "https://localhost:8080/"
        },
        "outputId": "2fb2c88d-1813-4da3-bda5-b0da5ade0d13"
      },
      "outputs": [
        {
          "output_type": "stream",
          "name": "stderr",
          "text": [
            "/usr/local/lib/python3.7/dist-packages/statsmodels/tools/_testing.py:19: FutureWarning: pandas.util.testing is deprecated. Use the functions in the public API at pandas.testing instead.\n",
            "  import pandas.util.testing as tm\n"
          ]
        }
      ],
      "source": [
        "# Import packages\n",
        "import re\n",
        "import os\n",
        "import sys\n",
        "import requests\n",
        "#import MeCab\n",
        "#import oseti\n",
        "#import urllib\n",
        "import pandas as pd\n",
        "import numpy as np\n",
        "import matplotlib as mpl\n",
        "import matplotlib.pyplot as plt\n",
        "import statsmodels.api as sm\n",
        "import tensorflow as tf\n",
        "\n",
        "from math import sqrt\n",
        "from bs4 import BeautifulSoup\n",
        "from pathlib import Path\n",
        "from subprocess import call\n",
        "from keras.regularizers import l2\n",
        "from statsmodels.tsa.seasonal import seasonal_decompose\n",
        "\n",
        "from nltk.corpus import stopwords as sw       \n",
        "from nltk.stem import PorterStemmer\n",
        "from nltk.stem import WordNetLemmatizer\n",
        "from wordcloud import WordCloud, STOPWORDS\n",
        "\n",
        "from sklearn.feature_extraction.text import CountVectorizer\n",
        "from sklearn.feature_extraction.text import TfidfVectorizer\n",
        "from sklearn.decomposition import PCA\n",
        "from sklearn.model_selection import train_test_split\n",
        "from sklearn.model_selection import cross_val_score\n",
        "from sklearn.model_selection import GridSearchCV\n",
        "from sklearn.neighbors import KNeighborsRegressor\n",
        "from sklearn.linear_model import LinearRegression\n",
        "from sklearn.linear_model import Ridge\n",
        "from sklearn.linear_model import Lasso\n",
        "from sklearn.ensemble import RandomForestRegressor\n",
        "from sklearn.metrics import accuracy_score\n",
        "from sklearn.metrics import f1_score\n",
        "from sklearn.metrics import precision_score\n",
        "from sklearn.metrics import recall_score\n",
        "from sklearn.metrics import roc_auc_score\n",
        "from sklearn.metrics import mean_squared_error\n",
        "from sklearn.metrics import r2_score\n",
        "from sklearn.metrics import mean_absolute_error"
      ]
    },
    {
      "cell_type": "code",
      "execution_count": 5,
      "metadata": {
        "id": "9SQHrKQouqyg"
      },
      "outputs": [],
      "source": [
        "def multivariate_data(dataset, target, start_index, end_index, \n",
        "                      history_size, target_size, step, single_step=False):\n",
        "  data = []\n",
        "  labels = []\n",
        "\n",
        "  start_index = start_index + history_size\n",
        "  if end_index is None:\n",
        "    end_index = len(dataset) - target_size\n",
        "\n",
        "  for i in range(start_index, end_index):\n",
        "    # add current dataset\n",
        "    indices = range(i-history_size, i+1, step)\n",
        "    temp = pd.DataFrame(dataset[indices])\n",
        "    # replace current target to previous one\n",
        "    temp.iat[history_size, 0] = temp.iat[history_size-1, 0]\n",
        "    data.append(np.array(temp))\n",
        "\n",
        "    if single_step:\n",
        "      labels.append(target[i+target_size])\n",
        "    else:\n",
        "      labels.append(target[i:i+target_size])\n",
        "\n",
        "  return np.array(data), np.array(labels)"
      ]
    },
    {
      "cell_type": "code",
      "execution_count": 6,
      "metadata": {
        "id": "9sCSpqAkuzlm"
      },
      "outputs": [],
      "source": [
        "def model_eval_metrics(y_true, y_pred, classification=\"TRUE\"):\n",
        "     if classification==\"TRUE\":\n",
        "        accuracy_eval = accuracy_score(y_true, y_pred)\n",
        "        f1_score_eval = f1_score(y_true, y_pred,average=\"macro\",zero_division=0)\n",
        "        precision_eval = precision_score(y_true, y_pred,average=\"macro\",zero_division=0)\n",
        "        recall_eval = recall_score(y_true, y_pred,average=\"macro\",zero_division=0)\n",
        "        mse_eval = 0\n",
        "        rmse_eval = 0\n",
        "        mae_eval = 0\n",
        "        r2_eval = 0\n",
        "        metricdata = {'accuracy': [accuracy_eval], 'f1_score': [f1_score_eval], \n",
        "                      'precision': [precision_eval], 'recall': [recall_eval], 'mse': [mse_eval], \n",
        "                      'rmse': [rmse_eval], 'mae': [mae_eval], 'r2': [r2_eval]}\n",
        "        finalmetricdata = pd.DataFrame.from_dict(metricdata)\n",
        "     else:\n",
        "        accuracy_eval = 0\n",
        "        f1_score_eval = 0\n",
        "        precision_eval = 0\n",
        "        recall_eval = 0\n",
        "        mse_eval = mean_squared_error(y_true, y_pred)\n",
        "        rmse_eval = sqrt(mean_squared_error(y_true, y_pred))\n",
        "        mae_eval = mean_absolute_error(y_true, y_pred)\n",
        "        r2_eval = r2_score(y_true, y_pred)\n",
        "        metricdata = {'accuracy': [accuracy_eval], 'f1_score': [f1_score_eval], \n",
        "                      'precision': [precision_eval], 'recall': [recall_eval], 'mse': [mse_eval], \n",
        "                      'rmse': [rmse_eval], 'mae': [mae_eval], 'r2': [r2_eval]}\n",
        "        finalmetricdata = pd.DataFrame.from_dict(metricdata)\n",
        "     return finalmetricdata"
      ]
    },
    {
      "cell_type": "markdown",
      "metadata": {
        "id": "Xr2PamD36Kv_"
      },
      "source": [
        "## Target variable: Indexes of Business Conditions (IBC)"
      ]
    },
    {
      "cell_type": "markdown",
      "metadata": {
        "id": "PquS-anG6KwT"
      },
      "source": [
        "The Index of Business Conditions (IBC) represents monthly economic conditions in Japan. This study uses either coincident index (level) or coincident ann (change from the previouse year: Year-over-Year) as a target variable."
      ]
    },
    {
      "cell_type": "code",
      "execution_count": 7,
      "metadata": {
        "scrolled": true,
        "colab": {
          "base_uri": "https://localhost:8080/",
          "height": 0
        },
        "id": "7JLjEq3r6KwW",
        "outputId": "88a7db09-3e50-4d1f-d722-62099ea75ad1"
      },
      "outputs": [
        {
          "output_type": "execute_result",
          "data": {
            "text/html": [
              "\n",
              "  <div id=\"df-ff2eea29-97ab-4798-a648-f43fa198f3cc\">\n",
              "    <div class=\"colab-df-container\">\n",
              "      <div>\n",
              "<style scoped>\n",
              "    .dataframe tbody tr th:only-of-type {\n",
              "        vertical-align: middle;\n",
              "    }\n",
              "\n",
              "    .dataframe tbody tr th {\n",
              "        vertical-align: top;\n",
              "    }\n",
              "\n",
              "    .dataframe thead th {\n",
              "        text-align: right;\n",
              "    }\n",
              "</style>\n",
              "<table border=\"1\" class=\"dataframe\">\n",
              "  <thead>\n",
              "    <tr style=\"text-align: right;\">\n",
              "      <th></th>\n",
              "      <th>time</th>\n",
              "      <th>Coincident Index</th>\n",
              "      <th>Coincident ann</th>\n",
              "    </tr>\n",
              "  </thead>\n",
              "  <tbody>\n",
              "    <tr>\n",
              "      <th>0</th>\n",
              "      <td>Jan-85</td>\n",
              "      <td>79.1</td>\n",
              "      <td>NaN</td>\n",
              "    </tr>\n",
              "    <tr>\n",
              "      <th>1</th>\n",
              "      <td>Feb-85</td>\n",
              "      <td>78.8</td>\n",
              "      <td>NaN</td>\n",
              "    </tr>\n",
              "    <tr>\n",
              "      <th>2</th>\n",
              "      <td>Mar-85</td>\n",
              "      <td>78.7</td>\n",
              "      <td>NaN</td>\n",
              "    </tr>\n",
              "    <tr>\n",
              "      <th>3</th>\n",
              "      <td>Apr-85</td>\n",
              "      <td>79.6</td>\n",
              "      <td>NaN</td>\n",
              "    </tr>\n",
              "    <tr>\n",
              "      <th>4</th>\n",
              "      <td>May-85</td>\n",
              "      <td>79.5</td>\n",
              "      <td>NaN</td>\n",
              "    </tr>\n",
              "    <tr>\n",
              "      <th>...</th>\n",
              "      <td>...</td>\n",
              "      <td>...</td>\n",
              "      <td>...</td>\n",
              "    </tr>\n",
              "    <tr>\n",
              "      <th>438</th>\n",
              "      <td>Jul-21</td>\n",
              "      <td>94.0</td>\n",
              "      <td>16.480793</td>\n",
              "    </tr>\n",
              "    <tr>\n",
              "      <th>439</th>\n",
              "      <td>Aug-21</td>\n",
              "      <td>91.0</td>\n",
              "      <td>10.840438</td>\n",
              "    </tr>\n",
              "    <tr>\n",
              "      <th>440</th>\n",
              "      <td>Sep-21</td>\n",
              "      <td>88.7</td>\n",
              "      <td>4.722550</td>\n",
              "    </tr>\n",
              "    <tr>\n",
              "      <th>441</th>\n",
              "      <td>Oct-21</td>\n",
              "      <td>89.8</td>\n",
              "      <td>1.468927</td>\n",
              "    </tr>\n",
              "    <tr>\n",
              "      <th>442</th>\n",
              "      <td>Nov-21</td>\n",
              "      <td>93.6</td>\n",
              "      <td>5.643341</td>\n",
              "    </tr>\n",
              "  </tbody>\n",
              "</table>\n",
              "<p>443 rows × 3 columns</p>\n",
              "</div>\n",
              "      <button class=\"colab-df-convert\" onclick=\"convertToInteractive('df-ff2eea29-97ab-4798-a648-f43fa198f3cc')\"\n",
              "              title=\"Convert this dataframe to an interactive table.\"\n",
              "              style=\"display:none;\">\n",
              "        \n",
              "  <svg xmlns=\"http://www.w3.org/2000/svg\" height=\"24px\"viewBox=\"0 0 24 24\"\n",
              "       width=\"24px\">\n",
              "    <path d=\"M0 0h24v24H0V0z\" fill=\"none\"/>\n",
              "    <path d=\"M18.56 5.44l.94 2.06.94-2.06 2.06-.94-2.06-.94-.94-2.06-.94 2.06-2.06.94zm-11 1L8.5 8.5l.94-2.06 2.06-.94-2.06-.94L8.5 2.5l-.94 2.06-2.06.94zm10 10l.94 2.06.94-2.06 2.06-.94-2.06-.94-.94-2.06-.94 2.06-2.06.94z\"/><path d=\"M17.41 7.96l-1.37-1.37c-.4-.4-.92-.59-1.43-.59-.52 0-1.04.2-1.43.59L10.3 9.45l-7.72 7.72c-.78.78-.78 2.05 0 2.83L4 21.41c.39.39.9.59 1.41.59.51 0 1.02-.2 1.41-.59l7.78-7.78 2.81-2.81c.8-.78.8-2.07 0-2.86zM5.41 20L4 18.59l7.72-7.72 1.47 1.35L5.41 20z\"/>\n",
              "  </svg>\n",
              "      </button>\n",
              "      \n",
              "  <style>\n",
              "    .colab-df-container {\n",
              "      display:flex;\n",
              "      flex-wrap:wrap;\n",
              "      gap: 12px;\n",
              "    }\n",
              "\n",
              "    .colab-df-convert {\n",
              "      background-color: #E8F0FE;\n",
              "      border: none;\n",
              "      border-radius: 50%;\n",
              "      cursor: pointer;\n",
              "      display: none;\n",
              "      fill: #1967D2;\n",
              "      height: 32px;\n",
              "      padding: 0 0 0 0;\n",
              "      width: 32px;\n",
              "    }\n",
              "\n",
              "    .colab-df-convert:hover {\n",
              "      background-color: #E2EBFA;\n",
              "      box-shadow: 0px 1px 2px rgba(60, 64, 67, 0.3), 0px 1px 3px 1px rgba(60, 64, 67, 0.15);\n",
              "      fill: #174EA6;\n",
              "    }\n",
              "\n",
              "    [theme=dark] .colab-df-convert {\n",
              "      background-color: #3B4455;\n",
              "      fill: #D2E3FC;\n",
              "    }\n",
              "\n",
              "    [theme=dark] .colab-df-convert:hover {\n",
              "      background-color: #434B5C;\n",
              "      box-shadow: 0px 1px 3px 1px rgba(0, 0, 0, 0.15);\n",
              "      filter: drop-shadow(0px 1px 2px rgba(0, 0, 0, 0.3));\n",
              "      fill: #FFFFFF;\n",
              "    }\n",
              "  </style>\n",
              "\n",
              "      <script>\n",
              "        const buttonEl =\n",
              "          document.querySelector('#df-ff2eea29-97ab-4798-a648-f43fa198f3cc button.colab-df-convert');\n",
              "        buttonEl.style.display =\n",
              "          google.colab.kernel.accessAllowed ? 'block' : 'none';\n",
              "\n",
              "        async function convertToInteractive(key) {\n",
              "          const element = document.querySelector('#df-ff2eea29-97ab-4798-a648-f43fa198f3cc');\n",
              "          const dataTable =\n",
              "            await google.colab.kernel.invokeFunction('convertToInteractive',\n",
              "                                                     [key], {});\n",
              "          if (!dataTable) return;\n",
              "\n",
              "          const docLinkHtml = 'Like what you see? Visit the ' +\n",
              "            '<a target=\"_blank\" href=https://colab.research.google.com/notebooks/data_table.ipynb>data table notebook</a>'\n",
              "            + ' to learn more about interactive tables.';\n",
              "          element.innerHTML = '';\n",
              "          dataTable['output_type'] = 'display_data';\n",
              "          await google.colab.output.renderOutput(dataTable, element);\n",
              "          const docLink = document.createElement('div');\n",
              "          docLink.innerHTML = docLinkHtml;\n",
              "          element.appendChild(docLink);\n",
              "        }\n",
              "      </script>\n",
              "    </div>\n",
              "  </div>\n",
              "  "
            ],
            "text/plain": [
              "       time  Coincident Index  Coincident ann\n",
              "0    Jan-85              79.1             NaN\n",
              "1    Feb-85              78.8             NaN\n",
              "2    Mar-85              78.7             NaN\n",
              "3    Apr-85              79.6             NaN\n",
              "4    May-85              79.5             NaN\n",
              "..      ...               ...             ...\n",
              "438  Jul-21              94.0       16.480793\n",
              "439  Aug-21              91.0       10.840438\n",
              "440  Sep-21              88.7        4.722550\n",
              "441  Oct-21              89.8        1.468927\n",
              "442  Nov-21              93.6        5.643341\n",
              "\n",
              "[443 rows x 3 columns]"
            ]
          },
          "metadata": {},
          "execution_count": 7
        }
      ],
      "source": [
        "ibc = pd.read_csv('data/ibc_new.csv')\n",
        "ibc['Coincident ann'] = 100*ibc['Coincident Index'].pct_change(12)\n",
        "ibc"
      ]
    },
    {
      "cell_type": "code",
      "source": [
        "plt.plot(ibc['Coincident Index'])"
      ],
      "metadata": {
        "colab": {
          "base_uri": "https://localhost:8080/",
          "height": 0
        },
        "id": "go8o4L0OGrfI",
        "outputId": "2105596b-0625-4aac-f587-0e21c437de82"
      },
      "execution_count": 8,
      "outputs": [
        {
          "output_type": "execute_result",
          "data": {
            "text/plain": [
              "[<matplotlib.lines.Line2D at 0x7fd182b5c990>]"
            ]
          },
          "metadata": {},
          "execution_count": 8
        },
        {
          "output_type": "display_data",
          "data": {
            "image/png": "[encoded data removed]",
            "text/plain": [
              "<Figure size 432x288 with 1 Axes>"
            ]
          },
          "metadata": {
            "needs_background": "light"
          }
        }
      ]
    },
    {
      "cell_type": "code",
      "source": [
        "plt.plot(ibc['Coincident ann'])"
      ],
      "metadata": {
        "colab": {
          "base_uri": "https://localhost:8080/",
          "height": 0
        },
        "id": "gGXhPiC0aYSC",
        "outputId": "c4f34363-6451-4d93-8db1-37c151373763"
      },
      "execution_count": 9,
      "outputs": [
        {
          "output_type": "execute_result",
          "data": {
            "text/plain": [
              "[<matplotlib.lines.Line2D at 0x7fd17b65b090>]"
            ]
          },
          "metadata": {},
          "execution_count": 9
        },
        {
          "output_type": "display_data",
          "data": {
            "image/png": "[encoded data removed]",
            "text/plain": [
              "<Figure size 432x288 with 1 Axes>"
            ]
          },
          "metadata": {
            "needs_background": "light"
          }
        }
      ]
    },
    {
      "cell_type": "markdown",
      "metadata": {
        "id": "e7Fg--kh6K3I"
      },
      "source": [
        "## Electricity usage"
      ]
    },
    {
      "cell_type": "markdown",
      "metadata": {
        "id": "_jF1B6BL6K3M"
      },
      "source": [
        "Use electricity usage as predictors. The data up to 2016 is available on the Federation of Electric Power Companies (FEPC). For the data after 2016, it is needed to extract the data from 10 regional companies' websites. "
      ]
    },
    {
      "cell_type": "markdown",
      "metadata": {
        "id": "Klc8ucqV6K3O"
      },
      "source": [
        "### Electricity usage data up to 2016 (FEPC)"
      ]
    },
    {
      "cell_type": "code",
      "execution_count": 9,
      "metadata": {
        "colab": {
          "base_uri": "https://localhost:8080/",
          "height": 0
        },
        "id": "B9QMnA3H6K3R",
        "outputId": "8814438d-9d27-441d-b42e-de0ad8eeafe2"
      },
      "outputs": [
        {
          "output_type": "execute_result",
          "data": {
            "text/html": [
              "\n",
              "  <div id=\"df-cf6e3576-9370-4c29-8644-6996668f796f\">\n",
              "    <div class=\"colab-df-container\">\n",
              "      <div>\n",
              "<style scoped>\n",
              "    .dataframe tbody tr th:only-of-type {\n",
              "        vertical-align: middle;\n",
              "    }\n",
              "\n",
              "    .dataframe tbody tr th {\n",
              "        vertical-align: top;\n",
              "    }\n",
              "\n",
              "    .dataframe thead th {\n",
              "        text-align: right;\n",
              "    }\n",
              "</style>\n",
              "<table border=\"1\" class=\"dataframe\">\n",
              "  <thead>\n",
              "    <tr style=\"text-align: right;\">\n",
              "      <th></th>\n",
              "      <th>total</th>\n",
              "      <th>manufac</th>\n",
              "      <th>home</th>\n",
              "      <th>hokkaido</th>\n",
              "      <th>touhoku</th>\n",
              "      <th>tokyo</th>\n",
              "      <th>cyubu</th>\n",
              "      <th>hokuriku</th>\n",
              "      <th>kansai</th>\n",
              "      <th>cyugoku</th>\n",
              "      <th>shikoku</th>\n",
              "      <th>kyushu</th>\n",
              "      <th>okinawa</th>\n",
              "    </tr>\n",
              "    <tr>\n",
              "      <th>date</th>\n",
              "      <th></th>\n",
              "      <th></th>\n",
              "      <th></th>\n",
              "      <th></th>\n",
              "      <th></th>\n",
              "      <th></th>\n",
              "      <th></th>\n",
              "      <th></th>\n",
              "      <th></th>\n",
              "      <th></th>\n",
              "      <th></th>\n",
              "      <th></th>\n",
              "      <th></th>\n",
              "    </tr>\n",
              "  </thead>\n",
              "  <tbody>\n",
              "    <tr>\n",
              "      <th>1989-01-01</th>\n",
              "      <td>51644033</td>\n",
              "      <td>17795609</td>\n",
              "      <td>33848424</td>\n",
              "      <td>1262917</td>\n",
              "      <td>2877745</td>\n",
              "      <td>11678950</td>\n",
              "      <td>4653448</td>\n",
              "      <td>1037449</td>\n",
              "      <td>5961367</td>\n",
              "      <td>2097258</td>\n",
              "      <td>1070222</td>\n",
              "      <td>2961908</td>\n",
              "      <td>247160</td>\n",
              "    </tr>\n",
              "    <tr>\n",
              "      <th>1989-02-01</th>\n",
              "      <td>47947215</td>\n",
              "      <td>17531314</td>\n",
              "      <td>30415901</td>\n",
              "      <td>1311784</td>\n",
              "      <td>2528461</td>\n",
              "      <td>10293537</td>\n",
              "      <td>4113099</td>\n",
              "      <td>914883</td>\n",
              "      <td>5350461</td>\n",
              "      <td>1916335</td>\n",
              "      <td>1056805</td>\n",
              "      <td>2686789</td>\n",
              "      <td>243747</td>\n",
              "    </tr>\n",
              "    <tr>\n",
              "      <th>1989-03-01</th>\n",
              "      <td>48573850</td>\n",
              "      <td>19163583</td>\n",
              "      <td>29410267</td>\n",
              "      <td>1188310</td>\n",
              "      <td>2731645</td>\n",
              "      <td>9722251</td>\n",
              "      <td>3966344</td>\n",
              "      <td>894781</td>\n",
              "      <td>5199840</td>\n",
              "      <td>1826465</td>\n",
              "      <td>989702</td>\n",
              "      <td>2669432</td>\n",
              "      <td>221497</td>\n",
              "    </tr>\n",
              "    <tr>\n",
              "      <th>1989-04-01</th>\n",
              "      <td>48788188</td>\n",
              "      <td>18542427</td>\n",
              "      <td>30245761</td>\n",
              "      <td>1201758</td>\n",
              "      <td>2554842</td>\n",
              "      <td>10350207</td>\n",
              "      <td>4164558</td>\n",
              "      <td>891169</td>\n",
              "      <td>5415203</td>\n",
              "      <td>1941870</td>\n",
              "      <td>957782</td>\n",
              "      <td>2522739</td>\n",
              "      <td>245633</td>\n",
              "    </tr>\n",
              "    <tr>\n",
              "      <th>1989-05-01</th>\n",
              "      <td>46276002</td>\n",
              "      <td>18451992</td>\n",
              "      <td>27824010</td>\n",
              "      <td>1105686</td>\n",
              "      <td>2488594</td>\n",
              "      <td>9452232</td>\n",
              "      <td>3689625</td>\n",
              "      <td>841579</td>\n",
              "      <td>4867001</td>\n",
              "      <td>1689974</td>\n",
              "      <td>901074</td>\n",
              "      <td>2522991</td>\n",
              "      <td>265254</td>\n",
              "    </tr>\n",
              "    <tr>\n",
              "      <th>...</th>\n",
              "      <td>...</td>\n",
              "      <td>...</td>\n",
              "      <td>...</td>\n",
              "      <td>...</td>\n",
              "      <td>...</td>\n",
              "      <td>...</td>\n",
              "      <td>...</td>\n",
              "      <td>...</td>\n",
              "      <td>...</td>\n",
              "      <td>...</td>\n",
              "      <td>...</td>\n",
              "      <td>...</td>\n",
              "      <td>...</td>\n",
              "    </tr>\n",
              "    <tr>\n",
              "      <th>2015-11-01</th>\n",
              "      <td>60716671</td>\n",
              "      <td>20925883</td>\n",
              "      <td>39790788</td>\n",
              "      <td>1957471</td>\n",
              "      <td>3770970</td>\n",
              "      <td>12635365</td>\n",
              "      <td>5267052</td>\n",
              "      <td>1221189</td>\n",
              "      <td>6348491</td>\n",
              "      <td>2538923</td>\n",
              "      <td>1325099</td>\n",
              "      <td>4171917</td>\n",
              "      <td>554311</td>\n",
              "    </tr>\n",
              "    <tr>\n",
              "      <th>2015-12-01</th>\n",
              "      <td>63604246</td>\n",
              "      <td>20599296</td>\n",
              "      <td>43004950</td>\n",
              "      <td>2037416</td>\n",
              "      <td>4337510</td>\n",
              "      <td>14039592</td>\n",
              "      <td>5478028</td>\n",
              "      <td>1451686</td>\n",
              "      <td>6592122</td>\n",
              "      <td>2808292</td>\n",
              "      <td>1457393</td>\n",
              "      <td>4308727</td>\n",
              "      <td>494184</td>\n",
              "    </tr>\n",
              "    <tr>\n",
              "      <th>2016-01-01</th>\n",
              "      <td>73205156</td>\n",
              "      <td>20441436</td>\n",
              "      <td>52763720</td>\n",
              "      <td>2629883</td>\n",
              "      <td>5181720</td>\n",
              "      <td>16404146</td>\n",
              "      <td>6879849</td>\n",
              "      <td>1822099</td>\n",
              "      <td>8437918</td>\n",
              "      <td>3423528</td>\n",
              "      <td>1842317</td>\n",
              "      <td>5631231</td>\n",
              "      <td>511029</td>\n",
              "    </tr>\n",
              "    <tr>\n",
              "      <th>2016-02-01</th>\n",
              "      <td>72899139</td>\n",
              "      <td>20273742</td>\n",
              "      <td>52625397</td>\n",
              "      <td>2406565</td>\n",
              "      <td>5189185</td>\n",
              "      <td>17345157</td>\n",
              "      <td>6763051</td>\n",
              "      <td>1732640</td>\n",
              "      <td>8009869</td>\n",
              "      <td>3476379</td>\n",
              "      <td>1720426</td>\n",
              "      <td>5500944</td>\n",
              "      <td>481181</td>\n",
              "    </tr>\n",
              "    <tr>\n",
              "      <th>2016-03-01</th>\n",
              "      <td>69545218</td>\n",
              "      <td>21053124</td>\n",
              "      <td>48492094</td>\n",
              "      <td>2348201</td>\n",
              "      <td>4829178</td>\n",
              "      <td>15615407</td>\n",
              "      <td>6283345</td>\n",
              "      <td>1621908</td>\n",
              "      <td>7497503</td>\n",
              "      <td>3198588</td>\n",
              "      <td>1652053</td>\n",
              "      <td>4982600</td>\n",
              "      <td>463311</td>\n",
              "    </tr>\n",
              "  </tbody>\n",
              "</table>\n",
              "<p>327 rows × 13 columns</p>\n",
              "</div>\n",
              "      <button class=\"colab-df-convert\" onclick=\"convertToInteractive('df-cf6e3576-9370-4c29-8644-6996668f796f')\"\n",
              "              title=\"Convert this dataframe to an interactive table.\"\n",
              "              style=\"display:none;\">\n",
              "        \n",
              "  <svg xmlns=\"http://www.w3.org/2000/svg\" height=\"24px\"viewBox=\"0 0 24 24\"\n",
              "       width=\"24px\">\n",
              "    <path d=\"M0 0h24v24H0V0z\" fill=\"none\"/>\n",
              "    <path d=\"M18.56 5.44l.94 2.06.94-2.06 2.06-.94-2.06-.94-.94-2.06-.94 2.06-2.06.94zm-11 1L8.5 8.5l.94-2.06 2.06-.94-2.06-.94L8.5 2.5l-.94 2.06-2.06.94zm10 10l.94 2.06.94-2.06 2.06-.94-2.06-.94-.94-2.06-.94 2.06-2.06.94z\"/><path d=\"M17.41 7.96l-1.37-1.37c-.4-.4-.92-.59-1.43-.59-.52 0-1.04.2-1.43.59L10.3 9.45l-7.72 7.72c-.78.78-.78 2.05 0 2.83L4 21.41c.39.39.9.59 1.41.59.51 0 1.02-.2 1.41-.59l7.78-7.78 2.81-2.81c.8-.78.8-2.07 0-2.86zM5.41 20L4 18.59l7.72-7.72 1.47 1.35L5.41 20z\"/>\n",
              "  </svg>\n",
              "      </button>\n",
              "      \n",
              "  <style>\n",
              "    .colab-df-container {\n",
              "      display:flex;\n",
              "      flex-wrap:wrap;\n",
              "      gap: 12px;\n",
              "    }\n",
              "\n",
              "    .colab-df-convert {\n",
              "      background-color: #E8F0FE;\n",
              "      border: none;\n",
              "      border-radius: 50%;\n",
              "      cursor: pointer;\n",
              "      display: none;\n",
              "      fill: #1967D2;\n",
              "      height: 32px;\n",
              "      padding: 0 0 0 0;\n",
              "      width: 32px;\n",
              "    }\n",
              "\n",
              "    .colab-df-convert:hover {\n",
              "      background-color: #E2EBFA;\n",
              "      box-shadow: 0px 1px 2px rgba(60, 64, 67, 0.3), 0px 1px 3px 1px rgba(60, 64, 67, 0.15);\n",
              "      fill: #174EA6;\n",
              "    }\n",
              "\n",
              "    [theme=dark] .colab-df-convert {\n",
              "      background-color: #3B4455;\n",
              "      fill: #D2E3FC;\n",
              "    }\n",
              "\n",
              "    [theme=dark] .colab-df-convert:hover {\n",
              "      background-color: #434B5C;\n",
              "      box-shadow: 0px 1px 3px 1px rgba(0, 0, 0, 0.15);\n",
              "      filter: drop-shadow(0px 1px 2px rgba(0, 0, 0, 0.3));\n",
              "      fill: #FFFFFF;\n",
              "    }\n",
              "  </style>\n",
              "\n",
              "      <script>\n",
              "        const buttonEl =\n",
              "          document.querySelector('#df-cf6e3576-9370-4c29-8644-6996668f796f button.colab-df-convert');\n",
              "        buttonEl.style.display =\n",
              "          google.colab.kernel.accessAllowed ? 'block' : 'none';\n",
              "\n",
              "        async function convertToInteractive(key) {\n",
              "          const element = document.querySelector('#df-cf6e3576-9370-4c29-8644-6996668f796f');\n",
              "          const dataTable =\n",
              "            await google.colab.kernel.invokeFunction('convertToInteractive',\n",
              "                                                     [key], {});\n",
              "          if (!dataTable) return;\n",
              "\n",
              "          const docLinkHtml = 'Like what you see? Visit the ' +\n",
              "            '<a target=\"_blank\" href=https://colab.research.google.com/notebooks/data_table.ipynb>data table notebook</a>'\n",
              "            + ' to learn more about interactive tables.';\n",
              "          element.innerHTML = '';\n",
              "          dataTable['output_type'] = 'display_data';\n",
              "          await google.colab.output.renderOutput(dataTable, element);\n",
              "          const docLink = document.createElement('div');\n",
              "          docLink.innerHTML = docLinkHtml;\n",
              "          element.appendChild(docLink);\n",
              "        }\n",
              "      </script>\n",
              "    </div>\n",
              "  </div>\n",
              "  "
            ],
            "text/plain": [
              "               total   manufac      home  ...  shikoku   kyushu  okinawa\n",
              "date                                      ...                           \n",
              "1989-01-01  51644033  17795609  33848424  ...  1070222  2961908   247160\n",
              "1989-02-01  47947215  17531314  30415901  ...  1056805  2686789   243747\n",
              "1989-03-01  48573850  19163583  29410267  ...   989702  2669432   221497\n",
              "1989-04-01  48788188  18542427  30245761  ...   957782  2522739   245633\n",
              "1989-05-01  46276002  18451992  27824010  ...   901074  2522991   265254\n",
              "...              ...       ...       ...  ...      ...      ...      ...\n",
              "2015-11-01  60716671  20925883  39790788  ...  1325099  4171917   554311\n",
              "2015-12-01  63604246  20599296  43004950  ...  1457393  4308727   494184\n",
              "2016-01-01  73205156  20441436  52763720  ...  1842317  5631231   511029\n",
              "2016-02-01  72899139  20273742  52625397  ...  1720426  5500944   481181\n",
              "2016-03-01  69545218  21053124  48492094  ...  1652053  4982600   463311\n",
              "\n",
              "[327 rows x 13 columns]"
            ]
          },
          "metadata": {},
          "execution_count": 9
        }
      ],
      "source": [
        "past = pd.read_csv(\"data/electricity/past_elec.csv\", index_col=0, parse_dates=True)\n",
        "past"
      ]
    },
    {
      "cell_type": "code",
      "execution_count": 10,
      "metadata": {
        "colab": {
          "base_uri": "https://localhost:8080/",
          "height": 0
        },
        "id": "OA8IjH2f6K3V",
        "outputId": "f5e2d91f-f5a6-4fcd-f395-8c2e7173b470"
      },
      "outputs": [
        {
          "output_type": "execute_result",
          "data": {
            "text/plain": [
              "[<matplotlib.lines.Line2D at 0x7f704eb1ced0>]"
            ]
          },
          "metadata": {},
          "execution_count": 10
        },
        {
          "output_type": "display_data",
          "data": {
            "image/png": "[encoded data removed]",
            "text/plain": [
              "<Figure size 432x288 with 1 Axes>"
            ]
          },
          "metadata": {
            "needs_background": "light"
          }
        }
      ],
      "source": [
        "# Extract trend factor (Total)\n",
        "sea = seasonal_decompose(past.iloc[:,0], two_sided=False, extrapolate_trend=0)\n",
        "tt1 = sea.trend\n",
        "plt.plot(tt1)"
      ]
    },
    {
      "cell_type": "code",
      "execution_count": 11,
      "metadata": {
        "colab": {
          "base_uri": "https://localhost:8080/",
          "height": 0
        },
        "id": "k6EV2Nqu6K3X",
        "outputId": "77c64547-4f75-492c-d4a7-31b294899bd9"
      },
      "outputs": [
        {
          "output_type": "stream",
          "name": "stdout",
          "text": [
            "Correlation of level: 0.29\n",
            "Correlation of YoY: 0.49\n"
          ]
        },
        {
          "output_type": "display_data",
          "data": {
            "image/png": "[encoded data removed]",
            "text/plain": [
              "<Figure size 432x288 with 1 Axes>"
            ]
          },
          "metadata": {
            "needs_background": "light"
          }
        }
      ],
      "source": [
        "# Check correlation (Total)\n",
        "level = ibc['Coincident Index'][48:375]\n",
        "level.index = tt1.index\n",
        "cor = level.corr(tt1)\n",
        "print(\"Correlation of level: {:.2f}\".format(cor))\n",
        "\n",
        "aa1 = 100*past.iloc[:,0].pct_change(12)\n",
        "ann = ibc['Coincident ann'][48:375]\n",
        "ann.index = aa1.index\n",
        "cor = ann.corr(aa1)\n",
        "print(\"Correlation of YoY: {:.2f}\".format(cor))\n",
        "\n",
        "# Plot trend\n",
        "fig = plt.figure()\n",
        "ax = fig.add_subplot(1, 1, 1)\n",
        "ax.plot(aa1.index, ibc['Coincident ann'][48:375], linestyle='-', color='b', label='IBC')\n",
        "ax.plot(aa1.index, aa1, linestyle='--', color='#e46409', label='electricity (total)')\n",
        "ax.legend(loc='best')\n",
        "plt.savefig(\"images/total.png\")"
      ]
    },
    {
      "cell_type": "code",
      "execution_count": 12,
      "metadata": {
        "colab": {
          "base_uri": "https://localhost:8080/",
          "height": 0
        },
        "id": "5Jk7NJXy6K3b",
        "outputId": "2a111fc1-4460-41b5-f792-6542e0ef61fa"
      },
      "outputs": [
        {
          "output_type": "execute_result",
          "data": {
            "text/plain": [
              "[<matplotlib.lines.Line2D at 0x7f704ea74990>]"
            ]
          },
          "metadata": {},
          "execution_count": 12
        },
        {
          "output_type": "display_data",
          "data": {
            "image/png": "[encoded data removed]",
            "text/plain": [
              "<Figure size 432x288 with 1 Axes>"
            ]
          },
          "metadata": {
            "needs_background": "light"
          }
        }
      ],
      "source": [
        "# Extract trend factor (Manufacture)\n",
        "sea = seasonal_decompose(past.iloc[:,1], two_sided=False, extrapolate_trend=0)\n",
        "tt2 = sea.trend\n",
        "plt.plot(tt2)"
      ]
    },
    {
      "cell_type": "code",
      "source": [
        "plt.plot(ibc['Coincident Index'])"
      ],
      "metadata": {
        "colab": {
          "base_uri": "https://localhost:8080/",
          "height": 0
        },
        "id": "ercPUYlpmNrm",
        "outputId": "74b91abf-0d8d-4650-f8b1-b2ee9abf6cfb"
      },
      "execution_count": 13,
      "outputs": [
        {
          "output_type": "execute_result",
          "data": {
            "text/plain": [
              "[<matplotlib.lines.Line2D at 0x7f704e93f850>]"
            ]
          },
          "metadata": {},
          "execution_count": 13
        },
        {
          "output_type": "display_data",
          "data": {
            "image/png": "[encoded data removed]",
            "text/plain": [
              "<Figure size 432x288 with 1 Axes>"
            ]
          },
          "metadata": {
            "needs_background": "light"
          }
        }
      ]
    },
    {
      "cell_type": "code",
      "execution_count": 14,
      "metadata": {
        "colab": {
          "base_uri": "https://localhost:8080/",
          "height": 0
        },
        "id": "iLxMBKBW6K3d",
        "outputId": "9d738ae5-5404-4098-a8c6-6b183774034d"
      },
      "outputs": [
        {
          "output_type": "stream",
          "name": "stdout",
          "text": [
            "Correlation of level: 0.38\n",
            "Correlation of YoY: 0.84\n"
          ]
        },
        {
          "output_type": "display_data",
          "data": {
            "image/png": "[encoded data removed]",
            "text/plain": [
              "<Figure size 432x288 with 1 Axes>"
            ]
          },
          "metadata": {
            "needs_background": "light"
          }
        }
      ],
      "source": [
        "# Check correlation (Manufacture)\n",
        "level = ibc['Coincident Index'][48:375]\n",
        "level.index = tt2.index\n",
        "cor = level.corr(tt2)\n",
        "print(\"Correlation of level: {:.2f}\".format(cor))\n",
        "\n",
        "aa2 = 100*past.iloc[:,1].pct_change(12)\n",
        "ann = ibc['Coincident ann'][48:375]\n",
        "ann.index = aa2.index\n",
        "cor = ann.corr(aa2)\n",
        "print(\"Correlation of YoY: {:.2f}\".format(cor))\n",
        "\n",
        "# Plot trend\n",
        "fig = plt.figure()\n",
        "ax = fig.add_subplot(1, 1, 1)\n",
        "ax.plot(aa2.index, ibc['Coincident ann'][48:375], linestyle='-', color='b', label='IBC')\n",
        "ax.plot(aa2.index, aa2, linestyle='--', color='#e46409', label='electricity: industry')\n",
        "ax.legend(loc='best')\n",
        "plt.title('Industry Electricity Usage')\n",
        "plt.savefig(\"images/manufacture2016.png\")"
      ]
    },
    {
      "cell_type": "code",
      "execution_count": 15,
      "metadata": {
        "colab": {
          "base_uri": "https://localhost:8080/",
          "height": 0
        },
        "id": "uaMu4sUL6K3h",
        "outputId": "cc7a2424-4a2e-472d-ef4e-161b911bb3e7"
      },
      "outputs": [
        {
          "output_type": "execute_result",
          "data": {
            "text/plain": [
              "[<matplotlib.lines.Line2D at 0x7f704e877590>]"
            ]
          },
          "metadata": {},
          "execution_count": 15
        },
        {
          "output_type": "display_data",
          "data": {
            "image/png": "[encoded data removed]",
            "text/plain": [
              "<Figure size 432x288 with 1 Axes>"
            ]
          },
          "metadata": {
            "needs_background": "light"
          }
        }
      ],
      "source": [
        "# Extract trend factor (Household)\n",
        "sea = seasonal_decompose(past.iloc[:,2], two_sided=False, extrapolate_trend=0)\n",
        "tt3 = sea.trend\n",
        "plt.plot(tt3)"
      ]
    },
    {
      "cell_type": "code",
      "execution_count": 16,
      "metadata": {
        "scrolled": true,
        "colab": {
          "base_uri": "https://localhost:8080/",
          "height": 0
        },
        "id": "zK26mveR6K3j",
        "outputId": "bad5cce2-281b-43c0-c7cb-4c68b9d5a08e"
      },
      "outputs": [
        {
          "output_type": "stream",
          "name": "stdout",
          "text": [
            "Correlation of level: 0.26\n",
            "Correlation of YoY: 0.21\n"
          ]
        },
        {
          "output_type": "display_data",
          "data": {
            "image/png": "[encoded data removed]",
            "text/plain": [
              "<Figure size 432x288 with 1 Axes>"
            ]
          },
          "metadata": {
            "needs_background": "light"
          }
        }
      ],
      "source": [
        "# Check correlation (Household)\n",
        "level = ibc['Coincident Index'][48:375]\n",
        "level.index = tt3.index\n",
        "cor = level.corr(tt3)\n",
        "print(\"Correlation of level: {:.2f}\".format(cor))\n",
        "\n",
        "aa3 = 100*past.iloc[:,2].pct_change(12)\n",
        "ann = ibc['Coincident ann'][48:375]\n",
        "ann.index = aa3.index\n",
        "cor = ann.corr(aa3)\n",
        "print(\"Correlation of YoY: {:.2f}\".format(cor))\n",
        "\n",
        "# Plot trend\n",
        "fig = plt.figure()\n",
        "ax = fig.add_subplot(1, 1, 1)\n",
        "ax.plot(aa3.index, ibc['Coincident ann'][48:375], linestyle='-', color='b', label='IBC')\n",
        "ax.plot(aa3.index, aa3, linestyle='--', color='#e46409', label='electricity: household')\n",
        "ax.legend(loc='best')\n",
        "plt.title('Household Electricity Usage')\n",
        "plt.savefig(\"images/home2016.png\")"
      ]
    },
    {
      "cell_type": "markdown",
      "metadata": {
        "id": "HZaPMm-h6K3p"
      },
      "source": [
        "### Time series analysis"
      ]
    },
    {
      "cell_type": "code",
      "execution_count": 17,
      "metadata": {
        "scrolled": true,
        "colab": {
          "base_uri": "https://localhost:8080/",
          "height": 0
        },
        "id": "QHlAUsSj6K3t",
        "outputId": "6a1ca809-7cb1-430b-a1ae-e6b47adddcfb"
      },
      "outputs": [
        {
          "output_type": "stream",
          "name": "stderr",
          "text": [
            "/usr/local/lib/python3.7/dist-packages/ipykernel_launcher.py:8: FutureWarning: The pandas.datetime class is deprecated and will be removed from pandas in a future version. Import from datetime module instead.\n",
            "  \n"
          ]
        },
        {
          "output_type": "execute_result",
          "data": {
            "text/html": [
              "\n",
              "  <div id=\"df-2b8c4339-3541-462d-8947-cec2326bc944\">\n",
              "    <div class=\"colab-df-container\">\n",
              "      <div>\n",
              "<style scoped>\n",
              "    .dataframe tbody tr th:only-of-type {\n",
              "        vertical-align: middle;\n",
              "    }\n",
              "\n",
              "    .dataframe tbody tr th {\n",
              "        vertical-align: top;\n",
              "    }\n",
              "\n",
              "    .dataframe thead th {\n",
              "        text-align: right;\n",
              "    }\n",
              "</style>\n",
              "<table border=\"1\" class=\"dataframe\">\n",
              "  <thead>\n",
              "    <tr style=\"text-align: right;\">\n",
              "      <th></th>\n",
              "      <th>Coincident Index</th>\n",
              "      <th>Coincident ann</th>\n",
              "      <th>manufac</th>\n",
              "      <th>home</th>\n",
              "      <th>manufac.1</th>\n",
              "      <th>home.1</th>\n",
              "    </tr>\n",
              "    <tr>\n",
              "      <th>time</th>\n",
              "      <th></th>\n",
              "      <th></th>\n",
              "      <th></th>\n",
              "      <th></th>\n",
              "      <th></th>\n",
              "      <th></th>\n",
              "    </tr>\n",
              "  </thead>\n",
              "  <tbody>\n",
              "    <tr>\n",
              "      <th>2015-11-01</th>\n",
              "      <td>99.4</td>\n",
              "      <td>-0.300903</td>\n",
              "      <td>2.155927e+07</td>\n",
              "      <td>4.606606e+07</td>\n",
              "      <td>-2.555059</td>\n",
              "      <td>-4.382219</td>\n",
              "    </tr>\n",
              "    <tr>\n",
              "      <th>2015-12-01</th>\n",
              "      <td>98.6</td>\n",
              "      <td>-1.498501</td>\n",
              "      <td>2.149576e+07</td>\n",
              "      <td>4.585261e+07</td>\n",
              "      <td>-4.521196</td>\n",
              "      <td>-7.125220</td>\n",
              "    </tr>\n",
              "    <tr>\n",
              "      <th>2016-01-01</th>\n",
              "      <td>99.5</td>\n",
              "      <td>-2.163225</td>\n",
              "      <td>2.142728e+07</td>\n",
              "      <td>4.545227e+07</td>\n",
              "      <td>-3.165219</td>\n",
              "      <td>-10.679996</td>\n",
              "    </tr>\n",
              "    <tr>\n",
              "      <th>2016-02-01</th>\n",
              "      <td>99.0</td>\n",
              "      <td>-1.000000</td>\n",
              "      <td>2.139429e+07</td>\n",
              "      <td>4.514070e+07</td>\n",
              "      <td>-0.606093</td>\n",
              "      <td>-2.172183</td>\n",
              "    </tr>\n",
              "    <tr>\n",
              "      <th>2016-03-01</th>\n",
              "      <td>99.0</td>\n",
              "      <td>-0.602410</td>\n",
              "      <td>2.135816e+07</td>\n",
              "      <td>4.509313e+07</td>\n",
              "      <td>-3.410622</td>\n",
              "      <td>0.055157</td>\n",
              "    </tr>\n",
              "  </tbody>\n",
              "</table>\n",
              "</div>\n",
              "      <button class=\"colab-df-convert\" onclick=\"convertToInteractive('df-2b8c4339-3541-462d-8947-cec2326bc944')\"\n",
              "              title=\"Convert this dataframe to an interactive table.\"\n",
              "              style=\"display:none;\">\n",
              "        \n",
              "  <svg xmlns=\"http://www.w3.org/2000/svg\" height=\"24px\"viewBox=\"0 0 24 24\"\n",
              "       width=\"24px\">\n",
              "    <path d=\"M0 0h24v24H0V0z\" fill=\"none\"/>\n",
              "    <path d=\"M18.56 5.44l.94 2.06.94-2.06 2.06-.94-2.06-.94-.94-2.06-.94 2.06-2.06.94zm-11 1L8.5 8.5l.94-2.06 2.06-.94-2.06-.94L8.5 2.5l-.94 2.06-2.06.94zm10 10l.94 2.06.94-2.06 2.06-.94-2.06-.94-.94-2.06-.94 2.06-2.06.94z\"/><path d=\"M17.41 7.96l-1.37-1.37c-.4-.4-.92-.59-1.43-.59-.52 0-1.04.2-1.43.59L10.3 9.45l-7.72 7.72c-.78.78-.78 2.05 0 2.83L4 21.41c.39.39.9.59 1.41.59.51 0 1.02-.2 1.41-.59l7.78-7.78 2.81-2.81c.8-.78.8-2.07 0-2.86zM5.41 20L4 18.59l7.72-7.72 1.47 1.35L5.41 20z\"/>\n",
              "  </svg>\n",
              "      </button>\n",
              "      \n",
              "  <style>\n",
              "    .colab-df-container {\n",
              "      display:flex;\n",
              "      flex-wrap:wrap;\n",
              "      gap: 12px;\n",
              "    }\n",
              "\n",
              "    .colab-df-convert {\n",
              "      background-color: #E8F0FE;\n",
              "      border: none;\n",
              "      border-radius: 50%;\n",
              "      cursor: pointer;\n",
              "      display: none;\n",
              "      fill: #1967D2;\n",
              "      height: 32px;\n",
              "      padding: 0 0 0 0;\n",
              "      width: 32px;\n",
              "    }\n",
              "\n",
              "    .colab-df-convert:hover {\n",
              "      background-color: #E2EBFA;\n",
              "      box-shadow: 0px 1px 2px rgba(60, 64, 67, 0.3), 0px 1px 3px 1px rgba(60, 64, 67, 0.15);\n",
              "      fill: #174EA6;\n",
              "    }\n",
              "\n",
              "    [theme=dark] .colab-df-convert {\n",
              "      background-color: #3B4455;\n",
              "      fill: #D2E3FC;\n",
              "    }\n",
              "\n",
              "    [theme=dark] .colab-df-convert:hover {\n",
              "      background-color: #434B5C;\n",
              "      box-shadow: 0px 1px 3px 1px rgba(0, 0, 0, 0.15);\n",
              "      filter: drop-shadow(0px 1px 2px rgba(0, 0, 0, 0.3));\n",
              "      fill: #FFFFFF;\n",
              "    }\n",
              "  </style>\n",
              "\n",
              "      <script>\n",
              "        const buttonEl =\n",
              "          document.querySelector('#df-2b8c4339-3541-462d-8947-cec2326bc944 button.colab-df-convert');\n",
              "        buttonEl.style.display =\n",
              "          google.colab.kernel.accessAllowed ? 'block' : 'none';\n",
              "\n",
              "        async function convertToInteractive(key) {\n",
              "          const element = document.querySelector('#df-2b8c4339-3541-462d-8947-cec2326bc944');\n",
              "          const dataTable =\n",
              "            await google.colab.kernel.invokeFunction('convertToInteractive',\n",
              "                                                     [key], {});\n",
              "          if (!dataTable) return;\n",
              "\n",
              "          const docLinkHtml = 'Like what you see? Visit the ' +\n",
              "            '<a target=\"_blank\" href=https://colab.research.google.com/notebooks/data_table.ipynb>data table notebook</a>'\n",
              "            + ' to learn more about interactive tables.';\n",
              "          element.innerHTML = '';\n",
              "          dataTable['output_type'] = 'display_data';\n",
              "          await google.colab.output.renderOutput(dataTable, element);\n",
              "          const docLink = document.createElement('div');\n",
              "          docLink.innerHTML = docLinkHtml;\n",
              "          element.appendChild(docLink);\n",
              "        }\n",
              "      </script>\n",
              "    </div>\n",
              "  </div>\n",
              "  "
            ],
            "text/plain": [
              "            Coincident Index  Coincident ann  ...  manufac.1     home.1\n",
              "time                                          ...                      \n",
              "2015-11-01              99.4       -0.300903  ...  -2.555059  -4.382219\n",
              "2015-12-01              98.6       -1.498501  ...  -4.521196  -7.125220\n",
              "2016-01-01              99.5       -2.163225  ...  -3.165219 -10.679996\n",
              "2016-02-01              99.0       -1.000000  ...  -0.606093  -2.172183\n",
              "2016-03-01              99.0       -0.602410  ...  -3.410622   0.055157\n",
              "\n",
              "[5 rows x 6 columns]"
            ]
          },
          "metadata": {},
          "execution_count": 17
        }
      ],
      "source": [
        "# Set time series dataset\n",
        "X = pd.concat([tt2, tt3, aa2, aa3], axis=1)[12:]\n",
        "y = ibc[60:375]\n",
        "y = y.set_index('time')\n",
        "X.index = y.index\n",
        "ts = pd.concat([y, X], axis=1)\n",
        "ts.to_csv(\"ts.csv\")\n",
        "dateparse = lambda dates: pd.datetime.strptime(dates, '%b-%y')\n",
        "ts = pd.read_csv('ts.csv', index_col=0, date_parser=dateparse, dtype='float')\n",
        "\n",
        "# Split data into training and test set \n",
        "sp = round(0.8*len(ts))\n",
        "train = ts[0:sp]\n",
        "test = ts[sp:]\n",
        "\n",
        "ts.tail()"
      ]
    },
    {
      "cell_type": "code",
      "execution_count": 18,
      "metadata": {
        "colab": {
          "base_uri": "https://localhost:8080/"
        },
        "id": "Eqs5mgr16K3y",
        "outputId": "f8f7f930-053d-4aba-c6af-e1f3ef55e6fb"
      },
      "outputs": [
        {
          "output_type": "stream",
          "name": "stdout",
          "text": [
            "Unit root test (y): 0.03\n",
            "Unit root test (diff_y): 0.00\n",
            "Unit root test (X): 0.36\n",
            "Unit root test (diff_X): 0.00\n",
            "Cointegration test (manufac): 0.04\n",
            "Cointegration test (home): 0.05\n"
          ]
        }
      ],
      "source": [
        "# Unit root test of y (H0: non-stationary)\n",
        "adf_result = sm.tsa.stattools.adfuller(ts['Coincident Index'])\n",
        "print(\"Unit root test (y): {:.2f}\".format(adf_result[1])) # p-value\n",
        "\n",
        "# Take difference of y\n",
        "diff = ts['Coincident Index'].diff()\n",
        "diff = diff.dropna()\n",
        "adf_result = sm.tsa.stattools.adfuller(diff)\n",
        "print(\"Unit root test (diff_y): {:.2f}\".format(adf_result[1])) # p-value\n",
        "\n",
        "# Unit root test of X (H0: non-stationary)\n",
        "adf_result = sm.tsa.stattools.adfuller(ts['manufac'])\n",
        "print(\"Unit root test (X): {:.2f}\".format(adf_result[1])) # p-value\n",
        "\n",
        "# Take difference of X\n",
        "diff = ts['manufac'].diff()\n",
        "diff = diff.dropna()\n",
        "adf_result = sm.tsa.stattools.adfuller(diff)\n",
        "print(\"Unit root test (diff_X): {:.2f}\".format(adf_result[1])) # p-value\n",
        "\n",
        "# Cointegration test (H0: non-cointegration)\n",
        "coint_result = sm.tsa.stattools.coint(ts['Coincident Index'], ts['manufac'])\n",
        "print(\"Cointegration test (manufac): {:.2f}\".format(coint_result[1])) # p-value\n",
        "coint_result = sm.tsa.stattools.coint(ts['Coincident Index'], ts['home'])\n",
        "print(\"Cointegration test (home): {:.2f}\".format(coint_result[1])) # p-value"
      ]
    },
    {
      "cell_type": "markdown",
      "metadata": {
        "id": "-Hj7JiDF6K32"
      },
      "source": [
        "### ARIMA Prediction"
      ]
    },
    {
      "cell_type": "code",
      "execution_count": 19,
      "metadata": {
        "scrolled": true,
        "colab": {
          "base_uri": "https://localhost:8080/"
        },
        "id": "ZtvVxtST6K34",
        "outputId": "71ae8820-7810-457d-9044-fba5403a4a40"
      },
      "outputs": [
        {
          "output_type": "stream",
          "name": "stdout",
          "text": [
            "                           Statespace Model Results                           \n",
            "==============================================================================\n",
            "Dep. Variable:       Coincident Index   No. Observations:                  252\n",
            "Model:               SARIMAX(1, 1, 1)   Log Likelihood                -377.330\n",
            "Date:                Thu, 13 Jan 2022   AIC                            764.660\n",
            "Time:                        01:43:23   BIC                            782.287\n",
            "Sample:                    01-01-1990   HQIC                           771.753\n",
            "                         - 12-01-2010                                         \n",
            "Covariance Type:                  opg                                         \n",
            "==============================================================================\n",
            "                 coef    std err          z      P>|z|      [0.025      0.975]\n",
            "------------------------------------------------------------------------------\n",
            "manufac     1.822e-06    1.5e-06      1.218      0.223   -1.11e-06    4.76e-06\n",
            "home       -9.799e-07   6.15e-07     -1.594      0.111   -2.18e-06    2.25e-07\n",
            "ar.L1          0.8044      0.094      8.527      0.000       0.620       0.989\n",
            "ma.L1         -0.6180      0.102     -6.050      0.000      -0.818      -0.418\n",
            "sigma2         1.1863      0.089     13.305      0.000       1.012       1.361\n",
            "===================================================================================\n",
            "Ljung-Box (Q):                       77.74   Jarque-Bera (JB):               127.32\n",
            "Prob(Q):                              0.00   Prob(JB):                         0.00\n",
            "Heteroskedasticity (H):               2.34   Skew:                            -0.85\n",
            "Prob(H) (two-sided):                  0.00   Kurtosis:                         6.05\n",
            "===================================================================================\n",
            "\n",
            "Warnings:\n",
            "[1] Covariance matrix calculated using the outer product of gradients (complex-step).\n"
          ]
        },
        {
          "output_type": "stream",
          "name": "stderr",
          "text": [
            "/usr/local/lib/python3.7/dist-packages/statsmodels/base/model.py:512: ConvergenceWarning: Maximum Likelihood optimization failed to converge. Check mle_retvals\n",
            "  \"Check mle_retvals\", ConvergenceWarning)\n"
          ]
        }
      ],
      "source": [
        "# Fit the model\n",
        "SARIMAX = sm.tsa.SARIMAX(train['Coincident Index'], train.iloc[:,2:4], order=(1,1,1), freq='MS').fit()\n",
        "print(SARIMAX.summary())"
      ]
    },
    {
      "cell_type": "code",
      "execution_count": 20,
      "metadata": {
        "scrolled": false,
        "colab": {
          "base_uri": "https://localhost:8080/",
          "height": 0
        },
        "id": "eg8omot-6K38",
        "outputId": "43c4991e-fb6e-43b0-c96c-0c2fb7bedd9d"
      },
      "outputs": [
        {
          "output_type": "stream",
          "name": "stdout",
          "text": [
            "Test set score: 0.25\n"
          ]
        },
        {
          "output_type": "display_data",
          "data": {
            "image/png": "[encoded data removed]",
            "text/plain": [
              "<Figure size 432x288 with 1 Axes>"
            ]
          },
          "metadata": {
            "needs_background": "light"
          }
        }
      ],
      "source": [
        "pred = SARIMAX.predict('2011-01-01', '2016-03-01', exog=test.iloc[:,2:4])\n",
        "plt.plot(test['Coincident Index'], label=\"actual\")\n",
        "plt.plot(pred, \"r\", linestyle='--', label=\"predict\")\n",
        "plt.legend(loc='best')\n",
        "\n",
        "print(\"Test set score: {:.2f}\".format(r2_score(test['Coincident Index'], pred)))"
      ]
    },
    {
      "cell_type": "markdown",
      "metadata": {
        "id": "oTGxVtCn6K3_"
      },
      "source": [
        "### ARIMA Prediction (YoY)"
      ]
    },
    {
      "cell_type": "code",
      "execution_count": 21,
      "metadata": {
        "scrolled": true,
        "colab": {
          "base_uri": "https://localhost:8080/"
        },
        "id": "10iowZ8m6K4B",
        "outputId": "e33f7249-efc2-464b-f5a1-8b95e7292e8c"
      },
      "outputs": [
        {
          "output_type": "stream",
          "name": "stdout",
          "text": [
            "                           Statespace Model Results                           \n",
            "==============================================================================\n",
            "Dep. Variable:         Coincident ann   No. Observations:                  252\n",
            "Model:               SARIMAX(1, 0, 1)   Log Likelihood                -476.724\n",
            "Date:                Thu, 13 Jan 2022   AIC                            963.448\n",
            "Time:                        01:43:24   BIC                            981.095\n",
            "Sample:                    01-01-1990   HQIC                           970.549\n",
            "                         - 12-01-2010                                         \n",
            "Covariance Type:                  opg                                         \n",
            "==============================================================================\n",
            "                 coef    std err          z      P>|z|      [0.025      0.975]\n",
            "------------------------------------------------------------------------------\n",
            "manufac.1      0.6108      0.042     14.477      0.000       0.528       0.693\n",
            "home.1        -0.0193      0.025     -0.780      0.436      -0.068       0.029\n",
            "ar.L1          0.9630      0.016     58.701      0.000       0.931       0.995\n",
            "ma.L1          0.0047      0.067      0.070      0.944      -0.127       0.137\n",
            "sigma2         2.5477      0.211     12.059      0.000       2.134       2.962\n",
            "===================================================================================\n",
            "Ljung-Box (Q):                      154.37   Jarque-Bera (JB):                53.49\n",
            "Prob(Q):                              0.00   Prob(JB):                         0.00\n",
            "Heteroskedasticity (H):               1.79   Skew:                             0.56\n",
            "Prob(H) (two-sided):                  0.01   Kurtosis:                         4.95\n",
            "===================================================================================\n",
            "\n",
            "Warnings:\n",
            "[1] Covariance matrix calculated using the outer product of gradients (complex-step).\n"
          ]
        }
      ],
      "source": [
        "# Fit the model\n",
        "SARIMAX = sm.tsa.SARIMAX(train['Coincident ann'], train.iloc[:,4:], order=(1,0,1), freq='MS').fit()\n",
        "print(SARIMAX.summary())"
      ]
    },
    {
      "cell_type": "code",
      "execution_count": 22,
      "metadata": {
        "scrolled": true,
        "colab": {
          "base_uri": "https://localhost:8080/",
          "height": 0
        },
        "id": "i7yxxVYC6K4D",
        "outputId": "dea4957b-0285-45b0-fb4f-95b3682614f2"
      },
      "outputs": [
        {
          "output_type": "stream",
          "name": "stdout",
          "text": [
            "Test set score: 0.43\n"
          ]
        },
        {
          "output_type": "display_data",
          "data": {
            "image/png": "[encoded data removed]",
            "text/plain": [
              "<Figure size 432x288 with 1 Axes>"
            ]
          },
          "metadata": {
            "needs_background": "light"
          }
        }
      ],
      "source": [
        "pred = SARIMAX.predict('2011-01-01', '2016-03-01', exog=test.iloc[:,4:])\n",
        "plt.plot(test['Coincident ann'], label=\"actual\")\n",
        "plt.plot(pred, \"r\", linestyle='--', label=\"predict\")\n",
        "plt.legend(loc='best')\n",
        "\n",
        "print(\"Test set score: {:.2f}\".format(r2_score(test['Coincident ann'], pred)))"
      ]
    },
    {
      "cell_type": "markdown",
      "metadata": {
        "id": "e-Goq3qU6K4K"
      },
      "source": [
        "### Random Forest"
      ]
    },
    {
      "cell_type": "code",
      "execution_count": 23,
      "metadata": {
        "scrolled": false,
        "colab": {
          "base_uri": "https://localhost:8080/",
          "height": 0
        },
        "id": "-vgIimgp6K4N",
        "outputId": "097dc9f5-43d3-44ef-d436-69ea3ba55fd0"
      },
      "outputs": [
        {
          "output_type": "stream",
          "name": "stdout",
          "text": [
            "Training set score: 0.99\n",
            "Cross-Validation score: 0.76\n",
            "Test set score: 0.62\n"
          ]
        },
        {
          "output_type": "display_data",
          "data": {
            "image/png": "[encoded data removed]",
            "text/plain": [
              "<Figure size 432x288 with 1 Axes>"
            ]
          },
          "metadata": {
            "needs_background": "light"
          }
        }
      ],
      "source": [
        "# Set X and y variables\n",
        "X = ts.iloc[:,4:6]\n",
        "y = ts['Coincident ann']\n",
        "\n",
        "# Preprocess for adding AR\n",
        "X_l = X.drop(X.index[0])\n",
        "#X_l = X_l.drop(X_l.index[0])\n",
        "X_l.reset_index(inplace=True, drop=True)\n",
        "\n",
        "# Generate AR variable\n",
        "y_l = y.drop(y.index[-1])\n",
        "#y_l = y_l.drop(y_l.index[-1])\n",
        "y_l.reset_index(inplace=True, drop=True)\n",
        "\n",
        "# Add AR into X\n",
        "X_t = pd.concat([y_l, X_l], axis=1)\n",
        "y_t = y.drop(y.index[0])\n",
        "#y_t = y_t.drop(y_t.index[0])\n",
        "X_t.index = y_t.index\n",
        "\n",
        "# Split data into training and test set \n",
        "sp = round(0.8*len(X_t))\n",
        "X_train = X_t[0:sp]\n",
        "X_test = X_t[sp:]\n",
        "y_train = y_t[0:sp]\n",
        "y_test = y_t[sp:]\n",
        "\n",
        "# Fit the model\n",
        "tm = RandomForestRegressor(n_estimators=1000).fit(X_train, y_train)\n",
        "#tm.feature_importances_\n",
        "\n",
        "# Goodness of Fit\n",
        "print(\"Training set score: {:.2f}\".format(tm.score(X_train, y_train)))\n",
        "print(\"Cross-Validation score: {:.2f}\".format(\n",
        "          np.mean(cross_val_score(tm, X_train, y_train, cv=5))))\n",
        "print(\"Test set score: {:.2f}\".format(tm.score(X_test, y_test)))\n",
        "\n",
        "# Calculate the prediction\n",
        "prediction = pd.DataFrame(tm.predict(X_test))\n",
        "pre = prediction.values.tolist()\n",
        "act = y_test.values.tolist()\n",
        "predict = pd.DataFrame(pre, columns=['predict'])\n",
        "actual = pd.DataFrame(act, columns=['actual'])\n",
        "com = pd.concat([predict, actual], axis=1)\n",
        "\n",
        "# Plot the prediction\n",
        "fig = plt.figure()\n",
        "ax = fig.add_subplot(1, 1, 1)\n",
        "ax.plot(com.index, com.actual, linestyle='-', color='b', label='actual')\n",
        "ax.plot(com.index, com.predict, linestyle='--', color='#e46409', label='predict')\n",
        "ax.legend(loc='best')\n",
        "ax.set_title('Random Forest: Level')\n",
        "plt.savefig(\"images/elect_rf.png\")"
      ]
    },
    {
      "cell_type": "markdown",
      "metadata": {
        "id": "bt9_B3OJ6K4S"
      },
      "source": [
        "### RNN-LSTM"
      ]
    },
    {
      "cell_type": "code",
      "execution_count": 24,
      "metadata": {
        "scrolled": false,
        "colab": {
          "base_uri": "https://localhost:8080/",
          "height": 0
        },
        "id": "DgHwaj8A6K4V",
        "outputId": "9814b073-ad65-488f-aba0-53ae3142ed7f"
      },
      "outputs": [
        {
          "output_type": "execute_result",
          "data": {
            "text/html": [
              "\n",
              "  <div id=\"df-ab32887b-92c4-4cca-a8f7-69122080e25e\">\n",
              "    <div class=\"colab-df-container\">\n",
              "      <div>\n",
              "<style scoped>\n",
              "    .dataframe tbody tr th:only-of-type {\n",
              "        vertical-align: middle;\n",
              "    }\n",
              "\n",
              "    .dataframe tbody tr th {\n",
              "        vertical-align: top;\n",
              "    }\n",
              "\n",
              "    .dataframe thead th {\n",
              "        text-align: right;\n",
              "    }\n",
              "</style>\n",
              "<table border=\"1\" class=\"dataframe\">\n",
              "  <thead>\n",
              "    <tr style=\"text-align: right;\">\n",
              "      <th></th>\n",
              "      <th>Coincident ann</th>\n",
              "      <th>manufac.1</th>\n",
              "      <th>home.1</th>\n",
              "    </tr>\n",
              "    <tr>\n",
              "      <th>time</th>\n",
              "      <th></th>\n",
              "      <th></th>\n",
              "      <th></th>\n",
              "    </tr>\n",
              "  </thead>\n",
              "  <tbody>\n",
              "    <tr>\n",
              "      <th>2015-11-01</th>\n",
              "      <td>-0.300903</td>\n",
              "      <td>-2.555059</td>\n",
              "      <td>-4.382219</td>\n",
              "    </tr>\n",
              "    <tr>\n",
              "      <th>2015-12-01</th>\n",
              "      <td>-1.498501</td>\n",
              "      <td>-4.521196</td>\n",
              "      <td>-7.125220</td>\n",
              "    </tr>\n",
              "    <tr>\n",
              "      <th>2016-01-01</th>\n",
              "      <td>-2.163225</td>\n",
              "      <td>-3.165219</td>\n",
              "      <td>-10.679996</td>\n",
              "    </tr>\n",
              "    <tr>\n",
              "      <th>2016-02-01</th>\n",
              "      <td>-1.000000</td>\n",
              "      <td>-0.606093</td>\n",
              "      <td>-2.172183</td>\n",
              "    </tr>\n",
              "    <tr>\n",
              "      <th>2016-03-01</th>\n",
              "      <td>-0.602410</td>\n",
              "      <td>-3.410622</td>\n",
              "      <td>0.055157</td>\n",
              "    </tr>\n",
              "  </tbody>\n",
              "</table>\n",
              "</div>\n",
              "      <button class=\"colab-df-convert\" onclick=\"convertToInteractive('df-ab32887b-92c4-4cca-a8f7-69122080e25e')\"\n",
              "              title=\"Convert this dataframe to an interactive table.\"\n",
              "              style=\"display:none;\">\n",
              "        \n",
              "  <svg xmlns=\"http://www.w3.org/2000/svg\" height=\"24px\"viewBox=\"0 0 24 24\"\n",
              "       width=\"24px\">\n",
              "    <path d=\"M0 0h24v24H0V0z\" fill=\"none\"/>\n",
              "    <path d=\"M18.56 5.44l.94 2.06.94-2.06 2.06-.94-2.06-.94-.94-2.06-.94 2.06-2.06.94zm-11 1L8.5 8.5l.94-2.06 2.06-.94-2.06-.94L8.5 2.5l-.94 2.06-2.06.94zm10 10l.94 2.06.94-2.06 2.06-.94-2.06-.94-.94-2.06-.94 2.06-2.06.94z\"/><path d=\"M17.41 7.96l-1.37-1.37c-.4-.4-.92-.59-1.43-.59-.52 0-1.04.2-1.43.59L10.3 9.45l-7.72 7.72c-.78.78-.78 2.05 0 2.83L4 21.41c.39.39.9.59 1.41.59.51 0 1.02-.2 1.41-.59l7.78-7.78 2.81-2.81c.8-.78.8-2.07 0-2.86zM5.41 20L4 18.59l7.72-7.72 1.47 1.35L5.41 20z\"/>\n",
              "  </svg>\n",
              "      </button>\n",
              "      \n",
              "  <style>\n",
              "    .colab-df-container {\n",
              "      display:flex;\n",
              "      flex-wrap:wrap;\n",
              "      gap: 12px;\n",
              "    }\n",
              "\n",
              "    .colab-df-convert {\n",
              "      background-color: #E8F0FE;\n",
              "      border: none;\n",
              "      border-radius: 50%;\n",
              "      cursor: pointer;\n",
              "      display: none;\n",
              "      fill: #1967D2;\n",
              "      height: 32px;\n",
              "      padding: 0 0 0 0;\n",
              "      width: 32px;\n",
              "    }\n",
              "\n",
              "    .colab-df-convert:hover {\n",
              "      background-color: #E2EBFA;\n",
              "      box-shadow: 0px 1px 2px rgba(60, 64, 67, 0.3), 0px 1px 3px 1px rgba(60, 64, 67, 0.15);\n",
              "      fill: #174EA6;\n",
              "    }\n",
              "\n",
              "    [theme=dark] .colab-df-convert {\n",
              "      background-color: #3B4455;\n",
              "      fill: #D2E3FC;\n",
              "    }\n",
              "\n",
              "    [theme=dark] .colab-df-convert:hover {\n",
              "      background-color: #434B5C;\n",
              "      box-shadow: 0px 1px 3px 1px rgba(0, 0, 0, 0.15);\n",
              "      filter: drop-shadow(0px 1px 2px rgba(0, 0, 0, 0.3));\n",
              "      fill: #FFFFFF;\n",
              "    }\n",
              "  </style>\n",
              "\n",
              "      <script>\n",
              "        const buttonEl =\n",
              "          document.querySelector('#df-ab32887b-92c4-4cca-a8f7-69122080e25e button.colab-df-convert');\n",
              "        buttonEl.style.display =\n",
              "          google.colab.kernel.accessAllowed ? 'block' : 'none';\n",
              "\n",
              "        async function convertToInteractive(key) {\n",
              "          const element = document.querySelector('#df-ab32887b-92c4-4cca-a8f7-69122080e25e');\n",
              "          const dataTable =\n",
              "            await google.colab.kernel.invokeFunction('convertToInteractive',\n",
              "                                                     [key], {});\n",
              "          if (!dataTable) return;\n",
              "\n",
              "          const docLinkHtml = 'Like what you see? Visit the ' +\n",
              "            '<a target=\"_blank\" href=https://colab.research.google.com/notebooks/data_table.ipynb>data table notebook</a>'\n",
              "            + ' to learn more about interactive tables.';\n",
              "          element.innerHTML = '';\n",
              "          dataTable['output_type'] = 'display_data';\n",
              "          await google.colab.output.renderOutput(dataTable, element);\n",
              "          const docLink = document.createElement('div');\n",
              "          docLink.innerHTML = docLinkHtml;\n",
              "          element.appendChild(docLink);\n",
              "        }\n",
              "      </script>\n",
              "    </div>\n",
              "  </div>\n",
              "  "
            ],
            "text/plain": [
              "            Coincident ann  manufac.1     home.1\n",
              "time                                            \n",
              "2015-11-01       -0.300903  -2.555059  -4.382219\n",
              "2015-12-01       -1.498501  -4.521196  -7.125220\n",
              "2016-01-01       -2.163225  -3.165219 -10.679996\n",
              "2016-02-01       -1.000000  -0.606093  -2.172183\n",
              "2016-03-01       -0.602410  -3.410622   0.055157"
            ]
          },
          "metadata": {},
          "execution_count": 24
        }
      ],
      "source": [
        "features = pd.concat([ts['Coincident ann'], ts.iloc[:,4:6]], axis=1)\n",
        "features.tail()"
      ]
    },
    {
      "cell_type": "code",
      "execution_count": 25,
      "metadata": {
        "colab": {
          "base_uri": "https://localhost:8080/"
        },
        "id": "XnRI3Wd_6K4a",
        "outputId": "96b543ae-59d3-483a-cd7c-8cd186d2d81c"
      },
      "outputs": [
        {
          "output_type": "stream",
          "name": "stdout",
          "text": [
            "252\n"
          ]
        }
      ],
      "source": [
        "# set training percentage\n",
        "TRAIN_SPLIT = round(0.8*len(ts))\n",
        "print(TRAIN_SPLIT)\n",
        "\n",
        "# feature scaling\n",
        "dataset = features.values\n",
        "data_mean = dataset[:TRAIN_SPLIT].mean(axis=0)\n",
        "data_std = dataset[:TRAIN_SPLIT].std(axis=0)\n",
        "dataset = (dataset-data_mean)/data_std"
      ]
    },
    {
      "cell_type": "code",
      "execution_count": 26,
      "metadata": {
        "id": "xtxWUh0S6K4g"
      },
      "outputs": [],
      "source": [
        "# create the training and test data\n",
        "\n",
        "past_history = 1\n",
        "future_target = 0\n",
        "STEP = 1\n",
        "\n",
        "x_train_single, y_train_single = multivariate_data(dataset, dataset[:,0], 0, TRAIN_SPLIT, \n",
        "                                                   past_history, future_target, STEP, single_step=True)\n",
        "x_val_single, y_val_single = multivariate_data(dataset, dataset[:,0], TRAIN_SPLIT, None, \n",
        "                                               past_history, future_target, STEP, single_step=True)"
      ]
    },
    {
      "cell_type": "code",
      "execution_count": 27,
      "metadata": {
        "scrolled": true,
        "colab": {
          "base_uri": "https://localhost:8080/",
          "height": 0
        },
        "id": "ywpkQ7Ed6K4k",
        "outputId": "b05ed1f5-696d-42aa-f33f-2843759642f4"
      },
      "outputs": [
        {
          "output_type": "execute_result",
          "data": {
            "text/html": [
              "\n",
              "  <div id=\"df-767c954c-6f38-41c6-b9e6-f8f198319882\">\n",
              "    <div class=\"colab-df-container\">\n",
              "      <div>\n",
              "<style scoped>\n",
              "    .dataframe tbody tr th:only-of-type {\n",
              "        vertical-align: middle;\n",
              "    }\n",
              "\n",
              "    .dataframe tbody tr th {\n",
              "        vertical-align: top;\n",
              "    }\n",
              "\n",
              "    .dataframe thead th {\n",
              "        text-align: right;\n",
              "    }\n",
              "</style>\n",
              "<table border=\"1\" class=\"dataframe\">\n",
              "  <thead>\n",
              "    <tr style=\"text-align: right;\">\n",
              "      <th></th>\n",
              "      <th>0</th>\n",
              "      <th>1</th>\n",
              "      <th>2</th>\n",
              "    </tr>\n",
              "  </thead>\n",
              "  <tbody>\n",
              "    <tr>\n",
              "      <th>0</th>\n",
              "      <td>0.364893</td>\n",
              "      <td>0.803268</td>\n",
              "      <td>0.842317</td>\n",
              "    </tr>\n",
              "    <tr>\n",
              "      <th>1</th>\n",
              "      <td>0.425707</td>\n",
              "      <td>0.814008</td>\n",
              "      <td>1.565246</td>\n",
              "    </tr>\n",
              "    <tr>\n",
              "      <th>2</th>\n",
              "      <td>0.016474</td>\n",
              "      <td>0.555977</td>\n",
              "      <td>0.187888</td>\n",
              "    </tr>\n",
              "    <tr>\n",
              "      <th>3</th>\n",
              "      <td>0.373965</td>\n",
              "      <td>0.598324</td>\n",
              "      <td>-0.181781</td>\n",
              "    </tr>\n",
              "    <tr>\n",
              "      <th>4</th>\n",
              "      <td>0.539800</td>\n",
              "      <td>0.930706</td>\n",
              "      <td>1.566351</td>\n",
              "    </tr>\n",
              "    <tr>\n",
              "      <th>5</th>\n",
              "      <td>0.560515</td>\n",
              "      <td>1.132483</td>\n",
              "      <td>1.145469</td>\n",
              "    </tr>\n",
              "    <tr>\n",
              "      <th>6</th>\n",
              "      <td>0.657838</td>\n",
              "      <td>1.137871</td>\n",
              "      <td>2.075868</td>\n",
              "    </tr>\n",
              "  </tbody>\n",
              "</table>\n",
              "</div>\n",
              "      <button class=\"colab-df-convert\" onclick=\"convertToInteractive('df-767c954c-6f38-41c6-b9e6-f8f198319882')\"\n",
              "              title=\"Convert this dataframe to an interactive table.\"\n",
              "              style=\"display:none;\">\n",
              "        \n",
              "  <svg xmlns=\"http://www.w3.org/2000/svg\" height=\"24px\"viewBox=\"0 0 24 24\"\n",
              "       width=\"24px\">\n",
              "    <path d=\"M0 0h24v24H0V0z\" fill=\"none\"/>\n",
              "    <path d=\"M18.56 5.44l.94 2.06.94-2.06 2.06-.94-2.06-.94-.94-2.06-.94 2.06-2.06.94zm-11 1L8.5 8.5l.94-2.06 2.06-.94-2.06-.94L8.5 2.5l-.94 2.06-2.06.94zm10 10l.94 2.06.94-2.06 2.06-.94-2.06-.94-.94-2.06-.94 2.06-2.06.94z\"/><path d=\"M17.41 7.96l-1.37-1.37c-.4-.4-.92-.59-1.43-.59-.52 0-1.04.2-1.43.59L10.3 9.45l-7.72 7.72c-.78.78-.78 2.05 0 2.83L4 21.41c.39.39.9.59 1.41.59.51 0 1.02-.2 1.41-.59l7.78-7.78 2.81-2.81c.8-.78.8-2.07 0-2.86zM5.41 20L4 18.59l7.72-7.72 1.47 1.35L5.41 20z\"/>\n",
              "  </svg>\n",
              "      </button>\n",
              "      \n",
              "  <style>\n",
              "    .colab-df-container {\n",
              "      display:flex;\n",
              "      flex-wrap:wrap;\n",
              "      gap: 12px;\n",
              "    }\n",
              "\n",
              "    .colab-df-convert {\n",
              "      background-color: #E8F0FE;\n",
              "      border: none;\n",
              "      border-radius: 50%;\n",
              "      cursor: pointer;\n",
              "      display: none;\n",
              "      fill: #1967D2;\n",
              "      height: 32px;\n",
              "      padding: 0 0 0 0;\n",
              "      width: 32px;\n",
              "    }\n",
              "\n",
              "    .colab-df-convert:hover {\n",
              "      background-color: #E2EBFA;\n",
              "      box-shadow: 0px 1px 2px rgba(60, 64, 67, 0.3), 0px 1px 3px 1px rgba(60, 64, 67, 0.15);\n",
              "      fill: #174EA6;\n",
              "    }\n",
              "\n",
              "    [theme=dark] .colab-df-convert {\n",
              "      background-color: #3B4455;\n",
              "      fill: #D2E3FC;\n",
              "    }\n",
              "\n",
              "    [theme=dark] .colab-df-convert:hover {\n",
              "      background-color: #434B5C;\n",
              "      box-shadow: 0px 1px 3px 1px rgba(0, 0, 0, 0.15);\n",
              "      filter: drop-shadow(0px 1px 2px rgba(0, 0, 0, 0.3));\n",
              "      fill: #FFFFFF;\n",
              "    }\n",
              "  </style>\n",
              "\n",
              "      <script>\n",
              "        const buttonEl =\n",
              "          document.querySelector('#df-767c954c-6f38-41c6-b9e6-f8f198319882 button.colab-df-convert');\n",
              "        buttonEl.style.display =\n",
              "          google.colab.kernel.accessAllowed ? 'block' : 'none';\n",
              "\n",
              "        async function convertToInteractive(key) {\n",
              "          const element = document.querySelector('#df-767c954c-6f38-41c6-b9e6-f8f198319882');\n",
              "          const dataTable =\n",
              "            await google.colab.kernel.invokeFunction('convertToInteractive',\n",
              "                                                     [key], {});\n",
              "          if (!dataTable) return;\n",
              "\n",
              "          const docLinkHtml = 'Like what you see? Visit the ' +\n",
              "            '<a target=\"_blank\" href=https://colab.research.google.com/notebooks/data_table.ipynb>data table notebook</a>'\n",
              "            + ' to learn more about interactive tables.';\n",
              "          element.innerHTML = '';\n",
              "          dataTable['output_type'] = 'display_data';\n",
              "          await google.colab.output.renderOutput(dataTable, element);\n",
              "          const docLink = document.createElement('div');\n",
              "          docLink.innerHTML = docLinkHtml;\n",
              "          element.appendChild(docLink);\n",
              "        }\n",
              "      </script>\n",
              "    </div>\n",
              "  </div>\n",
              "  "
            ],
            "text/plain": [
              "          0         1         2\n",
              "0  0.364893  0.803268  0.842317\n",
              "1  0.425707  0.814008  1.565246\n",
              "2  0.016474  0.555977  0.187888\n",
              "3  0.373965  0.598324 -0.181781\n",
              "4  0.539800  0.930706  1.566351\n",
              "5  0.560515  1.132483  1.145469\n",
              "6  0.657838  1.137871  2.075868"
            ]
          },
          "metadata": {},
          "execution_count": 27
        }
      ],
      "source": [
        "pd.DataFrame(dataset).head(7)"
      ]
    },
    {
      "cell_type": "code",
      "execution_count": 28,
      "metadata": {
        "colab": {
          "base_uri": "https://localhost:8080/",
          "height": 0
        },
        "id": "l0vE8G5K6K4p",
        "outputId": "15bf09c5-d896-4c23-a2b9-6acb605bab0f"
      },
      "outputs": [
        {
          "output_type": "execute_result",
          "data": {
            "text/html": [
              "\n",
              "  <div id=\"df-f021b731-dd16-4621-a062-77b8c75ab4f5\">\n",
              "    <div class=\"colab-df-container\">\n",
              "      <div>\n",
              "<style scoped>\n",
              "    .dataframe tbody tr th:only-of-type {\n",
              "        vertical-align: middle;\n",
              "    }\n",
              "\n",
              "    .dataframe tbody tr th {\n",
              "        vertical-align: top;\n",
              "    }\n",
              "\n",
              "    .dataframe thead th {\n",
              "        text-align: right;\n",
              "    }\n",
              "</style>\n",
              "<table border=\"1\" class=\"dataframe\">\n",
              "  <thead>\n",
              "    <tr style=\"text-align: right;\">\n",
              "      <th></th>\n",
              "      <th>0</th>\n",
              "      <th>1</th>\n",
              "      <th>2</th>\n",
              "    </tr>\n",
              "  </thead>\n",
              "  <tbody>\n",
              "    <tr>\n",
              "      <th>0</th>\n",
              "      <td>0.364893</td>\n",
              "      <td>0.803268</td>\n",
              "      <td>0.842317</td>\n",
              "    </tr>\n",
              "    <tr>\n",
              "      <th>1</th>\n",
              "      <td>0.364893</td>\n",
              "      <td>0.814008</td>\n",
              "      <td>1.565246</td>\n",
              "    </tr>\n",
              "  </tbody>\n",
              "</table>\n",
              "</div>\n",
              "      <button class=\"colab-df-convert\" onclick=\"convertToInteractive('df-f021b731-dd16-4621-a062-77b8c75ab4f5')\"\n",
              "              title=\"Convert this dataframe to an interactive table.\"\n",
              "              style=\"display:none;\">\n",
              "        \n",
              "  <svg xmlns=\"http://www.w3.org/2000/svg\" height=\"24px\"viewBox=\"0 0 24 24\"\n",
              "       width=\"24px\">\n",
              "    <path d=\"M0 0h24v24H0V0z\" fill=\"none\"/>\n",
              "    <path d=\"M18.56 5.44l.94 2.06.94-2.06 2.06-.94-2.06-.94-.94-2.06-.94 2.06-2.06.94zm-11 1L8.5 8.5l.94-2.06 2.06-.94-2.06-.94L8.5 2.5l-.94 2.06-2.06.94zm10 10l.94 2.06.94-2.06 2.06-.94-2.06-.94-.94-2.06-.94 2.06-2.06.94z\"/><path d=\"M17.41 7.96l-1.37-1.37c-.4-.4-.92-.59-1.43-.59-.52 0-1.04.2-1.43.59L10.3 9.45l-7.72 7.72c-.78.78-.78 2.05 0 2.83L4 21.41c.39.39.9.59 1.41.59.51 0 1.02-.2 1.41-.59l7.78-7.78 2.81-2.81c.8-.78.8-2.07 0-2.86zM5.41 20L4 18.59l7.72-7.72 1.47 1.35L5.41 20z\"/>\n",
              "  </svg>\n",
              "      </button>\n",
              "      \n",
              "  <style>\n",
              "    .colab-df-container {\n",
              "      display:flex;\n",
              "      flex-wrap:wrap;\n",
              "      gap: 12px;\n",
              "    }\n",
              "\n",
              "    .colab-df-convert {\n",
              "      background-color: #E8F0FE;\n",
              "      border: none;\n",
              "      border-radius: 50%;\n",
              "      cursor: pointer;\n",
              "      display: none;\n",
              "      fill: #1967D2;\n",
              "      height: 32px;\n",
              "      padding: 0 0 0 0;\n",
              "      width: 32px;\n",
              "    }\n",
              "\n",
              "    .colab-df-convert:hover {\n",
              "      background-color: #E2EBFA;\n",
              "      box-shadow: 0px 1px 2px rgba(60, 64, 67, 0.3), 0px 1px 3px 1px rgba(60, 64, 67, 0.15);\n",
              "      fill: #174EA6;\n",
              "    }\n",
              "\n",
              "    [theme=dark] .colab-df-convert {\n",
              "      background-color: #3B4455;\n",
              "      fill: #D2E3FC;\n",
              "    }\n",
              "\n",
              "    [theme=dark] .colab-df-convert:hover {\n",
              "      background-color: #434B5C;\n",
              "      box-shadow: 0px 1px 3px 1px rgba(0, 0, 0, 0.15);\n",
              "      filter: drop-shadow(0px 1px 2px rgba(0, 0, 0, 0.3));\n",
              "      fill: #FFFFFF;\n",
              "    }\n",
              "  </style>\n",
              "\n",
              "      <script>\n",
              "        const buttonEl =\n",
              "          document.querySelector('#df-f021b731-dd16-4621-a062-77b8c75ab4f5 button.colab-df-convert');\n",
              "        buttonEl.style.display =\n",
              "          google.colab.kernel.accessAllowed ? 'block' : 'none';\n",
              "\n",
              "        async function convertToInteractive(key) {\n",
              "          const element = document.querySelector('#df-f021b731-dd16-4621-a062-77b8c75ab4f5');\n",
              "          const dataTable =\n",
              "            await google.colab.kernel.invokeFunction('convertToInteractive',\n",
              "                                                     [key], {});\n",
              "          if (!dataTable) return;\n",
              "\n",
              "          const docLinkHtml = 'Like what you see? Visit the ' +\n",
              "            '<a target=\"_blank\" href=https://colab.research.google.com/notebooks/data_table.ipynb>data table notebook</a>'\n",
              "            + ' to learn more about interactive tables.';\n",
              "          element.innerHTML = '';\n",
              "          dataTable['output_type'] = 'display_data';\n",
              "          await google.colab.output.renderOutput(dataTable, element);\n",
              "          const docLink = document.createElement('div');\n",
              "          docLink.innerHTML = docLinkHtml;\n",
              "          element.appendChild(docLink);\n",
              "        }\n",
              "      </script>\n",
              "    </div>\n",
              "  </div>\n",
              "  "
            ],
            "text/plain": [
              "          0         1         2\n",
              "0  0.364893  0.803268  0.842317\n",
              "1  0.364893  0.814008  1.565246"
            ]
          },
          "metadata": {},
          "execution_count": 28
        }
      ],
      "source": [
        "pd.DataFrame(x_train_single[0])"
      ]
    },
    {
      "cell_type": "code",
      "execution_count": 29,
      "metadata": {
        "colab": {
          "base_uri": "https://localhost:8080/"
        },
        "id": "Z0uojva86K4s",
        "outputId": "3164982f-8521-45ae-dbfb-53ede448f517"
      },
      "outputs": [
        {
          "output_type": "execute_result",
          "data": {
            "text/plain": [
              "0.42570703065737403"
            ]
          },
          "metadata": {},
          "execution_count": 29
        }
      ],
      "source": [
        "y_train_single[0]"
      ]
    },
    {
      "cell_type": "code",
      "execution_count": 30,
      "metadata": {
        "id": "E1HsvTbC6K4v"
      },
      "outputs": [],
      "source": [
        "BATCH_SIZE = 32\n",
        "BUFFER_SIZE = 100\n",
        "\n",
        "train_data_single = tf.data.Dataset.from_tensor_slices((x_train_single, y_train_single))\n",
        "train_data_single = train_data_single.cache().shuffle(BUFFER_SIZE).batch(BATCH_SIZE).repeat()\n",
        "\n",
        "val_data_single = tf.data.Dataset.from_tensor_slices((x_val_single, y_val_single))\n",
        "val_data_single = val_data_single.batch(BATCH_SIZE).repeat()"
      ]
    },
    {
      "cell_type": "code",
      "execution_count": 31,
      "metadata": {
        "id": "7Sd1pTYI6K4y"
      },
      "outputs": [],
      "source": [
        "# construct the model\n",
        "\n",
        "single_step_model = tf.keras.models.Sequential()\n",
        "single_step_model.add(tf.keras.layers.LSTM(4, input_shape=x_train_single.shape[-2:])) #return_sequences=True \n",
        "#single_step_model.add(tf.keras.layers.LSTM(8, kernel_regularizer=l2(0.01), bias_regularizer=l2(0.01)))\n",
        "#single_step_model.add(tf.keras.layers.LSTM(8, dropout=0.2, recurrent_dropout=0.2))\n",
        "#single_step_model.add(tf.keras.layers.Bidirectional(tf.keras.layers.LSTM(8)))\n",
        "single_step_model.add(tf.keras.layers.Dense(1))\n",
        "\n",
        "single_step_model.compile(optimizer=tf.keras.optimizers.RMSprop(), loss='mae')"
      ]
    },
    {
      "cell_type": "code",
      "execution_count": 32,
      "metadata": {
        "scrolled": false,
        "colab": {
          "base_uri": "https://localhost:8080/"
        },
        "id": "npY5GV2H6K41",
        "outputId": "325edb81-9773-4a2b-bc08-450b420fa683"
      },
      "outputs": [
        {
          "output_type": "stream",
          "name": "stdout",
          "text": [
            "Epoch 1/10\n",
            "200/200 [==============================] - 4s 7ms/step - loss: 0.7023 - val_loss: 0.3178\n",
            "Epoch 2/10\n",
            "200/200 [==============================] - 1s 3ms/step - loss: 0.4788 - val_loss: 0.2136\n",
            "Epoch 3/10\n",
            "200/200 [==============================] - 1s 3ms/step - loss: 0.2973 - val_loss: 0.2416\n",
            "Epoch 4/10\n",
            "200/200 [==============================] - 1s 4ms/step - loss: 0.2383 - val_loss: 0.2020\n",
            "Epoch 5/10\n",
            "200/200 [==============================] - 1s 4ms/step - loss: 0.2199 - val_loss: 0.1906\n",
            "Epoch 6/10\n",
            "200/200 [==============================] - 1s 3ms/step - loss: 0.2066 - val_loss: 0.1848\n",
            "Epoch 7/10\n",
            "200/200 [==============================] - 1s 3ms/step - loss: 0.1953 - val_loss: 0.1797\n",
            "Epoch 8/10\n",
            "200/200 [==============================] - 1s 3ms/step - loss: 0.1849 - val_loss: 0.1759\n",
            "Epoch 9/10\n",
            "200/200 [==============================] - 1s 3ms/step - loss: 0.1749 - val_loss: 0.1722\n",
            "Epoch 10/10\n",
            "200/200 [==============================] - 1s 3ms/step - loss: 0.1652 - val_loss: 0.1689\n"
          ]
        }
      ],
      "source": [
        "# train the model\n",
        "single_step_history = single_step_model.fit(train_data_single, epochs=10, steps_per_epoch=200, validation_data=val_data_single, validation_steps=50)"
      ]
    },
    {
      "cell_type": "code",
      "execution_count": 33,
      "metadata": {
        "colab": {
          "base_uri": "https://localhost:8080/",
          "height": 0
        },
        "id": "XfSWNkpt6K46",
        "outputId": "b879d4f9-24e0-4b13-f3ae-4a874fe19b63"
      },
      "outputs": [
        {
          "output_type": "execute_result",
          "data": {
            "text/html": [
              "\n",
              "  <div id=\"df-308f6ec7-3e86-4da7-8ce3-fd9434c3a7d5\">\n",
              "    <div class=\"colab-df-container\">\n",
              "      <div>\n",
              "<style scoped>\n",
              "    .dataframe tbody tr th:only-of-type {\n",
              "        vertical-align: middle;\n",
              "    }\n",
              "\n",
              "    .dataframe tbody tr th {\n",
              "        vertical-align: top;\n",
              "    }\n",
              "\n",
              "    .dataframe thead th {\n",
              "        text-align: right;\n",
              "    }\n",
              "</style>\n",
              "<table border=\"1\" class=\"dataframe\">\n",
              "  <thead>\n",
              "    <tr style=\"text-align: right;\">\n",
              "      <th></th>\n",
              "      <th>accuracy</th>\n",
              "      <th>f1_score</th>\n",
              "      <th>precision</th>\n",
              "      <th>recall</th>\n",
              "      <th>mse</th>\n",
              "      <th>rmse</th>\n",
              "      <th>mae</th>\n",
              "      <th>r2</th>\n",
              "    </tr>\n",
              "  </thead>\n",
              "  <tbody>\n",
              "    <tr>\n",
              "      <th>0</th>\n",
              "      <td>0</td>\n",
              "      <td>0</td>\n",
              "      <td>0</td>\n",
              "      <td>0</td>\n",
              "      <td>0.050109</td>\n",
              "      <td>0.22385</td>\n",
              "      <td>0.168908</td>\n",
              "      <td>0.769498</td>\n",
              "    </tr>\n",
              "  </tbody>\n",
              "</table>\n",
              "</div>\n",
              "      <button class=\"colab-df-convert\" onclick=\"convertToInteractive('df-308f6ec7-3e86-4da7-8ce3-fd9434c3a7d5')\"\n",
              "              title=\"Convert this dataframe to an interactive table.\"\n",
              "              style=\"display:none;\">\n",
              "        \n",
              "  <svg xmlns=\"http://www.w3.org/2000/svg\" height=\"24px\"viewBox=\"0 0 24 24\"\n",
              "       width=\"24px\">\n",
              "    <path d=\"M0 0h24v24H0V0z\" fill=\"none\"/>\n",
              "    <path d=\"M18.56 5.44l.94 2.06.94-2.06 2.06-.94-2.06-.94-.94-2.06-.94 2.06-2.06.94zm-11 1L8.5 8.5l.94-2.06 2.06-.94-2.06-.94L8.5 2.5l-.94 2.06-2.06.94zm10 10l.94 2.06.94-2.06 2.06-.94-2.06-.94-.94-2.06-.94 2.06-2.06.94z\"/><path d=\"M17.41 7.96l-1.37-1.37c-.4-.4-.92-.59-1.43-.59-.52 0-1.04.2-1.43.59L10.3 9.45l-7.72 7.72c-.78.78-.78 2.05 0 2.83L4 21.41c.39.39.9.59 1.41.59.51 0 1.02-.2 1.41-.59l7.78-7.78 2.81-2.81c.8-.78.8-2.07 0-2.86zM5.41 20L4 18.59l7.72-7.72 1.47 1.35L5.41 20z\"/>\n",
              "  </svg>\n",
              "      </button>\n",
              "      \n",
              "  <style>\n",
              "    .colab-df-container {\n",
              "      display:flex;\n",
              "      flex-wrap:wrap;\n",
              "      gap: 12px;\n",
              "    }\n",
              "\n",
              "    .colab-df-convert {\n",
              "      background-color: #E8F0FE;\n",
              "      border: none;\n",
              "      border-radius: 50%;\n",
              "      cursor: pointer;\n",
              "      display: none;\n",
              "      fill: #1967D2;\n",
              "      height: 32px;\n",
              "      padding: 0 0 0 0;\n",
              "      width: 32px;\n",
              "    }\n",
              "\n",
              "    .colab-df-convert:hover {\n",
              "      background-color: #E2EBFA;\n",
              "      box-shadow: 0px 1px 2px rgba(60, 64, 67, 0.3), 0px 1px 3px 1px rgba(60, 64, 67, 0.15);\n",
              "      fill: #174EA6;\n",
              "    }\n",
              "\n",
              "    [theme=dark] .colab-df-convert {\n",
              "      background-color: #3B4455;\n",
              "      fill: #D2E3FC;\n",
              "    }\n",
              "\n",
              "    [theme=dark] .colab-df-convert:hover {\n",
              "      background-color: #434B5C;\n",
              "      box-shadow: 0px 1px 3px 1px rgba(0, 0, 0, 0.15);\n",
              "      filter: drop-shadow(0px 1px 2px rgba(0, 0, 0, 0.3));\n",
              "      fill: #FFFFFF;\n",
              "    }\n",
              "  </style>\n",
              "\n",
              "      <script>\n",
              "        const buttonEl =\n",
              "          document.querySelector('#df-308f6ec7-3e86-4da7-8ce3-fd9434c3a7d5 button.colab-df-convert');\n",
              "        buttonEl.style.display =\n",
              "          google.colab.kernel.accessAllowed ? 'block' : 'none';\n",
              "\n",
              "        async function convertToInteractive(key) {\n",
              "          const element = document.querySelector('#df-308f6ec7-3e86-4da7-8ce3-fd9434c3a7d5');\n",
              "          const dataTable =\n",
              "            await google.colab.kernel.invokeFunction('convertToInteractive',\n",
              "                                                     [key], {});\n",
              "          if (!dataTable) return;\n",
              "\n",
              "          const docLinkHtml = 'Like what you see? Visit the ' +\n",
              "            '<a target=\"_blank\" href=https://colab.research.google.com/notebooks/data_table.ipynb>data table notebook</a>'\n",
              "            + ' to learn more about interactive tables.';\n",
              "          element.innerHTML = '';\n",
              "          dataTable['output_type'] = 'display_data';\n",
              "          await google.colab.output.renderOutput(dataTable, element);\n",
              "          const docLink = document.createElement('div');\n",
              "          docLink.innerHTML = docLinkHtml;\n",
              "          element.appendChild(docLink);\n",
              "        }\n",
              "      </script>\n",
              "    </div>\n",
              "  </div>\n",
              "  "
            ],
            "text/plain": [
              "   accuracy  f1_score  precision  recall       mse     rmse       mae        r2\n",
              "0         0         0          0       0  0.050109  0.22385  0.168908  0.769498"
            ]
          },
          "metadata": {},
          "execution_count": 33
        }
      ],
      "source": [
        "# evaluate the model\n",
        "model_eval_metrics(y_val_single, single_step_model.predict(x_val_single), classification=\"FALSE\")"
      ]
    },
    {
      "cell_type": "code",
      "execution_count": 34,
      "metadata": {
        "scrolled": true,
        "colab": {
          "base_uri": "https://localhost:8080/",
          "height": 0
        },
        "id": "wTCnt-7T6K4_",
        "outputId": "7610a1ad-efb5-4c9c-fda2-272eaf42b1e6"
      },
      "outputs": [
        {
          "output_type": "stream",
          "name": "stdout",
          "text": [
            "Test set score: 0.77\n"
          ]
        },
        {
          "output_type": "display_data",
          "data": {
            "image/png": "[encoded data removed]",
            "text/plain": [
              "<Figure size 432x288 with 1 Axes>"
            ]
          },
          "metadata": {
            "needs_background": "light"
          }
        }
      ],
      "source": [
        "# visualize the result\n",
        "\n",
        "plt.plot(y_val_single, label=\"actual\")\n",
        "plt.plot(single_step_model.predict(x_val_single), \"r\", linestyle='--', label=\"predict\")\n",
        "plt.legend(loc='best')\n",
        "plt.title('RNN-LSTM: Level')\n",
        "plt.savefig(\"images/elect_lstm.png\")\n",
        "\n",
        "print(\"Test set score: {:.2f}\".format(r2_score(y_val_single, single_step_model.predict(x_val_single))))"
      ]
    },
    {
      "cell_type": "markdown",
      "metadata": {
        "id": "hDGFPW506K5E"
      },
      "source": [
        "### Electricity usage data after 2016 (10 regional electricity companies)"
      ]
    },
    {
      "cell_type": "code",
      "execution_count": 35,
      "metadata": {
        "scrolled": true,
        "colab": {
          "base_uri": "https://localhost:8080/",
          "height": 235
        },
        "id": "WHvl3hV-6K5H",
        "outputId": "1e60b359-d55c-4bba-a0a4-18a0b43f18b7"
      },
      "outputs": [
        {
          "output_type": "execute_result",
          "data": {
            "text/html": [
              "\n",
              "  <div id=\"df-e5df348b-f355-4b29-a9e8-a62833310d35\">\n",
              "    <div class=\"colab-df-container\">\n",
              "      <div>\n",
              "<style scoped>\n",
              "    .dataframe tbody tr th:only-of-type {\n",
              "        vertical-align: middle;\n",
              "    }\n",
              "\n",
              "    .dataframe tbody tr th {\n",
              "        vertical-align: top;\n",
              "    }\n",
              "\n",
              "    .dataframe thead th {\n",
              "        text-align: right;\n",
              "    }\n",
              "</style>\n",
              "<table border=\"1\" class=\"dataframe\">\n",
              "  <thead>\n",
              "    <tr style=\"text-align: right;\">\n",
              "      <th></th>\n",
              "      <th>total</th>\n",
              "      <th>manufac</th>\n",
              "      <th>home</th>\n",
              "      <th>hokkaido</th>\n",
              "      <th>touhoku</th>\n",
              "      <th>tokyo</th>\n",
              "      <th>cyubu</th>\n",
              "      <th>hokuriku</th>\n",
              "      <th>kansai</th>\n",
              "      <th>cyugoku</th>\n",
              "      <th>shikoku</th>\n",
              "      <th>kyushu</th>\n",
              "      <th>okinawa</th>\n",
              "      <th>dentou</th>\n",
              "      <th>ratioh</th>\n",
              "      <th>non-den</th>\n",
              "      <th>ratiom</th>\n",
              "    </tr>\n",
              "    <tr>\n",
              "      <th>date</th>\n",
              "      <th></th>\n",
              "      <th></th>\n",
              "      <th></th>\n",
              "      <th></th>\n",
              "      <th></th>\n",
              "      <th></th>\n",
              "      <th></th>\n",
              "      <th></th>\n",
              "      <th></th>\n",
              "      <th></th>\n",
              "      <th></th>\n",
              "      <th></th>\n",
              "      <th></th>\n",
              "      <th></th>\n",
              "      <th></th>\n",
              "      <th></th>\n",
              "      <th></th>\n",
              "    </tr>\n",
              "  </thead>\n",
              "  <tbody>\n",
              "    <tr>\n",
              "      <th>2019-10-01</th>\n",
              "      <td>56509007</td>\n",
              "      <td>20141679</td>\n",
              "      <td>36367328</td>\n",
              "      <td>2310263</td>\n",
              "      <td>6105910</td>\n",
              "      <td>21895980</td>\n",
              "      <td>10456171</td>\n",
              "      <td>2192666</td>\n",
              "      <td>11066220</td>\n",
              "      <td>4674528.0</td>\n",
              "      <td>2136900</td>\n",
              "      <td>6571589</td>\n",
              "      <td>720739</td>\n",
              "      <td>15632942</td>\n",
              "      <td>2.229369</td>\n",
              "      <td>40876065</td>\n",
              "      <td>0.492750</td>\n",
              "    </tr>\n",
              "    <tr>\n",
              "      <th>2019-11-01</th>\n",
              "      <td>53812805</td>\n",
              "      <td>18735168</td>\n",
              "      <td>35077637</td>\n",
              "      <td>2588457</td>\n",
              "      <td>6538410</td>\n",
              "      <td>21961360</td>\n",
              "      <td>10278030</td>\n",
              "      <td>2286570</td>\n",
              "      <td>10772939</td>\n",
              "      <td>4746639.0</td>\n",
              "      <td>2101400</td>\n",
              "      <td>6368962</td>\n",
              "      <td>600980</td>\n",
              "      <td>16117056</td>\n",
              "      <td>2.066332</td>\n",
              "      <td>37695749</td>\n",
              "      <td>0.497010</td>\n",
              "    </tr>\n",
              "    <tr>\n",
              "      <th>2019-12-01</th>\n",
              "      <td>57378162</td>\n",
              "      <td>18488889</td>\n",
              "      <td>38889273</td>\n",
              "      <td>3070698</td>\n",
              "      <td>7537130</td>\n",
              "      <td>25566860</td>\n",
              "      <td>11456472</td>\n",
              "      <td>2594920</td>\n",
              "      <td>12440043</td>\n",
              "      <td>5499171.0</td>\n",
              "      <td>2400560</td>\n",
              "      <td>7467543</td>\n",
              "      <td>587096</td>\n",
              "      <td>19012914</td>\n",
              "      <td>1.965872</td>\n",
              "      <td>38365248</td>\n",
              "      <td>0.481918</td>\n",
              "    </tr>\n",
              "    <tr>\n",
              "      <th>2020-01-01</th>\n",
              "      <td>64924636</td>\n",
              "      <td>17939473</td>\n",
              "      <td>46985163</td>\n",
              "      <td>3138465</td>\n",
              "      <td>7760140</td>\n",
              "      <td>26228480</td>\n",
              "      <td>11746264</td>\n",
              "      <td>2653126</td>\n",
              "      <td>12649978</td>\n",
              "      <td>5519369.0</td>\n",
              "      <td>2429270</td>\n",
              "      <td>7609594</td>\n",
              "      <td>574988</td>\n",
              "      <td>25528761</td>\n",
              "      <td>1.775577</td>\n",
              "      <td>39395875</td>\n",
              "      <td>0.455364</td>\n",
              "    </tr>\n",
              "    <tr>\n",
              "      <th>2020-02-01</th>\n",
              "      <td>62695206</td>\n",
              "      <td>17952203</td>\n",
              "      <td>44743003</td>\n",
              "      <td>2945058</td>\n",
              "      <td>7388070</td>\n",
              "      <td>23946550</td>\n",
              "      <td>11484744</td>\n",
              "      <td>2619241</td>\n",
              "      <td>12281023</td>\n",
              "      <td>5282637.0</td>\n",
              "      <td>2333920</td>\n",
              "      <td>7140795</td>\n",
              "      <td>547466</td>\n",
              "      <td>22533592</td>\n",
              "      <td>1.874486</td>\n",
              "      <td>40161614</td>\n",
              "      <td>0.446999</td>\n",
              "    </tr>\n",
              "  </tbody>\n",
              "</table>\n",
              "</div>\n",
              "      <button class=\"colab-df-convert\" onclick=\"convertToInteractive('df-e5df348b-f355-4b29-a9e8-a62833310d35')\"\n",
              "              title=\"Convert this dataframe to an interactive table.\"\n",
              "              style=\"display:none;\">\n",
              "        \n",
              "  <svg xmlns=\"http://www.w3.org/2000/svg\" height=\"24px\"viewBox=\"0 0 24 24\"\n",
              "       width=\"24px\">\n",
              "    <path d=\"M0 0h24v24H0V0z\" fill=\"none\"/>\n",
              "    <path d=\"M18.56 5.44l.94 2.06.94-2.06 2.06-.94-2.06-.94-.94-2.06-.94 2.06-2.06.94zm-11 1L8.5 8.5l.94-2.06 2.06-.94-2.06-.94L8.5 2.5l-.94 2.06-2.06.94zm10 10l.94 2.06.94-2.06 2.06-.94-2.06-.94-.94-2.06-.94 2.06-2.06.94z\"/><path d=\"M17.41 7.96l-1.37-1.37c-.4-.4-.92-.59-1.43-.59-.52 0-1.04.2-1.43.59L10.3 9.45l-7.72 7.72c-.78.78-.78 2.05 0 2.83L4 21.41c.39.39.9.59 1.41.59.51 0 1.02-.2 1.41-.59l7.78-7.78 2.81-2.81c.8-.78.8-2.07 0-2.86zM5.41 20L4 18.59l7.72-7.72 1.47 1.35L5.41 20z\"/>\n",
              "  </svg>\n",
              "      </button>\n",
              "      \n",
              "  <style>\n",
              "    .colab-df-container {\n",
              "      display:flex;\n",
              "      flex-wrap:wrap;\n",
              "      gap: 12px;\n",
              "    }\n",
              "\n",
              "    .colab-df-convert {\n",
              "      background-color: #E8F0FE;\n",
              "      border: none;\n",
              "      border-radius: 50%;\n",
              "      cursor: pointer;\n",
              "      display: none;\n",
              "      fill: #1967D2;\n",
              "      height: 32px;\n",
              "      padding: 0 0 0 0;\n",
              "      width: 32px;\n",
              "    }\n",
              "\n",
              "    .colab-df-convert:hover {\n",
              "      background-color: #E2EBFA;\n",
              "      box-shadow: 0px 1px 2px rgba(60, 64, 67, 0.3), 0px 1px 3px 1px rgba(60, 64, 67, 0.15);\n",
              "      fill: #174EA6;\n",
              "    }\n",
              "\n",
              "    [theme=dark] .colab-df-convert {\n",
              "      background-color: #3B4455;\n",
              "      fill: #D2E3FC;\n",
              "    }\n",
              "\n",
              "    [theme=dark] .colab-df-convert:hover {\n",
              "      background-color: #434B5C;\n",
              "      box-shadow: 0px 1px 3px 1px rgba(0, 0, 0, 0.15);\n",
              "      filter: drop-shadow(0px 1px 2px rgba(0, 0, 0, 0.3));\n",
              "      fill: #FFFFFF;\n",
              "    }\n",
              "  </style>\n",
              "\n",
              "      <script>\n",
              "        const buttonEl =\n",
              "          document.querySelector('#df-e5df348b-f355-4b29-a9e8-a62833310d35 button.colab-df-convert');\n",
              "        buttonEl.style.display =\n",
              "          google.colab.kernel.accessAllowed ? 'block' : 'none';\n",
              "\n",
              "        async function convertToInteractive(key) {\n",
              "          const element = document.querySelector('#df-e5df348b-f355-4b29-a9e8-a62833310d35');\n",
              "          const dataTable =\n",
              "            await google.colab.kernel.invokeFunction('convertToInteractive',\n",
              "                                                     [key], {});\n",
              "          if (!dataTable) return;\n",
              "\n",
              "          const docLinkHtml = 'Like what you see? Visit the ' +\n",
              "            '<a target=\"_blank\" href=https://colab.research.google.com/notebooks/data_table.ipynb>data table notebook</a>'\n",
              "            + ' to learn more about interactive tables.';\n",
              "          element.innerHTML = '';\n",
              "          dataTable['output_type'] = 'display_data';\n",
              "          await google.colab.output.renderOutput(dataTable, element);\n",
              "          const docLink = document.createElement('div');\n",
              "          docLink.innerHTML = docLinkHtml;\n",
              "          element.appendChild(docLink);\n",
              "        }\n",
              "      </script>\n",
              "    </div>\n",
              "  </div>\n",
              "  "
            ],
            "text/plain": [
              "               total   manufac      home  ...    ratioh   non-den    ratiom\n",
              "date                                      ...                              \n",
              "2019-10-01  56509007  20141679  36367328  ...  2.229369  40876065  0.492750\n",
              "2019-11-01  53812805  18735168  35077637  ...  2.066332  37695749  0.497010\n",
              "2019-12-01  57378162  18488889  38889273  ...  1.965872  38365248  0.481918\n",
              "2020-01-01  64924636  17939473  46985163  ...  1.775577  39395875  0.455364\n",
              "2020-02-01  62695206  17952203  44743003  ...  1.874486  40161614  0.446999\n",
              "\n",
              "[5 rows x 17 columns]"
            ]
          },
          "metadata": {},
          "execution_count": 35
        }
      ],
      "source": [
        "all = pd.read_csv(\"data/electricity/all_elec_new.csv\", index_col=0, parse_dates=True)\n",
        "all.tail()"
      ]
    },
    {
      "cell_type": "code",
      "execution_count": 36,
      "metadata": {
        "scrolled": false,
        "id": "AQq4sSgu6K5L",
        "colab": {
          "base_uri": "https://localhost:8080/",
          "height": 295
        },
        "outputId": "de6597ec-8bb6-4fc6-fd7b-3927cd5f0607"
      },
      "outputs": [
        {
          "output_type": "execute_result",
          "data": {
            "text/plain": [
              "[<matplotlib.lines.Line2D at 0x7f703f9f6a50>]"
            ]
          },
          "metadata": {},
          "execution_count": 36
        },
        {
          "output_type": "display_data",
          "data": {
            "image/png": "[encoded data removed]",
            "text/plain": [
              "<Figure size 432x288 with 1 Axes>"
            ]
          },
          "metadata": {
            "needs_background": "light"
          }
        }
      ],
      "source": [
        "# Extract trend factor (Total)\n",
        "sea = seasonal_decompose(all.iloc[:,0], extrapolate_trend='freq')\n",
        "ttt1 = sea.trend\n",
        "plt.plot(ttt1)"
      ]
    },
    {
      "cell_type": "code",
      "execution_count": 37,
      "metadata": {
        "colab": {
          "base_uri": "https://localhost:8080/",
          "height": 448
        },
        "id": "dvyBhC-l6K5Q",
        "outputId": "9f2de552-8dbb-4401-90b9-305106acb519"
      },
      "outputs": [
        {
          "output_type": "error",
          "ename": "ValueError",
          "evalue": "ignored",
          "traceback": [
            "\u001b[0;31m---------------------------------------------------------------------------\u001b[0m",
            "\u001b[0;31mValueError\u001b[0m                                Traceback (most recent call last)",
            "\u001b[0;32m<ipython-input-37-7bcf4913a92a>\u001b[0m in \u001b[0;36m<module>\u001b[0;34m()\u001b[0m\n\u001b[1;32m      1\u001b[0m \u001b[0;31m# Check correlation (Total)\u001b[0m\u001b[0;34m\u001b[0m\u001b[0;34m\u001b[0m\u001b[0;34m\u001b[0m\u001b[0m\n\u001b[1;32m      2\u001b[0m \u001b[0mlevel\u001b[0m \u001b[0;34m=\u001b[0m \u001b[0mibc\u001b[0m\u001b[0;34m[\u001b[0m\u001b[0;34m'Coincident Index'\u001b[0m\u001b[0;34m]\u001b[0m\u001b[0;34m[\u001b[0m\u001b[0;36m48\u001b[0m\u001b[0;34m:\u001b[0m\u001b[0;34m]\u001b[0m\u001b[0;34m\u001b[0m\u001b[0;34m\u001b[0m\u001b[0m\n\u001b[0;32m----> 3\u001b[0;31m \u001b[0mlevel\u001b[0m\u001b[0;34m.\u001b[0m\u001b[0mindex\u001b[0m \u001b[0;34m=\u001b[0m \u001b[0mttt1\u001b[0m\u001b[0;34m.\u001b[0m\u001b[0mindex\u001b[0m\u001b[0;34m\u001b[0m\u001b[0;34m\u001b[0m\u001b[0m\n\u001b[0m\u001b[1;32m      4\u001b[0m \u001b[0mcor\u001b[0m \u001b[0;34m=\u001b[0m \u001b[0mlevel\u001b[0m\u001b[0;34m.\u001b[0m\u001b[0mcorr\u001b[0m\u001b[0;34m(\u001b[0m\u001b[0mttt1\u001b[0m\u001b[0;34m)\u001b[0m\u001b[0;34m\u001b[0m\u001b[0;34m\u001b[0m\u001b[0m\n\u001b[1;32m      5\u001b[0m \u001b[0mprint\u001b[0m\u001b[0;34m(\u001b[0m\u001b[0;34m\"Correlation of level: {:.2f}\"\u001b[0m\u001b[0;34m.\u001b[0m\u001b[0mformat\u001b[0m\u001b[0;34m(\u001b[0m\u001b[0mcor\u001b[0m\u001b[0;34m)\u001b[0m\u001b[0;34m)\u001b[0m\u001b[0;34m\u001b[0m\u001b[0;34m\u001b[0m\u001b[0m\n",
            "\u001b[0;32m/usr/local/lib/python3.7/dist-packages/pandas/core/generic.py\u001b[0m in \u001b[0;36m__setattr__\u001b[0;34m(self, name, value)\u001b[0m\n\u001b[1;32m   5152\u001b[0m         \u001b[0;32mtry\u001b[0m\u001b[0;34m:\u001b[0m\u001b[0;34m\u001b[0m\u001b[0;34m\u001b[0m\u001b[0m\n\u001b[1;32m   5153\u001b[0m             \u001b[0mobject\u001b[0m\u001b[0;34m.\u001b[0m\u001b[0m__getattribute__\u001b[0m\u001b[0;34m(\u001b[0m\u001b[0mself\u001b[0m\u001b[0;34m,\u001b[0m \u001b[0mname\u001b[0m\u001b[0;34m)\u001b[0m\u001b[0;34m\u001b[0m\u001b[0;34m\u001b[0m\u001b[0m\n\u001b[0;32m-> 5154\u001b[0;31m             \u001b[0;32mreturn\u001b[0m \u001b[0mobject\u001b[0m\u001b[0;34m.\u001b[0m\u001b[0m__setattr__\u001b[0m\u001b[0;34m(\u001b[0m\u001b[0mself\u001b[0m\u001b[0;34m,\u001b[0m \u001b[0mname\u001b[0m\u001b[0;34m,\u001b[0m \u001b[0mvalue\u001b[0m\u001b[0;34m)\u001b[0m\u001b[0;34m\u001b[0m\u001b[0;34m\u001b[0m\u001b[0m\n\u001b[0m\u001b[1;32m   5155\u001b[0m         \u001b[0;32mexcept\u001b[0m \u001b[0mAttributeError\u001b[0m\u001b[0;34m:\u001b[0m\u001b[0;34m\u001b[0m\u001b[0;34m\u001b[0m\u001b[0m\n\u001b[1;32m   5156\u001b[0m             \u001b[0;32mpass\u001b[0m\u001b[0;34m\u001b[0m\u001b[0;34m\u001b[0m\u001b[0m\n",
            "\u001b[0;32mpandas/_libs/properties.pyx\u001b[0m in \u001b[0;36mpandas._libs.properties.AxisProperty.__set__\u001b[0;34m()\u001b[0m\n",
            "\u001b[0;32m/usr/local/lib/python3.7/dist-packages/pandas/core/series.py\u001b[0m in \u001b[0;36m_set_axis\u001b[0;34m(self, axis, labels, fastpath)\u001b[0m\n\u001b[1;32m    422\u001b[0m         \u001b[0;32mif\u001b[0m \u001b[0;32mnot\u001b[0m \u001b[0mfastpath\u001b[0m\u001b[0;34m:\u001b[0m\u001b[0;34m\u001b[0m\u001b[0;34m\u001b[0m\u001b[0m\n\u001b[1;32m    423\u001b[0m             \u001b[0;31m# The ensure_index call above ensures we have an Index object\u001b[0m\u001b[0;34m\u001b[0m\u001b[0;34m\u001b[0m\u001b[0;34m\u001b[0m\u001b[0m\n\u001b[0;32m--> 424\u001b[0;31m             \u001b[0mself\u001b[0m\u001b[0;34m.\u001b[0m\u001b[0m_mgr\u001b[0m\u001b[0;34m.\u001b[0m\u001b[0mset_axis\u001b[0m\u001b[0;34m(\u001b[0m\u001b[0maxis\u001b[0m\u001b[0;34m,\u001b[0m \u001b[0mlabels\u001b[0m\u001b[0;34m)\u001b[0m\u001b[0;34m\u001b[0m\u001b[0;34m\u001b[0m\u001b[0m\n\u001b[0m\u001b[1;32m    425\u001b[0m \u001b[0;34m\u001b[0m\u001b[0m\n\u001b[1;32m    426\u001b[0m     \u001b[0;31m# ndarray compatibility\u001b[0m\u001b[0;34m\u001b[0m\u001b[0;34m\u001b[0m\u001b[0;34m\u001b[0m\u001b[0m\n",
            "\u001b[0;32m/usr/local/lib/python3.7/dist-packages/pandas/core/internals/managers.py\u001b[0m in \u001b[0;36mset_axis\u001b[0;34m(self, axis, new_labels)\u001b[0m\n\u001b[1;32m    225\u001b[0m         \u001b[0;32mif\u001b[0m \u001b[0mnew_len\u001b[0m \u001b[0;34m!=\u001b[0m \u001b[0mold_len\u001b[0m\u001b[0;34m:\u001b[0m\u001b[0;34m\u001b[0m\u001b[0;34m\u001b[0m\u001b[0m\n\u001b[1;32m    226\u001b[0m             raise ValueError(\n\u001b[0;32m--> 227\u001b[0;31m                 \u001b[0;34mf\"Length mismatch: Expected axis has {old_len} elements, new \"\u001b[0m\u001b[0;34m\u001b[0m\u001b[0;34m\u001b[0m\u001b[0m\n\u001b[0m\u001b[1;32m    228\u001b[0m                 \u001b[0;34mf\"values have {new_len} elements\"\u001b[0m\u001b[0;34m\u001b[0m\u001b[0;34m\u001b[0m\u001b[0m\n\u001b[1;32m    229\u001b[0m             )\n",
            "\u001b[0;31mValueError\u001b[0m: Length mismatch: Expected axis has 395 elements, new values have 374 elements"
          ]
        }
      ],
      "source": [
        "# Check correlation (Total)\n",
        "level = ibc['Coincident Index'][48:]\n",
        "level.index = ttt1.index\n",
        "cor = level.corr(ttt1)\n",
        "print(\"Correlation of level: {:.2f}\".format(cor))\n",
        "\n",
        "aaa1 = 100*all.iloc[:,0].pct_change(12)\n",
        "ann = ibc['Coincident ann'][48:]\n",
        "ann.index = aaa1.index\n",
        "cor = ann.corr(aaa1)\n",
        "print(\"Correlation of YoY: {:.2f}\".format(cor))\n",
        "\n",
        "# Plot trend\n",
        "fig = plt.figure()\n",
        "ax = fig.add_subplot(1, 1, 1)\n",
        "ax.plot(aaa1.index, ibc['Coincident ann'][48:], linestyle='-', color='b', label='IBC')\n",
        "ax.plot(aaa1.index, aaa1, linestyle='--', color='#e46409', label='electricity (total)')\n",
        "ax.legend(loc='best')"
      ]
    },
    {
      "cell_type": "code",
      "execution_count": null,
      "metadata": {
        "scrolled": true,
        "id": "jfFoveE66K5U"
      },
      "outputs": [],
      "source": [
        "# Extract trend factor (Manufacture)\n",
        "sea = seasonal_decompose(all.iloc[:,1], extrapolate_trend='freq')\n",
        "ttt2 = sea.trend\n",
        "plt.plot(ttt2)"
      ]
    },
    {
      "cell_type": "code",
      "execution_count": null,
      "metadata": {
        "id": "CF6eH5YF6K5Z"
      },
      "outputs": [],
      "source": [
        "# Check correlation (Manufacture)\n",
        "level = ibc['Coincident Index'][48:]\n",
        "level.index = ttt2.index\n",
        "cor = level.corr(ttt2)\n",
        "print(\"Correlation of level: {:.2f}\".format(cor))\n",
        "\n",
        "aaa2 = 100*all.iloc[:,1].pct_change(12)\n",
        "ann = ibc['Coincident ann'][48:]\n",
        "ann.index = aaa2.index\n",
        "cor = ann.corr(aaa2)\n",
        "print(\"Correlation of YoY: {:.2f}\".format(cor))\n",
        "\n",
        "# Plot trend\n",
        "fig = plt.figure()\n",
        "ax = fig.add_subplot(1, 1, 1)\n",
        "ax.plot(aaa2.index, ibc['Coincident ann'][48:], linestyle='-', color='b', label='IBC')\n",
        "ax.plot(aaa2.index, aaa2, linestyle='--', color='#e46409', label='electricity: Industry')\n",
        "ax.legend(loc='best')\n",
        "plt.title('Industry Electricity Usage')\n",
        "plt.savefig(\"images/manufacture_all.png\")"
      ]
    },
    {
      "cell_type": "code",
      "execution_count": null,
      "metadata": {
        "scrolled": true,
        "id": "4AN48fEl6K5d"
      },
      "outputs": [],
      "source": [
        "# Extract trend factor (Household)\n",
        "sea = seasonal_decompose(all.iloc[:,2], extrapolate_trend='freq')\n",
        "ttt3 = sea.trend\n",
        "plt.plot(ttt3)"
      ]
    },
    {
      "cell_type": "code",
      "execution_count": null,
      "metadata": {
        "scrolled": true,
        "id": "RHEicC4q6K5f"
      },
      "outputs": [],
      "source": [
        "# Check correlation (Household)\n",
        "level = ibc['Coincident Index'][48:]\n",
        "level.index = ttt3.index\n",
        "cor = level.corr(ttt3)\n",
        "print(\"Correlation of level: {:.2f}\".format(cor))\n",
        "\n",
        "aaa3 = 100*all.iloc[:,2].pct_change(12)\n",
        "ann = ibc['Coincident ann'][48:]\n",
        "ann.index = aaa3.index\n",
        "cor = ann.corr(aaa3)\n",
        "print(\"Correlation of YoY: {:.2f}\".format(cor))\n",
        "\n",
        "# Plot trend\n",
        "fig = plt.figure()\n",
        "ax = fig.add_subplot(1, 1, 1)\n",
        "ax.plot(aaa3.index, ibc['Coincident ann'][48:], linestyle='-', color='b', label='IBC')\n",
        "ax.plot(aaa3.index, aaa3, linestyle='--', color='#e46409', label='electricity: household')\n",
        "ax.legend(loc='best')\n",
        "plt.title('Household Electricity Usage')\n",
        "plt.savefig(\"images/home_all.png\")"
      ]
    },
    {
      "cell_type": "markdown",
      "metadata": {
        "id": "wz7rYgUU6K5h"
      },
      "source": [
        "### Time series analysis"
      ]
    },
    {
      "cell_type": "code",
      "execution_count": null,
      "metadata": {
        "scrolled": true,
        "id": "l9E110_Q6K5i"
      },
      "outputs": [],
      "source": [
        "# Set time series dataset\n",
        "X = pd.concat([ttt2, ttt3, aaa2, aaa3], axis=1)[12:]\n",
        "y = ibc[60:]\n",
        "y = y.set_index('time')\n",
        "X.index = y.index\n",
        "ts = pd.concat([y, X], axis=1)\n",
        "ts.to_csv(\"ts.csv\")\n",
        "dateparse = lambda dates: pd.datetime.strptime(dates, '%b-%y')\n",
        "ts = pd.read_csv('ts.csv', index_col=0, date_parser=dateparse, dtype='float')\n",
        "\n",
        "# Split data into training and test set \n",
        "sp = round(0.8*len(ts))\n",
        "train = ts[0:sp]\n",
        "test = ts[sp:]\n",
        "\n",
        "ts.tail()"
      ]
    },
    {
      "cell_type": "code",
      "execution_count": null,
      "metadata": {
        "id": "eQO0t9xD6K5j"
      },
      "outputs": [],
      "source": [
        "# Unit root test of y (H0: non-stationary)\n",
        "adf_result = sm.tsa.stattools.adfuller(ts['Coincident Index'])\n",
        "print(\"Unit root test (y): {:.2f}\".format(adf_result[1])) # p-value\n",
        "\n",
        "# Take difference of y\n",
        "diff = ts['Coincident Index'].diff()\n",
        "diff = diff.dropna()\n",
        "adf_result = sm.tsa.stattools.adfuller(diff)\n",
        "print(\"Unit root test (diff_y): {:.2f}\".format(adf_result[1])) # p-value\n",
        "\n",
        "# Unit root test of X (H0: non-stationary)\n",
        "adf_result = sm.tsa.stattools.adfuller(ts['manufac'])\n",
        "print(\"Unit root test (X): {:.2f}\".format(adf_result[1])) # p-value\n",
        "\n",
        "# Take difference of X\n",
        "diff = ts['manufac'].diff()\n",
        "diff = diff.dropna()\n",
        "adf_result = sm.tsa.stattools.adfuller(diff)\n",
        "print(\"Unit root test (diff_X): {:.2f}\".format(adf_result[1])) # p-value\n",
        "\n",
        "# Cointegration test (H0: non-cointegration)\n",
        "coint_result = sm.tsa.stattools.coint(ts['Coincident Index'], ts['manufac'])\n",
        "print(\"Cointegration test (manufac): {:.2f}\".format(coint_result[1])) # p-value\n",
        "coint_result = sm.tsa.stattools.coint(ts['Coincident Index'], ts['home'])\n",
        "print(\"Cointegration test (home): {:.2f}\".format(coint_result[1])) # p-value"
      ]
    },
    {
      "cell_type": "markdown",
      "metadata": {
        "id": "jw25VR9e6K5l"
      },
      "source": [
        "### ARIMA Prediction"
      ]
    },
    {
      "cell_type": "code",
      "execution_count": null,
      "metadata": {
        "scrolled": true,
        "id": "h7C679216K5m"
      },
      "outputs": [],
      "source": [
        "# Fit the model\n",
        "SARIMAX = sm.tsa.SARIMAX(train['Coincident Index'], train.iloc[:,2:4], order=(1,1,1), freq='MS').fit()\n",
        "print(SARIMAX.summary())"
      ]
    },
    {
      "cell_type": "code",
      "execution_count": null,
      "metadata": {
        "scrolled": true,
        "id": "cgweQvjk6K5s"
      },
      "outputs": [],
      "source": [
        "pred = SARIMAX.predict('2014-03-01', '2020-02-01', exog=test.iloc[:,2:4])\n",
        "plt.plot(test['Coincident Index'], label=\"actual\")\n",
        "plt.plot(pred, \"r\", linestyle='--', label=\"predict\")\n",
        "plt.legend(loc='best')\n",
        "\n",
        "print(\"Test set score: {:.2f}\".format(r2_score(test['Coincident Index'], pred)))"
      ]
    },
    {
      "cell_type": "markdown",
      "metadata": {
        "id": "qvNQXHc26K5t"
      },
      "source": [
        "### ARIMA Prediction (YoY)"
      ]
    },
    {
      "cell_type": "code",
      "execution_count": null,
      "metadata": {
        "scrolled": true,
        "id": "evb2t6wq6K5u"
      },
      "outputs": [],
      "source": [
        "# Fit the model\n",
        "SARIMAX = sm.tsa.SARIMAX(train['Coincident ann'], train.iloc[:,4:6], order=(1,0,1), freq='MS').fit()\n",
        "print(SARIMAX.summary())"
      ]
    },
    {
      "cell_type": "code",
      "execution_count": null,
      "metadata": {
        "scrolled": true,
        "id": "p0SL6n5q6K5w"
      },
      "outputs": [],
      "source": [
        "pred = SARIMAX.predict('2014-03-01', '2020-02-01', exog=test.iloc[:,4:6])\n",
        "plt.plot(test['Coincident ann'], label=\"actual\")\n",
        "plt.plot(pred, \"r\", linestyle='--', label=\"predict\")\n",
        "plt.legend(loc='best')\n",
        "\n",
        "print(\"Test set score: {:.2f}\".format(r2_score(test['Coincident ann'], pred)))"
      ]
    },
    {
      "cell_type": "markdown",
      "metadata": {
        "id": "sssUeBbs6K5y"
      },
      "source": [
        "### Random Forest"
      ]
    },
    {
      "cell_type": "code",
      "execution_count": null,
      "metadata": {
        "scrolled": false,
        "id": "jo6Wijxo6K52"
      },
      "outputs": [],
      "source": [
        "# Set X and y variables\n",
        "X = ts.iloc[:,4:6]\n",
        "y = ts['Coincident ann']\n",
        "\n",
        "# Preprocess for adding AR\n",
        "X_l = X.drop(X.index[0])\n",
        "#X_l = X_l.drop(X_l.index[0])\n",
        "X_l.reset_index(inplace=True, drop=True)\n",
        "\n",
        "# Generate AR variable\n",
        "y_l = y.drop(y.index[-1])\n",
        "#y_l = y_l.drop(y_l.index[-1])\n",
        "y_l.reset_index(inplace=True, drop=True)\n",
        "\n",
        "# Add AR into X\n",
        "X_t = pd.concat([y_l, X_l], axis=1)\n",
        "y_t = y.drop(y.index[0])\n",
        "#y_t = y_t.drop(y_t.index[0])\n",
        "X_t.index = y_t.index\n",
        "\n",
        "# Split data into training and test set \n",
        "sp = round(0.8*len(X_t))\n",
        "X_train = X_t[0:sp]\n",
        "X_test = X_t[sp:]\n",
        "y_train = y_t[0:sp]\n",
        "y_test = y_t[sp:]\n",
        "\n",
        "# Fit the model\n",
        "tm = RandomForestRegressor(n_estimators=1000).fit(X_train, y_train)\n",
        "#tm.feature_importances_\n",
        "\n",
        "# Goodness of Fit\n",
        "print(\"Training set score: {:.2f}\".format(tm.score(X_train, y_train)))\n",
        "print(\"Cross-Validation score: {:.2f}\".format(\n",
        "          np.mean(cross_val_score(tm, X_train, y_train, cv=5))))\n",
        "print(\"Test set score: {:.2f}\".format(tm.score(X_test, y_test)))\n",
        "\n",
        "# Calculate the prediction\n",
        "prediction = pd.DataFrame(tm.predict(X_test))\n",
        "pre = prediction.values.tolist()\n",
        "act = y_test.values.tolist()\n",
        "predict = pd.DataFrame(pre, columns=['predict'])\n",
        "actual = pd.DataFrame(act, columns=['actual'])\n",
        "com = pd.concat([predict, actual], axis=1)\n",
        "\n",
        "# Plot the prediction\n",
        "fig = plt.figure()\n",
        "ax = fig.add_subplot(1, 1, 1)\n",
        "ax.plot(com.index, com.actual, linestyle='-', color='b', label='actual')\n",
        "ax.plot(com.index, com.predict, linestyle='--', color='#e46409', label='predict')\n",
        "ax.legend(loc='best')\n",
        "ax.set_title('Random Forest: Level')\n",
        "plt.savefig(\"images/elec_all_rf.png\")"
      ]
    },
    {
      "cell_type": "markdown",
      "metadata": {
        "id": "pJGoHbfn6K55"
      },
      "source": [
        "### RNN-LSTM"
      ]
    },
    {
      "cell_type": "code",
      "execution_count": null,
      "metadata": {
        "scrolled": true,
        "id": "PIiAhVJU6K5-"
      },
      "outputs": [],
      "source": [
        "features = pd.concat([ts['Coincident ann'], ts.iloc[:,4:6]], axis=1)\n",
        "features.tail()"
      ]
    },
    {
      "cell_type": "code",
      "execution_count": null,
      "metadata": {
        "id": "7rPk4GOw6K6C"
      },
      "outputs": [],
      "source": [
        "# set training percentage\n",
        "TRAIN_SPLIT = round(0.8*len(ts))\n",
        "print(TRAIN_SPLIT)\n",
        "\n",
        "# feature scaling\n",
        "dataset = features.values\n",
        "data_mean = dataset[:TRAIN_SPLIT].mean(axis=0)\n",
        "data_std = dataset[:TRAIN_SPLIT].std(axis=0)\n",
        "dataset = (dataset-data_mean)/data_std"
      ]
    },
    {
      "cell_type": "code",
      "execution_count": null,
      "metadata": {
        "id": "rYFcyrdC6K6H"
      },
      "outputs": [],
      "source": [
        "# create the training and test data\n",
        "\n",
        "past_history = 6\n",
        "future_target = 0\n",
        "STEP = 1\n",
        "\n",
        "x_train_single, y_train_single = multivariate_data(dataset, dataset[:,0], 0, TRAIN_SPLIT, \n",
        "                                                   past_history, future_target, STEP, single_step=True)\n",
        "x_val_single, y_val_single = multivariate_data(dataset, dataset[:,0], TRAIN_SPLIT, None, \n",
        "                                               past_history, future_target, STEP, single_step=True)"
      ]
    },
    {
      "cell_type": "code",
      "execution_count": null,
      "metadata": {
        "scrolled": true,
        "id": "TnTLE8OG6K6L"
      },
      "outputs": [],
      "source": [
        "pd.DataFrame(dataset).head(7)"
      ]
    },
    {
      "cell_type": "code",
      "execution_count": null,
      "metadata": {
        "scrolled": true,
        "id": "HPYxHYMf6K6O"
      },
      "outputs": [],
      "source": [
        "pd.DataFrame(x_train_single[0])"
      ]
    },
    {
      "cell_type": "code",
      "execution_count": null,
      "metadata": {
        "id": "Q2NUmXzG6K6T"
      },
      "outputs": [],
      "source": [
        "y_train_single[0]"
      ]
    },
    {
      "cell_type": "code",
      "execution_count": null,
      "metadata": {
        "id": "4krpvkZQ6K6W"
      },
      "outputs": [],
      "source": [
        "BATCH_SIZE = 32\n",
        "BUFFER_SIZE = 100\n",
        "\n",
        "train_data_single = tf.data.Dataset.from_tensor_slices((x_train_single, y_train_single))\n",
        "train_data_single = train_data_single.cache().shuffle(BUFFER_SIZE).batch(BATCH_SIZE).repeat()\n",
        "\n",
        "val_data_single = tf.data.Dataset.from_tensor_slices((x_val_single, y_val_single))\n",
        "val_data_single = val_data_single.batch(BATCH_SIZE).repeat()"
      ]
    },
    {
      "cell_type": "code",
      "execution_count": null,
      "metadata": {
        "id": "fZv-yPuO6K6Z"
      },
      "outputs": [],
      "source": [
        "# construct the model\n",
        "\n",
        "single_step_model = tf.keras.models.Sequential()\n",
        "single_step_model.add(tf.keras.layers.LSTM(4, input_shape=x_train_single.shape[-2:])) #return_sequences=True\n",
        "#single_step_model.add(tf.keras.layers.LSTM(8, kernel_regularizer=l2(0.01), bias_regularizer=l2(0.01)))\n",
        "#single_step_model.add(tf.keras.layers.LSTM(4, dropout=0.2, recurrent_dropout=0.2))\n",
        "#single_step_model.add(tf.keras.layers.Bidirectional(tf.keras.layers.LSTM(8)))\n",
        "single_step_model.add(tf.keras.layers.Dense(1))\n",
        "\n",
        "single_step_model.compile(optimizer=tf.keras.optimizers.RMSprop(lr=0.0005), loss='mae')"
      ]
    },
    {
      "cell_type": "code",
      "execution_count": null,
      "metadata": {
        "scrolled": false,
        "id": "3apua6ST6K6d"
      },
      "outputs": [],
      "source": [
        "# train the model\n",
        "single_step_history = single_step_model.fit(train_data_single, epochs=10, steps_per_epoch=200, validation_data=val_data_single, validation_steps=50)"
      ]
    },
    {
      "cell_type": "code",
      "execution_count": null,
      "metadata": {
        "id": "TTtTnDQt6K6i"
      },
      "outputs": [],
      "source": [
        "# evaluate the model\n",
        "model_eval_metrics(y_val_single, single_step_model.predict(x_val_single), classification=\"FALSE\")"
      ]
    },
    {
      "cell_type": "code",
      "execution_count": null,
      "metadata": {
        "scrolled": true,
        "id": "vahQhzqZ6K6n"
      },
      "outputs": [],
      "source": [
        "# visualize the result\n",
        "plt.plot(y_val_single, label=\"actual\")\n",
        "plt.plot(single_step_model.predict(x_val_single), \"r\", linestyle='--', label=\"predict\")\n",
        "plt.legend(loc='best')\n",
        "plt.title('RNN-LSTM: Level')\n",
        "plt.savefig(\"images/elect_all_lstm.png\")\n",
        "\n",
        "print(\"Test set score: {:.2f}\".format(r2_score(y_val_single, single_step_model.predict(x_val_single))))"
      ]
    },
    {
      "cell_type": "markdown",
      "metadata": {
        "id": "bqEWyPPh6K1t"
      },
      "source": [
        "## Google Trend"
      ]
    },
    {
      "cell_type": "markdown",
      "metadata": {
        "id": "4ozBR6qI6K1u"
      },
      "source": [
        "Use google trend information as predictors"
      ]
    },
    {
      "cell_type": "markdown",
      "metadata": {
        "id": "hiNhjuF-wMpW"
      },
      "source": [
        "### Google Trend API"
      ]
    },
    {
      "cell_type": "code",
      "execution_count": 10,
      "metadata": {
        "scrolled": true,
        "id": "ZVQwFMwf6K1x"
      },
      "outputs": [],
      "source": [
        "# Import packages\n",
        "from pytrends.request import TrendReq\n",
        "plt.rcParams['font.family'] = 'IPAexGothic'\n",
        "\n",
        "# API Connection\n",
        "pytrends = TrendReq(hl='ja-JP', tz=360)"
      ]
    },
    {
      "cell_type": "code",
      "source": [
        "# Set keyword (\"失業\" = \"unemployment\")\n",
        "kw_list = [\"失業\"]\n",
        "pytrends.build_payload(kw_list, timeframe='2004-01-01 2021-11-30', geo='JP')\n",
        "gt1 = pytrends.interest_over_time()\n",
        "gt1 = gt1.rename(columns = {\"失業\": \"unemployment\", \"isPartial\": \"info\"})\n",
        "gt1.to_csv(\"data/gt1.csv\")\n",
        "dateparse = lambda dates: pd.datetime.strptime(dates, '%Y-%m-%d')\n",
        "gt1 = pd.read_csv('data/gt1.csv', index_col=0, date_parser=dateparse, dtype='float')\n",
        "\n",
        "# Extract trend factor\n",
        "s1 = seasonal_decompose(gt1.iloc[:,0], extrapolate_trend='freq')\n",
        "t1 = s1.trend\n",
        "plt.plot(t1)\n",
        "plt.plot(gt1.iloc[:,0])\n",
        "\n",
        "# Check correlation\n",
        "level = ibc['Coincident Index'][228:]\n",
        "level.index = t1.index\n",
        "cor = level.corr(t1)\n",
        "print(\"Correlation of level: {:.2f}\".format(cor))\n",
        "\n",
        "a1 = gt1.iloc[:,0].pct_change(12)\n",
        "ann = ibc['Coincident ann'][228:]\n",
        "ann.index = a1.index\n",
        "cor = ann.corr(a1)\n",
        "print(\"Correlation of YoY: {:.2f}\".format(cor))\n",
        "\n",
        "# Plot trend\n",
        "fig = plt.figure()\n",
        "ax = fig.add_subplot(1, 1, 1)\n",
        "ax.plot(t1.index, ibc['Coincident Index'][228:], linestyle='-', color='b', label='IBC')\n",
        "ax.plot(t1.index, t1, linestyle='--', color='#e46409', label='google search: \"unemployment\"')\n",
        "ax.legend()\n",
        "plt.title('Google Search: \"Unemployment\"')\n",
        "plt.savefig(\"images/google1.png\")"
      ],
      "metadata": {
        "id": "7HkUVeaP5m4w",
        "colab": {
          "base_uri": "https://localhost:8080/",
          "height": 643
        },
        "outputId": "73fba865-8cb1-4544-e656-0310531f1876"
      },
      "execution_count": 11,
      "outputs": [
        {
          "output_type": "stream",
          "name": "stderr",
          "text": [
            "/usr/local/lib/python3.7/dist-packages/ipykernel_launcher.py:7: FutureWarning: The pandas.datetime class is deprecated and will be removed from pandas in a future version. Import from datetime module instead.\n",
            "  import sys\n",
            "findfont: Font family ['IPAexGothic'] not found. Falling back to DejaVu Sans.\n",
            "findfont: Font family ['IPAexGothic'] not found. Falling back to DejaVu Sans.\n"
          ]
        },
        {
          "output_type": "stream",
          "name": "stdout",
          "text": [
            "Correlation of level: -0.88\n",
            "Correlation of YoY: -0.68\n"
          ]
        },
        {
          "output_type": "display_data",
          "data": {
            "image/png": "[encoded data removed]",
            "text/plain": [
              "<Figure size 432x288 with 1 Axes>"
            ]
          },
          "metadata": {
            "needs_background": "light"
          }
        },
        {
          "output_type": "display_data",
          "data": {
            "image/png": "[encoded data removed]",
            "text/plain": [
              "<Figure size 432x288 with 1 Axes>"
            ]
          },
          "metadata": {
            "needs_background": "light"
          }
        }
      ]
    },
    {
      "cell_type": "code",
      "source": [
        "# Set keyword (\"貯金\" = \"saving\")\n",
        "kw_list = [\"貯金\"]\n",
        "pytrends.build_payload(kw_list, timeframe='2004-01-01 2021-11-30', geo='JP')\n",
        "gt2 = pytrends.interest_over_time()\n",
        "gt2 = gt2.rename(columns = {\"貯金\": \"saving\", \"isPartial\": \"info\"})\n",
        "gt2.to_csv(\"data/gt2.csv\")\n",
        "dateparse = lambda dates: pd.datetime.strptime(dates, '%Y-%m-%d')\n",
        "gt2 = pd.read_csv('data/gt2.csv', index_col=0, date_parser=dateparse, dtype='float')\n",
        "\n",
        "# Extract trend factor\n",
        "s2 = seasonal_decompose(gt2.iloc[:,0], extrapolate_trend='freq')\n",
        "t2 = s2.trend\n",
        "plt.plot(t2)\n",
        "plt.plot(gt2.iloc[:,0])\n",
        "\n",
        "# Check correlation\n",
        "level = ibc['Coincident Index'][228:]\n",
        "level.index = t2.index\n",
        "cor = level.corr(t2)\n",
        "print(\"Correlation of level: {:.2f}\".format(cor))\n",
        "\n",
        "a2 = gt2.iloc[:,0].pct_change(12)\n",
        "ann = ibc['Coincident ann'][228:]\n",
        "ann.index = a2.index\n",
        "cor = ann.corr(a2)\n",
        "print(\"Correlation of YoY: {:.2f}\".format(cor))\n",
        "\n",
        "# Plot trend\n",
        "fig = plt.figure()\n",
        "ax = fig.add_subplot(1, 1, 1)\n",
        "ax.plot(t2.index, ibc['Coincident Index'][228:], linestyle='-', color='b', label='IBC')\n",
        "ax.plot(t2.index, t2, linestyle='--', color='#e46409', label='google search: \"saving\"')\n",
        "ax.legend()\n",
        "plt.title('Google Search: \"Saving\"')\n",
        "plt.savefig(\"images/google2.png\")"
      ],
      "metadata": {
        "colab": {
          "base_uri": "https://localhost:8080/",
          "height": 605
        },
        "id": "bCZOYVBddkZA",
        "outputId": "5248a497-cd0c-450f-ff9f-a5a43f4f142e"
      },
      "execution_count": 12,
      "outputs": [
        {
          "output_type": "stream",
          "name": "stderr",
          "text": [
            "/usr/local/lib/python3.7/dist-packages/ipykernel_launcher.py:7: FutureWarning: The pandas.datetime class is deprecated and will be removed from pandas in a future version. Import from datetime module instead.\n",
            "  import sys\n"
          ]
        },
        {
          "output_type": "stream",
          "name": "stdout",
          "text": [
            "Correlation of level: 0.32\n",
            "Correlation of YoY: 0.13\n"
          ]
        },
        {
          "output_type": "display_data",
          "data": {
            "image/png": "[encoded data removed]",
            "text/plain": [
              "<Figure size 432x288 with 1 Axes>"
            ]
          },
          "metadata": {
            "needs_background": "light"
          }
        },
        {
          "output_type": "display_data",
          "data": {
            "image/png": "[encoded data removed]",
            "text/plain": [
              "<Figure size 432x288 with 1 Axes>"
            ]
          },
          "metadata": {
            "needs_background": "light"
          }
        }
      ]
    },
    {
      "cell_type": "code",
      "execution_count": 13,
      "metadata": {
        "id": "anpOm6qx6K19"
      },
      "outputs": [],
      "source": [
        "# Combine google trend (level)\n",
        "gtrend_l = pd.concat([t1, t2], axis=1)\n",
        "\n",
        "# Combine google trend (YoY)\n",
        "gtrend_y = pd.concat([a1, a2], axis=1)\n",
        "#gtrend_y = gtrend_y.drop(gtrend_y.index[0:12])"
      ]
    },
    {
      "cell_type": "markdown",
      "metadata": {
        "id": "WzHv9pQM6K1_"
      },
      "source": [
        "### Time series analysis"
      ]
    },
    {
      "cell_type": "code",
      "execution_count": 14,
      "metadata": {
        "scrolled": true,
        "id": "AdwGQCbQ6K2B",
        "outputId": "74f867a6-20a7-4ab3-9e50-d6e5d86ba04f",
        "colab": {
          "base_uri": "https://localhost:8080/",
          "height": 273
        }
      },
      "outputs": [
        {
          "output_type": "stream",
          "name": "stderr",
          "text": [
            "/usr/local/lib/python3.7/dist-packages/ipykernel_launcher.py:8: FutureWarning: The pandas.datetime class is deprecated and will be removed from pandas in a future version. Import from datetime module instead.\n",
            "  \n"
          ]
        },
        {
          "output_type": "execute_result",
          "data": {
            "text/html": [
              "\n",
              "  <div id=\"df-c7ee13bd-8fff-4249-94f6-3b37486a87f8\">\n",
              "    <div class=\"colab-df-container\">\n",
              "      <div>\n",
              "<style scoped>\n",
              "    .dataframe tbody tr th:only-of-type {\n",
              "        vertical-align: middle;\n",
              "    }\n",
              "\n",
              "    .dataframe tbody tr th {\n",
              "        vertical-align: top;\n",
              "    }\n",
              "\n",
              "    .dataframe thead th {\n",
              "        text-align: right;\n",
              "    }\n",
              "</style>\n",
              "<table border=\"1\" class=\"dataframe\">\n",
              "  <thead>\n",
              "    <tr style=\"text-align: right;\">\n",
              "      <th></th>\n",
              "      <th>Coincident Index</th>\n",
              "      <th>Coincident ann</th>\n",
              "      <th>unemployment</th>\n",
              "      <th>saving</th>\n",
              "      <th>unemployment.1</th>\n",
              "      <th>saving.1</th>\n",
              "    </tr>\n",
              "    <tr>\n",
              "      <th>time</th>\n",
              "      <th></th>\n",
              "      <th></th>\n",
              "      <th></th>\n",
              "      <th></th>\n",
              "      <th></th>\n",
              "      <th></th>\n",
              "    </tr>\n",
              "  </thead>\n",
              "  <tbody>\n",
              "    <tr>\n",
              "      <th>2021-07-01</th>\n",
              "      <td>94.0</td>\n",
              "      <td>16.480793</td>\n",
              "      <td>59.731983</td>\n",
              "      <td>64.920115</td>\n",
              "      <td>-0.257143</td>\n",
              "      <td>0.315789</td>\n",
              "    </tr>\n",
              "    <tr>\n",
              "      <th>2021-08-01</th>\n",
              "      <td>91.0</td>\n",
              "      <td>10.840438</td>\n",
              "      <td>59.016220</td>\n",
              "      <td>65.317988</td>\n",
              "      <td>-0.238095</td>\n",
              "      <td>0.166667</td>\n",
              "    </tr>\n",
              "    <tr>\n",
              "      <th>2021-09-01</th>\n",
              "      <td>88.7</td>\n",
              "      <td>4.722550</td>\n",
              "      <td>58.300456</td>\n",
              "      <td>65.715861</td>\n",
              "      <td>-0.181818</td>\n",
              "      <td>0.015873</td>\n",
              "    </tr>\n",
              "    <tr>\n",
              "      <th>2021-10-01</th>\n",
              "      <td>89.8</td>\n",
              "      <td>1.468927</td>\n",
              "      <td>57.584693</td>\n",
              "      <td>66.113733</td>\n",
              "      <td>-0.390625</td>\n",
              "      <td>-0.087719</td>\n",
              "    </tr>\n",
              "    <tr>\n",
              "      <th>2021-11-01</th>\n",
              "      <td>93.6</td>\n",
              "      <td>5.643341</td>\n",
              "      <td>56.868930</td>\n",
              "      <td>66.511606</td>\n",
              "      <td>-0.300000</td>\n",
              "      <td>0.037736</td>\n",
              "    </tr>\n",
              "  </tbody>\n",
              "</table>\n",
              "</div>\n",
              "      <button class=\"colab-df-convert\" onclick=\"convertToInteractive('df-c7ee13bd-8fff-4249-94f6-3b37486a87f8')\"\n",
              "              title=\"Convert this dataframe to an interactive table.\"\n",
              "              style=\"display:none;\">\n",
              "        \n",
              "  <svg xmlns=\"http://www.w3.org/2000/svg\" height=\"24px\"viewBox=\"0 0 24 24\"\n",
              "       width=\"24px\">\n",
              "    <path d=\"M0 0h24v24H0V0z\" fill=\"none\"/>\n",
              "    <path d=\"M18.56 5.44l.94 2.06.94-2.06 2.06-.94-2.06-.94-.94-2.06-.94 2.06-2.06.94zm-11 1L8.5 8.5l.94-2.06 2.06-.94-2.06-.94L8.5 2.5l-.94 2.06-2.06.94zm10 10l.94 2.06.94-2.06 2.06-.94-2.06-.94-.94-2.06-.94 2.06-2.06.94z\"/><path d=\"M17.41 7.96l-1.37-1.37c-.4-.4-.92-.59-1.43-.59-.52 0-1.04.2-1.43.59L10.3 9.45l-7.72 7.72c-.78.78-.78 2.05 0 2.83L4 21.41c.39.39.9.59 1.41.59.51 0 1.02-.2 1.41-.59l7.78-7.78 2.81-2.81c.8-.78.8-2.07 0-2.86zM5.41 20L4 18.59l7.72-7.72 1.47 1.35L5.41 20z\"/>\n",
              "  </svg>\n",
              "      </button>\n",
              "      \n",
              "  <style>\n",
              "    .colab-df-container {\n",
              "      display:flex;\n",
              "      flex-wrap:wrap;\n",
              "      gap: 12px;\n",
              "    }\n",
              "\n",
              "    .colab-df-convert {\n",
              "      background-color: #E8F0FE;\n",
              "      border: none;\n",
              "      border-radius: 50%;\n",
              "      cursor: pointer;\n",
              "      display: none;\n",
              "      fill: #1967D2;\n",
              "      height: 32px;\n",
              "      padding: 0 0 0 0;\n",
              "      width: 32px;\n",
              "    }\n",
              "\n",
              "    .colab-df-convert:hover {\n",
              "      background-color: #E2EBFA;\n",
              "      box-shadow: 0px 1px 2px rgba(60, 64, 67, 0.3), 0px 1px 3px 1px rgba(60, 64, 67, 0.15);\n",
              "      fill: #174EA6;\n",
              "    }\n",
              "\n",
              "    [theme=dark] .colab-df-convert {\n",
              "      background-color: #3B4455;\n",
              "      fill: #D2E3FC;\n",
              "    }\n",
              "\n",
              "    [theme=dark] .colab-df-convert:hover {\n",
              "      background-color: #434B5C;\n",
              "      box-shadow: 0px 1px 3px 1px rgba(0, 0, 0, 0.15);\n",
              "      filter: drop-shadow(0px 1px 2px rgba(0, 0, 0, 0.3));\n",
              "      fill: #FFFFFF;\n",
              "    }\n",
              "  </style>\n",
              "\n",
              "      <script>\n",
              "        const buttonEl =\n",
              "          document.querySelector('#df-c7ee13bd-8fff-4249-94f6-3b37486a87f8 button.colab-df-convert');\n",
              "        buttonEl.style.display =\n",
              "          google.colab.kernel.accessAllowed ? 'block' : 'none';\n",
              "\n",
              "        async function convertToInteractive(key) {\n",
              "          const element = document.querySelector('#df-c7ee13bd-8fff-4249-94f6-3b37486a87f8');\n",
              "          const dataTable =\n",
              "            await google.colab.kernel.invokeFunction('convertToInteractive',\n",
              "                                                     [key], {});\n",
              "          if (!dataTable) return;\n",
              "\n",
              "          const docLinkHtml = 'Like what you see? Visit the ' +\n",
              "            '<a target=\"_blank\" href=https://colab.research.google.com/notebooks/data_table.ipynb>data table notebook</a>'\n",
              "            + ' to learn more about interactive tables.';\n",
              "          element.innerHTML = '';\n",
              "          dataTable['output_type'] = 'display_data';\n",
              "          await google.colab.output.renderOutput(dataTable, element);\n",
              "          const docLink = document.createElement('div');\n",
              "          docLink.innerHTML = docLinkHtml;\n",
              "          element.appendChild(docLink);\n",
              "        }\n",
              "      </script>\n",
              "    </div>\n",
              "  </div>\n",
              "  "
            ],
            "text/plain": [
              "            Coincident Index  Coincident ann  ...  unemployment.1  saving.1\n",
              "time                                          ...                          \n",
              "2021-07-01              94.0       16.480793  ...       -0.257143  0.315789\n",
              "2021-08-01              91.0       10.840438  ...       -0.238095  0.166667\n",
              "2021-09-01              88.7        4.722550  ...       -0.181818  0.015873\n",
              "2021-10-01              89.8        1.468927  ...       -0.390625 -0.087719\n",
              "2021-11-01              93.6        5.643341  ...       -0.300000  0.037736\n",
              "\n",
              "[5 rows x 6 columns]"
            ]
          },
          "metadata": {},
          "execution_count": 14
        }
      ],
      "source": [
        "# Set time series dataset\n",
        "X = pd.concat([gtrend_l, gtrend_y], axis=1)\n",
        "y = ibc[228:]\n",
        "y = y.set_index('time')\n",
        "X.index = y.index\n",
        "ts = pd.concat([y, X], axis=1)\n",
        "ts.to_csv(\"ts.csv\")\n",
        "dateparse = lambda dates: pd.datetime.strptime(dates, '%b-%y')\n",
        "ts = pd.read_csv('ts.csv', index_col=0, date_parser=dateparse, dtype='float')\n",
        "\n",
        "# Split data into training and test set\n",
        "sp = round(0.8*len(ts))\n",
        "train = ts[0:sp]\n",
        "test = ts[sp:]\n",
        "\n",
        "ts.tail()"
      ]
    },
    {
      "cell_type": "code",
      "execution_count": 15,
      "metadata": {
        "id": "3nJBt8eh6K2E",
        "outputId": "dec4a694-43c8-4206-dd39-05369e8013ae",
        "colab": {
          "base_uri": "https://localhost:8080/"
        }
      },
      "outputs": [
        {
          "output_type": "stream",
          "name": "stdout",
          "text": [
            "Unit root test (y): 0.07\n",
            "Unit root test (diff_y): 0.00\n",
            "Unit root test (X): 0.15\n",
            "Unit root test (diff_X): 0.03\n",
            "Cointegration test (unemployment): 0.19\n",
            "Cointegration test (saving): 0.26\n"
          ]
        }
      ],
      "source": [
        "# Unit root test of y (H0: non-stationary)\n",
        "adf_result = sm.tsa.stattools.adfuller(ts['Coincident Index'])\n",
        "print(\"Unit root test (y): {:.2f}\".format(adf_result[1])) # p-value\n",
        "\n",
        "# Take difference of y\n",
        "diff = ts['Coincident Index'].diff()\n",
        "diff = diff.dropna()\n",
        "adf_result = sm.tsa.stattools.adfuller(diff)\n",
        "print(\"Unit root test (diff_y): {:.2f}\".format(adf_result[1])) # p-value\n",
        "\n",
        "# Unit root test of X (H0: non-stationary)\n",
        "adf_result = sm.tsa.stattools.adfuller(ts['unemployment'])\n",
        "print(\"Unit root test (X): {:.2f}\".format(adf_result[1])) # p-value\n",
        "\n",
        "# Take difference of X\n",
        "diff = ts['unemployment'].diff()\n",
        "diff = diff.dropna()\n",
        "adf_result = sm.tsa.stattools.adfuller(diff)\n",
        "print(\"Unit root test (diff_X): {:.2f}\".format(adf_result[1])) # p-value\n",
        "\n",
        "# Cointegration test (H0: non-cointegration)\n",
        "coint_result = sm.tsa.stattools.coint(ts['Coincident Index'], ts['unemployment'])\n",
        "print(\"Cointegration test (unemployment): {:.2f}\".format(coint_result[1])) # p-value\n",
        "coint_result = sm.tsa.stattools.coint(ts['Coincident Index'], ts['saving'])\n",
        "print(\"Cointegration test (saving): {:.2f}\".format(coint_result[1])) # p-value"
      ]
    },
    {
      "cell_type": "markdown",
      "metadata": {
        "id": "SdD511OM6K2H"
      },
      "source": [
        "### ARIMA Prediction"
      ]
    },
    {
      "cell_type": "code",
      "execution_count": 17,
      "metadata": {
        "scrolled": true,
        "id": "MTubl0Nn6K2J",
        "outputId": "6b43d649-3831-44a8-ccb7-9536fffa35f4",
        "colab": {
          "base_uri": "https://localhost:8080/"
        }
      },
      "outputs": [
        {
          "output_type": "stream",
          "name": "stdout",
          "text": [
            "                           Statespace Model Results                           \n",
            "==============================================================================\n",
            "Dep. Variable:       Coincident Index   No. Observations:                  172\n",
            "Model:               SARIMAX(1, 0, 0)   Log Likelihood                -299.750\n",
            "Date:                Thu, 13 Jan 2022   AIC                            605.500\n",
            "Time:                        05:48:35   BIC                            614.943\n",
            "Sample:                    01-01-2004   HQIC                           609.331\n",
            "                         - 04-01-2018                                         \n",
            "Covariance Type:                  opg                                         \n",
            "================================================================================\n",
            "                   coef    std err          z      P>|z|      [0.025      0.975]\n",
            "--------------------------------------------------------------------------------\n",
            "unemployment    -0.7552      0.094     -8.041      0.000      -0.939      -0.571\n",
            "ar.L1            1.0000      0.001   1212.197      0.000       0.998       1.002\n",
            "sigma2           1.8110      0.113     15.985      0.000       1.589       2.033\n",
            "===================================================================================\n",
            "Ljung-Box (Q):                       53.87   Jarque-Bera (JB):               451.11\n",
            "Prob(Q):                              0.07   Prob(JB):                         0.00\n",
            "Heteroskedasticity (H):               1.16   Skew:                            -1.86\n",
            "Prob(H) (two-sided):                  0.58   Kurtosis:                        10.01\n",
            "===================================================================================\n",
            "\n",
            "Warnings:\n",
            "[1] Covariance matrix calculated using the outer product of gradients (complex-step).\n"
          ]
        }
      ],
      "source": [
        "# Fit the model\n",
        "SARIMAX = sm.tsa.SARIMAX(train['Coincident Index'], train.iloc[:,2:3], order=(1,0,0), freq='MS').fit()\n",
        "print(SARIMAX.summary())"
      ]
    },
    {
      "cell_type": "code",
      "execution_count": 19,
      "metadata": {
        "scrolled": false,
        "id": "aAlUYOP56K2M",
        "outputId": "383df974-fec2-43cb-df1d-6a2881bc24c9",
        "colab": {
          "base_uri": "https://localhost:8080/",
          "height": 284
        }
      },
      "outputs": [
        {
          "output_type": "stream",
          "name": "stdout",
          "text": [
            "Test set score: 0.66\n"
          ]
        },
        {
          "output_type": "display_data",
          "data": {
            "image/png": "[encoded data removed]",
            "text/plain": [
              "<Figure size 432x288 with 1 Axes>"
            ]
          },
          "metadata": {
            "needs_background": "light"
          }
        }
      ],
      "source": [
        "pred = SARIMAX.predict('2018-05-01', '2021-11-01', exog=test.iloc[:,2:3])\n",
        "plt.plot(test['Coincident Index'], label=\"actual\")\n",
        "plt.plot(pred, \"r\", linestyle='--', label=\"predict\")\n",
        "plt.legend(loc='best')\n",
        "\n",
        "print(\"Test set score: {:.2f}\".format(r2_score(test['Coincident Index'], pred)))"
      ]
    },
    {
      "cell_type": "markdown",
      "metadata": {
        "id": "PS4NW1Yp6K2O"
      },
      "source": [
        "### Random Forest"
      ]
    },
    {
      "cell_type": "code",
      "execution_count": 20,
      "metadata": {
        "scrolled": true,
        "id": "2ZtnIwgg6K2Q",
        "outputId": "d44e0bcc-4f9f-4bda-c6fe-b641bb773bf5",
        "colab": {
          "base_uri": "https://localhost:8080/",
          "height": 338
        }
      },
      "outputs": [
        {
          "output_type": "stream",
          "name": "stdout",
          "text": [
            "Training set score: 0.99\n",
            "Cross-Validation score: 0.77\n",
            "Test set score: 0.80\n"
          ]
        },
        {
          "output_type": "display_data",
          "data": {
            "image/png": "[encoded data removed]",
            "text/plain": [
              "<Figure size 432x288 with 1 Axes>"
            ]
          },
          "metadata": {
            "needs_background": "light"
          }
        }
      ],
      "source": [
        "# Set X and y variables\n",
        "X = ts.iloc[:,2:3]\n",
        "y = ts['Coincident Index']\n",
        "\n",
        "# Preprocess for adding AR\n",
        "X_l = X.drop(X.index[0])\n",
        "#X_l = X_l.drop(X_l.index[0])\n",
        "X_l.reset_index(inplace=True, drop=True)\n",
        "\n",
        "# Generate AR variable\n",
        "y_l = y.drop(y.index[-1])\n",
        "#y_l = y_l.drop(y_l.index[-1])\n",
        "y_l.reset_index(inplace=True, drop=True)\n",
        "\n",
        "# Add AR into X\n",
        "X_t = pd.concat([y_l, X_l], axis=1)\n",
        "y_t = y.drop(y.index[0])\n",
        "#y_t = y_t.drop(y_t.index[0])\n",
        "X_t.index = y_t.index\n",
        "\n",
        "# Split data into training and test set \n",
        "sp = round(0.8*len(X_t))\n",
        "X_train = X_t[0:sp]\n",
        "X_test = X_t[sp:]\n",
        "y_train = y_t[0:sp]\n",
        "y_test = y_t[sp:]\n",
        "\n",
        "# Fit the model\n",
        "tm = RandomForestRegressor(n_estimators=1000).fit(X_train, y_train)\n",
        "#tm.feature_importances_\n",
        "\n",
        "# Goodness of Fit\n",
        "print(\"Training set score: {:.2f}\".format(tm.score(X_train, y_train)))\n",
        "print(\"Cross-Validation score: {:.2f}\".format(\n",
        "          np.mean(cross_val_score(tm, X_train, y_train, cv=5))))\n",
        "print(\"Test set score: {:.2f}\".format(tm.score(X_test, y_test)))\n",
        "\n",
        "# Calculate the prediction\n",
        "prediction = pd.DataFrame(tm.predict(X_test))\n",
        "pre = prediction.values.tolist()\n",
        "act = y_test.values.tolist()\n",
        "predict = pd.DataFrame(pre, columns=['predict'])\n",
        "actual = pd.DataFrame(act, columns=['actual'])\n",
        "com = pd.concat([predict, actual], axis=1)\n",
        "\n",
        "# Plot the prediction\n",
        "fig = plt.figure()\n",
        "ax = fig.add_subplot(1, 1, 1)\n",
        "ax.plot(com.index, com.actual, linestyle='-', color='b', label='actual')\n",
        "ax.plot(com.index, com.predict, linestyle='--', color='#e46409', label='predict')\n",
        "ax.legend(loc='best')\n",
        "ax.set_title('Random Forest: Level')\n",
        "plt.savefig(\"images/google_rf.png\")"
      ]
    },
    {
      "cell_type": "code",
      "source": [
        "tm.feature_importances_"
      ],
      "metadata": {
        "colab": {
          "base_uri": "https://localhost:8080/"
        },
        "id": "UX6u2ESGbXc8",
        "outputId": "36df517f-9236-4ec1-fac6-fd7b884c7877"
      },
      "execution_count": 21,
      "outputs": [
        {
          "output_type": "execute_result",
          "data": {
            "text/plain": [
              "array([0.79556366, 0.20443634])"
            ]
          },
          "metadata": {},
          "execution_count": 21
        }
      ]
    },
    {
      "cell_type": "code",
      "source": [
        "# Set keyword (\"失業\" = \"unemployment\")\n",
        "kw_list = [\"失業\"]\n",
        "pytrends.build_payload(kw_list, timeframe='today 5-y', geo='JP')\n",
        "#pytrends.build_payload(kw_list, timeframe='2004-01-01 2020-02-29', geo='JP')\n",
        "gt3 = pytrends.interest_over_time()\n",
        "gt3 = gt3.rename(columns = {\"失業\": \"unemployment\", \"isPartial\": \"info\"})\n",
        "gt3.to_csv(\"data/gt3.csv\")\n",
        "dateparse = lambda dates: pd.datetime.strptime(dates, '%Y-%m-%d')\n",
        "gt3 = pd.read_csv('data/gt3.csv', index_col=0, date_parser=dateparse, dtype='float')\n",
        "\n",
        "# Extract trend factor\n",
        "s3 = seasonal_decompose(gt3.iloc[:,0], extrapolate_trend='freq')\n",
        "t3 = s3.trend\n",
        "\n",
        "plt.plot(t3)\n",
        "plt.plot(gt3.iloc[:,0])"
      ],
      "metadata": {
        "colab": {
          "base_uri": "https://localhost:8080/",
          "height": 322
        },
        "id": "KaqT0ML2D3ni",
        "outputId": "1570207a-da5f-48f7-fa5c-d037e7c87b3b"
      },
      "execution_count": 24,
      "outputs": [
        {
          "output_type": "stream",
          "name": "stderr",
          "text": [
            "/usr/local/lib/python3.7/dist-packages/ipykernel_launcher.py:8: FutureWarning: The pandas.datetime class is deprecated and will be removed from pandas in a future version. Import from datetime module instead.\n",
            "  \n"
          ]
        },
        {
          "output_type": "execute_result",
          "data": {
            "text/plain": [
              "[<matplotlib.lines.Line2D at 0x7fd16bf43890>]"
            ]
          },
          "metadata": {},
          "execution_count": 24
        },
        {
          "output_type": "display_data",
          "data": {
            "image/png": "[encoded data removed]",
            "text/plain": [
              "<Figure size 432x288 with 1 Axes>"
            ]
          },
          "metadata": {
            "needs_background": "light"
          }
        }
      ]
    },
    {
      "cell_type": "code",
      "source": [
        "gtw = pd.DataFrame(t3)\n",
        "gtw.to_csv(\"data/gtw.csv\")"
      ],
      "metadata": {
        "id": "auk7yIHJFSzo"
      },
      "execution_count": 31,
      "outputs": []
    },
    {
      "cell_type": "code",
      "source": [
        "dateparse = lambda dates: pd.datetime.strptime(dates, '%Y-%m-%d')\n",
        "XX = pd.read_csv('data/gtw_ibc.csv', index_col=0, date_parser=dateparse, dtype='float')\n",
        "\n",
        "plt.plot(XX)"
      ],
      "metadata": {
        "colab": {
          "base_uri": "https://localhost:8080/",
          "height": 341
        },
        "id": "5JQh1s-PA1ei",
        "outputId": "5ed9aa01-7d65-47be-e1c6-f62eb2276d8b"
      },
      "execution_count": 281,
      "outputs": [
        {
          "output_type": "stream",
          "name": "stderr",
          "text": [
            "/usr/local/lib/python3.7/dist-packages/ipykernel_launcher.py:1: FutureWarning: The pandas.datetime class is deprecated and will be removed from pandas in a future version. Import from datetime module instead.\n",
            "  \"\"\"Entry point for launching an IPython kernel.\n"
          ]
        },
        {
          "output_type": "execute_result",
          "data": {
            "text/plain": [
              "[<matplotlib.lines.Line2D at 0x7fd15ddd26d0>,\n",
              " <matplotlib.lines.Line2D at 0x7fd15dd3d9d0>]"
            ]
          },
          "metadata": {},
          "execution_count": 281
        },
        {
          "output_type": "display_data",
          "data": {
            "image/png": "[encoded data removed]",
            "text/plain": [
              "<Figure size 432x288 with 1 Axes>"
            ]
          },
          "metadata": {
            "needs_background": "light"
          }
        }
      ]
    },
    {
      "cell_type": "code",
      "source": [
        "XX = XX.dropna()\n",
        "XX"
      ],
      "metadata": {
        "colab": {
          "base_uri": "https://localhost:8080/",
          "height": 450
        },
        "id": "stym9BXkM35V",
        "outputId": "ec2a7171-95e6-442f-ff8f-5ceca423671e"
      },
      "execution_count": 282,
      "outputs": [
        {
          "output_type": "execute_result",
          "data": {
            "text/html": [
              "\n",
              "  <div id=\"df-4ebe6c9c-8971-488f-b04e-ed77c23020a2\">\n",
              "    <div class=\"colab-df-container\">\n",
              "      <div>\n",
              "<style scoped>\n",
              "    .dataframe tbody tr th:only-of-type {\n",
              "        vertical-align: middle;\n",
              "    }\n",
              "\n",
              "    .dataframe tbody tr th {\n",
              "        vertical-align: top;\n",
              "    }\n",
              "\n",
              "    .dataframe thead th {\n",
              "        text-align: right;\n",
              "    }\n",
              "</style>\n",
              "<table border=\"1\" class=\"dataframe\">\n",
              "  <thead>\n",
              "    <tr style=\"text-align: right;\">\n",
              "      <th></th>\n",
              "      <th>ibc</th>\n",
              "      <th>unemployment</th>\n",
              "    </tr>\n",
              "    <tr>\n",
              "      <th>date</th>\n",
              "      <th></th>\n",
              "      <th></th>\n",
              "    </tr>\n",
              "  </thead>\n",
              "  <tbody>\n",
              "    <tr>\n",
              "      <th>2017-01-15</th>\n",
              "      <td>101.5</td>\n",
              "      <td>37.034999</td>\n",
              "    </tr>\n",
              "    <tr>\n",
              "      <th>2017-01-22</th>\n",
              "      <td>101.5</td>\n",
              "      <td>37.106183</td>\n",
              "    </tr>\n",
              "    <tr>\n",
              "      <th>2017-01-29</th>\n",
              "      <td>101.5</td>\n",
              "      <td>37.177367</td>\n",
              "    </tr>\n",
              "    <tr>\n",
              "      <th>2017-02-05</th>\n",
              "      <td>102.3</td>\n",
              "      <td>37.248552</td>\n",
              "    </tr>\n",
              "    <tr>\n",
              "      <th>2017-02-12</th>\n",
              "      <td>102.3</td>\n",
              "      <td>37.319736</td>\n",
              "    </tr>\n",
              "    <tr>\n",
              "      <th>...</th>\n",
              "      <td>...</td>\n",
              "      <td>...</td>\n",
              "    </tr>\n",
              "    <tr>\n",
              "      <th>2021-10-31</th>\n",
              "      <td>89.8</td>\n",
              "      <td>44.201839</td>\n",
              "    </tr>\n",
              "    <tr>\n",
              "      <th>2021-11-07</th>\n",
              "      <td>93.6</td>\n",
              "      <td>43.906232</td>\n",
              "    </tr>\n",
              "    <tr>\n",
              "      <th>2021-11-14</th>\n",
              "      <td>93.6</td>\n",
              "      <td>43.610624</td>\n",
              "    </tr>\n",
              "    <tr>\n",
              "      <th>2021-11-21</th>\n",
              "      <td>93.6</td>\n",
              "      <td>43.315017</td>\n",
              "    </tr>\n",
              "    <tr>\n",
              "      <th>2021-11-28</th>\n",
              "      <td>93.6</td>\n",
              "      <td>43.019409</td>\n",
              "    </tr>\n",
              "  </tbody>\n",
              "</table>\n",
              "<p>255 rows × 2 columns</p>\n",
              "</div>\n",
              "      <button class=\"colab-df-convert\" onclick=\"convertToInteractive('df-4ebe6c9c-8971-488f-b04e-ed77c23020a2')\"\n",
              "              title=\"Convert this dataframe to an interactive table.\"\n",
              "              style=\"display:none;\">\n",
              "        \n",
              "  <svg xmlns=\"http://www.w3.org/2000/svg\" height=\"24px\"viewBox=\"0 0 24 24\"\n",
              "       width=\"24px\">\n",
              "    <path d=\"M0 0h24v24H0V0z\" fill=\"none\"/>\n",
              "    <path d=\"M18.56 5.44l.94 2.06.94-2.06 2.06-.94-2.06-.94-.94-2.06-.94 2.06-2.06.94zm-11 1L8.5 8.5l.94-2.06 2.06-.94-2.06-.94L8.5 2.5l-.94 2.06-2.06.94zm10 10l.94 2.06.94-2.06 2.06-.94-2.06-.94-.94-2.06-.94 2.06-2.06.94z\"/><path d=\"M17.41 7.96l-1.37-1.37c-.4-.4-.92-.59-1.43-.59-.52 0-1.04.2-1.43.59L10.3 9.45l-7.72 7.72c-.78.78-.78 2.05 0 2.83L4 21.41c.39.39.9.59 1.41.59.51 0 1.02-.2 1.41-.59l7.78-7.78 2.81-2.81c.8-.78.8-2.07 0-2.86zM5.41 20L4 18.59l7.72-7.72 1.47 1.35L5.41 20z\"/>\n",
              "  </svg>\n",
              "      </button>\n",
              "      \n",
              "  <style>\n",
              "    .colab-df-container {\n",
              "      display:flex;\n",
              "      flex-wrap:wrap;\n",
              "      gap: 12px;\n",
              "    }\n",
              "\n",
              "    .colab-df-convert {\n",
              "      background-color: #E8F0FE;\n",
              "      border: none;\n",
              "      border-radius: 50%;\n",
              "      cursor: pointer;\n",
              "      display: none;\n",
              "      fill: #1967D2;\n",
              "      height: 32px;\n",
              "      padding: 0 0 0 0;\n",
              "      width: 32px;\n",
              "    }\n",
              "\n",
              "    .colab-df-convert:hover {\n",
              "      background-color: #E2EBFA;\n",
              "      box-shadow: 0px 1px 2px rgba(60, 64, 67, 0.3), 0px 1px 3px 1px rgba(60, 64, 67, 0.15);\n",
              "      fill: #174EA6;\n",
              "    }\n",
              "\n",
              "    [theme=dark] .colab-df-convert {\n",
              "      background-color: #3B4455;\n",
              "      fill: #D2E3FC;\n",
              "    }\n",
              "\n",
              "    [theme=dark] .colab-df-convert:hover {\n",
              "      background-color: #434B5C;\n",
              "      box-shadow: 0px 1px 3px 1px rgba(0, 0, 0, 0.15);\n",
              "      filter: drop-shadow(0px 1px 2px rgba(0, 0, 0, 0.3));\n",
              "      fill: #FFFFFF;\n",
              "    }\n",
              "  </style>\n",
              "\n",
              "      <script>\n",
              "        const buttonEl =\n",
              "          document.querySelector('#df-4ebe6c9c-8971-488f-b04e-ed77c23020a2 button.colab-df-convert');\n",
              "        buttonEl.style.display =\n",
              "          google.colab.kernel.accessAllowed ? 'block' : 'none';\n",
              "\n",
              "        async function convertToInteractive(key) {\n",
              "          const element = document.querySelector('#df-4ebe6c9c-8971-488f-b04e-ed77c23020a2');\n",
              "          const dataTable =\n",
              "            await google.colab.kernel.invokeFunction('convertToInteractive',\n",
              "                                                     [key], {});\n",
              "          if (!dataTable) return;\n",
              "\n",
              "          const docLinkHtml = 'Like what you see? Visit the ' +\n",
              "            '<a target=\"_blank\" href=https://colab.research.google.com/notebooks/data_table.ipynb>data table notebook</a>'\n",
              "            + ' to learn more about interactive tables.';\n",
              "          element.innerHTML = '';\n",
              "          dataTable['output_type'] = 'display_data';\n",
              "          await google.colab.output.renderOutput(dataTable, element);\n",
              "          const docLink = document.createElement('div');\n",
              "          docLink.innerHTML = docLinkHtml;\n",
              "          element.appendChild(docLink);\n",
              "        }\n",
              "      </script>\n",
              "    </div>\n",
              "  </div>\n",
              "  "
            ],
            "text/plain": [
              "              ibc  unemployment\n",
              "date                           \n",
              "2017-01-15  101.5     37.034999\n",
              "2017-01-22  101.5     37.106183\n",
              "2017-01-29  101.5     37.177367\n",
              "2017-02-05  102.3     37.248552\n",
              "2017-02-12  102.3     37.319736\n",
              "...           ...           ...\n",
              "2021-10-31   89.8     44.201839\n",
              "2021-11-07   93.6     43.906232\n",
              "2021-11-14   93.6     43.610624\n",
              "2021-11-21   93.6     43.315017\n",
              "2021-11-28   93.6     43.019409\n",
              "\n",
              "[255 rows x 2 columns]"
            ]
          },
          "metadata": {},
          "execution_count": 282
        }
      ]
    },
    {
      "cell_type": "code",
      "source": [
        "plt.plot(tm.predict(XX))"
      ],
      "metadata": {
        "colab": {
          "base_uri": "https://localhost:8080/",
          "height": 417
        },
        "id": "vSF9e01dLqrH",
        "outputId": "8c18a758-4b17-4c76-f26f-0532c465caa7"
      },
      "execution_count": 283,
      "outputs": [
        {
          "output_type": "stream",
          "name": "stderr",
          "text": [
            "/usr/local/lib/python3.7/dist-packages/sklearn/base.py:493: FutureWarning: The feature names should match those that were passed during fit. Starting version 1.2, an error will be raised.\n",
            "Feature names unseen at fit time:\n",
            "- ibc\n",
            "Feature names seen at fit time, yet now missing:\n",
            "- Coincident Index\n",
            "\n",
            "  warnings.warn(message, FutureWarning)\n"
          ]
        },
        {
          "output_type": "execute_result",
          "data": {
            "text/plain": [
              "[<matplotlib.lines.Line2D at 0x7fd15de002d0>]"
            ]
          },
          "metadata": {},
          "execution_count": 283
        },
        {
          "output_type": "display_data",
          "data": {
            "image/png": "[encoded data removed]",
            "text/plain": [
              "<Figure size 432x288 with 1 Axes>"
            ]
          },
          "metadata": {
            "needs_background": "light"
          }
        }
      ]
    },
    {
      "cell_type": "code",
      "source": [
        "plt.plot(ts.iloc[156:,0:1])"
      ],
      "metadata": {
        "colab": {
          "base_uri": "https://localhost:8080/",
          "height": 284
        },
        "id": "5Ay-R69PTYOG",
        "outputId": "89993dab-772d-4634-ff66-6f83d5cccc07"
      },
      "execution_count": 285,
      "outputs": [
        {
          "output_type": "execute_result",
          "data": {
            "text/plain": [
              "[<matplotlib.lines.Line2D at 0x7fd15de11ed0>]"
            ]
          },
          "metadata": {},
          "execution_count": 285
        },
        {
          "output_type": "display_data",
          "data": {
            "image/png": "[encoded data removed]",
            "text/plain": [
              "<Figure size 432x288 with 1 Axes>"
            ]
          },
          "metadata": {
            "needs_background": "light"
          }
        }
      ]
    },
    {
      "cell_type": "markdown",
      "metadata": {
        "id": "V32oTQrx6K2j"
      },
      "source": [
        "### RNN-LSTM"
      ]
    },
    {
      "cell_type": "code",
      "execution_count": 262,
      "metadata": {
        "scrolled": true,
        "id": "jF_4vrjN6K2l",
        "outputId": "923e8e3c-115c-4756-d0db-b34591bafdca",
        "colab": {
          "base_uri": "https://localhost:8080/",
          "height": 235
        }
      },
      "outputs": [
        {
          "output_type": "execute_result",
          "data": {
            "text/html": [
              "\n",
              "  <div id=\"df-af88b82f-7a37-42b4-805c-14a305226479\">\n",
              "    <div class=\"colab-df-container\">\n",
              "      <div>\n",
              "<style scoped>\n",
              "    .dataframe tbody tr th:only-of-type {\n",
              "        vertical-align: middle;\n",
              "    }\n",
              "\n",
              "    .dataframe tbody tr th {\n",
              "        vertical-align: top;\n",
              "    }\n",
              "\n",
              "    .dataframe thead th {\n",
              "        text-align: right;\n",
              "    }\n",
              "</style>\n",
              "<table border=\"1\" class=\"dataframe\">\n",
              "  <thead>\n",
              "    <tr style=\"text-align: right;\">\n",
              "      <th></th>\n",
              "      <th>Coincident Index</th>\n",
              "      <th>unemployment</th>\n",
              "    </tr>\n",
              "    <tr>\n",
              "      <th>time</th>\n",
              "      <th></th>\n",
              "      <th></th>\n",
              "    </tr>\n",
              "  </thead>\n",
              "  <tbody>\n",
              "    <tr>\n",
              "      <th>2021-07-01</th>\n",
              "      <td>94.0</td>\n",
              "      <td>59.731983</td>\n",
              "    </tr>\n",
              "    <tr>\n",
              "      <th>2021-08-01</th>\n",
              "      <td>91.0</td>\n",
              "      <td>59.016220</td>\n",
              "    </tr>\n",
              "    <tr>\n",
              "      <th>2021-09-01</th>\n",
              "      <td>88.7</td>\n",
              "      <td>58.300456</td>\n",
              "    </tr>\n",
              "    <tr>\n",
              "      <th>2021-10-01</th>\n",
              "      <td>89.8</td>\n",
              "      <td>57.584693</td>\n",
              "    </tr>\n",
              "    <tr>\n",
              "      <th>2021-11-01</th>\n",
              "      <td>93.6</td>\n",
              "      <td>56.868930</td>\n",
              "    </tr>\n",
              "  </tbody>\n",
              "</table>\n",
              "</div>\n",
              "      <button class=\"colab-df-convert\" onclick=\"convertToInteractive('df-af88b82f-7a37-42b4-805c-14a305226479')\"\n",
              "              title=\"Convert this dataframe to an interactive table.\"\n",
              "              style=\"display:none;\">\n",
              "        \n",
              "  <svg xmlns=\"http://www.w3.org/2000/svg\" height=\"24px\"viewBox=\"0 0 24 24\"\n",
              "       width=\"24px\">\n",
              "    <path d=\"M0 0h24v24H0V0z\" fill=\"none\"/>\n",
              "    <path d=\"M18.56 5.44l.94 2.06.94-2.06 2.06-.94-2.06-.94-.94-2.06-.94 2.06-2.06.94zm-11 1L8.5 8.5l.94-2.06 2.06-.94-2.06-.94L8.5 2.5l-.94 2.06-2.06.94zm10 10l.94 2.06.94-2.06 2.06-.94-2.06-.94-.94-2.06-.94 2.06-2.06.94z\"/><path d=\"M17.41 7.96l-1.37-1.37c-.4-.4-.92-.59-1.43-.59-.52 0-1.04.2-1.43.59L10.3 9.45l-7.72 7.72c-.78.78-.78 2.05 0 2.83L4 21.41c.39.39.9.59 1.41.59.51 0 1.02-.2 1.41-.59l7.78-7.78 2.81-2.81c.8-.78.8-2.07 0-2.86zM5.41 20L4 18.59l7.72-7.72 1.47 1.35L5.41 20z\"/>\n",
              "  </svg>\n",
              "      </button>\n",
              "      \n",
              "  <style>\n",
              "    .colab-df-container {\n",
              "      display:flex;\n",
              "      flex-wrap:wrap;\n",
              "      gap: 12px;\n",
              "    }\n",
              "\n",
              "    .colab-df-convert {\n",
              "      background-color: #E8F0FE;\n",
              "      border: none;\n",
              "      border-radius: 50%;\n",
              "      cursor: pointer;\n",
              "      display: none;\n",
              "      fill: #1967D2;\n",
              "      height: 32px;\n",
              "      padding: 0 0 0 0;\n",
              "      width: 32px;\n",
              "    }\n",
              "\n",
              "    .colab-df-convert:hover {\n",
              "      background-color: #E2EBFA;\n",
              "      box-shadow: 0px 1px 2px rgba(60, 64, 67, 0.3), 0px 1px 3px 1px rgba(60, 64, 67, 0.15);\n",
              "      fill: #174EA6;\n",
              "    }\n",
              "\n",
              "    [theme=dark] .colab-df-convert {\n",
              "      background-color: #3B4455;\n",
              "      fill: #D2E3FC;\n",
              "    }\n",
              "\n",
              "    [theme=dark] .colab-df-convert:hover {\n",
              "      background-color: #434B5C;\n",
              "      box-shadow: 0px 1px 3px 1px rgba(0, 0, 0, 0.15);\n",
              "      filter: drop-shadow(0px 1px 2px rgba(0, 0, 0, 0.3));\n",
              "      fill: #FFFFFF;\n",
              "    }\n",
              "  </style>\n",
              "\n",
              "      <script>\n",
              "        const buttonEl =\n",
              "          document.querySelector('#df-af88b82f-7a37-42b4-805c-14a305226479 button.colab-df-convert');\n",
              "        buttonEl.style.display =\n",
              "          google.colab.kernel.accessAllowed ? 'block' : 'none';\n",
              "\n",
              "        async function convertToInteractive(key) {\n",
              "          const element = document.querySelector('#df-af88b82f-7a37-42b4-805c-14a305226479');\n",
              "          const dataTable =\n",
              "            await google.colab.kernel.invokeFunction('convertToInteractive',\n",
              "                                                     [key], {});\n",
              "          if (!dataTable) return;\n",
              "\n",
              "          const docLinkHtml = 'Like what you see? Visit the ' +\n",
              "            '<a target=\"_blank\" href=https://colab.research.google.com/notebooks/data_table.ipynb>data table notebook</a>'\n",
              "            + ' to learn more about interactive tables.';\n",
              "          element.innerHTML = '';\n",
              "          dataTable['output_type'] = 'display_data';\n",
              "          await google.colab.output.renderOutput(dataTable, element);\n",
              "          const docLink = document.createElement('div');\n",
              "          docLink.innerHTML = docLinkHtml;\n",
              "          element.appendChild(docLink);\n",
              "        }\n",
              "      </script>\n",
              "    </div>\n",
              "  </div>\n",
              "  "
            ],
            "text/plain": [
              "            Coincident Index  unemployment\n",
              "time                                      \n",
              "2021-07-01              94.0     59.731983\n",
              "2021-08-01              91.0     59.016220\n",
              "2021-09-01              88.7     58.300456\n",
              "2021-10-01              89.8     57.584693\n",
              "2021-11-01              93.6     56.868930"
            ]
          },
          "metadata": {},
          "execution_count": 262
        }
      ],
      "source": [
        "# set the dataset\n",
        "features = pd.concat([ts['Coincident Index'], ts.iloc[:,2:3]], axis=1)\n",
        "features.tail()"
      ]
    },
    {
      "cell_type": "code",
      "execution_count": 263,
      "metadata": {
        "id": "gbQ3LWOu6K2p",
        "outputId": "7cec0c48-ada5-4b93-c45e-ac1cc764c90d",
        "colab": {
          "base_uri": "https://localhost:8080/"
        }
      },
      "outputs": [
        {
          "output_type": "stream",
          "name": "stdout",
          "text": [
            "172\n"
          ]
        }
      ],
      "source": [
        "# set training percentage\n",
        "TRAIN_SPLIT = round(0.8*len(features))\n",
        "print(TRAIN_SPLIT)\n",
        "\n",
        "# feature scaling\n",
        "dataset = features.values\n",
        "data_mean = dataset[:TRAIN_SPLIT].mean(axis=0)\n",
        "data_std = dataset[:TRAIN_SPLIT].std(axis=0)\n",
        "dataset = (dataset-data_mean)/data_std"
      ]
    },
    {
      "cell_type": "code",
      "execution_count": 264,
      "metadata": {
        "id": "XxhteUtn6K2t"
      },
      "outputs": [],
      "source": [
        "# create the training and test data\n",
        "\n",
        "past_history = 3\n",
        "future_target = 0\n",
        "STEP = 1\n",
        "\n",
        "x_train_single, y_train_single = multivariate_data(dataset, dataset[:,0], 0, TRAIN_SPLIT, past_history, future_target, STEP, single_step=True)\n",
        "x_val_single, y_val_single = multivariate_data(dataset, dataset[:,0], TRAIN_SPLIT, None, past_history, future_target, STEP, single_step=True)"
      ]
    },
    {
      "cell_type": "code",
      "execution_count": 265,
      "metadata": {
        "scrolled": true,
        "id": "rQtNe9rH6K2w",
        "outputId": "98a33458-e89d-420b-a14f-cdea2b473a1e",
        "colab": {
          "base_uri": "https://localhost:8080/",
          "height": 266
        }
      },
      "outputs": [
        {
          "output_type": "execute_result",
          "data": {
            "text/html": [
              "\n",
              "  <div id=\"df-fbf64f65-00a2-4c58-ace3-2b3b3c9031e9\">\n",
              "    <div class=\"colab-df-container\">\n",
              "      <div>\n",
              "<style scoped>\n",
              "    .dataframe tbody tr th:only-of-type {\n",
              "        vertical-align: middle;\n",
              "    }\n",
              "\n",
              "    .dataframe tbody tr th {\n",
              "        vertical-align: top;\n",
              "    }\n",
              "\n",
              "    .dataframe thead th {\n",
              "        text-align: right;\n",
              "    }\n",
              "</style>\n",
              "<table border=\"1\" class=\"dataframe\">\n",
              "  <thead>\n",
              "    <tr style=\"text-align: right;\">\n",
              "      <th></th>\n",
              "      <th>0</th>\n",
              "      <th>1</th>\n",
              "    </tr>\n",
              "  </thead>\n",
              "  <tbody>\n",
              "    <tr>\n",
              "      <th>0</th>\n",
              "      <td>0.032678</td>\n",
              "      <td>-0.834625</td>\n",
              "    </tr>\n",
              "    <tr>\n",
              "      <th>1</th>\n",
              "      <td>0.006228</td>\n",
              "      <td>-0.784105</td>\n",
              "    </tr>\n",
              "    <tr>\n",
              "      <th>2</th>\n",
              "      <td>0.019453</td>\n",
              "      <td>-0.733585</td>\n",
              "    </tr>\n",
              "    <tr>\n",
              "      <th>3</th>\n",
              "      <td>0.151705</td>\n",
              "      <td>-0.683064</td>\n",
              "    </tr>\n",
              "    <tr>\n",
              "      <th>4</th>\n",
              "      <td>0.125255</td>\n",
              "      <td>-0.632544</td>\n",
              "    </tr>\n",
              "    <tr>\n",
              "      <th>5</th>\n",
              "      <td>0.244281</td>\n",
              "      <td>-0.582024</td>\n",
              "    </tr>\n",
              "    <tr>\n",
              "      <th>6</th>\n",
              "      <td>0.402984</td>\n",
              "      <td>-0.687368</td>\n",
              "    </tr>\n",
              "  </tbody>\n",
              "</table>\n",
              "</div>\n",
              "      <button class=\"colab-df-convert\" onclick=\"convertToInteractive('df-fbf64f65-00a2-4c58-ace3-2b3b3c9031e9')\"\n",
              "              title=\"Convert this dataframe to an interactive table.\"\n",
              "              style=\"display:none;\">\n",
              "        \n",
              "  <svg xmlns=\"http://www.w3.org/2000/svg\" height=\"24px\"viewBox=\"0 0 24 24\"\n",
              "       width=\"24px\">\n",
              "    <path d=\"M0 0h24v24H0V0z\" fill=\"none\"/>\n",
              "    <path d=\"M18.56 5.44l.94 2.06.94-2.06 2.06-.94-2.06-.94-.94-2.06-.94 2.06-2.06.94zm-11 1L8.5 8.5l.94-2.06 2.06-.94-2.06-.94L8.5 2.5l-.94 2.06-2.06.94zm10 10l.94 2.06.94-2.06 2.06-.94-2.06-.94-.94-2.06-.94 2.06-2.06.94z\"/><path d=\"M17.41 7.96l-1.37-1.37c-.4-.4-.92-.59-1.43-.59-.52 0-1.04.2-1.43.59L10.3 9.45l-7.72 7.72c-.78.78-.78 2.05 0 2.83L4 21.41c.39.39.9.59 1.41.59.51 0 1.02-.2 1.41-.59l7.78-7.78 2.81-2.81c.8-.78.8-2.07 0-2.86zM5.41 20L4 18.59l7.72-7.72 1.47 1.35L5.41 20z\"/>\n",
              "  </svg>\n",
              "      </button>\n",
              "      \n",
              "  <style>\n",
              "    .colab-df-container {\n",
              "      display:flex;\n",
              "      flex-wrap:wrap;\n",
              "      gap: 12px;\n",
              "    }\n",
              "\n",
              "    .colab-df-convert {\n",
              "      background-color: #E8F0FE;\n",
              "      border: none;\n",
              "      border-radius: 50%;\n",
              "      cursor: pointer;\n",
              "      display: none;\n",
              "      fill: #1967D2;\n",
              "      height: 32px;\n",
              "      padding: 0 0 0 0;\n",
              "      width: 32px;\n",
              "    }\n",
              "\n",
              "    .colab-df-convert:hover {\n",
              "      background-color: #E2EBFA;\n",
              "      box-shadow: 0px 1px 2px rgba(60, 64, 67, 0.3), 0px 1px 3px 1px rgba(60, 64, 67, 0.15);\n",
              "      fill: #174EA6;\n",
              "    }\n",
              "\n",
              "    [theme=dark] .colab-df-convert {\n",
              "      background-color: #3B4455;\n",
              "      fill: #D2E3FC;\n",
              "    }\n",
              "\n",
              "    [theme=dark] .colab-df-convert:hover {\n",
              "      background-color: #434B5C;\n",
              "      box-shadow: 0px 1px 3px 1px rgba(0, 0, 0, 0.15);\n",
              "      filter: drop-shadow(0px 1px 2px rgba(0, 0, 0, 0.3));\n",
              "      fill: #FFFFFF;\n",
              "    }\n",
              "  </style>\n",
              "\n",
              "      <script>\n",
              "        const buttonEl =\n",
              "          document.querySelector('#df-fbf64f65-00a2-4c58-ace3-2b3b3c9031e9 button.colab-df-convert');\n",
              "        buttonEl.style.display =\n",
              "          google.colab.kernel.accessAllowed ? 'block' : 'none';\n",
              "\n",
              "        async function convertToInteractive(key) {\n",
              "          const element = document.querySelector('#df-fbf64f65-00a2-4c58-ace3-2b3b3c9031e9');\n",
              "          const dataTable =\n",
              "            await google.colab.kernel.invokeFunction('convertToInteractive',\n",
              "                                                     [key], {});\n",
              "          if (!dataTable) return;\n",
              "\n",
              "          const docLinkHtml = 'Like what you see? Visit the ' +\n",
              "            '<a target=\"_blank\" href=https://colab.research.google.com/notebooks/data_table.ipynb>data table notebook</a>'\n",
              "            + ' to learn more about interactive tables.';\n",
              "          element.innerHTML = '';\n",
              "          dataTable['output_type'] = 'display_data';\n",
              "          await google.colab.output.renderOutput(dataTable, element);\n",
              "          const docLink = document.createElement('div');\n",
              "          docLink.innerHTML = docLinkHtml;\n",
              "          element.appendChild(docLink);\n",
              "        }\n",
              "      </script>\n",
              "    </div>\n",
              "  </div>\n",
              "  "
            ],
            "text/plain": [
              "          0         1\n",
              "0  0.032678 -0.834625\n",
              "1  0.006228 -0.784105\n",
              "2  0.019453 -0.733585\n",
              "3  0.151705 -0.683064\n",
              "4  0.125255 -0.632544\n",
              "5  0.244281 -0.582024\n",
              "6  0.402984 -0.687368"
            ]
          },
          "metadata": {},
          "execution_count": 265
        }
      ],
      "source": [
        "pd.DataFrame(dataset).head(7)"
      ]
    },
    {
      "cell_type": "code",
      "execution_count": 266,
      "metadata": {
        "id": "0s3StVDs6K20",
        "outputId": "2f543cb6-78fd-4243-9ba7-502930c20160",
        "colab": {
          "base_uri": "https://localhost:8080/",
          "height": 173
        }
      },
      "outputs": [
        {
          "output_type": "execute_result",
          "data": {
            "text/html": [
              "\n",
              "  <div id=\"df-e028fd24-90fd-4d3c-a26d-aa84659f6bb8\">\n",
              "    <div class=\"colab-df-container\">\n",
              "      <div>\n",
              "<style scoped>\n",
              "    .dataframe tbody tr th:only-of-type {\n",
              "        vertical-align: middle;\n",
              "    }\n",
              "\n",
              "    .dataframe tbody tr th {\n",
              "        vertical-align: top;\n",
              "    }\n",
              "\n",
              "    .dataframe thead th {\n",
              "        text-align: right;\n",
              "    }\n",
              "</style>\n",
              "<table border=\"1\" class=\"dataframe\">\n",
              "  <thead>\n",
              "    <tr style=\"text-align: right;\">\n",
              "      <th></th>\n",
              "      <th>0</th>\n",
              "      <th>1</th>\n",
              "    </tr>\n",
              "  </thead>\n",
              "  <tbody>\n",
              "    <tr>\n",
              "      <th>0</th>\n",
              "      <td>0.032678</td>\n",
              "      <td>-0.834625</td>\n",
              "    </tr>\n",
              "    <tr>\n",
              "      <th>1</th>\n",
              "      <td>0.006228</td>\n",
              "      <td>-0.784105</td>\n",
              "    </tr>\n",
              "    <tr>\n",
              "      <th>2</th>\n",
              "      <td>0.019453</td>\n",
              "      <td>-0.733585</td>\n",
              "    </tr>\n",
              "    <tr>\n",
              "      <th>3</th>\n",
              "      <td>0.019453</td>\n",
              "      <td>-0.683064</td>\n",
              "    </tr>\n",
              "  </tbody>\n",
              "</table>\n",
              "</div>\n",
              "      <button class=\"colab-df-convert\" onclick=\"convertToInteractive('df-e028fd24-90fd-4d3c-a26d-aa84659f6bb8')\"\n",
              "              title=\"Convert this dataframe to an interactive table.\"\n",
              "              style=\"display:none;\">\n",
              "        \n",
              "  <svg xmlns=\"http://www.w3.org/2000/svg\" height=\"24px\"viewBox=\"0 0 24 24\"\n",
              "       width=\"24px\">\n",
              "    <path d=\"M0 0h24v24H0V0z\" fill=\"none\"/>\n",
              "    <path d=\"M18.56 5.44l.94 2.06.94-2.06 2.06-.94-2.06-.94-.94-2.06-.94 2.06-2.06.94zm-11 1L8.5 8.5l.94-2.06 2.06-.94-2.06-.94L8.5 2.5l-.94 2.06-2.06.94zm10 10l.94 2.06.94-2.06 2.06-.94-2.06-.94-.94-2.06-.94 2.06-2.06.94z\"/><path d=\"M17.41 7.96l-1.37-1.37c-.4-.4-.92-.59-1.43-.59-.52 0-1.04.2-1.43.59L10.3 9.45l-7.72 7.72c-.78.78-.78 2.05 0 2.83L4 21.41c.39.39.9.59 1.41.59.51 0 1.02-.2 1.41-.59l7.78-7.78 2.81-2.81c.8-.78.8-2.07 0-2.86zM5.41 20L4 18.59l7.72-7.72 1.47 1.35L5.41 20z\"/>\n",
              "  </svg>\n",
              "      </button>\n",
              "      \n",
              "  <style>\n",
              "    .colab-df-container {\n",
              "      display:flex;\n",
              "      flex-wrap:wrap;\n",
              "      gap: 12px;\n",
              "    }\n",
              "\n",
              "    .colab-df-convert {\n",
              "      background-color: #E8F0FE;\n",
              "      border: none;\n",
              "      border-radius: 50%;\n",
              "      cursor: pointer;\n",
              "      display: none;\n",
              "      fill: #1967D2;\n",
              "      height: 32px;\n",
              "      padding: 0 0 0 0;\n",
              "      width: 32px;\n",
              "    }\n",
              "\n",
              "    .colab-df-convert:hover {\n",
              "      background-color: #E2EBFA;\n",
              "      box-shadow: 0px 1px 2px rgba(60, 64, 67, 0.3), 0px 1px 3px 1px rgba(60, 64, 67, 0.15);\n",
              "      fill: #174EA6;\n",
              "    }\n",
              "\n",
              "    [theme=dark] .colab-df-convert {\n",
              "      background-color: #3B4455;\n",
              "      fill: #D2E3FC;\n",
              "    }\n",
              "\n",
              "    [theme=dark] .colab-df-convert:hover {\n",
              "      background-color: #434B5C;\n",
              "      box-shadow: 0px 1px 3px 1px rgba(0, 0, 0, 0.15);\n",
              "      filter: drop-shadow(0px 1px 2px rgba(0, 0, 0, 0.3));\n",
              "      fill: #FFFFFF;\n",
              "    }\n",
              "  </style>\n",
              "\n",
              "      <script>\n",
              "        const buttonEl =\n",
              "          document.querySelector('#df-e028fd24-90fd-4d3c-a26d-aa84659f6bb8 button.colab-df-convert');\n",
              "        buttonEl.style.display =\n",
              "          google.colab.kernel.accessAllowed ? 'block' : 'none';\n",
              "\n",
              "        async function convertToInteractive(key) {\n",
              "          const element = document.querySelector('#df-e028fd24-90fd-4d3c-a26d-aa84659f6bb8');\n",
              "          const dataTable =\n",
              "            await google.colab.kernel.invokeFunction('convertToInteractive',\n",
              "                                                     [key], {});\n",
              "          if (!dataTable) return;\n",
              "\n",
              "          const docLinkHtml = 'Like what you see? Visit the ' +\n",
              "            '<a target=\"_blank\" href=https://colab.research.google.com/notebooks/data_table.ipynb>data table notebook</a>'\n",
              "            + ' to learn more about interactive tables.';\n",
              "          element.innerHTML = '';\n",
              "          dataTable['output_type'] = 'display_data';\n",
              "          await google.colab.output.renderOutput(dataTable, element);\n",
              "          const docLink = document.createElement('div');\n",
              "          docLink.innerHTML = docLinkHtml;\n",
              "          element.appendChild(docLink);\n",
              "        }\n",
              "      </script>\n",
              "    </div>\n",
              "  </div>\n",
              "  "
            ],
            "text/plain": [
              "          0         1\n",
              "0  0.032678 -0.834625\n",
              "1  0.006228 -0.784105\n",
              "2  0.019453 -0.733585\n",
              "3  0.019453 -0.683064"
            ]
          },
          "metadata": {},
          "execution_count": 266
        }
      ],
      "source": [
        "pd.DataFrame(x_train_single[0])"
      ]
    },
    {
      "cell_type": "code",
      "execution_count": 267,
      "metadata": {
        "id": "FBTbWMJu6K24",
        "outputId": "6dd169ba-5415-4efb-dae3-9221dcf76cf0",
        "colab": {
          "base_uri": "https://localhost:8080/"
        }
      },
      "outputs": [
        {
          "output_type": "execute_result",
          "data": {
            "text/plain": [
              "0.15170511389896058"
            ]
          },
          "metadata": {},
          "execution_count": 267
        }
      ],
      "source": [
        "y_train_single[0]"
      ]
    },
    {
      "cell_type": "code",
      "execution_count": 268,
      "metadata": {
        "id": "AgcxGvnQ6K26"
      },
      "outputs": [],
      "source": [
        "BATCH_SIZE = 32\n",
        "BUFFER_SIZE = 100\n",
        "\n",
        "train_data_single = tf.data.Dataset.from_tensor_slices((x_train_single, y_train_single))\n",
        "train_data_single = train_data_single.cache().shuffle(BUFFER_SIZE).batch(BATCH_SIZE).repeat()\n",
        "\n",
        "val_data_single = tf.data.Dataset.from_tensor_slices((x_val_single, y_val_single))\n",
        "val_data_single = val_data_single.batch(BATCH_SIZE).repeat()"
      ]
    },
    {
      "cell_type": "code",
      "execution_count": 269,
      "metadata": {
        "id": "C_0dJQKl6K28",
        "colab": {
          "base_uri": "https://localhost:8080/"
        },
        "outputId": "b6e1fba1-5766-4b30-a9c8-84de19430e3d"
      },
      "outputs": [
        {
          "output_type": "stream",
          "name": "stderr",
          "text": [
            "/usr/local/lib/python3.7/dist-packages/keras/optimizer_v2/rmsprop.py:130: UserWarning: The `lr` argument is deprecated, use `learning_rate` instead.\n",
            "  super(RMSprop, self).__init__(name, **kwargs)\n"
          ]
        }
      ],
      "source": [
        "# construct the model\n",
        "\n",
        "single_step_model = tf.keras.models.Sequential()\n",
        "single_step_model.add(tf.keras.layers.LSTM(8, input_shape=x_train_single.shape[-2:]))\n",
        "#single_step_model.add(tf.keras.layers.LSTM(8, kernel_regularizer=l2(0.01), bias_regularizer=l2(0.01)))\n",
        "#single_step_model.add(tf.keras.layers.LSTM(8, dropout=0.2, recurrent_dropout=0.2, return_sequences=True))\n",
        "#single_step_model.add(tf.keras.layers.Bidirectional(tf.keras.layers.LSTM(4)))\n",
        "single_step_model.add(tf.keras.layers.Dense(1))\n",
        "\n",
        "single_step_model.compile(optimizer=tf.keras.optimizers.RMSprop(lr=0.0001), loss='mae')"
      ]
    },
    {
      "cell_type": "code",
      "execution_count": 270,
      "metadata": {
        "scrolled": true,
        "id": "5bXLhbN_6K29",
        "outputId": "0317d2fb-c7d8-4589-d82e-ffd774e8f1a9",
        "colab": {
          "base_uri": "https://localhost:8080/"
        }
      },
      "outputs": [
        {
          "output_type": "stream",
          "name": "stdout",
          "text": [
            "Epoch 1/10\n",
            "200/200 [==============================] - 3s 6ms/step - loss: 0.9384 - val_loss: 1.1023\n",
            "Epoch 2/10\n",
            "200/200 [==============================] - 1s 5ms/step - loss: 0.8192 - val_loss: 1.0174\n",
            "Epoch 3/10\n",
            "200/200 [==============================] - 1s 5ms/step - loss: 0.6996 - val_loss: 0.9410\n",
            "Epoch 4/10\n",
            "200/200 [==============================] - 1s 4ms/step - loss: 0.5811 - val_loss: 0.8722\n",
            "Epoch 5/10\n",
            "200/200 [==============================] - 1s 4ms/step - loss: 0.4819 - val_loss: 0.7950\n",
            "Epoch 6/10\n",
            "200/200 [==============================] - 1s 4ms/step - loss: 0.4024 - val_loss: 0.6946\n",
            "Epoch 7/10\n",
            "200/200 [==============================] - 1s 5ms/step - loss: 0.3346 - val_loss: 0.5815\n",
            "Epoch 8/10\n",
            "200/200 [==============================] - 1s 5ms/step - loss: 0.2786 - val_loss: 0.4801\n",
            "Epoch 9/10\n",
            "200/200 [==============================] - 1s 5ms/step - loss: 0.2463 - val_loss: 0.4079\n",
            "Epoch 10/10\n",
            "200/200 [==============================] - 1s 5ms/step - loss: 0.2303 - val_loss: 0.3663\n"
          ]
        }
      ],
      "source": [
        "# train the model\n",
        "single_step_history = single_step_model.fit(train_data_single, epochs=10, steps_per_epoch=200, validation_data=val_data_single, validation_steps=50)"
      ]
    },
    {
      "cell_type": "code",
      "execution_count": 271,
      "metadata": {
        "id": "Ok4qDpKj6K3A",
        "outputId": "5fb73d8c-8039-4743-c395-837ffdcb798e",
        "colab": {
          "base_uri": "https://localhost:8080/",
          "height": 80
        }
      },
      "outputs": [
        {
          "output_type": "execute_result",
          "data": {
            "text/html": [
              "\n",
              "  <div id=\"df-e1924635-2a61-4368-9771-547570d88c69\">\n",
              "    <div class=\"colab-df-container\">\n",
              "      <div>\n",
              "<style scoped>\n",
              "    .dataframe tbody tr th:only-of-type {\n",
              "        vertical-align: middle;\n",
              "    }\n",
              "\n",
              "    .dataframe tbody tr th {\n",
              "        vertical-align: top;\n",
              "    }\n",
              "\n",
              "    .dataframe thead th {\n",
              "        text-align: right;\n",
              "    }\n",
              "</style>\n",
              "<table border=\"1\" class=\"dataframe\">\n",
              "  <thead>\n",
              "    <tr style=\"text-align: right;\">\n",
              "      <th></th>\n",
              "      <th>accuracy</th>\n",
              "      <th>f1_score</th>\n",
              "      <th>precision</th>\n",
              "      <th>recall</th>\n",
              "      <th>mse</th>\n",
              "      <th>rmse</th>\n",
              "      <th>mae</th>\n",
              "      <th>r2</th>\n",
              "    </tr>\n",
              "  </thead>\n",
              "  <tbody>\n",
              "    <tr>\n",
              "      <th>0</th>\n",
              "      <td>0</td>\n",
              "      <td>0</td>\n",
              "      <td>0</td>\n",
              "      <td>0</td>\n",
              "      <td>0.335154</td>\n",
              "      <td>0.578925</td>\n",
              "      <td>0.366279</td>\n",
              "      <td>0.685128</td>\n",
              "    </tr>\n",
              "  </tbody>\n",
              "</table>\n",
              "</div>\n",
              "      <button class=\"colab-df-convert\" onclick=\"convertToInteractive('df-e1924635-2a61-4368-9771-547570d88c69')\"\n",
              "              title=\"Convert this dataframe to an interactive table.\"\n",
              "              style=\"display:none;\">\n",
              "        \n",
              "  <svg xmlns=\"http://www.w3.org/2000/svg\" height=\"24px\"viewBox=\"0 0 24 24\"\n",
              "       width=\"24px\">\n",
              "    <path d=\"M0 0h24v24H0V0z\" fill=\"none\"/>\n",
              "    <path d=\"M18.56 5.44l.94 2.06.94-2.06 2.06-.94-2.06-.94-.94-2.06-.94 2.06-2.06.94zm-11 1L8.5 8.5l.94-2.06 2.06-.94-2.06-.94L8.5 2.5l-.94 2.06-2.06.94zm10 10l.94 2.06.94-2.06 2.06-.94-2.06-.94-.94-2.06-.94 2.06-2.06.94z\"/><path d=\"M17.41 7.96l-1.37-1.37c-.4-.4-.92-.59-1.43-.59-.52 0-1.04.2-1.43.59L10.3 9.45l-7.72 7.72c-.78.78-.78 2.05 0 2.83L4 21.41c.39.39.9.59 1.41.59.51 0 1.02-.2 1.41-.59l7.78-7.78 2.81-2.81c.8-.78.8-2.07 0-2.86zM5.41 20L4 18.59l7.72-7.72 1.47 1.35L5.41 20z\"/>\n",
              "  </svg>\n",
              "      </button>\n",
              "      \n",
              "  <style>\n",
              "    .colab-df-container {\n",
              "      display:flex;\n",
              "      flex-wrap:wrap;\n",
              "      gap: 12px;\n",
              "    }\n",
              "\n",
              "    .colab-df-convert {\n",
              "      background-color: #E8F0FE;\n",
              "      border: none;\n",
              "      border-radius: 50%;\n",
              "      cursor: pointer;\n",
              "      display: none;\n",
              "      fill: #1967D2;\n",
              "      height: 32px;\n",
              "      padding: 0 0 0 0;\n",
              "      width: 32px;\n",
              "    }\n",
              "\n",
              "    .colab-df-convert:hover {\n",
              "      background-color: #E2EBFA;\n",
              "      box-shadow: 0px 1px 2px rgba(60, 64, 67, 0.3), 0px 1px 3px 1px rgba(60, 64, 67, 0.15);\n",
              "      fill: #174EA6;\n",
              "    }\n",
              "\n",
              "    [theme=dark] .colab-df-convert {\n",
              "      background-color: #3B4455;\n",
              "      fill: #D2E3FC;\n",
              "    }\n",
              "\n",
              "    [theme=dark] .colab-df-convert:hover {\n",
              "      background-color: #434B5C;\n",
              "      box-shadow: 0px 1px 3px 1px rgba(0, 0, 0, 0.15);\n",
              "      filter: drop-shadow(0px 1px 2px rgba(0, 0, 0, 0.3));\n",
              "      fill: #FFFFFF;\n",
              "    }\n",
              "  </style>\n",
              "\n",
              "      <script>\n",
              "        const buttonEl =\n",
              "          document.querySelector('#df-e1924635-2a61-4368-9771-547570d88c69 button.colab-df-convert');\n",
              "        buttonEl.style.display =\n",
              "          google.colab.kernel.accessAllowed ? 'block' : 'none';\n",
              "\n",
              "        async function convertToInteractive(key) {\n",
              "          const element = document.querySelector('#df-e1924635-2a61-4368-9771-547570d88c69');\n",
              "          const dataTable =\n",
              "            await google.colab.kernel.invokeFunction('convertToInteractive',\n",
              "                                                     [key], {});\n",
              "          if (!dataTable) return;\n",
              "\n",
              "          const docLinkHtml = 'Like what you see? Visit the ' +\n",
              "            '<a target=\"_blank\" href=https://colab.research.google.com/notebooks/data_table.ipynb>data table notebook</a>'\n",
              "            + ' to learn more about interactive tables.';\n",
              "          element.innerHTML = '';\n",
              "          dataTable['output_type'] = 'display_data';\n",
              "          await google.colab.output.renderOutput(dataTable, element);\n",
              "          const docLink = document.createElement('div');\n",
              "          docLink.innerHTML = docLinkHtml;\n",
              "          element.appendChild(docLink);\n",
              "        }\n",
              "      </script>\n",
              "    </div>\n",
              "  </div>\n",
              "  "
            ],
            "text/plain": [
              "   accuracy  f1_score  precision  ...      rmse       mae        r2\n",
              "0         0         0          0  ...  0.578925  0.366279  0.685128\n",
              "\n",
              "[1 rows x 8 columns]"
            ]
          },
          "metadata": {},
          "execution_count": 271
        }
      ],
      "source": [
        "# evaluate the model\n",
        "model_eval_metrics(y_val_single, single_step_model.predict(x_val_single), classification=\"FALSE\")"
      ]
    },
    {
      "cell_type": "code",
      "execution_count": 272,
      "metadata": {
        "scrolled": false,
        "id": "X7DSWWQb6K3E",
        "outputId": "802108b0-0ee9-426f-eaa0-a71b907c70dc",
        "colab": {
          "base_uri": "https://localhost:8080/",
          "height": 300
        }
      },
      "outputs": [
        {
          "output_type": "stream",
          "name": "stdout",
          "text": [
            "Test set score: 0.69\n"
          ]
        },
        {
          "output_type": "display_data",
          "data": {
            "image/png": "[encoded data removed]",
            "text/plain": [
              "<Figure size 432x288 with 1 Axes>"
            ]
          },
          "metadata": {
            "needs_background": "light"
          }
        }
      ],
      "source": [
        "# visualize the result\n",
        "\n",
        "plt.plot(y_val_single*data_std[0]+data_mean[0], label=\"actual\")\n",
        "plt.plot(single_step_model.predict(x_val_single)*data_std[0]+data_mean[0], \"r\", linestyle='--', label=\"predict\")\n",
        "plt.legend(loc='best')\n",
        "plt.title('RNN-LSTM: Level')\n",
        "plt.savefig(\"images/google_lstm.png\")\n",
        "\n",
        "print(\"Test set score: {:.2f}\".format(r2_score(y_val_single, single_step_model.predict(x_val_single))))"
      ]
    },
    {
      "cell_type": "code",
      "source": [
        "# load the weekly data\n",
        "dateparse = lambda dates: pd.datetime.strptime(dates, '%Y-%m-%d')\n",
        "XX = pd.read_csv('data/gtw_ibc.csv', index_col=0, date_parser=dateparse, dtype='float')\n"
      ],
      "metadata": {
        "colab": {
          "base_uri": "https://localhost:8080/"
        },
        "id": "dX0_CRkIUVRD",
        "outputId": "cb7594f6-541c-491a-ef2c-13b76f487b14"
      },
      "execution_count": 273,
      "outputs": [
        {
          "output_type": "stream",
          "name": "stderr",
          "text": [
            "/usr/local/lib/python3.7/dist-packages/ipykernel_launcher.py:2: FutureWarning: The pandas.datetime class is deprecated and will be removed from pandas in a future version. Import from datetime module instead.\n",
            "  \n"
          ]
        }
      ]
    },
    {
      "cell_type": "code",
      "source": [
        "# feature scaling\n",
        "dataset = XX.iloc[:255,:].values\n",
        "data_mean = dataset.mean(axis=0)\n",
        "data_std = dataset.std(axis=0)\n",
        "dataset = (dataset-data_mean)/data_std\n",
        "\n",
        "# create the test data\n",
        "x_single, y_single = multivariate_data(dataset, dataset[:,0], 0, None, past_history, future_target, STEP, single_step=True)\n",
        "\n",
        "# save the output\n",
        "past_estimate = pd.DataFrame(single_step_model.predict(x_single)*data_std[0]+data_mean[0])\n",
        "plt.plot(past_estimate, \"r\", linestyle='--', label=\"predict\")"
      ],
      "metadata": {
        "colab": {
          "base_uri": "https://localhost:8080/",
          "height": 284
        },
        "id": "HDbhAPQRUeIC",
        "outputId": "2e6a6f4f-31e7-46c4-aa83-ac027aba4484"
      },
      "execution_count": 274,
      "outputs": [
        {
          "output_type": "execute_result",
          "data": {
            "text/plain": [
              "[<matplotlib.lines.Line2D at 0x7fd15ddc5f90>]"
            ]
          },
          "metadata": {},
          "execution_count": 274
        },
        {
          "output_type": "display_data",
          "data": {
            "image/png": "[encoded data removed]",
            "text/plain": [
              "<Figure size 432x288 with 1 Axes>"
            ]
          },
          "metadata": {
            "needs_background": "light"
          }
        }
      ]
    },
    {
      "cell_type": "code",
      "source": [
        "plt.plot(ts.iloc[156:,0:1])"
      ],
      "metadata": {
        "colab": {
          "base_uri": "https://localhost:8080/",
          "height": 284
        },
        "id": "oaVqild0uNfY",
        "outputId": "78bda375-7fa8-4711-c373-a07b0a8bc07e"
      },
      "execution_count": 275,
      "outputs": [
        {
          "output_type": "execute_result",
          "data": {
            "text/plain": [
              "[<matplotlib.lines.Line2D at 0x7fd15de9f290>]"
            ]
          },
          "metadata": {},
          "execution_count": 275
        },
        {
          "output_type": "display_data",
          "data": {
            "image/png": "[encoded data removed]",
            "text/plain": [
              "<Figure size 432x288 with 1 Axes>"
            ]
          },
          "metadata": {
            "needs_background": "light"
          }
        }
      ]
    },
    {
      "cell_type": "code",
      "source": [
        "# nowcast the future IBC\n",
        "for i in range(255, 261):\n",
        "  XX.iat[i,0] = float(single_step_model.predict(x_single)[-1]*data_std[0]+data_mean[0])\n",
        "  #XX.iat[i,0] = XX.iat[i-1,0]\n",
        "  temp = XX.iloc[:i+1,:]\n",
        "  print(temp.tail())\n",
        "\n",
        "  # feature scaling\n",
        "  dataset = temp.values\n",
        "  data_mean = dataset.mean(axis=0)\n",
        "  data_std = dataset.std(axis=0)\n",
        "  dataset = (dataset-data_mean)/data_std\n",
        "  \n",
        "  # create the test data\n",
        "  x_single, y_single = multivariate_data(dataset, dataset[:,0], 0, None, past_history, future_target, STEP, single_step=True)\n",
        "\n",
        "  XX.iat[i,0] = float(single_step_model.predict(x_single)[-1]*data_std[0]+data_mean[0])\n",
        "  print(XX.tail(10))\n",
        "\n",
        "# save the output\n",
        "future_estimate = pd.DataFrame(XX.iloc[255:262,0])"
      ],
      "metadata": {
        "colab": {
          "base_uri": "https://localhost:8080/",
          "height": 1000
        },
        "id": "g7bDWewxUo7_",
        "outputId": "2e84308b-12ad-4be5-dcab-54c80d46db76"
      },
      "execution_count": 276,
      "outputs": [
        {
          "output_type": "stream",
          "name": "stdout",
          "text": [
            "                  ibc  unemployment\n",
            "date                               \n",
            "2021-11-07  93.600000     43.906232\n",
            "2021-11-14  93.600000     43.610624\n",
            "2021-11-21  93.600000     43.315017\n",
            "2021-11-28  93.600000     43.019409\n",
            "2021-12-05  93.403671     42.723801\n",
            "                  ibc  unemployment\n",
            "date                               \n",
            "2021-11-07  93.600000     43.906232\n",
            "2021-11-14  93.600000     43.610624\n",
            "2021-11-21  93.600000     43.315017\n",
            "2021-11-28  93.600000     43.019409\n",
            "2021-12-05  93.410812     42.723801\n",
            "2021-12-12        NaN     42.428194\n",
            "2021-12-19        NaN     42.132586\n",
            "2021-12-26        NaN     41.836978\n",
            "2022-01-02        NaN     41.541371\n",
            "2022-01-09        NaN     41.245763\n",
            "                  ibc  unemployment\n",
            "date                               \n",
            "2021-11-14  93.600000     43.610624\n",
            "2021-11-21  93.600000     43.315017\n",
            "2021-11-28  93.600000     43.019409\n",
            "2021-12-05  93.410812     42.723801\n",
            "2021-12-12  93.410812     42.428194\n",
            "                  ibc  unemployment\n",
            "date                               \n",
            "2021-11-07  93.600000     43.906232\n",
            "2021-11-14  93.600000     43.610624\n",
            "2021-11-21  93.600000     43.315017\n",
            "2021-11-28  93.600000     43.019409\n",
            "2021-12-05  93.410812     42.723801\n",
            "2021-12-12  93.331085     42.428194\n",
            "2021-12-19        NaN     42.132586\n",
            "2021-12-26        NaN     41.836978\n",
            "2022-01-02        NaN     41.541371\n",
            "2022-01-09        NaN     41.245763\n",
            "                  ibc  unemployment\n",
            "date                               \n",
            "2021-11-21  93.600000     43.315017\n",
            "2021-11-28  93.600000     43.019409\n",
            "2021-12-05  93.410812     42.723801\n",
            "2021-12-12  93.331085     42.428194\n",
            "2021-12-19  93.331085     42.132586\n",
            "                  ibc  unemployment\n",
            "date                               \n",
            "2021-11-07  93.600000     43.906232\n",
            "2021-11-14  93.600000     43.610624\n",
            "2021-11-21  93.600000     43.315017\n",
            "2021-11-28  93.600000     43.019409\n",
            "2021-12-05  93.410812     42.723801\n",
            "2021-12-12  93.331085     42.428194\n",
            "2021-12-19  93.261200     42.132586\n",
            "2021-12-26        NaN     41.836978\n",
            "2022-01-02        NaN     41.541371\n",
            "2022-01-09        NaN     41.245763\n",
            "                  ibc  unemployment\n",
            "date                               \n",
            "2021-11-28  93.600000     43.019409\n",
            "2021-12-05  93.410812     42.723801\n",
            "2021-12-12  93.331085     42.428194\n",
            "2021-12-19  93.261200     42.132586\n",
            "2021-12-26  93.261200     41.836978\n",
            "                  ibc  unemployment\n",
            "date                               \n",
            "2021-11-07  93.600000     43.906232\n",
            "2021-11-14  93.600000     43.610624\n",
            "2021-11-21  93.600000     43.315017\n",
            "2021-11-28  93.600000     43.019409\n",
            "2021-12-05  93.410812     42.723801\n",
            "2021-12-12  93.331085     42.428194\n",
            "2021-12-19  93.261200     42.132586\n",
            "2021-12-26  93.181564     41.836978\n",
            "2022-01-02        NaN     41.541371\n",
            "2022-01-09        NaN     41.245763\n",
            "                  ibc  unemployment\n",
            "date                               \n",
            "2021-12-05  93.410812     42.723801\n",
            "2021-12-12  93.331085     42.428194\n",
            "2021-12-19  93.261200     42.132586\n",
            "2021-12-26  93.181564     41.836978\n",
            "2022-01-02  93.181564     41.541371\n",
            "                  ibc  unemployment\n",
            "date                               \n",
            "2021-11-07  93.600000     43.906232\n",
            "2021-11-14  93.600000     43.610624\n",
            "2021-11-21  93.600000     43.315017\n",
            "2021-11-28  93.600000     43.019409\n",
            "2021-12-05  93.410812     42.723801\n",
            "2021-12-12  93.331085     42.428194\n",
            "2021-12-19  93.261200     42.132586\n",
            "2021-12-26  93.181564     41.836978\n",
            "2022-01-02  93.122536     41.541371\n",
            "2022-01-09        NaN     41.245763\n",
            "                  ibc  unemployment\n",
            "date                               \n",
            "2021-12-12  93.331085     42.428194\n",
            "2021-12-19  93.261200     42.132586\n",
            "2021-12-26  93.181564     41.836978\n",
            "2022-01-02  93.122536     41.541371\n",
            "2022-01-09  93.122536     41.245763\n",
            "                  ibc  unemployment\n",
            "date                               \n",
            "2021-11-07  93.600000     43.906232\n",
            "2021-11-14  93.600000     43.610624\n",
            "2021-11-21  93.600000     43.315017\n",
            "2021-11-28  93.600000     43.019409\n",
            "2021-12-05  93.410812     42.723801\n",
            "2021-12-12  93.331085     42.428194\n",
            "2021-12-19  93.261200     42.132586\n",
            "2021-12-26  93.181564     41.836978\n",
            "2022-01-02  93.122536     41.541371\n",
            "2022-01-09  93.072815     41.245763\n"
          ]
        },
        {
          "output_type": "execute_result",
          "data": {
            "text/html": [
              "\n",
              "  <div id=\"df-6500d7dc-5ab9-4918-9ab6-447e66c954cb\">\n",
              "    <div class=\"colab-df-container\">\n",
              "      <div>\n",
              "<style scoped>\n",
              "    .dataframe tbody tr th:only-of-type {\n",
              "        vertical-align: middle;\n",
              "    }\n",
              "\n",
              "    .dataframe tbody tr th {\n",
              "        vertical-align: top;\n",
              "    }\n",
              "\n",
              "    .dataframe thead th {\n",
              "        text-align: right;\n",
              "    }\n",
              "</style>\n",
              "<table border=\"1\" class=\"dataframe\">\n",
              "  <thead>\n",
              "    <tr style=\"text-align: right;\">\n",
              "      <th></th>\n",
              "      <th>ibc</th>\n",
              "    </tr>\n",
              "    <tr>\n",
              "      <th>date</th>\n",
              "      <th></th>\n",
              "    </tr>\n",
              "  </thead>\n",
              "  <tbody>\n",
              "    <tr>\n",
              "      <th>2021-12-05</th>\n",
              "      <td>93.410812</td>\n",
              "    </tr>\n",
              "    <tr>\n",
              "      <th>2021-12-12</th>\n",
              "      <td>93.331085</td>\n",
              "    </tr>\n",
              "    <tr>\n",
              "      <th>2021-12-19</th>\n",
              "      <td>93.261200</td>\n",
              "    </tr>\n",
              "    <tr>\n",
              "      <th>2021-12-26</th>\n",
              "      <td>93.181564</td>\n",
              "    </tr>\n",
              "    <tr>\n",
              "      <th>2022-01-02</th>\n",
              "      <td>93.122536</td>\n",
              "    </tr>\n",
              "    <tr>\n",
              "      <th>2022-01-09</th>\n",
              "      <td>93.072815</td>\n",
              "    </tr>\n",
              "  </tbody>\n",
              "</table>\n",
              "</div>\n",
              "      <button class=\"colab-df-convert\" onclick=\"convertToInteractive('df-6500d7dc-5ab9-4918-9ab6-447e66c954cb')\"\n",
              "              title=\"Convert this dataframe to an interactive table.\"\n",
              "              style=\"display:none;\">\n",
              "        \n",
              "  <svg xmlns=\"http://www.w3.org/2000/svg\" height=\"24px\"viewBox=\"0 0 24 24\"\n",
              "       width=\"24px\">\n",
              "    <path d=\"M0 0h24v24H0V0z\" fill=\"none\"/>\n",
              "    <path d=\"M18.56 5.44l.94 2.06.94-2.06 2.06-.94-2.06-.94-.94-2.06-.94 2.06-2.06.94zm-11 1L8.5 8.5l.94-2.06 2.06-.94-2.06-.94L8.5 2.5l-.94 2.06-2.06.94zm10 10l.94 2.06.94-2.06 2.06-.94-2.06-.94-.94-2.06-.94 2.06-2.06.94z\"/><path d=\"M17.41 7.96l-1.37-1.37c-.4-.4-.92-.59-1.43-.59-.52 0-1.04.2-1.43.59L10.3 9.45l-7.72 7.72c-.78.78-.78 2.05 0 2.83L4 21.41c.39.39.9.59 1.41.59.51 0 1.02-.2 1.41-.59l7.78-7.78 2.81-2.81c.8-.78.8-2.07 0-2.86zM5.41 20L4 18.59l7.72-7.72 1.47 1.35L5.41 20z\"/>\n",
              "  </svg>\n",
              "      </button>\n",
              "      \n",
              "  <style>\n",
              "    .colab-df-container {\n",
              "      display:flex;\n",
              "      flex-wrap:wrap;\n",
              "      gap: 12px;\n",
              "    }\n",
              "\n",
              "    .colab-df-convert {\n",
              "      background-color: #E8F0FE;\n",
              "      border: none;\n",
              "      border-radius: 50%;\n",
              "      cursor: pointer;\n",
              "      display: none;\n",
              "      fill: #1967D2;\n",
              "      height: 32px;\n",
              "      padding: 0 0 0 0;\n",
              "      width: 32px;\n",
              "    }\n",
              "\n",
              "    .colab-df-convert:hover {\n",
              "      background-color: #E2EBFA;\n",
              "      box-shadow: 0px 1px 2px rgba(60, 64, 67, 0.3), 0px 1px 3px 1px rgba(60, 64, 67, 0.15);\n",
              "      fill: #174EA6;\n",
              "    }\n",
              "\n",
              "    [theme=dark] .colab-df-convert {\n",
              "      background-color: #3B4455;\n",
              "      fill: #D2E3FC;\n",
              "    }\n",
              "\n",
              "    [theme=dark] .colab-df-convert:hover {\n",
              "      background-color: #434B5C;\n",
              "      box-shadow: 0px 1px 3px 1px rgba(0, 0, 0, 0.15);\n",
              "      filter: drop-shadow(0px 1px 2px rgba(0, 0, 0, 0.3));\n",
              "      fill: #FFFFFF;\n",
              "    }\n",
              "  </style>\n",
              "\n",
              "      <script>\n",
              "        const buttonEl =\n",
              "          document.querySelector('#df-6500d7dc-5ab9-4918-9ab6-447e66c954cb button.colab-df-convert');\n",
              "        buttonEl.style.display =\n",
              "          google.colab.kernel.accessAllowed ? 'block' : 'none';\n",
              "\n",
              "        async function convertToInteractive(key) {\n",
              "          const element = document.querySelector('#df-6500d7dc-5ab9-4918-9ab6-447e66c954cb');\n",
              "          const dataTable =\n",
              "            await google.colab.kernel.invokeFunction('convertToInteractive',\n",
              "                                                     [key], {});\n",
              "          if (!dataTable) return;\n",
              "\n",
              "          const docLinkHtml = 'Like what you see? Visit the ' +\n",
              "            '<a target=\"_blank\" href=https://colab.research.google.com/notebooks/data_table.ipynb>data table notebook</a>'\n",
              "            + ' to learn more about interactive tables.';\n",
              "          element.innerHTML = '';\n",
              "          dataTable['output_type'] = 'display_data';\n",
              "          await google.colab.output.renderOutput(dataTable, element);\n",
              "          const docLink = document.createElement('div');\n",
              "          docLink.innerHTML = docLinkHtml;\n",
              "          element.appendChild(docLink);\n",
              "        }\n",
              "      </script>\n",
              "    </div>\n",
              "  </div>\n",
              "  "
            ],
            "text/plain": [
              "                  ibc\n",
              "date                 \n",
              "2021-12-05  93.410812\n",
              "2021-12-12  93.331085\n",
              "2021-12-19  93.261200\n",
              "2021-12-26  93.181564\n",
              "2022-01-02  93.122536\n",
              "2022-01-09  93.072815"
            ]
          },
          "metadata": {},
          "execution_count": 276
        }
      ]
    },
    {
      "cell_type": "code",
      "source": [
        "#plt.plot(XX.iloc[52:112,0], \"r\", linestyle='--', label=\"predict\")\n",
        "plt.plot(single_step_model.predict(x_single)*data_std[0]+data_mean[0], \"r\", linestyle='--', label=\"predict\")"
      ],
      "metadata": {
        "colab": {
          "base_uri": "https://localhost:8080/",
          "height": 284
        },
        "id": "x7TLtfvrUxGf",
        "outputId": "9428d16b-9bb2-4656-d302-9010121aa044"
      },
      "execution_count": 277,
      "outputs": [
        {
          "output_type": "execute_result",
          "data": {
            "text/plain": [
              "[<matplotlib.lines.Line2D at 0x7fd15db832d0>]"
            ]
          },
          "metadata": {},
          "execution_count": 277
        },
        {
          "output_type": "display_data",
          "data": {
            "image/png": "[encoded data removed]",
            "text/plain": [
              "<Figure size 432x288 with 1 Axes>"
            ]
          },
          "metadata": {
            "needs_background": "light"
          }
        }
      ]
    },
    {
      "cell_type": "code",
      "source": [
        "new = past_estimate.set_axis(['ibc'], axis='columns')\n",
        "df_concat = pd.concat([new, future_estimate])\n",
        "df_concat\n",
        "#plt.plot(df_concat, \"r\", linestyle='--', label=\"predict\")"
      ],
      "metadata": {
        "id": "uj5G4K_2lyqj"
      },
      "execution_count": 278,
      "outputs": []
    }
  ],
  "metadata": {
    "kernelspec": {
      "display_name": "Python 3",
      "language": "python",
      "name": "python3"
    },
    "language_info": {
      "codemirror_mode": {
        "name": "ipython",
        "version": 3
      },
      "file_extension": ".py",
      "mimetype": "text/x-python",
      "name": "python",
      "nbconvert_exporter": "python",
      "pygments_lexer": "ipython3",
      "version": "3.7.4"
    },
    "colab": {
      "name": "nowcast.ipynb",
      "provenance": [],
      "collapsed_sections": [
        "xflSN4wChbhV",
        "Xr2PamD36Kv_",
        "hiNhjuF-wMpW",
        "WzHv9pQM6K1_",
        "SdD511OM6K2H",
        "PS4NW1Yp6K2O",
        "V32oTQrx6K2j",
        "Klc8ucqV6K3O",
        "HZaPMm-h6K3p",
        "-Hj7JiDF6K32",
        "oTGxVtCn6K3_",
        "e-Goq3qU6K4K",
        "bt9_B3OJ6K4S",
        "hDGFPW506K5E",
        "wz7rYgUU6K5h",
        "jw25VR9e6K5l",
        "qvNQXHc26K5t",
        "sssUeBbs6K5y"
      ],
      "include_colab_link": true
    }
  },
  "nbformat": 4,
  "nbformat_minor": 0
}