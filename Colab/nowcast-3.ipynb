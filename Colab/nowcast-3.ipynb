{
  "cells": [
    {
      "cell_type": "markdown",
      "metadata": {
        "id": "view-in-github",
        "colab_type": "text"
      },
      "source": [
        "<a href=\"https://colab.research.google.com/github/Taketo-Muroya/Nowcasting-Project/blob/main/Colab/nowcast-3.ipynb\" target=\"_parent\"><img src=\"https://colab.research.google.com/assets/colab-badge.svg\" alt=\"Open In Colab\"/></a>"
      ]
    },
    {
      "cell_type": "markdown",
      "metadata": {
        "id": "04bkrl6V6Kub"
      },
      "source": [
        "# The nowcasting of economic conditions in Japan using ML"
      ]
    },
    {
      "cell_type": "markdown",
      "source": [
        "2022/01/18　打ち合わせメモ\n",
        "\n",
        "*   経済マクロデータを変数に含める（所得、エネルギー・食料・サービス価格、金利、インフレ期待、株価の先行き、感染者数）\n",
        "*   見せかけの相関が疑われるので、(1,1,0)のARIMAが望ましいのでは。\n",
        "*   コロナ前のデータとコロナ後で分ける見せ方、説明の仕方も良いかもしれない。"
      ],
      "metadata": {
        "id": "K8rdAPS6ZRKo"
      }
    },
    {
      "cell_type": "markdown",
      "metadata": {
        "id": "xflSN4wChbhV"
      },
      "source": [
        "## Setting Up"
      ]
    },
    {
      "cell_type": "code",
      "source": [
        "from google.colab import drive\n",
        "drive.mount('/content/drive')\n",
        "import os\n",
        "os.chdir('drive/MyDrive/Colab Notebooks/Economic-Nowcasting-in-Japan')"
      ],
      "metadata": {
        "colab": {
          "base_uri": "https://localhost:8080/",
          "height": 0
        },
        "id": "G2mZkw6H74ON",
        "outputId": "8f1fad50-40fa-4410-e3b7-f7a6383a9cef"
      },
      "execution_count": 1,
      "outputs": [
        {
          "output_type": "stream",
          "name": "stdout",
          "text": [
            "Drive already mounted at /content/drive; to attempt to forcibly remount, call drive.mount(\"/content/drive\", force_remount=True).\n"
          ]
        }
      ]
    },
    {
      "cell_type": "code",
      "source": [
        "pip install pytrends"
      ],
      "metadata": {
        "colab": {
          "base_uri": "https://localhost:8080/",
          "height": 0
        },
        "id": "nNDJg5GtV3-n",
        "outputId": "5deaa1c2-4ca7-4ea6-d045-59d8cddfb175"
      },
      "execution_count": 2,
      "outputs": [
        {
          "output_type": "stream",
          "name": "stdout",
          "text": [
            "Requirement already satisfied: pytrends in /usr/local/lib/python3.7/dist-packages (4.8.0)\n",
            "Requirement already satisfied: pandas>=0.25 in /usr/local/lib/python3.7/dist-packages (from pytrends) (1.3.5)\n",
            "Requirement already satisfied: requests>=2.0 in /usr/local/lib/python3.7/dist-packages (from pytrends) (2.23.0)\n",
            "Requirement already satisfied: lxml in /usr/local/lib/python3.7/dist-packages (from pytrends) (4.2.6)\n",
            "Requirement already satisfied: python-dateutil>=2.7.3 in /usr/local/lib/python3.7/dist-packages (from pandas>=0.25->pytrends) (2.8.2)\n",
            "Requirement already satisfied: pytz>=2017.3 in /usr/local/lib/python3.7/dist-packages (from pandas>=0.25->pytrends) (2018.9)\n",
            "Requirement already satisfied: numpy>=1.17.3 in /usr/local/lib/python3.7/dist-packages (from pandas>=0.25->pytrends) (1.21.5)\n",
            "Requirement already satisfied: six>=1.5 in /usr/local/lib/python3.7/dist-packages (from python-dateutil>=2.7.3->pandas>=0.25->pytrends) (1.15.0)\n",
            "Requirement already satisfied: chardet<4,>=3.0.2 in /usr/local/lib/python3.7/dist-packages (from requests>=2.0->pytrends) (3.0.4)\n",
            "Requirement already satisfied: idna<3,>=2.5 in /usr/local/lib/python3.7/dist-packages (from requests>=2.0->pytrends) (2.10)\n",
            "Requirement already satisfied: urllib3!=1.25.0,!=1.25.1,<1.26,>=1.21.1 in /usr/local/lib/python3.7/dist-packages (from requests>=2.0->pytrends) (1.24.3)\n",
            "Requirement already satisfied: certifi>=2017.4.17 in /usr/local/lib/python3.7/dist-packages (from requests>=2.0->pytrends) (2021.10.8)\n"
          ]
        }
      ]
    },
    {
      "cell_type": "code",
      "execution_count": 3,
      "metadata": {
        "id": "XVRC4jcI6KvX",
        "colab": {
          "base_uri": "https://localhost:8080/",
          "height": 0
        },
        "outputId": "20721001-0281-42bb-9e0a-e4d409661835"
      },
      "outputs": [
        {
          "output_type": "stream",
          "name": "stderr",
          "text": [
            "/usr/local/lib/python3.7/dist-packages/statsmodels/tools/_testing.py:19: FutureWarning: pandas.util.testing is deprecated. Use the functions in the public API at pandas.testing instead.\n",
            "  import pandas.util.testing as tm\n"
          ]
        }
      ],
      "source": [
        "# Import packages\n",
        "import re\n",
        "import os\n",
        "import sys\n",
        "import requests\n",
        "#import MeCab\n",
        "#import oseti\n",
        "#import urllib\n",
        "import pandas as pd\n",
        "import numpy as np\n",
        "import matplotlib as mpl\n",
        "import matplotlib.pyplot as plt\n",
        "import statsmodels.api as sm\n",
        "import tensorflow as tf\n",
        "\n",
        "from math import sqrt\n",
        "from bs4 import BeautifulSoup\n",
        "from pathlib import Path\n",
        "from subprocess import call\n",
        "from keras.regularizers import l2\n",
        "from statsmodels.tsa.seasonal import seasonal_decompose\n",
        "\n",
        "from nltk.corpus import stopwords as sw       \n",
        "from nltk.stem import PorterStemmer\n",
        "from nltk.stem import WordNetLemmatizer\n",
        "from wordcloud import WordCloud, STOPWORDS\n",
        "\n",
        "from sklearn.feature_extraction.text import CountVectorizer\n",
        "from sklearn.feature_extraction.text import TfidfVectorizer\n",
        "from sklearn.decomposition import PCA\n",
        "from sklearn.model_selection import train_test_split\n",
        "from sklearn.model_selection import cross_val_score\n",
        "from sklearn.model_selection import GridSearchCV\n",
        "from sklearn.neighbors import KNeighborsRegressor\n",
        "from sklearn.linear_model import LinearRegression\n",
        "from sklearn.linear_model import Ridge\n",
        "from sklearn.linear_model import Lasso\n",
        "from sklearn.ensemble import RandomForestRegressor\n",
        "from sklearn.metrics import accuracy_score\n",
        "from sklearn.metrics import f1_score\n",
        "from sklearn.metrics import precision_score\n",
        "from sklearn.metrics import recall_score\n",
        "from sklearn.metrics import roc_auc_score\n",
        "from sklearn.metrics import mean_squared_error\n",
        "from sklearn.metrics import r2_score\n",
        "from sklearn.metrics import mean_absolute_error"
      ]
    },
    {
      "cell_type": "code",
      "execution_count": 4,
      "metadata": {
        "id": "9SQHrKQouqyg"
      },
      "outputs": [],
      "source": [
        "def multivariate_data(dataset, target, start_index, end_index, \n",
        "                      history_size, target_size, step, single_step=False):\n",
        "  data = []\n",
        "  labels = []\n",
        "\n",
        "  start_index = start_index + history_size\n",
        "  if end_index is None:\n",
        "    end_index = len(dataset) - target_size\n",
        "\n",
        "  for i in range(start_index, end_index):\n",
        "    # add current dataset\n",
        "    indices = range(i-history_size, i+1, step)\n",
        "    temp = pd.DataFrame(dataset[indices])\n",
        "    # replace current target to previous one\n",
        "    temp.iat[history_size, 0] = temp.iat[history_size-1, 0]\n",
        "    data.append(np.array(temp))\n",
        "\n",
        "    if single_step:\n",
        "      labels.append(target[i+target_size])\n",
        "    else:\n",
        "      labels.append(target[i:i+target_size])\n",
        "\n",
        "  return np.array(data), np.array(labels)"
      ]
    },
    {
      "cell_type": "code",
      "execution_count": 5,
      "metadata": {
        "id": "9sCSpqAkuzlm"
      },
      "outputs": [],
      "source": [
        "def model_eval_metrics(y_true, y_pred, classification=\"TRUE\"):\n",
        "     if classification==\"TRUE\":\n",
        "        accuracy_eval = accuracy_score(y_true, y_pred)\n",
        "        f1_score_eval = f1_score(y_true, y_pred,average=\"macro\",zero_division=0)\n",
        "        precision_eval = precision_score(y_true, y_pred,average=\"macro\",zero_division=0)\n",
        "        recall_eval = recall_score(y_true, y_pred,average=\"macro\",zero_division=0)\n",
        "        mse_eval = 0\n",
        "        rmse_eval = 0\n",
        "        mae_eval = 0\n",
        "        r2_eval = 0\n",
        "        metricdata = {'accuracy': [accuracy_eval], 'f1_score': [f1_score_eval], \n",
        "                      'precision': [precision_eval], 'recall': [recall_eval], 'mse': [mse_eval], \n",
        "                      'rmse': [rmse_eval], 'mae': [mae_eval], 'r2': [r2_eval]}\n",
        "        finalmetricdata = pd.DataFrame.from_dict(metricdata)\n",
        "     else:\n",
        "        accuracy_eval = 0\n",
        "        f1_score_eval = 0\n",
        "        precision_eval = 0\n",
        "        recall_eval = 0\n",
        "        mse_eval = mean_squared_error(y_true, y_pred)\n",
        "        rmse_eval = sqrt(mean_squared_error(y_true, y_pred))\n",
        "        mae_eval = mean_absolute_error(y_true, y_pred)\n",
        "        r2_eval = r2_score(y_true, y_pred)\n",
        "        metricdata = {'accuracy': [accuracy_eval], 'f1_score': [f1_score_eval], \n",
        "                      'precision': [precision_eval], 'recall': [recall_eval], 'mse': [mse_eval], \n",
        "                      'rmse': [rmse_eval], 'mae': [mae_eval], 'r2': [r2_eval]}\n",
        "        finalmetricdata = pd.DataFrame.from_dict(metricdata)\n",
        "     return finalmetricdata"
      ]
    },
    {
      "cell_type": "markdown",
      "metadata": {
        "id": "Xr2PamD36Kv_"
      },
      "source": [
        "## Target variable: Indexes of Business Conditions (IBC)"
      ]
    },
    {
      "cell_type": "markdown",
      "metadata": {
        "id": "PquS-anG6KwT"
      },
      "source": [
        "The Index of Business Conditions (IBC) represents monthly economic conditions in Japan. This study uses either coincident index (level) or coincident ann (change from the previouse year: Year-over-Year) as a target variable."
      ]
    },
    {
      "cell_type": "code",
      "execution_count": 6,
      "metadata": {
        "scrolled": true,
        "colab": {
          "base_uri": "https://localhost:8080/",
          "height": 419
        },
        "id": "7JLjEq3r6KwW",
        "outputId": "49d44e7c-bd47-4c1c-8391-cd346be5635c"
      },
      "outputs": [
        {
          "output_type": "execute_result",
          "data": {
            "text/html": [
              "\n",
              "  <div id=\"df-655058b1-63bc-47d1-ad6b-47f0697a3a74\">\n",
              "    <div class=\"colab-df-container\">\n",
              "      <div>\n",
              "<style scoped>\n",
              "    .dataframe tbody tr th:only-of-type {\n",
              "        vertical-align: middle;\n",
              "    }\n",
              "\n",
              "    .dataframe tbody tr th {\n",
              "        vertical-align: top;\n",
              "    }\n",
              "\n",
              "    .dataframe thead th {\n",
              "        text-align: right;\n",
              "    }\n",
              "</style>\n",
              "<table border=\"1\" class=\"dataframe\">\n",
              "  <thead>\n",
              "    <tr style=\"text-align: right;\">\n",
              "      <th></th>\n",
              "      <th>time</th>\n",
              "      <th>Coincident Index</th>\n",
              "      <th>Coincident ann</th>\n",
              "    </tr>\n",
              "  </thead>\n",
              "  <tbody>\n",
              "    <tr>\n",
              "      <th>0</th>\n",
              "      <td>Jan-85</td>\n",
              "      <td>79.1</td>\n",
              "      <td>NaN</td>\n",
              "    </tr>\n",
              "    <tr>\n",
              "      <th>1</th>\n",
              "      <td>Feb-85</td>\n",
              "      <td>78.8</td>\n",
              "      <td>NaN</td>\n",
              "    </tr>\n",
              "    <tr>\n",
              "      <th>2</th>\n",
              "      <td>Mar-85</td>\n",
              "      <td>78.7</td>\n",
              "      <td>NaN</td>\n",
              "    </tr>\n",
              "    <tr>\n",
              "      <th>3</th>\n",
              "      <td>Apr-85</td>\n",
              "      <td>79.6</td>\n",
              "      <td>NaN</td>\n",
              "    </tr>\n",
              "    <tr>\n",
              "      <th>4</th>\n",
              "      <td>May-85</td>\n",
              "      <td>79.5</td>\n",
              "      <td>NaN</td>\n",
              "    </tr>\n",
              "    <tr>\n",
              "      <th>...</th>\n",
              "      <td>...</td>\n",
              "      <td>...</td>\n",
              "      <td>...</td>\n",
              "    </tr>\n",
              "    <tr>\n",
              "      <th>439</th>\n",
              "      <td>Aug-21</td>\n",
              "      <td>91.0</td>\n",
              "      <td>10.840438</td>\n",
              "    </tr>\n",
              "    <tr>\n",
              "      <th>440</th>\n",
              "      <td>Sep-21</td>\n",
              "      <td>88.7</td>\n",
              "      <td>4.722550</td>\n",
              "    </tr>\n",
              "    <tr>\n",
              "      <th>441</th>\n",
              "      <td>Oct-21</td>\n",
              "      <td>89.8</td>\n",
              "      <td>1.468927</td>\n",
              "    </tr>\n",
              "    <tr>\n",
              "      <th>442</th>\n",
              "      <td>Nov-21</td>\n",
              "      <td>92.8</td>\n",
              "      <td>4.740406</td>\n",
              "    </tr>\n",
              "    <tr>\n",
              "      <th>443</th>\n",
              "      <td>Dec-21</td>\n",
              "      <td>92.7</td>\n",
              "      <td>4.040404</td>\n",
              "    </tr>\n",
              "  </tbody>\n",
              "</table>\n",
              "<p>444 rows × 3 columns</p>\n",
              "</div>\n",
              "      <button class=\"colab-df-convert\" onclick=\"convertToInteractive('df-655058b1-63bc-47d1-ad6b-47f0697a3a74')\"\n",
              "              title=\"Convert this dataframe to an interactive table.\"\n",
              "              style=\"display:none;\">\n",
              "        \n",
              "  <svg xmlns=\"http://www.w3.org/2000/svg\" height=\"24px\"viewBox=\"0 0 24 24\"\n",
              "       width=\"24px\">\n",
              "    <path d=\"M0 0h24v24H0V0z\" fill=\"none\"/>\n",
              "    <path d=\"M18.56 5.44l.94 2.06.94-2.06 2.06-.94-2.06-.94-.94-2.06-.94 2.06-2.06.94zm-11 1L8.5 8.5l.94-2.06 2.06-.94-2.06-.94L8.5 2.5l-.94 2.06-2.06.94zm10 10l.94 2.06.94-2.06 2.06-.94-2.06-.94-.94-2.06-.94 2.06-2.06.94z\"/><path d=\"M17.41 7.96l-1.37-1.37c-.4-.4-.92-.59-1.43-.59-.52 0-1.04.2-1.43.59L10.3 9.45l-7.72 7.72c-.78.78-.78 2.05 0 2.83L4 21.41c.39.39.9.59 1.41.59.51 0 1.02-.2 1.41-.59l7.78-7.78 2.81-2.81c.8-.78.8-2.07 0-2.86zM5.41 20L4 18.59l7.72-7.72 1.47 1.35L5.41 20z\"/>\n",
              "  </svg>\n",
              "      </button>\n",
              "      \n",
              "  <style>\n",
              "    .colab-df-container {\n",
              "      display:flex;\n",
              "      flex-wrap:wrap;\n",
              "      gap: 12px;\n",
              "    }\n",
              "\n",
              "    .colab-df-convert {\n",
              "      background-color: #E8F0FE;\n",
              "      border: none;\n",
              "      border-radius: 50%;\n",
              "      cursor: pointer;\n",
              "      display: none;\n",
              "      fill: #1967D2;\n",
              "      height: 32px;\n",
              "      padding: 0 0 0 0;\n",
              "      width: 32px;\n",
              "    }\n",
              "\n",
              "    .colab-df-convert:hover {\n",
              "      background-color: #E2EBFA;\n",
              "      box-shadow: 0px 1px 2px rgba(60, 64, 67, 0.3), 0px 1px 3px 1px rgba(60, 64, 67, 0.15);\n",
              "      fill: #174EA6;\n",
              "    }\n",
              "\n",
              "    [theme=dark] .colab-df-convert {\n",
              "      background-color: #3B4455;\n",
              "      fill: #D2E3FC;\n",
              "    }\n",
              "\n",
              "    [theme=dark] .colab-df-convert:hover {\n",
              "      background-color: #434B5C;\n",
              "      box-shadow: 0px 1px 3px 1px rgba(0, 0, 0, 0.15);\n",
              "      filter: drop-shadow(0px 1px 2px rgba(0, 0, 0, 0.3));\n",
              "      fill: #FFFFFF;\n",
              "    }\n",
              "  </style>\n",
              "\n",
              "      <script>\n",
              "        const buttonEl =\n",
              "          document.querySelector('#df-655058b1-63bc-47d1-ad6b-47f0697a3a74 button.colab-df-convert');\n",
              "        buttonEl.style.display =\n",
              "          google.colab.kernel.accessAllowed ? 'block' : 'none';\n",
              "\n",
              "        async function convertToInteractive(key) {\n",
              "          const element = document.querySelector('#df-655058b1-63bc-47d1-ad6b-47f0697a3a74');\n",
              "          const dataTable =\n",
              "            await google.colab.kernel.invokeFunction('convertToInteractive',\n",
              "                                                     [key], {});\n",
              "          if (!dataTable) return;\n",
              "\n",
              "          const docLinkHtml = 'Like what you see? Visit the ' +\n",
              "            '<a target=\"_blank\" href=https://colab.research.google.com/notebooks/data_table.ipynb>data table notebook</a>'\n",
              "            + ' to learn more about interactive tables.';\n",
              "          element.innerHTML = '';\n",
              "          dataTable['output_type'] = 'display_data';\n",
              "          await google.colab.output.renderOutput(dataTable, element);\n",
              "          const docLink = document.createElement('div');\n",
              "          docLink.innerHTML = docLinkHtml;\n",
              "          element.appendChild(docLink);\n",
              "        }\n",
              "      </script>\n",
              "    </div>\n",
              "  </div>\n",
              "  "
            ],
            "text/plain": [
              "       time  Coincident Index  Coincident ann\n",
              "0    Jan-85              79.1             NaN\n",
              "1    Feb-85              78.8             NaN\n",
              "2    Mar-85              78.7             NaN\n",
              "3    Apr-85              79.6             NaN\n",
              "4    May-85              79.5             NaN\n",
              "..      ...               ...             ...\n",
              "439  Aug-21              91.0       10.840438\n",
              "440  Sep-21              88.7        4.722550\n",
              "441  Oct-21              89.8        1.468927\n",
              "442  Nov-21              92.8        4.740406\n",
              "443  Dec-21              92.7        4.040404\n",
              "\n",
              "[444 rows x 3 columns]"
            ]
          },
          "metadata": {},
          "execution_count": 6
        }
      ],
      "source": [
        "ibc = pd.read_csv('data/ibc_new.csv')\n",
        "ibc['Coincident ann'] = 100*ibc['Coincident Index'].pct_change(12)\n",
        "ibc"
      ]
    },
    {
      "cell_type": "markdown",
      "metadata": {
        "id": "bqEWyPPh6K1t"
      },
      "source": [
        "## Google Trend"
      ]
    },
    {
      "cell_type": "markdown",
      "metadata": {
        "id": "4ozBR6qI6K1u"
      },
      "source": [
        "Use google trend information as predictors"
      ]
    },
    {
      "cell_type": "markdown",
      "metadata": {
        "id": "hiNhjuF-wMpW"
      },
      "source": [
        "### Google Trend API"
      ]
    },
    {
      "cell_type": "code",
      "execution_count": 7,
      "metadata": {
        "scrolled": true,
        "id": "ZVQwFMwf6K1x"
      },
      "outputs": [],
      "source": [
        "# Import packages\n",
        "from pytrends.request import TrendReq\n",
        "plt.rcParams['font.family'] = 'IPAexGothic'\n",
        "\n",
        "# API Connection\n",
        "pytrends = TrendReq(hl='ja-JP', tz=360)"
      ]
    },
    {
      "cell_type": "code",
      "source": [
        "# Set keyword (\"失業\" = \"unemployment\")\n",
        "kw1 = \"失業\"\n",
        "kw_list1 = [kw1]\n",
        "pytrends.build_payload(kw_list1, timeframe='2004-01-01 2021-12-31', geo='JP')\n",
        "gt1 = pytrends.interest_over_time()\n",
        "gt1 = gt1.rename(columns = {kw1:\"var1\", \"isPartial\":\"info\"})\n",
        "#gt1.to_csv(\"data/gt1.csv\")\n",
        "#dateparse = lambda dates: pd.datetime.strptime(dates, '%Y-%m-%d')\n",
        "#gt1 = pd.read_csv('data/gt1.csv', index_col=0, date_parser=dateparse, dtype='float')\n",
        "\n",
        "# Extract trend factor\n",
        "s1 = seasonal_decompose(gt1.iloc[:,0], extrapolate_trend='freq')\n",
        "t1 = s1.trend\n",
        "#data1 = pd.merge(gt1.iloc[:,0], t1, on='date')\n",
        "plt.plot(t1)\n",
        "plt.plot(gt1.iloc[:,0], linestyle='--')\n",
        "\n",
        "# Check correlation\n",
        "level = ibc['Coincident Index'][228:]\n",
        "level.index = t1.index\n",
        "cor = level.corr(t1)\n",
        "print(\"Correlation of level: {:.2f}\".format(cor))\n",
        "\n",
        "a1 = gt1.iloc[:,0].pct_change(12)\n",
        "ann = ibc['Coincident ann'][228:]\n",
        "ann.index = a1.index\n",
        "cor = ann.corr(a1)\n",
        "print(\"Correlation of YoY: {:.2f}\".format(cor))\n",
        "\n",
        "# Plot trend\n",
        "fig = plt.figure()\n",
        "ax = fig.add_subplot(1, 1, 1)\n",
        "ax.plot(t1.index, ibc['Coincident Index'][228:], linestyle='-', color='b', label='IBC')\n",
        "ax.plot(t1.index, t1, linestyle='--', color='#e46409', label='google search: \"unemployment\"')\n",
        "ax.legend()\n",
        "plt.title('Google Search: \"Unemployment\"')\n",
        "plt.savefig(\"images/google1.png\")"
      ],
      "metadata": {
        "id": "7HkUVeaP5m4w",
        "colab": {
          "base_uri": "https://localhost:8080/",
          "height": 605
        },
        "outputId": "37aef608-92da-44d2-e7bb-b757a05d5e0a"
      },
      "execution_count": 8,
      "outputs": [
        {
          "output_type": "stream",
          "name": "stderr",
          "text": [
            "findfont: Font family ['IPAexGothic'] not found. Falling back to DejaVu Sans.\n",
            "findfont: Font family ['IPAexGothic'] not found. Falling back to DejaVu Sans.\n"
          ]
        },
        {
          "output_type": "stream",
          "name": "stdout",
          "text": [
            "Correlation of level: -0.87\n",
            "Correlation of YoY: -0.77\n"
          ]
        },
        {
          "output_type": "display_data",
          "data": {
            "image/png": "[encoded data removed]",
            "text/plain": [
              "<Figure size 432x288 with 1 Axes>"
            ]
          },
          "metadata": {
            "needs_background": "light"
          }
        },
        {
          "output_type": "display_data",
          "data": {
            "image/png": "[encoded data removed]",
            "text/plain": [
              "<Figure size 432x288 with 1 Axes>"
            ]
          },
          "metadata": {
            "needs_background": "light"
          }
        }
      ]
    },
    {
      "cell_type": "code",
      "source": [
        "# Set keyword (\"貯金\" = \"saving\")\n",
        "kw2 = \"貯金\"\n",
        "kw_list2 = [kw2]\n",
        "pytrends.build_payload(kw_list2, timeframe='2004-01-01 2021-12-31', geo='JP')\n",
        "gt2 = pytrends.interest_over_time()\n",
        "gt2 = gt2.rename(columns = {kw2:\"var2\", \"isPartial\":\"info\"})\n",
        "#gt2.to_csv(\"data/gt2.csv\")\n",
        "#dateparse = lambda dates: pd.datetime.strptime(dates, '%Y-%m-%d')\n",
        "#gt2 = pd.read_csv('data/gt2.csv', index_col=0, date_parser=dateparse, dtype='float')\n",
        "\n",
        "# Extract trend factor\n",
        "s2 = seasonal_decompose(gt2.iloc[:,0], extrapolate_trend='freq')\n",
        "t2 = s2.trend\n",
        "plt.plot(t2)\n",
        "plt.plot(gt2.iloc[:,0], linestyle='--')\n",
        "\n",
        "# Check correlation\n",
        "level = ibc['Coincident Index'][228:]\n",
        "level.index = t2.index\n",
        "cor = level.corr(t2)\n",
        "print(\"Correlation of level: {:.2f}\".format(cor))\n",
        "\n",
        "a2 = gt2.iloc[:,0].pct_change(12)\n",
        "ann = ibc['Coincident ann'][228:]\n",
        "ann.index = a2.index\n",
        "cor = ann.corr(a2)\n",
        "print(\"Correlation of YoY: {:.2f}\".format(cor))\n",
        "\n",
        "# Plot trend\n",
        "fig = plt.figure()\n",
        "ax = fig.add_subplot(1, 1, 1)\n",
        "ax.plot(t2.index, ibc['Coincident Index'][228:], linestyle='-', color='b', label='IBC')\n",
        "ax.plot(t2.index, t2, linestyle='--', color='#e46409', label='google search: \"saving\"')\n",
        "ax.legend()\n",
        "plt.title('Google Search: \"Saving\"')\n",
        "plt.savefig(\"images/google2.png\")"
      ],
      "metadata": {
        "colab": {
          "base_uri": "https://localhost:8080/",
          "height": 567
        },
        "id": "bCZOYVBddkZA",
        "outputId": "83ac8f9b-6032-4509-d3ca-0379aae47ee2"
      },
      "execution_count": 9,
      "outputs": [
        {
          "output_type": "stream",
          "name": "stdout",
          "text": [
            "Correlation of level: 0.38\n",
            "Correlation of YoY: 0.21\n"
          ]
        },
        {
          "output_type": "display_data",
          "data": {
            "image/png": "[encoded data removed]",
            "text/plain": [
              "<Figure size 432x288 with 1 Axes>"
            ]
          },
          "metadata": {
            "needs_background": "light"
          }
        },
        {
          "output_type": "display_data",
          "data": {
            "image/png": "[encoded data removed]",
            "text/plain": [
              "<Figure size 432x288 with 1 Axes>"
            ]
          },
          "metadata": {
            "needs_background": "light"
          }
        }
      ]
    },
    {
      "cell_type": "code",
      "execution_count": 10,
      "metadata": {
        "id": "anpOm6qx6K19"
      },
      "outputs": [],
      "source": [
        "# Combine google trend (level)\n",
        "gtrend_l = pd.concat([t1, t2], axis=1)\n",
        "\n",
        "# Combine google trend (YoY)\n",
        "gtrend_y = pd.concat([a1, a2], axis=1).rename(columns={'var1': 'var1_rate', 'var2': 'var2_rate'})\n",
        "#gtrend_y = gtrend_y.drop(gtrend_y.index[0:12])"
      ]
    },
    {
      "cell_type": "markdown",
      "metadata": {
        "id": "WzHv9pQM6K1_"
      },
      "source": [
        "### Time series analysis"
      ]
    },
    {
      "cell_type": "code",
      "source": [
        "# Set time series dataset\n",
        "X = pd.merge(gtrend_l, gtrend_y, on='date')\n",
        "y = ibc[228:]\n",
        "y = y.set_index('time')\n",
        "y.index = X.index\n",
        "ts = pd.merge(y, X, on='date')\n",
        "\n",
        "# Split data into training and test set\n",
        "sp = round(0.8*len(ts))\n",
        "train = ts[0:sp]\n",
        "test = ts[sp:]\n",
        "\n",
        "ts"
      ],
      "metadata": {
        "colab": {
          "base_uri": "https://localhost:8080/",
          "height": 450
        },
        "id": "Jl1qFkzFVMlE",
        "outputId": "3b381233-c658-4c16-d1ac-30381d5b0e6b"
      },
      "execution_count": 11,
      "outputs": [
        {
          "output_type": "execute_result",
          "data": {
            "text/html": [
              "\n",
              "  <div id=\"df-5e2ee216-9b14-4d8c-b79c-c1d1f5360745\">\n",
              "    <div class=\"colab-df-container\">\n",
              "      <div>\n",
              "<style scoped>\n",
              "    .dataframe tbody tr th:only-of-type {\n",
              "        vertical-align: middle;\n",
              "    }\n",
              "\n",
              "    .dataframe tbody tr th {\n",
              "        vertical-align: top;\n",
              "    }\n",
              "\n",
              "    .dataframe thead th {\n",
              "        text-align: right;\n",
              "    }\n",
              "</style>\n",
              "<table border=\"1\" class=\"dataframe\">\n",
              "  <thead>\n",
              "    <tr style=\"text-align: right;\">\n",
              "      <th></th>\n",
              "      <th>Coincident Index</th>\n",
              "      <th>Coincident ann</th>\n",
              "      <th>var1</th>\n",
              "      <th>var2</th>\n",
              "      <th>var1_rate</th>\n",
              "      <th>var2_rate</th>\n",
              "    </tr>\n",
              "    <tr>\n",
              "      <th>date</th>\n",
              "      <th></th>\n",
              "      <th></th>\n",
              "      <th></th>\n",
              "      <th></th>\n",
              "      <th></th>\n",
              "      <th></th>\n",
              "    </tr>\n",
              "  </thead>\n",
              "  <tbody>\n",
              "    <tr>\n",
              "      <th>2004-01-01</th>\n",
              "      <td>98.2</td>\n",
              "      <td>8.508287</td>\n",
              "      <td>46.629176</td>\n",
              "      <td>53.791618</td>\n",
              "      <td>NaN</td>\n",
              "      <td>NaN</td>\n",
              "    </tr>\n",
              "    <tr>\n",
              "      <th>2004-02-01</th>\n",
              "      <td>98.0</td>\n",
              "      <td>7.456140</td>\n",
              "      <td>46.189200</td>\n",
              "      <td>53.533168</td>\n",
              "      <td>NaN</td>\n",
              "      <td>NaN</td>\n",
              "    </tr>\n",
              "    <tr>\n",
              "      <th>2004-03-01</th>\n",
              "      <td>98.1</td>\n",
              "      <td>7.802198</td>\n",
              "      <td>45.749223</td>\n",
              "      <td>53.274718</td>\n",
              "      <td>NaN</td>\n",
              "      <td>NaN</td>\n",
              "    </tr>\n",
              "    <tr>\n",
              "      <th>2004-04-01</th>\n",
              "      <td>99.1</td>\n",
              "      <td>9.502762</td>\n",
              "      <td>45.309246</td>\n",
              "      <td>53.016268</td>\n",
              "      <td>NaN</td>\n",
              "      <td>NaN</td>\n",
              "    </tr>\n",
              "    <tr>\n",
              "      <th>2004-05-01</th>\n",
              "      <td>98.9</td>\n",
              "      <td>8.324206</td>\n",
              "      <td>44.869270</td>\n",
              "      <td>52.757819</td>\n",
              "      <td>NaN</td>\n",
              "      <td>NaN</td>\n",
              "    </tr>\n",
              "    <tr>\n",
              "      <th>...</th>\n",
              "      <td>...</td>\n",
              "      <td>...</td>\n",
              "      <td>...</td>\n",
              "      <td>...</td>\n",
              "      <td>...</td>\n",
              "      <td>...</td>\n",
              "    </tr>\n",
              "    <tr>\n",
              "      <th>2021-08-01</th>\n",
              "      <td>91.0</td>\n",
              "      <td>10.840438</td>\n",
              "      <td>50.347222</td>\n",
              "      <td>65.518697</td>\n",
              "      <td>-0.288136</td>\n",
              "      <td>0.125000</td>\n",
              "    </tr>\n",
              "    <tr>\n",
              "      <th>2021-09-01</th>\n",
              "      <td>88.7</td>\n",
              "      <td>4.722550</td>\n",
              "      <td>49.118056</td>\n",
              "      <td>65.739850</td>\n",
              "      <td>-0.245902</td>\n",
              "      <td>0.046875</td>\n",
              "    </tr>\n",
              "    <tr>\n",
              "      <th>2021-10-01</th>\n",
              "      <td>89.8</td>\n",
              "      <td>1.468927</td>\n",
              "      <td>47.888889</td>\n",
              "      <td>65.961004</td>\n",
              "      <td>-0.269841</td>\n",
              "      <td>0.037037</td>\n",
              "    </tr>\n",
              "    <tr>\n",
              "      <th>2021-11-01</th>\n",
              "      <td>92.8</td>\n",
              "      <td>4.740406</td>\n",
              "      <td>46.659722</td>\n",
              "      <td>66.182158</td>\n",
              "      <td>-0.111111</td>\n",
              "      <td>0.113208</td>\n",
              "    </tr>\n",
              "    <tr>\n",
              "      <th>2021-12-01</th>\n",
              "      <td>92.7</td>\n",
              "      <td>4.040404</td>\n",
              "      <td>45.430556</td>\n",
              "      <td>66.403312</td>\n",
              "      <td>-0.166667</td>\n",
              "      <td>-0.015385</td>\n",
              "    </tr>\n",
              "  </tbody>\n",
              "</table>\n",
              "<p>216 rows × 6 columns</p>\n",
              "</div>\n",
              "      <button class=\"colab-df-convert\" onclick=\"convertToInteractive('df-5e2ee216-9b14-4d8c-b79c-c1d1f5360745')\"\n",
              "              title=\"Convert this dataframe to an interactive table.\"\n",
              "              style=\"display:none;\">\n",
              "        \n",
              "  <svg xmlns=\"http://www.w3.org/2000/svg\" height=\"24px\"viewBox=\"0 0 24 24\"\n",
              "       width=\"24px\">\n",
              "    <path d=\"M0 0h24v24H0V0z\" fill=\"none\"/>\n",
              "    <path d=\"M18.56 5.44l.94 2.06.94-2.06 2.06-.94-2.06-.94-.94-2.06-.94 2.06-2.06.94zm-11 1L8.5 8.5l.94-2.06 2.06-.94-2.06-.94L8.5 2.5l-.94 2.06-2.06.94zm10 10l.94 2.06.94-2.06 2.06-.94-2.06-.94-.94-2.06-.94 2.06-2.06.94z\"/><path d=\"M17.41 7.96l-1.37-1.37c-.4-.4-.92-.59-1.43-.59-.52 0-1.04.2-1.43.59L10.3 9.45l-7.72 7.72c-.78.78-.78 2.05 0 2.83L4 21.41c.39.39.9.59 1.41.59.51 0 1.02-.2 1.41-.59l7.78-7.78 2.81-2.81c.8-.78.8-2.07 0-2.86zM5.41 20L4 18.59l7.72-7.72 1.47 1.35L5.41 20z\"/>\n",
              "  </svg>\n",
              "      </button>\n",
              "      \n",
              "  <style>\n",
              "    .colab-df-container {\n",
              "      display:flex;\n",
              "      flex-wrap:wrap;\n",
              "      gap: 12px;\n",
              "    }\n",
              "\n",
              "    .colab-df-convert {\n",
              "      background-color: #E8F0FE;\n",
              "      border: none;\n",
              "      border-radius: 50%;\n",
              "      cursor: pointer;\n",
              "      display: none;\n",
              "      fill: #1967D2;\n",
              "      height: 32px;\n",
              "      padding: 0 0 0 0;\n",
              "      width: 32px;\n",
              "    }\n",
              "\n",
              "    .colab-df-convert:hover {\n",
              "      background-color: #E2EBFA;\n",
              "      box-shadow: 0px 1px 2px rgba(60, 64, 67, 0.3), 0px 1px 3px 1px rgba(60, 64, 67, 0.15);\n",
              "      fill: #174EA6;\n",
              "    }\n",
              "\n",
              "    [theme=dark] .colab-df-convert {\n",
              "      background-color: #3B4455;\n",
              "      fill: #D2E3FC;\n",
              "    }\n",
              "\n",
              "    [theme=dark] .colab-df-convert:hover {\n",
              "      background-color: #434B5C;\n",
              "      box-shadow: 0px 1px 3px 1px rgba(0, 0, 0, 0.15);\n",
              "      filter: drop-shadow(0px 1px 2px rgba(0, 0, 0, 0.3));\n",
              "      fill: #FFFFFF;\n",
              "    }\n",
              "  </style>\n",
              "\n",
              "      <script>\n",
              "        const buttonEl =\n",
              "          document.querySelector('#df-5e2ee216-9b14-4d8c-b79c-c1d1f5360745 button.colab-df-convert');\n",
              "        buttonEl.style.display =\n",
              "          google.colab.kernel.accessAllowed ? 'block' : 'none';\n",
              "\n",
              "        async function convertToInteractive(key) {\n",
              "          const element = document.querySelector('#df-5e2ee216-9b14-4d8c-b79c-c1d1f5360745');\n",
              "          const dataTable =\n",
              "            await google.colab.kernel.invokeFunction('convertToInteractive',\n",
              "                                                     [key], {});\n",
              "          if (!dataTable) return;\n",
              "\n",
              "          const docLinkHtml = 'Like what you see? Visit the ' +\n",
              "            '<a target=\"_blank\" href=https://colab.research.google.com/notebooks/data_table.ipynb>data table notebook</a>'\n",
              "            + ' to learn more about interactive tables.';\n",
              "          element.innerHTML = '';\n",
              "          dataTable['output_type'] = 'display_data';\n",
              "          await google.colab.output.renderOutput(dataTable, element);\n",
              "          const docLink = document.createElement('div');\n",
              "          docLink.innerHTML = docLinkHtml;\n",
              "          element.appendChild(docLink);\n",
              "        }\n",
              "      </script>\n",
              "    </div>\n",
              "  </div>\n",
              "  "
            ],
            "text/plain": [
              "            Coincident Index  Coincident ann       var1       var2  var1_rate  \\\n",
              "date                                                                            \n",
              "2004-01-01              98.2        8.508287  46.629176  53.791618        NaN   \n",
              "2004-02-01              98.0        7.456140  46.189200  53.533168        NaN   \n",
              "2004-03-01              98.1        7.802198  45.749223  53.274718        NaN   \n",
              "2004-04-01              99.1        9.502762  45.309246  53.016268        NaN   \n",
              "2004-05-01              98.9        8.324206  44.869270  52.757819        NaN   \n",
              "...                      ...             ...        ...        ...        ...   \n",
              "2021-08-01              91.0       10.840438  50.347222  65.518697  -0.288136   \n",
              "2021-09-01              88.7        4.722550  49.118056  65.739850  -0.245902   \n",
              "2021-10-01              89.8        1.468927  47.888889  65.961004  -0.269841   \n",
              "2021-11-01              92.8        4.740406  46.659722  66.182158  -0.111111   \n",
              "2021-12-01              92.7        4.040404  45.430556  66.403312  -0.166667   \n",
              "\n",
              "            var2_rate  \n",
              "date                   \n",
              "2004-01-01        NaN  \n",
              "2004-02-01        NaN  \n",
              "2004-03-01        NaN  \n",
              "2004-04-01        NaN  \n",
              "2004-05-01        NaN  \n",
              "...               ...  \n",
              "2021-08-01   0.125000  \n",
              "2021-09-01   0.046875  \n",
              "2021-10-01   0.037037  \n",
              "2021-11-01   0.113208  \n",
              "2021-12-01  -0.015385  \n",
              "\n",
              "[216 rows x 6 columns]"
            ]
          },
          "metadata": {},
          "execution_count": 11
        }
      ]
    },
    {
      "cell_type": "code",
      "source": [
        "# Check Autocorrelation of IBC\n",
        "import statsmodels.api as sm\n",
        "fig = plt.figure(figsize=(12,8))\n",
        "ax1 = fig.add_subplot(211)\n",
        "fig = sm.graphics.tsa.plot_acf(ts['Coincident Index'], lags=20, ax=ax1)\n",
        "ax2 = fig.add_subplot(212)\n",
        "fig = sm.graphics.tsa.plot_pacf(ts['Coincident Index'], lags=20, ax=ax2)\n",
        "plt.savefig(\"images/autocorrelation.png\")"
      ],
      "metadata": {
        "colab": {
          "base_uri": "https://localhost:8080/",
          "height": 499
        },
        "id": "rY8Gy83YRy47",
        "outputId": "dc0bd994-3211-4f4b-e2d1-3d8c4f4ecfb2"
      },
      "execution_count": 12,
      "outputs": [
        {
          "output_type": "display_data",
          "data": {
            "image/png": "[encoded data removed]",
            "text/plain": [
              "<Figure size 864x576 with 2 Axes>"
            ]
          },
          "metadata": {
            "needs_background": "light"
          }
        }
      ]
    },
    {
      "cell_type": "code",
      "execution_count": 13,
      "metadata": {
        "id": "3nJBt8eh6K2E",
        "outputId": "56bf4ea3-58ad-4ad8-87ab-7451b9c01167",
        "colab": {
          "base_uri": "https://localhost:8080/",
          "height": 0
        }
      },
      "outputs": [
        {
          "output_type": "stream",
          "name": "stdout",
          "text": [
            "Unit root test (y): 0.08\n",
            "Unit root test (diff_y): 0.00\n",
            "Unit root test (X): 0.09\n",
            "Unit root test (diff_X): 0.03\n",
            "Cointegration test (var1): 0.00\n",
            "Cointegration test (var2): 0.29\n"
          ]
        }
      ],
      "source": [
        "# Unit root test of y (H0: non-stationary)\n",
        "adf_result = sm.tsa.stattools.adfuller(ts['Coincident Index'])\n",
        "print(\"Unit root test (y): {:.2f}\".format(adf_result[1])) # p-value\n",
        "\n",
        "# Take difference of y\n",
        "diff = ts['Coincident Index'].diff()\n",
        "diff = diff.dropna()\n",
        "adf_result = sm.tsa.stattools.adfuller(diff)\n",
        "print(\"Unit root test (diff_y): {:.2f}\".format(adf_result[1])) # p-value\n",
        "\n",
        "# Unit root test of X (H0: non-stationary)\n",
        "adf_result = sm.tsa.stattools.adfuller(ts['var1'])\n",
        "print(\"Unit root test (X): {:.2f}\".format(adf_result[1])) # p-value\n",
        "\n",
        "# Take difference of X\n",
        "diff = ts['var1'].diff()\n",
        "diff = diff.dropna()\n",
        "adf_result = sm.tsa.stattools.adfuller(diff)\n",
        "print(\"Unit root test (diff_X): {:.2f}\".format(adf_result[1])) # p-value\n",
        "\n",
        "# Cointegration test (H0: non-cointegration)\n",
        "coint_result = sm.tsa.stattools.coint(ts['Coincident Index'], ts['var1'])\n",
        "print(\"Cointegration test (var1): {:.2f}\".format(coint_result[1])) # p-value\n",
        "coint_result = sm.tsa.stattools.coint(ts['Coincident Index'], ts['var2'])\n",
        "print(\"Cointegration test (var2): {:.2f}\".format(coint_result[1])) # p-value"
      ]
    },
    {
      "cell_type": "markdown",
      "metadata": {
        "id": "SdD511OM6K2H"
      },
      "source": [
        "### ARIMA Prediction"
      ]
    },
    {
      "cell_type": "code",
      "execution_count": 14,
      "metadata": {
        "scrolled": true,
        "id": "MTubl0Nn6K2J",
        "outputId": "f60ad16e-6610-4bf5-dd13-c1ca3a7ae430",
        "colab": {
          "base_uri": "https://localhost:8080/",
          "height": 0
        }
      },
      "outputs": [
        {
          "output_type": "stream",
          "name": "stdout",
          "text": [
            "                           Statespace Model Results                           \n",
            "==============================================================================\n",
            "Dep. Variable:       Coincident Index   No. Observations:                  173\n",
            "Model:               SARIMAX(1, 1, 0)   Log Likelihood                -292.801\n",
            "Date:                Fri, 11 Mar 2022   AIC                            593.601\n",
            "Time:                        07:19:11   BIC                            606.191\n",
            "Sample:                    01-01-2004   HQIC                           598.709\n",
            "                         - 05-01-2018                                         \n",
            "Covariance Type:                  opg                                         \n",
            "==============================================================================\n",
            "                 coef    std err          z      P>|z|      [0.025      0.975]\n",
            "------------------------------------------------------------------------------\n",
            "var1          -0.8736      0.165     -5.299      0.000      -1.197      -0.550\n",
            "var2           0.1288      0.279      0.462      0.644      -0.418       0.675\n",
            "ar.L1          0.1720      0.069      2.482      0.013       0.036       0.308\n",
            "sigma2         1.7623      0.095     18.483      0.000       1.575       1.949\n",
            "===================================================================================\n",
            "Ljung-Box (Q):                       68.51   Jarque-Bera (JB):               455.37\n",
            "Prob(Q):                              0.00   Prob(JB):                         0.00\n",
            "Heteroskedasticity (H):               1.17   Skew:                            -1.76\n",
            "Prob(H) (two-sided):                  0.55   Kurtosis:                        10.15\n",
            "===================================================================================\n",
            "\n",
            "Warnings:\n",
            "[1] Covariance matrix calculated using the outer product of gradients (complex-step).\n"
          ]
        }
      ],
      "source": [
        "# Fit the model\n",
        "SARIMAX = sm.tsa.SARIMAX(train['Coincident Index'], train.iloc[:,2:4], order=(1,1,0), freq='MS').fit()\n",
        "print(SARIMAX.summary())"
      ]
    },
    {
      "cell_type": "code",
      "execution_count": 15,
      "metadata": {
        "scrolled": false,
        "id": "aAlUYOP56K2M",
        "outputId": "7cb95ab6-f239-4b07-aa00-06aee485f2d4",
        "colab": {
          "base_uri": "https://localhost:8080/",
          "height": 284
        }
      },
      "outputs": [
        {
          "output_type": "stream",
          "name": "stdout",
          "text": [
            "Test set score: 0.73\n"
          ]
        },
        {
          "output_type": "display_data",
          "data": {
            "image/png": "[encoded data removed]",
            "text/plain": [
              "<Figure size 432x288 with 1 Axes>"
            ]
          },
          "metadata": {
            "needs_background": "light"
          }
        }
      ],
      "source": [
        "pred = SARIMAX.predict('2018-06-01', '2021-12-01', exog=test.iloc[:,2:4])\n",
        "plt.plot(test['Coincident Index'], label=\"actual\")\n",
        "plt.plot(pred, \"r\", linestyle='--', label=\"predict\")\n",
        "plt.legend(loc='best')\n",
        "\n",
        "print(\"Test set score: {:.2f}\".format(r2_score(test['Coincident Index'], pred)))"
      ]
    },
    {
      "cell_type": "markdown",
      "metadata": {
        "id": "PS4NW1Yp6K2O"
      },
      "source": [
        "### Random Forest"
      ]
    },
    {
      "cell_type": "code",
      "execution_count": 16,
      "metadata": {
        "scrolled": true,
        "id": "2ZtnIwgg6K2Q",
        "outputId": "20117621-be88-4f69-b868-f3bc174581e9",
        "colab": {
          "base_uri": "https://localhost:8080/",
          "height": 338
        }
      },
      "outputs": [
        {
          "output_type": "stream",
          "name": "stdout",
          "text": [
            "Training set score: 0.99\n",
            "Cross-Validation score: 0.41\n",
            "Test set score: 0.85\n"
          ]
        },
        {
          "output_type": "display_data",
          "data": {
            "image/png": "[encoded data removed]",
            "text/plain": [
              "<Figure size 432x288 with 1 Axes>"
            ]
          },
          "metadata": {
            "needs_background": "light"
          }
        }
      ],
      "source": [
        "# Set X and y variables\n",
        "X = ts.iloc[:,2:4]\n",
        "y = ts['Coincident Index']\n",
        "\n",
        "# Preprocess for adding AR\n",
        "X_l = X.drop(X.index[0])\n",
        "#X_l = X_l.drop(X_l.index[0])\n",
        "X_l.reset_index(inplace=True, drop=True)\n",
        "\n",
        "# Generate AR variable\n",
        "y_l = y.drop(y.index[-1])\n",
        "#y_l = y_l.drop(y_l.index[-1])\n",
        "y_l.reset_index(inplace=True, drop=True)\n",
        "\n",
        "# Add AR into X\n",
        "X_t = pd.concat([y_l, X_l], axis=1)\n",
        "y_t = y.drop(y.index[0])\n",
        "#y_t = y_t.drop(y_t.index[0])\n",
        "X_t.index = y_t.index\n",
        "\n",
        "# Split data into training and test set \n",
        "sp = round(0.8*len(X_t))\n",
        "X_train = X_t[0:sp]\n",
        "X_test = X_t[sp:]\n",
        "y_train = y_t[0:sp]\n",
        "y_test = y_t[sp:]\n",
        "\n",
        "# Fit the model\n",
        "tm = RandomForestRegressor(n_estimators=1000).fit(X_train, y_train)\n",
        "#tm.feature_importances_\n",
        "\n",
        "# Goodness of Fit\n",
        "print(\"Training set score: {:.2f}\".format(tm.score(X_train, y_train)))\n",
        "print(\"Cross-Validation score: {:.2f}\".format(\n",
        "          np.mean(cross_val_score(tm, X_train, y_train, cv=5))))\n",
        "print(\"Test set score: {:.2f}\".format(tm.score(X_test, y_test)))\n",
        "\n",
        "# Calculate the prediction\n",
        "prediction = pd.DataFrame(tm.predict(X_test))\n",
        "pre = prediction.values.tolist()\n",
        "act = y_test.values.tolist()\n",
        "predict = pd.DataFrame(pre, columns=['predict'])\n",
        "actual = pd.DataFrame(act, columns=['actual'])\n",
        "com = pd.concat([predict, actual], axis=1)\n",
        "\n",
        "# Plot the prediction\n",
        "fig = plt.figure()\n",
        "ax = fig.add_subplot(1, 1, 1)\n",
        "ax.plot(X_test.index, com.actual, linestyle='-', color='b', label='actual')\n",
        "ax.plot(X_test.index, com.predict, linestyle='--', color='#e46409', label='predict')\n",
        "ax.legend(loc='best')\n",
        "ax.set_title('Random Forest: Level')\n",
        "plt.savefig(\"images/google_rf.png\")"
      ]
    },
    {
      "cell_type": "code",
      "source": [
        "print(tm.feature_importances_)"
      ],
      "metadata": {
        "colab": {
          "base_uri": "https://localhost:8080/",
          "height": 0
        },
        "id": "UX6u2ESGbXc8",
        "outputId": "d8649cce-5cbc-41d5-8a32-41248da606ad"
      },
      "execution_count": 17,
      "outputs": [
        {
          "output_type": "stream",
          "name": "stdout",
          "text": [
            "[0.90395298 0.07206683 0.02398019]\n"
          ]
        }
      ]
    },
    {
      "cell_type": "markdown",
      "metadata": {
        "id": "V32oTQrx6K2j"
      },
      "source": [
        "### RNN-LSTM"
      ]
    },
    {
      "cell_type": "code",
      "execution_count": 18,
      "metadata": {
        "scrolled": true,
        "id": "jF_4vrjN6K2l",
        "outputId": "367fe2d4-6d05-409f-dc93-e52aff53f95e",
        "colab": {
          "base_uri": "https://localhost:8080/",
          "height": 235
        }
      },
      "outputs": [
        {
          "output_type": "execute_result",
          "data": {
            "text/html": [
              "\n",
              "  <div id=\"df-83e260ca-bc36-4894-8578-1a13a0d469c2\">\n",
              "    <div class=\"colab-df-container\">\n",
              "      <div>\n",
              "<style scoped>\n",
              "    .dataframe tbody tr th:only-of-type {\n",
              "        vertical-align: middle;\n",
              "    }\n",
              "\n",
              "    .dataframe tbody tr th {\n",
              "        vertical-align: top;\n",
              "    }\n",
              "\n",
              "    .dataframe thead th {\n",
              "        text-align: right;\n",
              "    }\n",
              "</style>\n",
              "<table border=\"1\" class=\"dataframe\">\n",
              "  <thead>\n",
              "    <tr style=\"text-align: right;\">\n",
              "      <th></th>\n",
              "      <th>Coincident Index</th>\n",
              "      <th>var1</th>\n",
              "      <th>var2</th>\n",
              "    </tr>\n",
              "    <tr>\n",
              "      <th>date</th>\n",
              "      <th></th>\n",
              "      <th></th>\n",
              "      <th></th>\n",
              "    </tr>\n",
              "  </thead>\n",
              "  <tbody>\n",
              "    <tr>\n",
              "      <th>2021-08-01</th>\n",
              "      <td>91.0</td>\n",
              "      <td>50.347222</td>\n",
              "      <td>65.518697</td>\n",
              "    </tr>\n",
              "    <tr>\n",
              "      <th>2021-09-01</th>\n",
              "      <td>88.7</td>\n",
              "      <td>49.118056</td>\n",
              "      <td>65.739850</td>\n",
              "    </tr>\n",
              "    <tr>\n",
              "      <th>2021-10-01</th>\n",
              "      <td>89.8</td>\n",
              "      <td>47.888889</td>\n",
              "      <td>65.961004</td>\n",
              "    </tr>\n",
              "    <tr>\n",
              "      <th>2021-11-01</th>\n",
              "      <td>92.8</td>\n",
              "      <td>46.659722</td>\n",
              "      <td>66.182158</td>\n",
              "    </tr>\n",
              "    <tr>\n",
              "      <th>2021-12-01</th>\n",
              "      <td>92.7</td>\n",
              "      <td>45.430556</td>\n",
              "      <td>66.403312</td>\n",
              "    </tr>\n",
              "  </tbody>\n",
              "</table>\n",
              "</div>\n",
              "      <button class=\"colab-df-convert\" onclick=\"convertToInteractive('df-83e260ca-bc36-4894-8578-1a13a0d469c2')\"\n",
              "              title=\"Convert this dataframe to an interactive table.\"\n",
              "              style=\"display:none;\">\n",
              "        \n",
              "  <svg xmlns=\"http://www.w3.org/2000/svg\" height=\"24px\"viewBox=\"0 0 24 24\"\n",
              "       width=\"24px\">\n",
              "    <path d=\"M0 0h24v24H0V0z\" fill=\"none\"/>\n",
              "    <path d=\"M18.56 5.44l.94 2.06.94-2.06 2.06-.94-2.06-.94-.94-2.06-.94 2.06-2.06.94zm-11 1L8.5 8.5l.94-2.06 2.06-.94-2.06-.94L8.5 2.5l-.94 2.06-2.06.94zm10 10l.94 2.06.94-2.06 2.06-.94-2.06-.94-.94-2.06-.94 2.06-2.06.94z\"/><path d=\"M17.41 7.96l-1.37-1.37c-.4-.4-.92-.59-1.43-.59-.52 0-1.04.2-1.43.59L10.3 9.45l-7.72 7.72c-.78.78-.78 2.05 0 2.83L4 21.41c.39.39.9.59 1.41.59.51 0 1.02-.2 1.41-.59l7.78-7.78 2.81-2.81c.8-.78.8-2.07 0-2.86zM5.41 20L4 18.59l7.72-7.72 1.47 1.35L5.41 20z\"/>\n",
              "  </svg>\n",
              "      </button>\n",
              "      \n",
              "  <style>\n",
              "    .colab-df-container {\n",
              "      display:flex;\n",
              "      flex-wrap:wrap;\n",
              "      gap: 12px;\n",
              "    }\n",
              "\n",
              "    .colab-df-convert {\n",
              "      background-color: #E8F0FE;\n",
              "      border: none;\n",
              "      border-radius: 50%;\n",
              "      cursor: pointer;\n",
              "      display: none;\n",
              "      fill: #1967D2;\n",
              "      height: 32px;\n",
              "      padding: 0 0 0 0;\n",
              "      width: 32px;\n",
              "    }\n",
              "\n",
              "    .colab-df-convert:hover {\n",
              "      background-color: #E2EBFA;\n",
              "      box-shadow: 0px 1px 2px rgba(60, 64, 67, 0.3), 0px 1px 3px 1px rgba(60, 64, 67, 0.15);\n",
              "      fill: #174EA6;\n",
              "    }\n",
              "\n",
              "    [theme=dark] .colab-df-convert {\n",
              "      background-color: #3B4455;\n",
              "      fill: #D2E3FC;\n",
              "    }\n",
              "\n",
              "    [theme=dark] .colab-df-convert:hover {\n",
              "      background-color: #434B5C;\n",
              "      box-shadow: 0px 1px 3px 1px rgba(0, 0, 0, 0.15);\n",
              "      filter: drop-shadow(0px 1px 2px rgba(0, 0, 0, 0.3));\n",
              "      fill: #FFFFFF;\n",
              "    }\n",
              "  </style>\n",
              "\n",
              "      <script>\n",
              "        const buttonEl =\n",
              "          document.querySelector('#df-83e260ca-bc36-4894-8578-1a13a0d469c2 button.colab-df-convert');\n",
              "        buttonEl.style.display =\n",
              "          google.colab.kernel.accessAllowed ? 'block' : 'none';\n",
              "\n",
              "        async function convertToInteractive(key) {\n",
              "          const element = document.querySelector('#df-83e260ca-bc36-4894-8578-1a13a0d469c2');\n",
              "          const dataTable =\n",
              "            await google.colab.kernel.invokeFunction('convertToInteractive',\n",
              "                                                     [key], {});\n",
              "          if (!dataTable) return;\n",
              "\n",
              "          const docLinkHtml = 'Like what you see? Visit the ' +\n",
              "            '<a target=\"_blank\" href=https://colab.research.google.com/notebooks/data_table.ipynb>data table notebook</a>'\n",
              "            + ' to learn more about interactive tables.';\n",
              "          element.innerHTML = '';\n",
              "          dataTable['output_type'] = 'display_data';\n",
              "          await google.colab.output.renderOutput(dataTable, element);\n",
              "          const docLink = document.createElement('div');\n",
              "          docLink.innerHTML = docLinkHtml;\n",
              "          element.appendChild(docLink);\n",
              "        }\n",
              "      </script>\n",
              "    </div>\n",
              "  </div>\n",
              "  "
            ],
            "text/plain": [
              "            Coincident Index       var1       var2\n",
              "date                                              \n",
              "2021-08-01              91.0  50.347222  65.518697\n",
              "2021-09-01              88.7  49.118056  65.739850\n",
              "2021-10-01              89.8  47.888889  65.961004\n",
              "2021-11-01              92.8  46.659722  66.182158\n",
              "2021-12-01              92.7  45.430556  66.403312"
            ]
          },
          "metadata": {},
          "execution_count": 18
        }
      ],
      "source": [
        "# set the dataset\n",
        "features = pd.concat([ts['Coincident Index'], ts.iloc[:,2:4]], axis=1)\n",
        "features.tail()"
      ]
    },
    {
      "cell_type": "code",
      "execution_count": 19,
      "metadata": {
        "id": "gbQ3LWOu6K2p",
        "outputId": "8ee734ca-203f-4628-e956-839491a6c6fd",
        "colab": {
          "base_uri": "https://localhost:8080/",
          "height": 0
        }
      },
      "outputs": [
        {
          "output_type": "stream",
          "name": "stdout",
          "text": [
            "173\n"
          ]
        }
      ],
      "source": [
        "# set training percentage\n",
        "TRAIN_SPLIT = round(0.8*len(features))\n",
        "print(TRAIN_SPLIT)\n",
        "\n",
        "# feature scaling\n",
        "dataset = features.values\n",
        "data_mean = dataset[:TRAIN_SPLIT].mean(axis=0)\n",
        "data_std = dataset[:TRAIN_SPLIT].std(axis=0)\n",
        "dataset = (dataset-data_mean)/data_std"
      ]
    },
    {
      "cell_type": "code",
      "execution_count": 20,
      "metadata": {
        "id": "XxhteUtn6K2t"
      },
      "outputs": [],
      "source": [
        "# create the training and test data\n",
        "\n",
        "past_history = 3\n",
        "future_target = 0\n",
        "STEP = 1\n",
        "\n",
        "x_train_single, y_train_single = multivariate_data(dataset, dataset[:,0], 0, TRAIN_SPLIT, past_history, future_target, STEP, single_step=True)\n",
        "x_val_single, y_val_single = multivariate_data(dataset, dataset[:,0], TRAIN_SPLIT, None, past_history, future_target, STEP, single_step=True)"
      ]
    },
    {
      "cell_type": "code",
      "execution_count": 21,
      "metadata": {
        "scrolled": true,
        "id": "rQtNe9rH6K2w",
        "outputId": "cff1b66d-0b9e-4888-aa77-2cdf9c37faf6",
        "colab": {
          "base_uri": "https://localhost:8080/",
          "height": 266
        }
      },
      "outputs": [
        {
          "output_type": "execute_result",
          "data": {
            "text/html": [
              "\n",
              "  <div id=\"df-cae840eb-883f-4447-862a-8722e0b0977f\">\n",
              "    <div class=\"colab-df-container\">\n",
              "      <div>\n",
              "<style scoped>\n",
              "    .dataframe tbody tr th:only-of-type {\n",
              "        vertical-align: middle;\n",
              "    }\n",
              "\n",
              "    .dataframe tbody tr th {\n",
              "        vertical-align: top;\n",
              "    }\n",
              "\n",
              "    .dataframe thead th {\n",
              "        text-align: right;\n",
              "    }\n",
              "</style>\n",
              "<table border=\"1\" class=\"dataframe\">\n",
              "  <thead>\n",
              "    <tr style=\"text-align: right;\">\n",
              "      <th></th>\n",
              "      <th>0</th>\n",
              "      <th>1</th>\n",
              "      <th>2</th>\n",
              "    </tr>\n",
              "  </thead>\n",
              "  <tbody>\n",
              "    <tr>\n",
              "      <th>0</th>\n",
              "      <td>0.027224</td>\n",
              "      <td>0.464229</td>\n",
              "      <td>0.590842</td>\n",
              "    </tr>\n",
              "    <tr>\n",
              "      <th>1</th>\n",
              "      <td>0.000765</td>\n",
              "      <td>0.390416</td>\n",
              "      <td>0.565048</td>\n",
              "    </tr>\n",
              "    <tr>\n",
              "      <th>2</th>\n",
              "      <td>0.013994</td>\n",
              "      <td>0.316604</td>\n",
              "      <td>0.539255</td>\n",
              "    </tr>\n",
              "    <tr>\n",
              "      <th>3</th>\n",
              "      <td>0.146289</td>\n",
              "      <td>0.242791</td>\n",
              "      <td>0.513462</td>\n",
              "    </tr>\n",
              "    <tr>\n",
              "      <th>4</th>\n",
              "      <td>0.119830</td>\n",
              "      <td>0.168978</td>\n",
              "      <td>0.487668</td>\n",
              "    </tr>\n",
              "    <tr>\n",
              "      <th>5</th>\n",
              "      <td>0.238895</td>\n",
              "      <td>0.095165</td>\n",
              "      <td>0.461875</td>\n",
              "    </tr>\n",
              "    <tr>\n",
              "      <th>6</th>\n",
              "      <td>0.397648</td>\n",
              "      <td>0.218871</td>\n",
              "      <td>0.412038</td>\n",
              "    </tr>\n",
              "  </tbody>\n",
              "</table>\n",
              "</div>\n",
              "      <button class=\"colab-df-convert\" onclick=\"convertToInteractive('df-cae840eb-883f-4447-862a-8722e0b0977f')\"\n",
              "              title=\"Convert this dataframe to an interactive table.\"\n",
              "              style=\"display:none;\">\n",
              "        \n",
              "  <svg xmlns=\"http://www.w3.org/2000/svg\" height=\"24px\"viewBox=\"0 0 24 24\"\n",
              "       width=\"24px\">\n",
              "    <path d=\"M0 0h24v24H0V0z\" fill=\"none\"/>\n",
              "    <path d=\"M18.56 5.44l.94 2.06.94-2.06 2.06-.94-2.06-.94-.94-2.06-.94 2.06-2.06.94zm-11 1L8.5 8.5l.94-2.06 2.06-.94-2.06-.94L8.5 2.5l-.94 2.06-2.06.94zm10 10l.94 2.06.94-2.06 2.06-.94-2.06-.94-.94-2.06-.94 2.06-2.06.94z\"/><path d=\"M17.41 7.96l-1.37-1.37c-.4-.4-.92-.59-1.43-.59-.52 0-1.04.2-1.43.59L10.3 9.45l-7.72 7.72c-.78.78-.78 2.05 0 2.83L4 21.41c.39.39.9.59 1.41.59.51 0 1.02-.2 1.41-.59l7.78-7.78 2.81-2.81c.8-.78.8-2.07 0-2.86zM5.41 20L4 18.59l7.72-7.72 1.47 1.35L5.41 20z\"/>\n",
              "  </svg>\n",
              "      </button>\n",
              "      \n",
              "  <style>\n",
              "    .colab-df-container {\n",
              "      display:flex;\n",
              "      flex-wrap:wrap;\n",
              "      gap: 12px;\n",
              "    }\n",
              "\n",
              "    .colab-df-convert {\n",
              "      background-color: #E8F0FE;\n",
              "      border: none;\n",
              "      border-radius: 50%;\n",
              "      cursor: pointer;\n",
              "      display: none;\n",
              "      fill: #1967D2;\n",
              "      height: 32px;\n",
              "      padding: 0 0 0 0;\n",
              "      width: 32px;\n",
              "    }\n",
              "\n",
              "    .colab-df-convert:hover {\n",
              "      background-color: #E2EBFA;\n",
              "      box-shadow: 0px 1px 2px rgba(60, 64, 67, 0.3), 0px 1px 3px 1px rgba(60, 64, 67, 0.15);\n",
              "      fill: #174EA6;\n",
              "    }\n",
              "\n",
              "    [theme=dark] .colab-df-convert {\n",
              "      background-color: #3B4455;\n",
              "      fill: #D2E3FC;\n",
              "    }\n",
              "\n",
              "    [theme=dark] .colab-df-convert:hover {\n",
              "      background-color: #434B5C;\n",
              "      box-shadow: 0px 1px 3px 1px rgba(0, 0, 0, 0.15);\n",
              "      filter: drop-shadow(0px 1px 2px rgba(0, 0, 0, 0.3));\n",
              "      fill: #FFFFFF;\n",
              "    }\n",
              "  </style>\n",
              "\n",
              "      <script>\n",
              "        const buttonEl =\n",
              "          document.querySelector('#df-cae840eb-883f-4447-862a-8722e0b0977f button.colab-df-convert');\n",
              "        buttonEl.style.display =\n",
              "          google.colab.kernel.accessAllowed ? 'block' : 'none';\n",
              "\n",
              "        async function convertToInteractive(key) {\n",
              "          const element = document.querySelector('#df-cae840eb-883f-4447-862a-8722e0b0977f');\n",
              "          const dataTable =\n",
              "            await google.colab.kernel.invokeFunction('convertToInteractive',\n",
              "                                                     [key], {});\n",
              "          if (!dataTable) return;\n",
              "\n",
              "          const docLinkHtml = 'Like what you see? Visit the ' +\n",
              "            '<a target=\"_blank\" href=https://colab.research.google.com/notebooks/data_table.ipynb>data table notebook</a>'\n",
              "            + ' to learn more about interactive tables.';\n",
              "          element.innerHTML = '';\n",
              "          dataTable['output_type'] = 'display_data';\n",
              "          await google.colab.output.renderOutput(dataTable, element);\n",
              "          const docLink = document.createElement('div');\n",
              "          docLink.innerHTML = docLinkHtml;\n",
              "          element.appendChild(docLink);\n",
              "        }\n",
              "      </script>\n",
              "    </div>\n",
              "  </div>\n",
              "  "
            ],
            "text/plain": [
              "          0         1         2\n",
              "0  0.027224  0.464229  0.590842\n",
              "1  0.000765  0.390416  0.565048\n",
              "2  0.013994  0.316604  0.539255\n",
              "3  0.146289  0.242791  0.513462\n",
              "4  0.119830  0.168978  0.487668\n",
              "5  0.238895  0.095165  0.461875\n",
              "6  0.397648  0.218871  0.412038"
            ]
          },
          "metadata": {},
          "execution_count": 21
        }
      ],
      "source": [
        "pd.DataFrame(dataset).head(7)"
      ]
    },
    {
      "cell_type": "code",
      "execution_count": 22,
      "metadata": {
        "id": "0s3StVDs6K20",
        "outputId": "b0add979-434a-4bb9-ad04-b1b864b6bb51",
        "colab": {
          "base_uri": "https://localhost:8080/",
          "height": 173
        }
      },
      "outputs": [
        {
          "output_type": "execute_result",
          "data": {
            "text/html": [
              "\n",
              "  <div id=\"df-f7725dca-f3ef-4b6c-aa66-e98750aa74f6\">\n",
              "    <div class=\"colab-df-container\">\n",
              "      <div>\n",
              "<style scoped>\n",
              "    .dataframe tbody tr th:only-of-type {\n",
              "        vertical-align: middle;\n",
              "    }\n",
              "\n",
              "    .dataframe tbody tr th {\n",
              "        vertical-align: top;\n",
              "    }\n",
              "\n",
              "    .dataframe thead th {\n",
              "        text-align: right;\n",
              "    }\n",
              "</style>\n",
              "<table border=\"1\" class=\"dataframe\">\n",
              "  <thead>\n",
              "    <tr style=\"text-align: right;\">\n",
              "      <th></th>\n",
              "      <th>0</th>\n",
              "      <th>1</th>\n",
              "      <th>2</th>\n",
              "    </tr>\n",
              "  </thead>\n",
              "  <tbody>\n",
              "    <tr>\n",
              "      <th>0</th>\n",
              "      <td>0.027224</td>\n",
              "      <td>0.464229</td>\n",
              "      <td>0.590842</td>\n",
              "    </tr>\n",
              "    <tr>\n",
              "      <th>1</th>\n",
              "      <td>0.000765</td>\n",
              "      <td>0.390416</td>\n",
              "      <td>0.565048</td>\n",
              "    </tr>\n",
              "    <tr>\n",
              "      <th>2</th>\n",
              "      <td>0.013994</td>\n",
              "      <td>0.316604</td>\n",
              "      <td>0.539255</td>\n",
              "    </tr>\n",
              "    <tr>\n",
              "      <th>3</th>\n",
              "      <td>0.013994</td>\n",
              "      <td>0.242791</td>\n",
              "      <td>0.513462</td>\n",
              "    </tr>\n",
              "  </tbody>\n",
              "</table>\n",
              "</div>\n",
              "      <button class=\"colab-df-convert\" onclick=\"convertToInteractive('df-f7725dca-f3ef-4b6c-aa66-e98750aa74f6')\"\n",
              "              title=\"Convert this dataframe to an interactive table.\"\n",
              "              style=\"display:none;\">\n",
              "        \n",
              "  <svg xmlns=\"http://www.w3.org/2000/svg\" height=\"24px\"viewBox=\"0 0 24 24\"\n",
              "       width=\"24px\">\n",
              "    <path d=\"M0 0h24v24H0V0z\" fill=\"none\"/>\n",
              "    <path d=\"M18.56 5.44l.94 2.06.94-2.06 2.06-.94-2.06-.94-.94-2.06-.94 2.06-2.06.94zm-11 1L8.5 8.5l.94-2.06 2.06-.94-2.06-.94L8.5 2.5l-.94 2.06-2.06.94zm10 10l.94 2.06.94-2.06 2.06-.94-2.06-.94-.94-2.06-.94 2.06-2.06.94z\"/><path d=\"M17.41 7.96l-1.37-1.37c-.4-.4-.92-.59-1.43-.59-.52 0-1.04.2-1.43.59L10.3 9.45l-7.72 7.72c-.78.78-.78 2.05 0 2.83L4 21.41c.39.39.9.59 1.41.59.51 0 1.02-.2 1.41-.59l7.78-7.78 2.81-2.81c.8-.78.8-2.07 0-2.86zM5.41 20L4 18.59l7.72-7.72 1.47 1.35L5.41 20z\"/>\n",
              "  </svg>\n",
              "      </button>\n",
              "      \n",
              "  <style>\n",
              "    .colab-df-container {\n",
              "      display:flex;\n",
              "      flex-wrap:wrap;\n",
              "      gap: 12px;\n",
              "    }\n",
              "\n",
              "    .colab-df-convert {\n",
              "      background-color: #E8F0FE;\n",
              "      border: none;\n",
              "      border-radius: 50%;\n",
              "      cursor: pointer;\n",
              "      display: none;\n",
              "      fill: #1967D2;\n",
              "      height: 32px;\n",
              "      padding: 0 0 0 0;\n",
              "      width: 32px;\n",
              "    }\n",
              "\n",
              "    .colab-df-convert:hover {\n",
              "      background-color: #E2EBFA;\n",
              "      box-shadow: 0px 1px 2px rgba(60, 64, 67, 0.3), 0px 1px 3px 1px rgba(60, 64, 67, 0.15);\n",
              "      fill: #174EA6;\n",
              "    }\n",
              "\n",
              "    [theme=dark] .colab-df-convert {\n",
              "      background-color: #3B4455;\n",
              "      fill: #D2E3FC;\n",
              "    }\n",
              "\n",
              "    [theme=dark] .colab-df-convert:hover {\n",
              "      background-color: #434B5C;\n",
              "      box-shadow: 0px 1px 3px 1px rgba(0, 0, 0, 0.15);\n",
              "      filter: drop-shadow(0px 1px 2px rgba(0, 0, 0, 0.3));\n",
              "      fill: #FFFFFF;\n",
              "    }\n",
              "  </style>\n",
              "\n",
              "      <script>\n",
              "        const buttonEl =\n",
              "          document.querySelector('#df-f7725dca-f3ef-4b6c-aa66-e98750aa74f6 button.colab-df-convert');\n",
              "        buttonEl.style.display =\n",
              "          google.colab.kernel.accessAllowed ? 'block' : 'none';\n",
              "\n",
              "        async function convertToInteractive(key) {\n",
              "          const element = document.querySelector('#df-f7725dca-f3ef-4b6c-aa66-e98750aa74f6');\n",
              "          const dataTable =\n",
              "            await google.colab.kernel.invokeFunction('convertToInteractive',\n",
              "                                                     [key], {});\n",
              "          if (!dataTable) return;\n",
              "\n",
              "          const docLinkHtml = 'Like what you see? Visit the ' +\n",
              "            '<a target=\"_blank\" href=https://colab.research.google.com/notebooks/data_table.ipynb>data table notebook</a>'\n",
              "            + ' to learn more about interactive tables.';\n",
              "          element.innerHTML = '';\n",
              "          dataTable['output_type'] = 'display_data';\n",
              "          await google.colab.output.renderOutput(dataTable, element);\n",
              "          const docLink = document.createElement('div');\n",
              "          docLink.innerHTML = docLinkHtml;\n",
              "          element.appendChild(docLink);\n",
              "        }\n",
              "      </script>\n",
              "    </div>\n",
              "  </div>\n",
              "  "
            ],
            "text/plain": [
              "          0         1         2\n",
              "0  0.027224  0.464229  0.590842\n",
              "1  0.000765  0.390416  0.565048\n",
              "2  0.013994  0.316604  0.539255\n",
              "3  0.013994  0.242791  0.513462"
            ]
          },
          "metadata": {},
          "execution_count": 22
        }
      ],
      "source": [
        "pd.DataFrame(x_train_single[0])"
      ]
    },
    {
      "cell_type": "code",
      "execution_count": 23,
      "metadata": {
        "id": "FBTbWMJu6K24",
        "outputId": "1facfc6e-4749-4fd4-e3c1-cfb01e734f92",
        "colab": {
          "base_uri": "https://localhost:8080/",
          "height": 0
        }
      },
      "outputs": [
        {
          "output_type": "execute_result",
          "data": {
            "text/plain": [
              "0.14628868576272533"
            ]
          },
          "metadata": {},
          "execution_count": 23
        }
      ],
      "source": [
        "y_train_single[0]"
      ]
    },
    {
      "cell_type": "code",
      "execution_count": 24,
      "metadata": {
        "id": "AgcxGvnQ6K26"
      },
      "outputs": [],
      "source": [
        "BATCH_SIZE = 32\n",
        "BUFFER_SIZE = 100\n",
        "\n",
        "train_data_single = tf.data.Dataset.from_tensor_slices((x_train_single, y_train_single))\n",
        "train_data_single = train_data_single.cache().shuffle(BUFFER_SIZE).batch(BATCH_SIZE).repeat()\n",
        "\n",
        "val_data_single = tf.data.Dataset.from_tensor_slices((x_val_single, y_val_single))\n",
        "val_data_single = val_data_single.batch(BATCH_SIZE).repeat()"
      ]
    },
    {
      "cell_type": "code",
      "execution_count": 25,
      "metadata": {
        "id": "C_0dJQKl6K28"
      },
      "outputs": [],
      "source": [
        "# construct the model\n",
        "\n",
        "single_step_model = tf.keras.models.Sequential()\n",
        "single_step_model.add(tf.keras.layers.LSTM(8, input_shape=x_train_single.shape[-2:]))\n",
        "#single_step_model.add(tf.keras.layers.LSTM(8, kernel_regularizer=l2(0.01), bias_regularizer=l2(0.01)))\n",
        "#single_step_model.add(tf.keras.layers.LSTM(8, dropout=0.2, recurrent_dropout=0.2, return_sequences=True))\n",
        "#single_step_model.add(tf.keras.layers.Bidirectional(tf.keras.layers.LSTM(4)))\n",
        "single_step_model.add(tf.keras.layers.Dense(1))\n",
        "\n",
        "single_step_model.compile(optimizer=tf.keras.optimizers.RMSprop(learning_rate=0.0001), loss='mae')"
      ]
    },
    {
      "cell_type": "code",
      "execution_count": 26,
      "metadata": {
        "scrolled": true,
        "id": "5bXLhbN_6K29",
        "outputId": "ce625daf-ffab-45b2-ba92-df3ec614904c",
        "colab": {
          "base_uri": "https://localhost:8080/",
          "height": 0
        }
      },
      "outputs": [
        {
          "output_type": "stream",
          "name": "stdout",
          "text": [
            "Epoch 1/30\n",
            "200/200 [==============================] - 9s 15ms/step - loss: 0.7326 - val_loss: 0.8144\n",
            "Epoch 2/30\n",
            "200/200 [==============================] - 2s 9ms/step - loss: 0.6127 - val_loss: 0.7992\n",
            "Epoch 3/30\n",
            "200/200 [==============================] - 1s 7ms/step - loss: 0.5271 - val_loss: 0.7879\n",
            "Epoch 4/30\n",
            "200/200 [==============================] - 2s 8ms/step - loss: 0.4673 - val_loss: 0.7686\n",
            "Epoch 5/30\n",
            "200/200 [==============================] - 1s 7ms/step - loss: 0.4211 - val_loss: 0.7413\n",
            "Epoch 6/30\n",
            "200/200 [==============================] - 1s 7ms/step - loss: 0.3827 - val_loss: 0.7064\n",
            "Epoch 7/30\n",
            "200/200 [==============================] - 1s 7ms/step - loss: 0.3506 - val_loss: 0.6688\n",
            "Epoch 8/30\n",
            "200/200 [==============================] - 1s 7ms/step - loss: 0.3214 - val_loss: 0.6389\n",
            "Epoch 9/30\n",
            "200/200 [==============================] - 2s 10ms/step - loss: 0.2953 - val_loss: 0.6093\n",
            "Epoch 10/30\n",
            "200/200 [==============================] - 2s 9ms/step - loss: 0.2708 - val_loss: 0.5812\n",
            "Epoch 11/30\n",
            "200/200 [==============================] - 1s 7ms/step - loss: 0.2484 - val_loss: 0.5635\n",
            "Epoch 12/30\n",
            "200/200 [==============================] - 1s 7ms/step - loss: 0.2301 - val_loss: 0.5391\n",
            "Epoch 13/30\n",
            "200/200 [==============================] - 1s 7ms/step - loss: 0.2152 - val_loss: 0.5099\n",
            "Epoch 14/30\n",
            "200/200 [==============================] - 1s 6ms/step - loss: 0.2037 - val_loss: 0.4833\n",
            "Epoch 15/30\n",
            "200/200 [==============================] - 1s 5ms/step - loss: 0.1920 - val_loss: 0.4621\n",
            "Epoch 16/30\n",
            "200/200 [==============================] - 1s 6ms/step - loss: 0.1830 - val_loss: 0.4387\n",
            "Epoch 17/30\n",
            "200/200 [==============================] - 1s 5ms/step - loss: 0.1749 - val_loss: 0.4141\n",
            "Epoch 18/30\n",
            "200/200 [==============================] - 1s 5ms/step - loss: 0.1659 - val_loss: 0.4000\n",
            "Epoch 19/30\n",
            "200/200 [==============================] - 1s 4ms/step - loss: 0.1598 - val_loss: 0.3864\n",
            "Epoch 20/30\n",
            "200/200 [==============================] - 1s 5ms/step - loss: 0.1542 - val_loss: 0.3744\n",
            "Epoch 21/30\n",
            "200/200 [==============================] - 1s 6ms/step - loss: 0.1497 - val_loss: 0.3637\n",
            "Epoch 22/30\n",
            "200/200 [==============================] - 1s 5ms/step - loss: 0.1466 - val_loss: 0.3584\n",
            "Epoch 23/30\n",
            "200/200 [==============================] - 1s 5ms/step - loss: 0.1434 - val_loss: 0.3546\n",
            "Epoch 24/30\n",
            "200/200 [==============================] - 1s 4ms/step - loss: 0.1414 - val_loss: 0.3537\n",
            "Epoch 25/30\n",
            "200/200 [==============================] - 1s 5ms/step - loss: 0.1387 - val_loss: 0.3528\n",
            "Epoch 26/30\n",
            "200/200 [==============================] - 1s 4ms/step - loss: 0.1367 - val_loss: 0.3535\n",
            "Epoch 27/30\n",
            "200/200 [==============================] - 1s 5ms/step - loss: 0.1347 - val_loss: 0.3570\n",
            "Epoch 28/30\n",
            "200/200 [==============================] - 1s 4ms/step - loss: 0.1337 - val_loss: 0.3617\n",
            "Epoch 29/30\n",
            "200/200 [==============================] - 1s 4ms/step - loss: 0.1315 - val_loss: 0.3670\n",
            "Epoch 30/30\n",
            "200/200 [==============================] - 1s 4ms/step - loss: 0.1295 - val_loss: 0.3736\n"
          ]
        }
      ],
      "source": [
        "# train the model\n",
        "single_step_history = single_step_model.fit(train_data_single, epochs=30, steps_per_epoch=200, validation_data=val_data_single, validation_steps=50)"
      ]
    },
    {
      "cell_type": "code",
      "execution_count": 27,
      "metadata": {
        "id": "Ok4qDpKj6K3A",
        "outputId": "e9845ba2-757d-4d97-badc-e94534fa4a16",
        "colab": {
          "base_uri": "https://localhost:8080/",
          "height": 80
        }
      },
      "outputs": [
        {
          "output_type": "execute_result",
          "data": {
            "text/html": [
              "\n",
              "  <div id=\"df-8f56e099-3967-4647-a4b7-03f9a7bcb540\">\n",
              "    <div class=\"colab-df-container\">\n",
              "      <div>\n",
              "<style scoped>\n",
              "    .dataframe tbody tr th:only-of-type {\n",
              "        vertical-align: middle;\n",
              "    }\n",
              "\n",
              "    .dataframe tbody tr th {\n",
              "        vertical-align: top;\n",
              "    }\n",
              "\n",
              "    .dataframe thead th {\n",
              "        text-align: right;\n",
              "    }\n",
              "</style>\n",
              "<table border=\"1\" class=\"dataframe\">\n",
              "  <thead>\n",
              "    <tr style=\"text-align: right;\">\n",
              "      <th></th>\n",
              "      <th>accuracy</th>\n",
              "      <th>f1_score</th>\n",
              "      <th>precision</th>\n",
              "      <th>recall</th>\n",
              "      <th>mse</th>\n",
              "      <th>rmse</th>\n",
              "      <th>mae</th>\n",
              "      <th>r2</th>\n",
              "    </tr>\n",
              "  </thead>\n",
              "  <tbody>\n",
              "    <tr>\n",
              "      <th>0</th>\n",
              "      <td>0</td>\n",
              "      <td>0</td>\n",
              "      <td>0</td>\n",
              "      <td>0</td>\n",
              "      <td>0.222786</td>\n",
              "      <td>0.472002</td>\n",
              "      <td>0.373627</td>\n",
              "      <td>0.780335</td>\n",
              "    </tr>\n",
              "  </tbody>\n",
              "</table>\n",
              "</div>\n",
              "      <button class=\"colab-df-convert\" onclick=\"convertToInteractive('df-8f56e099-3967-4647-a4b7-03f9a7bcb540')\"\n",
              "              title=\"Convert this dataframe to an interactive table.\"\n",
              "              style=\"display:none;\">\n",
              "        \n",
              "  <svg xmlns=\"http://www.w3.org/2000/svg\" height=\"24px\"viewBox=\"0 0 24 24\"\n",
              "       width=\"24px\">\n",
              "    <path d=\"M0 0h24v24H0V0z\" fill=\"none\"/>\n",
              "    <path d=\"M18.56 5.44l.94 2.06.94-2.06 2.06-.94-2.06-.94-.94-2.06-.94 2.06-2.06.94zm-11 1L8.5 8.5l.94-2.06 2.06-.94-2.06-.94L8.5 2.5l-.94 2.06-2.06.94zm10 10l.94 2.06.94-2.06 2.06-.94-2.06-.94-.94-2.06-.94 2.06-2.06.94z\"/><path d=\"M17.41 7.96l-1.37-1.37c-.4-.4-.92-.59-1.43-.59-.52 0-1.04.2-1.43.59L10.3 9.45l-7.72 7.72c-.78.78-.78 2.05 0 2.83L4 21.41c.39.39.9.59 1.41.59.51 0 1.02-.2 1.41-.59l7.78-7.78 2.81-2.81c.8-.78.8-2.07 0-2.86zM5.41 20L4 18.59l7.72-7.72 1.47 1.35L5.41 20z\"/>\n",
              "  </svg>\n",
              "      </button>\n",
              "      \n",
              "  <style>\n",
              "    .colab-df-container {\n",
              "      display:flex;\n",
              "      flex-wrap:wrap;\n",
              "      gap: 12px;\n",
              "    }\n",
              "\n",
              "    .colab-df-convert {\n",
              "      background-color: #E8F0FE;\n",
              "      border: none;\n",
              "      border-radius: 50%;\n",
              "      cursor: pointer;\n",
              "      display: none;\n",
              "      fill: #1967D2;\n",
              "      height: 32px;\n",
              "      padding: 0 0 0 0;\n",
              "      width: 32px;\n",
              "    }\n",
              "\n",
              "    .colab-df-convert:hover {\n",
              "      background-color: #E2EBFA;\n",
              "      box-shadow: 0px 1px 2px rgba(60, 64, 67, 0.3), 0px 1px 3px 1px rgba(60, 64, 67, 0.15);\n",
              "      fill: #174EA6;\n",
              "    }\n",
              "\n",
              "    [theme=dark] .colab-df-convert {\n",
              "      background-color: #3B4455;\n",
              "      fill: #D2E3FC;\n",
              "    }\n",
              "\n",
              "    [theme=dark] .colab-df-convert:hover {\n",
              "      background-color: #434B5C;\n",
              "      box-shadow: 0px 1px 3px 1px rgba(0, 0, 0, 0.15);\n",
              "      filter: drop-shadow(0px 1px 2px rgba(0, 0, 0, 0.3));\n",
              "      fill: #FFFFFF;\n",
              "    }\n",
              "  </style>\n",
              "\n",
              "      <script>\n",
              "        const buttonEl =\n",
              "          document.querySelector('#df-8f56e099-3967-4647-a4b7-03f9a7bcb540 button.colab-df-convert');\n",
              "        buttonEl.style.display =\n",
              "          google.colab.kernel.accessAllowed ? 'block' : 'none';\n",
              "\n",
              "        async function convertToInteractive(key) {\n",
              "          const element = document.querySelector('#df-8f56e099-3967-4647-a4b7-03f9a7bcb540');\n",
              "          const dataTable =\n",
              "            await google.colab.kernel.invokeFunction('convertToInteractive',\n",
              "                                                     [key], {});\n",
              "          if (!dataTable) return;\n",
              "\n",
              "          const docLinkHtml = 'Like what you see? Visit the ' +\n",
              "            '<a target=\"_blank\" href=https://colab.research.google.com/notebooks/data_table.ipynb>data table notebook</a>'\n",
              "            + ' to learn more about interactive tables.';\n",
              "          element.innerHTML = '';\n",
              "          dataTable['output_type'] = 'display_data';\n",
              "          await google.colab.output.renderOutput(dataTable, element);\n",
              "          const docLink = document.createElement('div');\n",
              "          docLink.innerHTML = docLinkHtml;\n",
              "          element.appendChild(docLink);\n",
              "        }\n",
              "      </script>\n",
              "    </div>\n",
              "  </div>\n",
              "  "
            ],
            "text/plain": [
              "   accuracy  f1_score  precision  recall       mse      rmse       mae  \\\n",
              "0         0         0          0       0  0.222786  0.472002  0.373627   \n",
              "\n",
              "         r2  \n",
              "0  0.780335  "
            ]
          },
          "metadata": {},
          "execution_count": 27
        }
      ],
      "source": [
        "# evaluate the model\n",
        "model_eval_metrics(y_val_single, single_step_model.predict(x_val_single), classification=\"FALSE\")"
      ]
    },
    {
      "cell_type": "code",
      "source": [
        "# visualize the result\n",
        "\n",
        "predict = pd.DataFrame(single_step_model.predict(x_val_single)*data_std[0]+data_mean[0])\n",
        "predict.index = features.iloc[TRAIN_SPLIT+past_history:,:].index\n",
        "\n",
        "actual = pd.DataFrame(y_val_single*data_std[0]+data_mean[0])\n",
        "actual.index = features.iloc[TRAIN_SPLIT+past_history:,:].index\n",
        "\n",
        "plt.plot(features.iloc[TRAIN_SPLIT+past_history:,0], label=\"actual\")\n",
        "plt.plot(predict, \"r\", linestyle='--', label=\"predict\")\n",
        "plt.legend(loc='best')\n",
        "plt.title('RNN-LSTM: Level')\n",
        "plt.savefig(\"images/google_lstm.png\")\n",
        "\n",
        "print(\"Test set score: {:.2f}\".format(r2_score(y_val_single, single_step_model.predict(x_val_single))))\n"
      ],
      "metadata": {
        "colab": {
          "base_uri": "https://localhost:8080/",
          "height": 300
        },
        "id": "uab-eFpfC92x",
        "outputId": "bda7bcd1-817e-4430-808d-d49f2ddc5038"
      },
      "execution_count": 28,
      "outputs": [
        {
          "output_type": "stream",
          "name": "stdout",
          "text": [
            "Test set score: 0.78\n"
          ]
        },
        {
          "output_type": "display_data",
          "data": {
            "image/png": "[encoded data removed]",
            "text/plain": [
              "<Figure size 432x288 with 1 Axes>"
            ]
          },
          "metadata": {
            "needs_background": "light"
          }
        }
      ]
    },
    {
      "cell_type": "markdown",
      "metadata": {
        "id": "Ejf0lB18P4CB"
      },
      "source": [
        "### Weekly Nowcasting"
      ]
    },
    {
      "cell_type": "code",
      "source": [
        "# Get the weekly google trend data (unemployment)\n",
        "pytrends.build_payload(kw_list1, timeframe='today 5-y', geo='JP')\n",
        "#pytrends.build_payload(kw_list, timeframe='2017-01-01 2021-01-16', geo='JP')\n",
        "gt3 = pytrends.interest_over_time()\n",
        "gt3 = gt3.rename(columns = {kw1: \"var1\", \"isPartial\": \"info\"})\n",
        "#gt3.to_csv(\"data/gt3.csv\")\n",
        "#dateparse = lambda dates: pd.datetime.strptime(dates, '%Y-%m-%d')\n",
        "#gt3 = pd.read_csv('data/gt3.csv', index_col=0, date_parser=dateparse, dtype='float')\n",
        "\n",
        "# Extract trend factor\n",
        "s3 = seasonal_decompose(gt3.iloc[:,0], freq=6, extrapolate_trend='freq')\n",
        "t3 = s3.trend\n",
        "#gtw_u = pd.DataFrame(t3)\n",
        "#gtw_u.to_csv(\"data/gtw_u.csv\")\n",
        "\n",
        "plt.plot(t3)\n",
        "plt.plot(gt3.iloc[:,0], linestyle='--')"
      ],
      "metadata": {
        "colab": {
          "base_uri": "https://localhost:8080/",
          "height": 284
        },
        "id": "7O7aRY3WPskB",
        "outputId": "f959f750-16b5-4886-d591-c1d23ea9f6fb"
      },
      "execution_count": 29,
      "outputs": [
        {
          "output_type": "execute_result",
          "data": {
            "text/plain": [
              "[<matplotlib.lines.Line2D at 0x7f9f73ec37d0>]"
            ]
          },
          "metadata": {},
          "execution_count": 29
        },
        {
          "output_type": "display_data",
          "data": {
            "image/png": "[encoded data removed]",
            "text/plain": [
              "<Figure size 432x288 with 1 Axes>"
            ]
          },
          "metadata": {
            "needs_background": "light"
          }
        }
      ]
    },
    {
      "cell_type": "code",
      "source": [
        "# Get the weekly google trend data (saving)\n",
        "pytrends.build_payload(kw_list2, timeframe='today 5-y', geo='JP')\n",
        "#pytrends.build_payload(kw_list, timeframe='2004-01-01 2020-02-29', geo='JP')\n",
        "gt4 = pytrends.interest_over_time()\n",
        "gt4 = gt4.rename(columns = {kw2: \"var2\", \"isPartial\": \"info\"})\n",
        "#gt4.to_csv(\"data/gt4.csv\")\n",
        "#dateparse = lambda dates: pd.datetime.strptime(dates, '%Y-%m-%d')\n",
        "#gt4 = pd.read_csv('data/gt4.csv', index_col=0, date_parser=dateparse, dtype='float')\n",
        "\n",
        "# Extract trend factor\n",
        "s4 = seasonal_decompose(gt4.iloc[:,0], freq=24, extrapolate_trend='freq')\n",
        "t4 = s4.trend\n",
        "#gtw_s = pd.DataFrame(t4)\n",
        "#gtw_s.to_csv(\"data/gtw_s.csv\")\n",
        "\n",
        "plt.plot(t4)\n",
        "plt.plot(gt4.iloc[:,0], linestyle='--')"
      ],
      "metadata": {
        "colab": {
          "base_uri": "https://localhost:8080/",
          "height": 284
        },
        "id": "x4SyrMQjTCD0",
        "outputId": "e6ef3a2f-2744-4c01-9a57-be1b70688864"
      },
      "execution_count": 30,
      "outputs": [
        {
          "output_type": "execute_result",
          "data": {
            "text/plain": [
              "[<matplotlib.lines.Line2D at 0x7f9f73e01290>]"
            ]
          },
          "metadata": {},
          "execution_count": 30
        },
        {
          "output_type": "display_data",
          "data": {
            "image/png": "[encoded data removed]",
            "text/plain": [
              "<Figure size 432x288 with 1 Axes>"
            ]
          },
          "metadata": {
            "needs_background": "light"
          }
        }
      ]
    },
    {
      "cell_type": "code",
      "source": [
        "# load the weekly ibc data\n",
        "dateparse = lambda dates: pd.datetime.strptime(dates, '%Y-%m-%d')\n",
        "wibc = pd.read_csv('data/wibc.csv', index_col=0, date_parser=dateparse, dtype='float')\n",
        "\n",
        "# merge google trend with ibc data\n",
        "temp = pd.merge(t3, t4, on='date')\n",
        "XX = pd.merge(wibc, temp, on='date')\n",
        "XX"
      ],
      "metadata": {
        "colab": {
          "base_uri": "https://localhost:8080/",
          "height": 488
        },
        "id": "Xpvr-3LGxfT9",
        "outputId": "016240e4-35b8-48d1-c07e-93384ad3e6c6"
      },
      "execution_count": 31,
      "outputs": [
        {
          "output_type": "stream",
          "name": "stderr",
          "text": [
            "/usr/local/lib/python3.7/dist-packages/ipykernel_launcher.py:2: FutureWarning: The pandas.datetime class is deprecated and will be removed from pandas in a future version. Import from datetime module instead.\n",
            "  \n"
          ]
        },
        {
          "output_type": "execute_result",
          "data": {
            "text/html": [
              "\n",
              "  <div id=\"df-a9045946-94f6-4c5c-903e-2997b34cabc8\">\n",
              "    <div class=\"colab-df-container\">\n",
              "      <div>\n",
              "<style scoped>\n",
              "    .dataframe tbody tr th:only-of-type {\n",
              "        vertical-align: middle;\n",
              "    }\n",
              "\n",
              "    .dataframe tbody tr th {\n",
              "        vertical-align: top;\n",
              "    }\n",
              "\n",
              "    .dataframe thead th {\n",
              "        text-align: right;\n",
              "    }\n",
              "</style>\n",
              "<table border=\"1\" class=\"dataframe\">\n",
              "  <thead>\n",
              "    <tr style=\"text-align: right;\">\n",
              "      <th></th>\n",
              "      <th>ibc</th>\n",
              "      <th>var1</th>\n",
              "      <th>var2</th>\n",
              "    </tr>\n",
              "    <tr>\n",
              "      <th>date</th>\n",
              "      <th></th>\n",
              "      <th></th>\n",
              "      <th></th>\n",
              "    </tr>\n",
              "  </thead>\n",
              "  <tbody>\n",
              "    <tr>\n",
              "      <th>2017-03-12</th>\n",
              "      <td>102.5</td>\n",
              "      <td>44.934921</td>\n",
              "      <td>66.308838</td>\n",
              "    </tr>\n",
              "    <tr>\n",
              "      <th>2017-03-19</th>\n",
              "      <td>102.5</td>\n",
              "      <td>43.823016</td>\n",
              "      <td>66.262968</td>\n",
              "    </tr>\n",
              "    <tr>\n",
              "      <th>2017-03-26</th>\n",
              "      <td>102.5</td>\n",
              "      <td>42.711111</td>\n",
              "      <td>66.217098</td>\n",
              "    </tr>\n",
              "    <tr>\n",
              "      <th>2017-04-02</th>\n",
              "      <td>103.4</td>\n",
              "      <td>41.666667</td>\n",
              "      <td>66.171229</td>\n",
              "    </tr>\n",
              "    <tr>\n",
              "      <th>2017-04-09</th>\n",
              "      <td>103.4</td>\n",
              "      <td>40.666667</td>\n",
              "      <td>66.125359</td>\n",
              "    </tr>\n",
              "    <tr>\n",
              "      <th>...</th>\n",
              "      <td>...</td>\n",
              "      <td>...</td>\n",
              "      <td>...</td>\n",
              "    </tr>\n",
              "    <tr>\n",
              "      <th>2022-01-30</th>\n",
              "      <td>NaN</td>\n",
              "      <td>50.916667</td>\n",
              "      <td>60.383705</td>\n",
              "    </tr>\n",
              "    <tr>\n",
              "      <th>2022-02-06</th>\n",
              "      <td>NaN</td>\n",
              "      <td>50.750000</td>\n",
              "      <td>60.270236</td>\n",
              "    </tr>\n",
              "    <tr>\n",
              "      <th>2022-02-13</th>\n",
              "      <td>NaN</td>\n",
              "      <td>50.833333</td>\n",
              "      <td>60.156766</td>\n",
              "    </tr>\n",
              "    <tr>\n",
              "      <th>2022-02-20</th>\n",
              "      <td>NaN</td>\n",
              "      <td>54.885714</td>\n",
              "      <td>60.043297</td>\n",
              "    </tr>\n",
              "    <tr>\n",
              "      <th>2022-02-27</th>\n",
              "      <td>NaN</td>\n",
              "      <td>56.388095</td>\n",
              "      <td>59.929828</td>\n",
              "    </tr>\n",
              "  </tbody>\n",
              "</table>\n",
              "<p>260 rows × 3 columns</p>\n",
              "</div>\n",
              "      <button class=\"colab-df-convert\" onclick=\"convertToInteractive('df-a9045946-94f6-4c5c-903e-2997b34cabc8')\"\n",
              "              title=\"Convert this dataframe to an interactive table.\"\n",
              "              style=\"display:none;\">\n",
              "        \n",
              "  <svg xmlns=\"http://www.w3.org/2000/svg\" height=\"24px\"viewBox=\"0 0 24 24\"\n",
              "       width=\"24px\">\n",
              "    <path d=\"M0 0h24v24H0V0z\" fill=\"none\"/>\n",
              "    <path d=\"M18.56 5.44l.94 2.06.94-2.06 2.06-.94-2.06-.94-.94-2.06-.94 2.06-2.06.94zm-11 1L8.5 8.5l.94-2.06 2.06-.94-2.06-.94L8.5 2.5l-.94 2.06-2.06.94zm10 10l.94 2.06.94-2.06 2.06-.94-2.06-.94-.94-2.06-.94 2.06-2.06.94z\"/><path d=\"M17.41 7.96l-1.37-1.37c-.4-.4-.92-.59-1.43-.59-.52 0-1.04.2-1.43.59L10.3 9.45l-7.72 7.72c-.78.78-.78 2.05 0 2.83L4 21.41c.39.39.9.59 1.41.59.51 0 1.02-.2 1.41-.59l7.78-7.78 2.81-2.81c.8-.78.8-2.07 0-2.86zM5.41 20L4 18.59l7.72-7.72 1.47 1.35L5.41 20z\"/>\n",
              "  </svg>\n",
              "      </button>\n",
              "      \n",
              "  <style>\n",
              "    .colab-df-container {\n",
              "      display:flex;\n",
              "      flex-wrap:wrap;\n",
              "      gap: 12px;\n",
              "    }\n",
              "\n",
              "    .colab-df-convert {\n",
              "      background-color: #E8F0FE;\n",
              "      border: none;\n",
              "      border-radius: 50%;\n",
              "      cursor: pointer;\n",
              "      display: none;\n",
              "      fill: #1967D2;\n",
              "      height: 32px;\n",
              "      padding: 0 0 0 0;\n",
              "      width: 32px;\n",
              "    }\n",
              "\n",
              "    .colab-df-convert:hover {\n",
              "      background-color: #E2EBFA;\n",
              "      box-shadow: 0px 1px 2px rgba(60, 64, 67, 0.3), 0px 1px 3px 1px rgba(60, 64, 67, 0.15);\n",
              "      fill: #174EA6;\n",
              "    }\n",
              "\n",
              "    [theme=dark] .colab-df-convert {\n",
              "      background-color: #3B4455;\n",
              "      fill: #D2E3FC;\n",
              "    }\n",
              "\n",
              "    [theme=dark] .colab-df-convert:hover {\n",
              "      background-color: #434B5C;\n",
              "      box-shadow: 0px 1px 3px 1px rgba(0, 0, 0, 0.15);\n",
              "      filter: drop-shadow(0px 1px 2px rgba(0, 0, 0, 0.3));\n",
              "      fill: #FFFFFF;\n",
              "    }\n",
              "  </style>\n",
              "\n",
              "      <script>\n",
              "        const buttonEl =\n",
              "          document.querySelector('#df-a9045946-94f6-4c5c-903e-2997b34cabc8 button.colab-df-convert');\n",
              "        buttonEl.style.display =\n",
              "          google.colab.kernel.accessAllowed ? 'block' : 'none';\n",
              "\n",
              "        async function convertToInteractive(key) {\n",
              "          const element = document.querySelector('#df-a9045946-94f6-4c5c-903e-2997b34cabc8');\n",
              "          const dataTable =\n",
              "            await google.colab.kernel.invokeFunction('convertToInteractive',\n",
              "                                                     [key], {});\n",
              "          if (!dataTable) return;\n",
              "\n",
              "          const docLinkHtml = 'Like what you see? Visit the ' +\n",
              "            '<a target=\"_blank\" href=https://colab.research.google.com/notebooks/data_table.ipynb>data table notebook</a>'\n",
              "            + ' to learn more about interactive tables.';\n",
              "          element.innerHTML = '';\n",
              "          dataTable['output_type'] = 'display_data';\n",
              "          await google.colab.output.renderOutput(dataTable, element);\n",
              "          const docLink = document.createElement('div');\n",
              "          docLink.innerHTML = docLinkHtml;\n",
              "          element.appendChild(docLink);\n",
              "        }\n",
              "      </script>\n",
              "    </div>\n",
              "  </div>\n",
              "  "
            ],
            "text/plain": [
              "              ibc       var1       var2\n",
              "date                                   \n",
              "2017-03-12  102.5  44.934921  66.308838\n",
              "2017-03-19  102.5  43.823016  66.262968\n",
              "2017-03-26  102.5  42.711111  66.217098\n",
              "2017-04-02  103.4  41.666667  66.171229\n",
              "2017-04-09  103.4  40.666667  66.125359\n",
              "...           ...        ...        ...\n",
              "2022-01-30    NaN  50.916667  60.383705\n",
              "2022-02-06    NaN  50.750000  60.270236\n",
              "2022-02-13    NaN  50.833333  60.156766\n",
              "2022-02-20    NaN  54.885714  60.043297\n",
              "2022-02-27    NaN  56.388095  59.929828\n",
              "\n",
              "[260 rows x 3 columns]"
            ]
          },
          "metadata": {},
          "execution_count": 31
        }
      ]
    },
    {
      "cell_type": "code",
      "source": [
        "# feature scaling\n",
        "END = len(XX)-XX['ibc'].isnull().sum()\n",
        "dataset = XX.iloc[:END,:].values\n",
        "data_mean = dataset.mean(axis=0)\n",
        "data_std = dataset.std(axis=0)\n",
        "dataset = (dataset-data_mean)/data_std\n",
        "\n",
        "# create the test data\n",
        "x_single, y_single = multivariate_data(dataset, dataset[:,0], 0, None, past_history, future_target, STEP, single_step=True)\n",
        "\n",
        "# save the output\n",
        "past_estimate = pd.DataFrame(single_step_model.predict(x_single)*data_std[0]+data_mean[0])\n",
        "past_estimate.index = XX.iloc[past_history:END,:].index\n",
        "\n",
        "# visualize the result \n",
        "plt.plot(past_estimate, \"r\", linestyle='--', label=\"predict\")\n",
        "plt.legend(loc='best')\n",
        "plt.title('RNN-LSTM: weekly')\n",
        "plt.savefig(\"images/google_lstm.png\")\n"
      ],
      "metadata": {
        "colab": {
          "base_uri": "https://localhost:8080/",
          "height": 281
        },
        "id": "HDbhAPQRUeIC",
        "outputId": "f510d992-707a-4e02-facc-ddd505ec0e97"
      },
      "execution_count": 32,
      "outputs": [
        {
          "output_type": "display_data",
          "data": {
            "image/png": "[encoded data removed]",
            "text/plain": [
              "<Figure size 432x288 with 1 Axes>"
            ]
          },
          "metadata": {
            "needs_background": "light"
          }
        }
      ]
    },
    {
      "cell_type": "code",
      "source": [
        "# compare to IBC graph\n",
        "plt.plot(ts.iloc[156:,0:1])"
      ],
      "metadata": {
        "colab": {
          "base_uri": "https://localhost:8080/",
          "height": 284
        },
        "id": "oaVqild0uNfY",
        "outputId": "7476d6fe-1c78-48b4-c91a-ade8d2e8f11d"
      },
      "execution_count": 33,
      "outputs": [
        {
          "output_type": "execute_result",
          "data": {
            "text/plain": [
              "[<matplotlib.lines.Line2D at 0x7f9f730fa1d0>]"
            ]
          },
          "metadata": {},
          "execution_count": 33
        },
        {
          "output_type": "display_data",
          "data": {
            "image/png": "[encoded data removed]",
            "text/plain": [
              "<Figure size 432x288 with 1 Axes>"
            ]
          },
          "metadata": {
            "needs_background": "light"
          }
        }
      ]
    },
    {
      "cell_type": "code",
      "source": [
        "# nowcast the future IBC\n",
        "for i in range(END, len(XX)):\n",
        "  XX.iat[i,0] = float(single_step_model.predict(x_single)[-1]*data_std[0]+data_mean[0])\n",
        "  #XX.iat[i,0] = XX.iat[i-1,0]\n",
        "  temp = XX.iloc[:i+1,:]\n",
        "  print(temp.tail())\n",
        "  print('-----------------------------------------------')\n",
        "\n",
        "  # feature scaling\n",
        "  dataset = temp.values\n",
        "  data_mean = dataset.mean(axis=0)\n",
        "  data_std = dataset.std(axis=0)\n",
        "  dataset = (dataset-data_mean)/data_std\n",
        "  \n",
        "  # create the test data\n",
        "  x_single, y_single = multivariate_data(dataset, dataset[:,0], 0, None, past_history, future_target, STEP, single_step=True)\n",
        "\n",
        "  XX.iat[i,0] = float(single_step_model.predict(x_single)[-1]*data_std[0]+data_mean[0])\n",
        "  print(XX.tail(10))\n",
        "  print('-----------------------------------------------')\n",
        "\n",
        "# save the output\n",
        "future_estimate = pd.DataFrame(XX.iloc[END:len(XX)+1,0])"
      ],
      "metadata": {
        "id": "g7bDWewxUo7_",
        "colab": {
          "base_uri": "https://localhost:8080/",
          "height": 0
        },
        "outputId": "cd1d0333-1184-4389-f0b4-b3f80885522b"
      },
      "execution_count": 34,
      "outputs": [
        {
          "output_type": "stream",
          "name": "stdout",
          "text": [
            "                  ibc       var1       var2\n",
            "date                                       \n",
            "2021-12-05  92.700000  44.166667  59.979167\n",
            "2021-12-12  92.700000  41.916667  59.833333\n",
            "2021-12-19  92.700000  41.666667  61.064520\n",
            "2021-12-26  92.700000  42.666667  60.951051\n",
            "2022-01-02  94.945335  44.083333  60.837582\n",
            "-----------------------------------------------\n",
            "                  ibc       var1       var2\n",
            "date                                       \n",
            "2021-12-26  92.700000  42.666667  60.951051\n",
            "2022-01-02  94.355362  44.083333  60.837582\n",
            "2022-01-09        NaN  45.333333  60.724112\n",
            "2022-01-16        NaN  47.583333  60.610643\n",
            "2022-01-23        NaN  50.083333  60.497174\n",
            "2022-01-30        NaN  50.916667  60.383705\n",
            "2022-02-06        NaN  50.750000  60.270236\n",
            "2022-02-13        NaN  50.833333  60.156766\n",
            "2022-02-20        NaN  54.885714  60.043297\n",
            "2022-02-27        NaN  56.388095  59.929828\n",
            "-----------------------------------------------\n",
            "                  ibc       var1       var2\n",
            "date                                       \n",
            "2021-12-12  92.700000  41.916667  59.833333\n",
            "2021-12-19  92.700000  41.666667  61.064520\n",
            "2021-12-26  92.700000  42.666667  60.951051\n",
            "2022-01-02  94.355362  44.083333  60.837582\n",
            "2022-01-09  94.355362  45.333333  60.724112\n",
            "-----------------------------------------------\n",
            "                  ibc       var1       var2\n",
            "date                                       \n",
            "2021-12-26  92.700000  42.666667  60.951051\n",
            "2022-01-02  94.355362  44.083333  60.837582\n",
            "2022-01-09  94.671722  45.333333  60.724112\n",
            "2022-01-16        NaN  47.583333  60.610643\n",
            "2022-01-23        NaN  50.083333  60.497174\n",
            "2022-01-30        NaN  50.916667  60.383705\n",
            "2022-02-06        NaN  50.750000  60.270236\n",
            "2022-02-13        NaN  50.833333  60.156766\n",
            "2022-02-20        NaN  54.885714  60.043297\n",
            "2022-02-27        NaN  56.388095  59.929828\n",
            "-----------------------------------------------\n",
            "                  ibc       var1       var2\n",
            "date                                       \n",
            "2021-12-19  92.700000  41.666667  61.064520\n",
            "2021-12-26  92.700000  42.666667  60.951051\n",
            "2022-01-02  94.355362  44.083333  60.837582\n",
            "2022-01-09  94.671722  45.333333  60.724112\n",
            "2022-01-16  94.671722  47.583333  60.610643\n",
            "-----------------------------------------------\n",
            "                  ibc       var1       var2\n",
            "date                                       \n",
            "2021-12-26  92.700000  42.666667  60.951051\n",
            "2022-01-02  94.355362  44.083333  60.837582\n",
            "2022-01-09  94.671722  45.333333  60.724112\n",
            "2022-01-16  94.544777  47.583333  60.610643\n",
            "2022-01-23        NaN  50.083333  60.497174\n",
            "2022-01-30        NaN  50.916667  60.383705\n",
            "2022-02-06        NaN  50.750000  60.270236\n",
            "2022-02-13        NaN  50.833333  60.156766\n",
            "2022-02-20        NaN  54.885714  60.043297\n",
            "2022-02-27        NaN  56.388095  59.929828\n",
            "-----------------------------------------------\n",
            "                  ibc       var1       var2\n",
            "date                                       \n",
            "2021-12-26  92.700000  42.666667  60.951051\n",
            "2022-01-02  94.355362  44.083333  60.837582\n",
            "2022-01-09  94.671722  45.333333  60.724112\n",
            "2022-01-16  94.544777  47.583333  60.610643\n",
            "2022-01-23  94.544777  50.083333  60.497174\n",
            "-----------------------------------------------\n",
            "                  ibc       var1       var2\n",
            "date                                       \n",
            "2021-12-26  92.700000  42.666667  60.951051\n",
            "2022-01-02  94.355362  44.083333  60.837582\n",
            "2022-01-09  94.671722  45.333333  60.724112\n",
            "2022-01-16  94.544777  47.583333  60.610643\n",
            "2022-01-23  93.954880  50.083333  60.497174\n",
            "2022-01-30        NaN  50.916667  60.383705\n",
            "2022-02-06        NaN  50.750000  60.270236\n",
            "2022-02-13        NaN  50.833333  60.156766\n",
            "2022-02-20        NaN  54.885714  60.043297\n",
            "2022-02-27        NaN  56.388095  59.929828\n",
            "-----------------------------------------------\n",
            "                  ibc       var1       var2\n",
            "date                                       \n",
            "2022-01-02  94.355362  44.083333  60.837582\n",
            "2022-01-09  94.671722  45.333333  60.724112\n",
            "2022-01-16  94.544777  47.583333  60.610643\n",
            "2022-01-23  93.954880  50.083333  60.497174\n",
            "2022-01-30  93.954880  50.916667  60.383705\n",
            "-----------------------------------------------\n",
            "                  ibc       var1       var2\n",
            "date                                       \n",
            "2021-12-26  92.700000  42.666667  60.951051\n",
            "2022-01-02  94.355362  44.083333  60.837582\n",
            "2022-01-09  94.671722  45.333333  60.724112\n",
            "2022-01-16  94.544777  47.583333  60.610643\n",
            "2022-01-23  93.954880  50.083333  60.497174\n",
            "2022-01-30  93.210800  50.916667  60.383705\n",
            "2022-02-06        NaN  50.750000  60.270236\n",
            "2022-02-13        NaN  50.833333  60.156766\n",
            "2022-02-20        NaN  54.885714  60.043297\n",
            "2022-02-27        NaN  56.388095  59.929828\n",
            "-----------------------------------------------\n",
            "                  ibc       var1       var2\n",
            "date                                       \n",
            "2022-01-09  94.671722  45.333333  60.724112\n",
            "2022-01-16  94.544777  47.583333  60.610643\n",
            "2022-01-23  93.954880  50.083333  60.497174\n",
            "2022-01-30  93.210800  50.916667  60.383705\n",
            "2022-02-06  93.210800  50.750000  60.270236\n",
            "-----------------------------------------------\n",
            "                  ibc       var1       var2\n",
            "date                                       \n",
            "2021-12-26  92.700000  42.666667  60.951051\n",
            "2022-01-02  94.355362  44.083333  60.837582\n",
            "2022-01-09  94.671722  45.333333  60.724112\n",
            "2022-01-16  94.544777  47.583333  60.610643\n",
            "2022-01-23  93.954880  50.083333  60.497174\n",
            "2022-01-30  93.210800  50.916667  60.383705\n",
            "2022-02-06  92.723091  50.750000  60.270236\n",
            "2022-02-13        NaN  50.833333  60.156766\n",
            "2022-02-20        NaN  54.885714  60.043297\n",
            "2022-02-27        NaN  56.388095  59.929828\n",
            "-----------------------------------------------\n",
            "                  ibc       var1       var2\n",
            "date                                       \n",
            "2022-01-16  94.544777  47.583333  60.610643\n",
            "2022-01-23  93.954880  50.083333  60.497174\n",
            "2022-01-30  93.210800  50.916667  60.383705\n",
            "2022-02-06  92.723091  50.750000  60.270236\n",
            "2022-02-13  92.723091  50.833333  60.156766\n",
            "-----------------------------------------------\n",
            "                  ibc       var1       var2\n",
            "date                                       \n",
            "2021-12-26  92.700000  42.666667  60.951051\n",
            "2022-01-02  94.355362  44.083333  60.837582\n",
            "2022-01-09  94.671722  45.333333  60.724112\n",
            "2022-01-16  94.544777  47.583333  60.610643\n",
            "2022-01-23  93.954880  50.083333  60.497174\n",
            "2022-01-30  93.210800  50.916667  60.383705\n",
            "2022-02-06  92.723091  50.750000  60.270236\n",
            "2022-02-13  92.416206  50.833333  60.156766\n",
            "2022-02-20        NaN  54.885714  60.043297\n",
            "2022-02-27        NaN  56.388095  59.929828\n",
            "-----------------------------------------------\n",
            "                  ibc       var1       var2\n",
            "date                                       \n",
            "2022-01-23  93.954880  50.083333  60.497174\n",
            "2022-01-30  93.210800  50.916667  60.383705\n",
            "2022-02-06  92.723091  50.750000  60.270236\n",
            "2022-02-13  92.416206  50.833333  60.156766\n",
            "2022-02-20  92.416206  54.885714  60.043297\n",
            "-----------------------------------------------\n",
            "                  ibc       var1       var2\n",
            "date                                       \n",
            "2021-12-26  92.700000  42.666667  60.951051\n",
            "2022-01-02  94.355362  44.083333  60.837582\n",
            "2022-01-09  94.671722  45.333333  60.724112\n",
            "2022-01-16  94.544777  47.583333  60.610643\n",
            "2022-01-23  93.954880  50.083333  60.497174\n",
            "2022-01-30  93.210800  50.916667  60.383705\n",
            "2022-02-06  92.723091  50.750000  60.270236\n",
            "2022-02-13  92.416206  50.833333  60.156766\n",
            "2022-02-20  91.168152  54.885714  60.043297\n",
            "2022-02-27        NaN  56.388095  59.929828\n",
            "-----------------------------------------------\n",
            "                  ibc       var1       var2\n",
            "date                                       \n",
            "2022-01-30  93.210800  50.916667  60.383705\n",
            "2022-02-06  92.723091  50.750000  60.270236\n",
            "2022-02-13  92.416206  50.833333  60.156766\n",
            "2022-02-20  91.168152  54.885714  60.043297\n",
            "2022-02-27  91.168152  56.388095  59.929828\n",
            "-----------------------------------------------\n",
            "                  ibc       var1       var2\n",
            "date                                       \n",
            "2021-12-26  92.700000  42.666667  60.951051\n",
            "2022-01-02  94.355362  44.083333  60.837582\n",
            "2022-01-09  94.671722  45.333333  60.724112\n",
            "2022-01-16  94.544777  47.583333  60.610643\n",
            "2022-01-23  93.954880  50.083333  60.497174\n",
            "2022-01-30  93.210800  50.916667  60.383705\n",
            "2022-02-06  92.723091  50.750000  60.270236\n",
            "2022-02-13  92.416206  50.833333  60.156766\n",
            "2022-02-20  91.168152  54.885714  60.043297\n",
            "2022-02-27  89.591751  56.388095  59.929828\n",
            "-----------------------------------------------\n"
          ]
        }
      ]
    },
    {
      "cell_type": "code",
      "source": [
        "#plt.plot(single_step_model.predict(x_single)*data_std[0]+data_mean[0], \"r\", linestyle='--', label=\"predict\")\n",
        "\n",
        "df_concat = pd.concat([past_estimate.set_axis(['ibc'], axis='columns'), future_estimate])\n",
        "plt.plot(df_concat, \"r\", linestyle='--', label=\"predict\")\n",
        "plt.legend(loc='best')\n",
        "plt.title('RNN-LSTM: weekly + nowcast')\n",
        "plt.savefig(\"images/google_lstm.png\")"
      ],
      "metadata": {
        "id": "uj5G4K_2lyqj",
        "colab": {
          "base_uri": "https://localhost:8080/",
          "height": 281
        },
        "outputId": "eda86e5e-1e8a-43ac-b322-5a952ed3c89d"
      },
      "execution_count": 35,
      "outputs": [
        {
          "output_type": "display_data",
          "data": {
            "image/png": "[encoded data removed]",
            "text/plain": [
              "<Figure size 432x288 with 1 Axes>"
            ]
          },
          "metadata": {
            "needs_background": "light"
          }
        }
      ]
    },
    {
      "cell_type": "code",
      "source": [
        "ibc_latest = pd.read_csv('data/ibc_latest.csv')\n",
        "#ibc_latest\n",
        "\n",
        "# compare to IBC graph\n",
        "plt.plot(ibc_latest['Coincident Index'][390:])"
      ],
      "metadata": {
        "colab": {
          "base_uri": "https://localhost:8080/",
          "height": 284
        },
        "id": "3v9yEPED2rkv",
        "outputId": "9c256154-4fb9-44b7-e069-b15835148eb8"
      },
      "execution_count": 47,
      "outputs": [
        {
          "output_type": "execute_result",
          "data": {
            "text/plain": [
              "[<matplotlib.lines.Line2D at 0x7f9f7149e250>]"
            ]
          },
          "metadata": {},
          "execution_count": 47
        },
        {
          "output_type": "display_data",
          "data": {
            "image/png": "[encoded data removed]",
            "text/plain": [
              "<Figure size 432x288 with 1 Axes>"
            ]
          },
          "metadata": {
            "needs_background": "light"
          }
        }
      ]
    }
  ],
  "metadata": {
    "kernelspec": {
      "display_name": "Python 3",
      "language": "python",
      "name": "python3"
    },
    "language_info": {
      "codemirror_mode": {
        "name": "ipython",
        "version": 3
      },
      "file_extension": ".py",
      "mimetype": "text/x-python",
      "name": "python",
      "nbconvert_exporter": "python",
      "pygments_lexer": "ipython3",
      "version": "3.7.4"
    },
    "colab": {
      "name": "nowcast.ipynb",
      "provenance": [],
      "collapsed_sections": [
        "xflSN4wChbhV",
        "Xr2PamD36Kv_"
      ],
      "include_colab_link": true
    }
  },
  "nbformat": 4,
  "nbformat_minor": 0
}