{
  "cells": [
    {
      "cell_type": "markdown",
      "metadata": {
        "id": "view-in-github",
        "colab_type": "text"
      },
      "source": [
        "<a href=\"https://colab.research.google.com/github/Taketo-Muroya/Nowcasting-Project/blob/main/nowcast-1.ipynb\" target=\"_parent\"><img src=\"https://colab.research.google.com/assets/colab-badge.svg\" alt=\"Open In Colab\"/></a>"
      ]
    },
    {
      "cell_type": "markdown",
      "metadata": {
        "id": "04bkrl6V6Kub"
      },
      "source": [
        "# The nowcasting of economic conditions in Japan using ML"
      ]
    },
    {
      "cell_type": "markdown",
      "metadata": {
        "id": "xflSN4wChbhV"
      },
      "source": [
        "## Setting Up"
      ]
    },
    {
      "cell_type": "code",
      "source": [
        "from google.colab import drive\n",
        "drive.mount('/content/drive')\n",
        "import os\n",
        "os.chdir('drive/MyDrive/Colab Notebooks/Economic-Nowcasting-in-Japan')"
      ],
      "metadata": {
        "colab": {
          "base_uri": "https://localhost:8080/"
        },
        "id": "G2mZkw6H74ON",
        "outputId": "8a9d772f-d9eb-426f-9508-9b5bc055dd42"
      },
      "execution_count": 1,
      "outputs": [
        {
          "output_type": "stream",
          "name": "stdout",
          "text": [
            "Drive already mounted at /content/drive; to attempt to forcibly remount, call drive.mount(\"/content/drive\", force_remount=True).\n"
          ]
        }
      ]
    },
    {
      "cell_type": "code",
      "source": [
        "pip install pytrends"
      ],
      "metadata": {
        "colab": {
          "base_uri": "https://localhost:8080/"
        },
        "id": "nNDJg5GtV3-n",
        "outputId": "b511275e-b484-485a-f47b-392b3125684a"
      },
      "execution_count": 2,
      "outputs": [
        {
          "output_type": "stream",
          "name": "stdout",
          "text": [
            "Requirement already satisfied: pytrends in /usr/local/lib/python3.7/dist-packages (4.7.3)\n",
            "Requirement already satisfied: lxml in /usr/local/lib/python3.7/dist-packages (from pytrends) (4.2.6)\n",
            "Requirement already satisfied: pandas>=0.25 in /usr/local/lib/python3.7/dist-packages (from pytrends) (1.1.5)\n",
            "Requirement already satisfied: requests in /usr/local/lib/python3.7/dist-packages (from pytrends) (2.23.0)\n",
            "Requirement already satisfied: numpy>=1.15.4 in /usr/local/lib/python3.7/dist-packages (from pandas>=0.25->pytrends) (1.19.5)\n",
            "Requirement already satisfied: pytz>=2017.2 in /usr/local/lib/python3.7/dist-packages (from pandas>=0.25->pytrends) (2018.9)\n",
            "Requirement already satisfied: python-dateutil>=2.7.3 in /usr/local/lib/python3.7/dist-packages (from pandas>=0.25->pytrends) (2.8.2)\n",
            "Requirement already satisfied: six>=1.5 in /usr/local/lib/python3.7/dist-packages (from python-dateutil>=2.7.3->pandas>=0.25->pytrends) (1.15.0)\n",
            "Requirement already satisfied: urllib3!=1.25.0,!=1.25.1,<1.26,>=1.21.1 in /usr/local/lib/python3.7/dist-packages (from requests->pytrends) (1.24.3)\n",
            "Requirement already satisfied: idna<3,>=2.5 in /usr/local/lib/python3.7/dist-packages (from requests->pytrends) (2.10)\n",
            "Requirement already satisfied: chardet<4,>=3.0.2 in /usr/local/lib/python3.7/dist-packages (from requests->pytrends) (3.0.4)\n",
            "Requirement already satisfied: certifi>=2017.4.17 in /usr/local/lib/python3.7/dist-packages (from requests->pytrends) (2021.10.8)\n"
          ]
        }
      ]
    },
    {
      "cell_type": "code",
      "execution_count": 3,
      "metadata": {
        "id": "XVRC4jcI6KvX",
        "colab": {
          "base_uri": "https://localhost:8080/"
        },
        "outputId": "b546a040-e25d-47bc-821f-ffb3f4f80f3c"
      },
      "outputs": [
        {
          "output_type": "stream",
          "name": "stderr",
          "text": [
            "/usr/local/lib/python3.7/dist-packages/statsmodels/tools/_testing.py:19: FutureWarning: pandas.util.testing is deprecated. Use the functions in the public API at pandas.testing instead.\n",
            "  import pandas.util.testing as tm\n"
          ]
        }
      ],
      "source": [
        "# Import packages\n",
        "import re\n",
        "import os\n",
        "import sys\n",
        "import requests\n",
        "#import MeCab\n",
        "#import oseti\n",
        "#import urllib\n",
        "import pandas as pd\n",
        "import numpy as np\n",
        "import matplotlib as mpl\n",
        "import matplotlib.pyplot as plt\n",
        "import statsmodels.api as sm\n",
        "import tensorflow as tf\n",
        "\n",
        "from math import sqrt\n",
        "from bs4 import BeautifulSoup\n",
        "from pathlib import Path\n",
        "from subprocess import call\n",
        "from keras.regularizers import l2\n",
        "from statsmodels.tsa.seasonal import seasonal_decompose\n",
        "\n",
        "from nltk.corpus import stopwords as sw       \n",
        "from nltk.stem import PorterStemmer\n",
        "from nltk.stem import WordNetLemmatizer\n",
        "from wordcloud import WordCloud, STOPWORDS\n",
        "\n",
        "from sklearn.feature_extraction.text import CountVectorizer\n",
        "from sklearn.feature_extraction.text import TfidfVectorizer\n",
        "from sklearn.decomposition import PCA\n",
        "from sklearn.model_selection import train_test_split\n",
        "from sklearn.model_selection import cross_val_score\n",
        "from sklearn.model_selection import GridSearchCV\n",
        "from sklearn.neighbors import KNeighborsRegressor\n",
        "from sklearn.linear_model import LinearRegression\n",
        "from sklearn.linear_model import Ridge\n",
        "from sklearn.linear_model import Lasso\n",
        "from sklearn.ensemble import RandomForestRegressor\n",
        "from sklearn.metrics import accuracy_score\n",
        "from sklearn.metrics import f1_score\n",
        "from sklearn.metrics import precision_score\n",
        "from sklearn.metrics import recall_score\n",
        "from sklearn.metrics import roc_auc_score\n",
        "from sklearn.metrics import mean_squared_error\n",
        "from sklearn.metrics import r2_score\n",
        "from sklearn.metrics import mean_absolute_error"
      ]
    },
    {
      "cell_type": "code",
      "execution_count": 4,
      "metadata": {
        "id": "9SQHrKQouqyg"
      },
      "outputs": [],
      "source": [
        "def multivariate_data(dataset, target, start_index, end_index, \n",
        "                      history_size, target_size, step, single_step=False):\n",
        "  data = []\n",
        "  labels = []\n",
        "\n",
        "  start_index = start_index + history_size\n",
        "  if end_index is None:\n",
        "    end_index = len(dataset) - target_size\n",
        "\n",
        "  for i in range(start_index, end_index):\n",
        "    # add current dataset\n",
        "    indices = range(i-history_size, i+1, step)\n",
        "    temp = pd.DataFrame(dataset[indices])\n",
        "    # replace current target to previous one\n",
        "    temp.iat[history_size, 0] = temp.iat[history_size-1, 0]\n",
        "    data.append(np.array(temp))\n",
        "\n",
        "    if single_step:\n",
        "      labels.append(target[i+target_size])\n",
        "    else:\n",
        "      labels.append(target[i:i+target_size])\n",
        "\n",
        "  return np.array(data), np.array(labels)"
      ]
    },
    {
      "cell_type": "code",
      "execution_count": 5,
      "metadata": {
        "id": "9sCSpqAkuzlm"
      },
      "outputs": [],
      "source": [
        "def model_eval_metrics(y_true, y_pred, classification=\"TRUE\"):\n",
        "     if classification==\"TRUE\":\n",
        "        accuracy_eval = accuracy_score(y_true, y_pred)\n",
        "        f1_score_eval = f1_score(y_true, y_pred,average=\"macro\",zero_division=0)\n",
        "        precision_eval = precision_score(y_true, y_pred,average=\"macro\",zero_division=0)\n",
        "        recall_eval = recall_score(y_true, y_pred,average=\"macro\",zero_division=0)\n",
        "        mse_eval = 0\n",
        "        rmse_eval = 0\n",
        "        mae_eval = 0\n",
        "        r2_eval = 0\n",
        "        metricdata = {'accuracy': [accuracy_eval], 'f1_score': [f1_score_eval], \n",
        "                      'precision': [precision_eval], 'recall': [recall_eval], 'mse': [mse_eval], \n",
        "                      'rmse': [rmse_eval], 'mae': [mae_eval], 'r2': [r2_eval]}\n",
        "        finalmetricdata = pd.DataFrame.from_dict(metricdata)\n",
        "     else:\n",
        "        accuracy_eval = 0\n",
        "        f1_score_eval = 0\n",
        "        precision_eval = 0\n",
        "        recall_eval = 0\n",
        "        mse_eval = mean_squared_error(y_true, y_pred)\n",
        "        rmse_eval = sqrt(mean_squared_error(y_true, y_pred))\n",
        "        mae_eval = mean_absolute_error(y_true, y_pred)\n",
        "        r2_eval = r2_score(y_true, y_pred)\n",
        "        metricdata = {'accuracy': [accuracy_eval], 'f1_score': [f1_score_eval], \n",
        "                      'precision': [precision_eval], 'recall': [recall_eval], 'mse': [mse_eval], \n",
        "                      'rmse': [rmse_eval], 'mae': [mae_eval], 'r2': [r2_eval]}\n",
        "        finalmetricdata = pd.DataFrame.from_dict(metricdata)\n",
        "     return finalmetricdata"
      ]
    },
    {
      "cell_type": "markdown",
      "metadata": {
        "id": "Xr2PamD36Kv_"
      },
      "source": [
        "## Target variable: Indexes of Business Conditions (IBC)"
      ]
    },
    {
      "cell_type": "markdown",
      "metadata": {
        "id": "PquS-anG6KwT"
      },
      "source": [
        "The Index of Business Conditions (IBC) represents monthly economic conditions in Japan. This study uses either coincident index (level) or coincident ann (change from the previouse year: Year-over-Year) as a target variable."
      ]
    },
    {
      "cell_type": "code",
      "execution_count": 6,
      "metadata": {
        "scrolled": true,
        "colab": {
          "base_uri": "https://localhost:8080/",
          "height": 419
        },
        "id": "7JLjEq3r6KwW",
        "outputId": "4eb51770-fb99-4c58-f455-b99f18302131"
      },
      "outputs": [
        {
          "output_type": "execute_result",
          "data": {
            "text/html": [
              "\n",
              "  <div id=\"df-1bd6a3c7-5009-4a7f-870a-1fc030981c97\">\n",
              "    <div class=\"colab-df-container\">\n",
              "      <div>\n",
              "<style scoped>\n",
              "    .dataframe tbody tr th:only-of-type {\n",
              "        vertical-align: middle;\n",
              "    }\n",
              "\n",
              "    .dataframe tbody tr th {\n",
              "        vertical-align: top;\n",
              "    }\n",
              "\n",
              "    .dataframe thead th {\n",
              "        text-align: right;\n",
              "    }\n",
              "</style>\n",
              "<table border=\"1\" class=\"dataframe\">\n",
              "  <thead>\n",
              "    <tr style=\"text-align: right;\">\n",
              "      <th></th>\n",
              "      <th>time</th>\n",
              "      <th>Coincident Index</th>\n",
              "      <th>Coincident ann</th>\n",
              "    </tr>\n",
              "  </thead>\n",
              "  <tbody>\n",
              "    <tr>\n",
              "      <th>0</th>\n",
              "      <td>Jan-85</td>\n",
              "      <td>79.1</td>\n",
              "      <td>NaN</td>\n",
              "    </tr>\n",
              "    <tr>\n",
              "      <th>1</th>\n",
              "      <td>Feb-85</td>\n",
              "      <td>78.8</td>\n",
              "      <td>NaN</td>\n",
              "    </tr>\n",
              "    <tr>\n",
              "      <th>2</th>\n",
              "      <td>Mar-85</td>\n",
              "      <td>78.7</td>\n",
              "      <td>NaN</td>\n",
              "    </tr>\n",
              "    <tr>\n",
              "      <th>3</th>\n",
              "      <td>Apr-85</td>\n",
              "      <td>79.6</td>\n",
              "      <td>NaN</td>\n",
              "    </tr>\n",
              "    <tr>\n",
              "      <th>4</th>\n",
              "      <td>May-85</td>\n",
              "      <td>79.5</td>\n",
              "      <td>NaN</td>\n",
              "    </tr>\n",
              "    <tr>\n",
              "      <th>...</th>\n",
              "      <td>...</td>\n",
              "      <td>...</td>\n",
              "      <td>...</td>\n",
              "    </tr>\n",
              "    <tr>\n",
              "      <th>438</th>\n",
              "      <td>Jul-21</td>\n",
              "      <td>94.0</td>\n",
              "      <td>16.480793</td>\n",
              "    </tr>\n",
              "    <tr>\n",
              "      <th>439</th>\n",
              "      <td>Aug-21</td>\n",
              "      <td>91.0</td>\n",
              "      <td>10.840438</td>\n",
              "    </tr>\n",
              "    <tr>\n",
              "      <th>440</th>\n",
              "      <td>Sep-21</td>\n",
              "      <td>88.7</td>\n",
              "      <td>4.722550</td>\n",
              "    </tr>\n",
              "    <tr>\n",
              "      <th>441</th>\n",
              "      <td>Oct-21</td>\n",
              "      <td>89.8</td>\n",
              "      <td>1.468927</td>\n",
              "    </tr>\n",
              "    <tr>\n",
              "      <th>442</th>\n",
              "      <td>Nov-21</td>\n",
              "      <td>93.6</td>\n",
              "      <td>5.643341</td>\n",
              "    </tr>\n",
              "  </tbody>\n",
              "</table>\n",
              "<p>443 rows × 3 columns</p>\n",
              "</div>\n",
              "      <button class=\"colab-df-convert\" onclick=\"convertToInteractive('df-1bd6a3c7-5009-4a7f-870a-1fc030981c97')\"\n",
              "              title=\"Convert this dataframe to an interactive table.\"\n",
              "              style=\"display:none;\">\n",
              "        \n",
              "  <svg xmlns=\"http://www.w3.org/2000/svg\" height=\"24px\"viewBox=\"0 0 24 24\"\n",
              "       width=\"24px\">\n",
              "    <path d=\"M0 0h24v24H0V0z\" fill=\"none\"/>\n",
              "    <path d=\"M18.56 5.44l.94 2.06.94-2.06 2.06-.94-2.06-.94-.94-2.06-.94 2.06-2.06.94zm-11 1L8.5 8.5l.94-2.06 2.06-.94-2.06-.94L8.5 2.5l-.94 2.06-2.06.94zm10 10l.94 2.06.94-2.06 2.06-.94-2.06-.94-.94-2.06-.94 2.06-2.06.94z\"/><path d=\"M17.41 7.96l-1.37-1.37c-.4-.4-.92-.59-1.43-.59-.52 0-1.04.2-1.43.59L10.3 9.45l-7.72 7.72c-.78.78-.78 2.05 0 2.83L4 21.41c.39.39.9.59 1.41.59.51 0 1.02-.2 1.41-.59l7.78-7.78 2.81-2.81c.8-.78.8-2.07 0-2.86zM5.41 20L4 18.59l7.72-7.72 1.47 1.35L5.41 20z\"/>\n",
              "  </svg>\n",
              "      </button>\n",
              "      \n",
              "  <style>\n",
              "    .colab-df-container {\n",
              "      display:flex;\n",
              "      flex-wrap:wrap;\n",
              "      gap: 12px;\n",
              "    }\n",
              "\n",
              "    .colab-df-convert {\n",
              "      background-color: #E8F0FE;\n",
              "      border: none;\n",
              "      border-radius: 50%;\n",
              "      cursor: pointer;\n",
              "      display: none;\n",
              "      fill: #1967D2;\n",
              "      height: 32px;\n",
              "      padding: 0 0 0 0;\n",
              "      width: 32px;\n",
              "    }\n",
              "\n",
              "    .colab-df-convert:hover {\n",
              "      background-color: #E2EBFA;\n",
              "      box-shadow: 0px 1px 2px rgba(60, 64, 67, 0.3), 0px 1px 3px 1px rgba(60, 64, 67, 0.15);\n",
              "      fill: #174EA6;\n",
              "    }\n",
              "\n",
              "    [theme=dark] .colab-df-convert {\n",
              "      background-color: #3B4455;\n",
              "      fill: #D2E3FC;\n",
              "    }\n",
              "\n",
              "    [theme=dark] .colab-df-convert:hover {\n",
              "      background-color: #434B5C;\n",
              "      box-shadow: 0px 1px 3px 1px rgba(0, 0, 0, 0.15);\n",
              "      filter: drop-shadow(0px 1px 2px rgba(0, 0, 0, 0.3));\n",
              "      fill: #FFFFFF;\n",
              "    }\n",
              "  </style>\n",
              "\n",
              "      <script>\n",
              "        const buttonEl =\n",
              "          document.querySelector('#df-1bd6a3c7-5009-4a7f-870a-1fc030981c97 button.colab-df-convert');\n",
              "        buttonEl.style.display =\n",
              "          google.colab.kernel.accessAllowed ? 'block' : 'none';\n",
              "\n",
              "        async function convertToInteractive(key) {\n",
              "          const element = document.querySelector('#df-1bd6a3c7-5009-4a7f-870a-1fc030981c97');\n",
              "          const dataTable =\n",
              "            await google.colab.kernel.invokeFunction('convertToInteractive',\n",
              "                                                     [key], {});\n",
              "          if (!dataTable) return;\n",
              "\n",
              "          const docLinkHtml = 'Like what you see? Visit the ' +\n",
              "            '<a target=\"_blank\" href=https://colab.research.google.com/notebooks/data_table.ipynb>data table notebook</a>'\n",
              "            + ' to learn more about interactive tables.';\n",
              "          element.innerHTML = '';\n",
              "          dataTable['output_type'] = 'display_data';\n",
              "          await google.colab.output.renderOutput(dataTable, element);\n",
              "          const docLink = document.createElement('div');\n",
              "          docLink.innerHTML = docLinkHtml;\n",
              "          element.appendChild(docLink);\n",
              "        }\n",
              "      </script>\n",
              "    </div>\n",
              "  </div>\n",
              "  "
            ],
            "text/plain": [
              "       time  Coincident Index  Coincident ann\n",
              "0    Jan-85              79.1             NaN\n",
              "1    Feb-85              78.8             NaN\n",
              "2    Mar-85              78.7             NaN\n",
              "3    Apr-85              79.6             NaN\n",
              "4    May-85              79.5             NaN\n",
              "..      ...               ...             ...\n",
              "438  Jul-21              94.0       16.480793\n",
              "439  Aug-21              91.0       10.840438\n",
              "440  Sep-21              88.7        4.722550\n",
              "441  Oct-21              89.8        1.468927\n",
              "442  Nov-21              93.6        5.643341\n",
              "\n",
              "[443 rows x 3 columns]"
            ]
          },
          "metadata": {},
          "execution_count": 6
        }
      ],
      "source": [
        "ibc = pd.read_csv('data/ibc_new.csv')\n",
        "ibc['Coincident ann'] = 100*ibc['Coincident Index'].pct_change(12)\n",
        "ibc"
      ]
    },
    {
      "cell_type": "code",
      "source": [
        "plt.plot(ibc['Coincident Index'])"
      ],
      "metadata": {
        "colab": {
          "base_uri": "https://localhost:8080/",
          "height": 284
        },
        "id": "go8o4L0OGrfI",
        "outputId": "87e20281-8e4a-440e-ca3c-32d248965c4b"
      },
      "execution_count": 7,
      "outputs": [
        {
          "output_type": "execute_result",
          "data": {
            "text/plain": [
              "[<matplotlib.lines.Line2D at 0x7ff970c44690>]"
            ]
          },
          "metadata": {},
          "execution_count": 7
        },
        {
          "output_type": "display_data",
          "data": {
            "image/png": "[encoded data removed]",
            "text/plain": [
              "<Figure size 432x288 with 1 Axes>"
            ]
          },
          "metadata": {
            "needs_background": "light"
          }
        }
      ]
    },
    {
      "cell_type": "markdown",
      "metadata": {
        "id": "bqEWyPPh6K1t"
      },
      "source": [
        "## Google Trend"
      ]
    },
    {
      "cell_type": "markdown",
      "metadata": {
        "id": "4ozBR6qI6K1u"
      },
      "source": [
        "Use google trend information as predictors"
      ]
    },
    {
      "cell_type": "markdown",
      "metadata": {
        "id": "hiNhjuF-wMpW"
      },
      "source": [
        "### Google Trend API"
      ]
    },
    {
      "cell_type": "code",
      "execution_count": 8,
      "metadata": {
        "scrolled": true,
        "id": "ZVQwFMwf6K1x"
      },
      "outputs": [],
      "source": [
        "# Import packages\n",
        "from pytrends.request import TrendReq\n",
        "plt.rcParams['font.family'] = 'IPAexGothic'\n",
        "\n",
        "# API Connection\n",
        "pytrends = TrendReq(hl='ja-JP', tz=360)"
      ]
    },
    {
      "cell_type": "code",
      "source": [
        "# Set keyword (\"失業\" = \"unemployment\")\n",
        "kw_list = [\"失業\"]\n",
        "pytrends.build_payload(kw_list, timeframe='2004-01-01 2021-11-30', geo='JP')\n",
        "gt1 = pytrends.interest_over_time()\n",
        "gt1 = gt1.rename(columns = {\"失業\": \"unemployment\", \"isPartial\": \"info\"})\n",
        "gt1.to_csv(\"data/gt1.csv\")\n",
        "dateparse = lambda dates: pd.datetime.strptime(dates, '%Y-%m-%d')\n",
        "gt1 = pd.read_csv('data/gt1.csv', index_col=0, date_parser=dateparse, dtype='float')\n",
        "\n",
        "# Extract trend factor\n",
        "s1 = seasonal_decompose(gt1.iloc[:,0], extrapolate_trend='freq')\n",
        "t1 = s1.trend\n",
        "plt.plot(t1)\n",
        "plt.plot(gt1.iloc[:,0], linestyle='--')\n",
        "\n",
        "# Check correlation\n",
        "level = ibc['Coincident Index'][228:]\n",
        "level.index = t1.index\n",
        "cor = level.corr(t1)\n",
        "print(\"Correlation of level: {:.2f}\".format(cor))\n",
        "\n",
        "a1 = gt1.iloc[:,0].pct_change(12)\n",
        "ann = ibc['Coincident ann'][228:]\n",
        "ann.index = a1.index\n",
        "cor = ann.corr(a1)\n",
        "print(\"Correlation of YoY: {:.2f}\".format(cor))\n",
        "\n",
        "# Plot trend\n",
        "fig = plt.figure()\n",
        "ax = fig.add_subplot(1, 1, 1)\n",
        "ax.plot(t1.index, ibc['Coincident Index'][228:], linestyle='-', color='b', label='IBC')\n",
        "ax.plot(t1.index, t1, linestyle='--', color='#e46409', label='google search: \"unemployment\"')\n",
        "ax.legend()\n",
        "plt.title('Google Search: \"Unemployment\"')\n",
        "plt.savefig(\"images/google1.png\")"
      ],
      "metadata": {
        "id": "7HkUVeaP5m4w",
        "colab": {
          "base_uri": "https://localhost:8080/",
          "height": 643
        },
        "outputId": "93fd561c-eb52-4d44-a9e2-10916d8bbdeb"
      },
      "execution_count": 9,
      "outputs": [
        {
          "output_type": "stream",
          "name": "stderr",
          "text": [
            "/usr/local/lib/python3.7/dist-packages/ipykernel_launcher.py:7: FutureWarning: The pandas.datetime class is deprecated and will be removed from pandas in a future version. Import from datetime module instead.\n",
            "  import sys\n",
            "findfont: Font family ['IPAexGothic'] not found. Falling back to DejaVu Sans.\n"
          ]
        },
        {
          "output_type": "stream",
          "name": "stdout",
          "text": [
            "Correlation of level: -0.89\n",
            "Correlation of YoY: -0.71\n"
          ]
        },
        {
          "output_type": "stream",
          "name": "stderr",
          "text": [
            "findfont: Font family ['IPAexGothic'] not found. Falling back to DejaVu Sans.\n"
          ]
        },
        {
          "output_type": "display_data",
          "data": {
            "image/png": "[encoded data removed]",
            "text/plain": [
              "<Figure size 432x288 with 1 Axes>"
            ]
          },
          "metadata": {
            "needs_background": "light"
          }
        },
        {
          "output_type": "display_data",
          "data": {
            "image/png": "[encoded data removed]",
            "text/plain": [
              "<Figure size 432x288 with 1 Axes>"
            ]
          },
          "metadata": {
            "needs_background": "light"
          }
        }
      ]
    },
    {
      "cell_type": "code",
      "source": [
        "# Set keyword (\"貯金\" = \"saving\")\n",
        "kw_list = [\"貯金\"]\n",
        "pytrends.build_payload(kw_list, timeframe='2004-01-01 2021-11-30', geo='JP')\n",
        "gt2 = pytrends.interest_over_time()\n",
        "gt2 = gt2.rename(columns = {\"貯金\": \"saving\", \"isPartial\": \"info\"})\n",
        "gt2.to_csv(\"data/gt2.csv\")\n",
        "dateparse = lambda dates: pd.datetime.strptime(dates, '%Y-%m-%d')\n",
        "gt2 = pd.read_csv('data/gt2.csv', index_col=0, date_parser=dateparse, dtype='float')\n",
        "\n",
        "# Extract trend factor\n",
        "s2 = seasonal_decompose(gt2.iloc[:,0], extrapolate_trend='freq')\n",
        "t2 = s2.trend\n",
        "plt.plot(t2)\n",
        "plt.plot(gt2.iloc[:,0], linestyle='--')\n",
        "\n",
        "# Check correlation\n",
        "level = ibc['Coincident Index'][228:]\n",
        "level.index = t2.index\n",
        "cor = level.corr(t2)\n",
        "print(\"Correlation of level: {:.2f}\".format(cor))\n",
        "\n",
        "a2 = gt2.iloc[:,0].pct_change(12)\n",
        "ann = ibc['Coincident ann'][228:]\n",
        "ann.index = a2.index\n",
        "cor = ann.corr(a2)\n",
        "print(\"Correlation of YoY: {:.2f}\".format(cor))\n",
        "\n",
        "# Plot trend\n",
        "fig = plt.figure()\n",
        "ax = fig.add_subplot(1, 1, 1)\n",
        "ax.plot(t2.index, ibc['Coincident Index'][228:], linestyle='-', color='b', label='IBC')\n",
        "ax.plot(t2.index, t2, linestyle='--', color='#e46409', label='google search: \"saving\"')\n",
        "ax.legend()\n",
        "plt.title('Google Search: \"Saving\"')\n",
        "plt.savefig(\"images/google2.png\")"
      ],
      "metadata": {
        "colab": {
          "base_uri": "https://localhost:8080/",
          "height": 605
        },
        "id": "bCZOYVBddkZA",
        "outputId": "6bf6f507-6910-4194-c9d3-f8fa679157e2"
      },
      "execution_count": 10,
      "outputs": [
        {
          "output_type": "stream",
          "name": "stderr",
          "text": [
            "/usr/local/lib/python3.7/dist-packages/ipykernel_launcher.py:7: FutureWarning: The pandas.datetime class is deprecated and will be removed from pandas in a future version. Import from datetime module instead.\n",
            "  import sys\n"
          ]
        },
        {
          "output_type": "stream",
          "name": "stdout",
          "text": [
            "Correlation of level: 0.34\n",
            "Correlation of YoY: 0.14\n"
          ]
        },
        {
          "output_type": "display_data",
          "data": {
            "image/png": "[encoded data removed]",
            "text/plain": [
              "<Figure size 432x288 with 1 Axes>"
            ]
          },
          "metadata": {
            "needs_background": "light"
          }
        },
        {
          "output_type": "display_data",
          "data": {
            "image/png": "[encoded data removed]",
            "text/plain": [
              "<Figure size 432x288 with 1 Axes>"
            ]
          },
          "metadata": {
            "needs_background": "light"
          }
        }
      ]
    },
    {
      "cell_type": "code",
      "execution_count": 11,
      "metadata": {
        "id": "anpOm6qx6K19"
      },
      "outputs": [],
      "source": [
        "# Combine google trend (level)\n",
        "gtrend_l = pd.concat([t1, t2], axis=1)\n",
        "\n",
        "# Combine google trend (YoY)\n",
        "gtrend_y = pd.concat([a1, a2], axis=1)\n",
        "#gtrend_y = gtrend_y.drop(gtrend_y.index[0:12])"
      ]
    },
    {
      "cell_type": "markdown",
      "metadata": {
        "id": "WzHv9pQM6K1_"
      },
      "source": [
        "### Time series analysis"
      ]
    },
    {
      "cell_type": "code",
      "execution_count": 12,
      "metadata": {
        "scrolled": true,
        "id": "AdwGQCbQ6K2B",
        "outputId": "bcfb0b3b-a92e-400d-8531-6efe87fa6b76",
        "colab": {
          "base_uri": "https://localhost:8080/",
          "height": 273
        }
      },
      "outputs": [
        {
          "output_type": "stream",
          "name": "stderr",
          "text": [
            "/usr/local/lib/python3.7/dist-packages/ipykernel_launcher.py:8: FutureWarning: The pandas.datetime class is deprecated and will be removed from pandas in a future version. Import from datetime module instead.\n",
            "  \n"
          ]
        },
        {
          "output_type": "execute_result",
          "data": {
            "text/html": [
              "\n",
              "  <div id=\"df-1102a31f-2fed-4724-983b-bd15e33ed58d\">\n",
              "    <div class=\"colab-df-container\">\n",
              "      <div>\n",
              "<style scoped>\n",
              "    .dataframe tbody tr th:only-of-type {\n",
              "        vertical-align: middle;\n",
              "    }\n",
              "\n",
              "    .dataframe tbody tr th {\n",
              "        vertical-align: top;\n",
              "    }\n",
              "\n",
              "    .dataframe thead th {\n",
              "        text-align: right;\n",
              "    }\n",
              "</style>\n",
              "<table border=\"1\" class=\"dataframe\">\n",
              "  <thead>\n",
              "    <tr style=\"text-align: right;\">\n",
              "      <th></th>\n",
              "      <th>Coincident Index</th>\n",
              "      <th>Coincident ann</th>\n",
              "      <th>unemployment</th>\n",
              "      <th>saving</th>\n",
              "      <th>unemployment.1</th>\n",
              "      <th>saving.1</th>\n",
              "    </tr>\n",
              "    <tr>\n",
              "      <th>time</th>\n",
              "      <th></th>\n",
              "      <th></th>\n",
              "      <th></th>\n",
              "      <th></th>\n",
              "      <th></th>\n",
              "      <th></th>\n",
              "    </tr>\n",
              "  </thead>\n",
              "  <tbody>\n",
              "    <tr>\n",
              "      <th>2021-07-01</th>\n",
              "      <td>94.0</td>\n",
              "      <td>16.480793</td>\n",
              "      <td>60.047009</td>\n",
              "      <td>63.165016</td>\n",
              "      <td>-0.285714</td>\n",
              "      <td>0.228070</td>\n",
              "    </tr>\n",
              "    <tr>\n",
              "      <th>2021-08-01</th>\n",
              "      <td>91.0</td>\n",
              "      <td>10.840438</td>\n",
              "      <td>59.327457</td>\n",
              "      <td>63.407877</td>\n",
              "      <td>-0.218750</td>\n",
              "      <td>0.123457</td>\n",
              "    </tr>\n",
              "    <tr>\n",
              "      <th>2021-09-01</th>\n",
              "      <td>88.7</td>\n",
              "      <td>4.722550</td>\n",
              "      <td>58.607906</td>\n",
              "      <td>63.650738</td>\n",
              "      <td>-0.158730</td>\n",
              "      <td>0.032787</td>\n",
              "    </tr>\n",
              "    <tr>\n",
              "      <th>2021-10-01</th>\n",
              "      <td>89.8</td>\n",
              "      <td>1.468927</td>\n",
              "      <td>57.888355</td>\n",
              "      <td>63.893599</td>\n",
              "      <td>-0.390625</td>\n",
              "      <td>-0.071429</td>\n",
              "    </tr>\n",
              "    <tr>\n",
              "      <th>2021-11-01</th>\n",
              "      <td>93.6</td>\n",
              "      <td>5.643341</td>\n",
              "      <td>57.168803</td>\n",
              "      <td>64.136461</td>\n",
              "      <td>-0.293103</td>\n",
              "      <td>0.037736</td>\n",
              "    </tr>\n",
              "  </tbody>\n",
              "</table>\n",
              "</div>\n",
              "      <button class=\"colab-df-convert\" onclick=\"convertToInteractive('df-1102a31f-2fed-4724-983b-bd15e33ed58d')\"\n",
              "              title=\"Convert this dataframe to an interactive table.\"\n",
              "              style=\"display:none;\">\n",
              "        \n",
              "  <svg xmlns=\"http://www.w3.org/2000/svg\" height=\"24px\"viewBox=\"0 0 24 24\"\n",
              "       width=\"24px\">\n",
              "    <path d=\"M0 0h24v24H0V0z\" fill=\"none\"/>\n",
              "    <path d=\"M18.56 5.44l.94 2.06.94-2.06 2.06-.94-2.06-.94-.94-2.06-.94 2.06-2.06.94zm-11 1L8.5 8.5l.94-2.06 2.06-.94-2.06-.94L8.5 2.5l-.94 2.06-2.06.94zm10 10l.94 2.06.94-2.06 2.06-.94-2.06-.94-.94-2.06-.94 2.06-2.06.94z\"/><path d=\"M17.41 7.96l-1.37-1.37c-.4-.4-.92-.59-1.43-.59-.52 0-1.04.2-1.43.59L10.3 9.45l-7.72 7.72c-.78.78-.78 2.05 0 2.83L4 21.41c.39.39.9.59 1.41.59.51 0 1.02-.2 1.41-.59l7.78-7.78 2.81-2.81c.8-.78.8-2.07 0-2.86zM5.41 20L4 18.59l7.72-7.72 1.47 1.35L5.41 20z\"/>\n",
              "  </svg>\n",
              "      </button>\n",
              "      \n",
              "  <style>\n",
              "    .colab-df-container {\n",
              "      display:flex;\n",
              "      flex-wrap:wrap;\n",
              "      gap: 12px;\n",
              "    }\n",
              "\n",
              "    .colab-df-convert {\n",
              "      background-color: #E8F0FE;\n",
              "      border: none;\n",
              "      border-radius: 50%;\n",
              "      cursor: pointer;\n",
              "      display: none;\n",
              "      fill: #1967D2;\n",
              "      height: 32px;\n",
              "      padding: 0 0 0 0;\n",
              "      width: 32px;\n",
              "    }\n",
              "\n",
              "    .colab-df-convert:hover {\n",
              "      background-color: #E2EBFA;\n",
              "      box-shadow: 0px 1px 2px rgba(60, 64, 67, 0.3), 0px 1px 3px 1px rgba(60, 64, 67, 0.15);\n",
              "      fill: #174EA6;\n",
              "    }\n",
              "\n",
              "    [theme=dark] .colab-df-convert {\n",
              "      background-color: #3B4455;\n",
              "      fill: #D2E3FC;\n",
              "    }\n",
              "\n",
              "    [theme=dark] .colab-df-convert:hover {\n",
              "      background-color: #434B5C;\n",
              "      box-shadow: 0px 1px 3px 1px rgba(0, 0, 0, 0.15);\n",
              "      filter: drop-shadow(0px 1px 2px rgba(0, 0, 0, 0.3));\n",
              "      fill: #FFFFFF;\n",
              "    }\n",
              "  </style>\n",
              "\n",
              "      <script>\n",
              "        const buttonEl =\n",
              "          document.querySelector('#df-1102a31f-2fed-4724-983b-bd15e33ed58d button.colab-df-convert');\n",
              "        buttonEl.style.display =\n",
              "          google.colab.kernel.accessAllowed ? 'block' : 'none';\n",
              "\n",
              "        async function convertToInteractive(key) {\n",
              "          const element = document.querySelector('#df-1102a31f-2fed-4724-983b-bd15e33ed58d');\n",
              "          const dataTable =\n",
              "            await google.colab.kernel.invokeFunction('convertToInteractive',\n",
              "                                                     [key], {});\n",
              "          if (!dataTable) return;\n",
              "\n",
              "          const docLinkHtml = 'Like what you see? Visit the ' +\n",
              "            '<a target=\"_blank\" href=https://colab.research.google.com/notebooks/data_table.ipynb>data table notebook</a>'\n",
              "            + ' to learn more about interactive tables.';\n",
              "          element.innerHTML = '';\n",
              "          dataTable['output_type'] = 'display_data';\n",
              "          await google.colab.output.renderOutput(dataTable, element);\n",
              "          const docLink = document.createElement('div');\n",
              "          docLink.innerHTML = docLinkHtml;\n",
              "          element.appendChild(docLink);\n",
              "        }\n",
              "      </script>\n",
              "    </div>\n",
              "  </div>\n",
              "  "
            ],
            "text/plain": [
              "            Coincident Index  Coincident ann  ...  unemployment.1  saving.1\n",
              "time                                          ...                          \n",
              "2021-07-01              94.0       16.480793  ...       -0.285714  0.228070\n",
              "2021-08-01              91.0       10.840438  ...       -0.218750  0.123457\n",
              "2021-09-01              88.7        4.722550  ...       -0.158730  0.032787\n",
              "2021-10-01              89.8        1.468927  ...       -0.390625 -0.071429\n",
              "2021-11-01              93.6        5.643341  ...       -0.293103  0.037736\n",
              "\n",
              "[5 rows x 6 columns]"
            ]
          },
          "metadata": {},
          "execution_count": 12
        }
      ],
      "source": [
        "# Set time series dataset\n",
        "X = pd.concat([gtrend_l, gtrend_y], axis=1)\n",
        "y = ibc[228:]\n",
        "y = y.set_index('time')\n",
        "X.index = y.index\n",
        "ts = pd.concat([y, X], axis=1)\n",
        "ts.to_csv(\"ts.csv\")\n",
        "dateparse = lambda dates: pd.datetime.strptime(dates, '%b-%y')\n",
        "ts = pd.read_csv('ts.csv', index_col=0, date_parser=dateparse, dtype='float')\n",
        "\n",
        "# Split data into training and test set\n",
        "sp = round(0.8*len(ts))\n",
        "train = ts[0:sp]\n",
        "test = ts[sp:]\n",
        "\n",
        "ts.tail()"
      ]
    },
    {
      "cell_type": "code",
      "source": [
        "# Check Autocorrelation of IBC\n",
        "import statsmodels.api as sm\n",
        "fig = plt.figure(figsize=(12,8))\n",
        "ax1 = fig.add_subplot(211)\n",
        "fig = sm.graphics.tsa.plot_acf(ts['Coincident Index'], lags=20, ax=ax1)\n",
        "ax2 = fig.add_subplot(212)\n",
        "fig = sm.graphics.tsa.plot_pacf(ts['Coincident Index'], lags=20, ax=ax2)\n",
        "plt.savefig(\"images/autocorrelation.png\")"
      ],
      "metadata": {
        "colab": {
          "base_uri": "https://localhost:8080/",
          "height": 499
        },
        "id": "rY8Gy83YRy47",
        "outputId": "10585811-4721-4cc6-ec33-06c9d4537f9e"
      },
      "execution_count": 13,
      "outputs": [
        {
          "output_type": "display_data",
          "data": {
            "image/png": "[encoded data removed]",
            "text/plain": [
              "<Figure size 864x576 with 2 Axes>"
            ]
          },
          "metadata": {
            "needs_background": "light"
          }
        }
      ]
    },
    {
      "cell_type": "code",
      "execution_count": 14,
      "metadata": {
        "id": "3nJBt8eh6K2E",
        "outputId": "45e4f185-5423-444a-eb24-baa1c42552aa",
        "colab": {
          "base_uri": "https://localhost:8080/"
        }
      },
      "outputs": [
        {
          "output_type": "stream",
          "name": "stdout",
          "text": [
            "Unit root test (y): 0.07\n",
            "Unit root test (diff_y): 0.00\n",
            "Unit root test (X): 0.14\n",
            "Unit root test (diff_X): 0.01\n",
            "Cointegration test (unemployment): 0.21\n",
            "Cointegration test (saving): 0.24\n"
          ]
        }
      ],
      "source": [
        "# Unit root test of y (H0: non-stationary)\n",
        "adf_result = sm.tsa.stattools.adfuller(ts['Coincident Index'])\n",
        "print(\"Unit root test (y): {:.2f}\".format(adf_result[1])) # p-value\n",
        "\n",
        "# Take difference of y\n",
        "diff = ts['Coincident Index'].diff()\n",
        "diff = diff.dropna()\n",
        "adf_result = sm.tsa.stattools.adfuller(diff)\n",
        "print(\"Unit root test (diff_y): {:.2f}\".format(adf_result[1])) # p-value\n",
        "\n",
        "# Unit root test of X (H0: non-stationary)\n",
        "adf_result = sm.tsa.stattools.adfuller(ts['unemployment'])\n",
        "print(\"Unit root test (X): {:.2f}\".format(adf_result[1])) # p-value\n",
        "\n",
        "# Take difference of X\n",
        "diff = ts['unemployment'].diff()\n",
        "diff = diff.dropna()\n",
        "adf_result = sm.tsa.stattools.adfuller(diff)\n",
        "print(\"Unit root test (diff_X): {:.2f}\".format(adf_result[1])) # p-value\n",
        "\n",
        "# Cointegration test (H0: non-cointegration)\n",
        "coint_result = sm.tsa.stattools.coint(ts['Coincident Index'], ts['unemployment'])\n",
        "print(\"Cointegration test (unemployment): {:.2f}\".format(coint_result[1])) # p-value\n",
        "coint_result = sm.tsa.stattools.coint(ts['Coincident Index'], ts['saving'])\n",
        "print(\"Cointegration test (saving): {:.2f}\".format(coint_result[1])) # p-value"
      ]
    },
    {
      "cell_type": "markdown",
      "metadata": {
        "id": "SdD511OM6K2H"
      },
      "source": [
        "### ARIMA Prediction"
      ]
    },
    {
      "cell_type": "code",
      "execution_count": 15,
      "metadata": {
        "scrolled": true,
        "id": "MTubl0Nn6K2J",
        "outputId": "0097d6c8-e5fa-4265-9545-230785a71668",
        "colab": {
          "base_uri": "https://localhost:8080/"
        }
      },
      "outputs": [
        {
          "output_type": "stream",
          "name": "stdout",
          "text": [
            "                           Statespace Model Results                           \n",
            "==============================================================================\n",
            "Dep. Variable:       Coincident Index   No. Observations:                  172\n",
            "Model:               SARIMAX(1, 0, 0)   Log Likelihood                -295.839\n",
            "Date:                Mon, 17 Jan 2022   AIC                            599.679\n",
            "Time:                        09:39:04   BIC                            612.269\n",
            "Sample:                    01-01-2004   HQIC                           604.787\n",
            "                         - 04-01-2018                                         \n",
            "Covariance Type:                  opg                                         \n",
            "================================================================================\n",
            "                   coef    std err          z      P>|z|      [0.025      0.975]\n",
            "--------------------------------------------------------------------------------\n",
            "unemployment    -0.8148      0.094     -8.696      0.000      -0.998      -0.631\n",
            "saving          -0.0196      0.192     -0.102      0.919      -0.396       0.356\n",
            "ar.L1            1.0000      0.001   1124.336      0.000       0.998       1.002\n",
            "sigma2           1.7292      0.113     15.271      0.000       1.507       1.951\n",
            "===================================================================================\n",
            "Ljung-Box (Q):                       67.78   Jarque-Bera (JB):               461.95\n",
            "Prob(Q):                              0.00   Prob(JB):                         0.00\n",
            "Heteroskedasticity (H):               1.13   Skew:                            -1.77\n",
            "Prob(H) (two-sided):                  0.64   Kurtosis:                        10.20\n",
            "===================================================================================\n",
            "\n",
            "Warnings:\n",
            "[1] Covariance matrix calculated using the outer product of gradients (complex-step).\n"
          ]
        }
      ],
      "source": [
        "# Fit the model\n",
        "SARIMAX = sm.tsa.SARIMAX(train['Coincident Index'], train.iloc[:,2:4], order=(1,0,0), freq='MS').fit()\n",
        "print(SARIMAX.summary())"
      ]
    },
    {
      "cell_type": "code",
      "execution_count": 16,
      "metadata": {
        "scrolled": false,
        "id": "aAlUYOP56K2M",
        "outputId": "77b8cdbe-4c5e-4897-a7dc-21b1ba71c820",
        "colab": {
          "base_uri": "https://localhost:8080/",
          "height": 284
        }
      },
      "outputs": [
        {
          "output_type": "stream",
          "name": "stdout",
          "text": [
            "Test set score: 0.74\n"
          ]
        },
        {
          "output_type": "display_data",
          "data": {
            "image/png": "[encoded data removed]",
            "text/plain": [
              "<Figure size 432x288 with 1 Axes>"
            ]
          },
          "metadata": {
            "needs_background": "light"
          }
        }
      ],
      "source": [
        "pred = SARIMAX.predict('2018-05-01', '2021-11-01', exog=test.iloc[:,2:4])\n",
        "plt.plot(test['Coincident Index'], label=\"actual\")\n",
        "plt.plot(pred, \"r\", linestyle='--', label=\"predict\")\n",
        "plt.legend(loc='best')\n",
        "\n",
        "print(\"Test set score: {:.2f}\".format(r2_score(test['Coincident Index'], pred)))"
      ]
    },
    {
      "cell_type": "markdown",
      "metadata": {
        "id": "PS4NW1Yp6K2O"
      },
      "source": [
        "### Random Forest"
      ]
    },
    {
      "cell_type": "code",
      "execution_count": 17,
      "metadata": {
        "scrolled": true,
        "id": "2ZtnIwgg6K2Q",
        "outputId": "39157208-7000-4e19-fc92-1a5a273af45c",
        "colab": {
          "base_uri": "https://localhost:8080/",
          "height": 338
        }
      },
      "outputs": [
        {
          "output_type": "stream",
          "name": "stdout",
          "text": [
            "Training set score: 0.99\n",
            "Cross-Validation score: 0.66\n",
            "Test set score: 0.84\n"
          ]
        },
        {
          "output_type": "display_data",
          "data": {
            "image/png": "[encoded data removed]",
            "text/plain": [
              "<Figure size 432x288 with 1 Axes>"
            ]
          },
          "metadata": {
            "needs_background": "light"
          }
        }
      ],
      "source": [
        "# Set X and y variables\n",
        "X = ts.iloc[:,2:4]\n",
        "y = ts['Coincident Index']\n",
        "\n",
        "# Preprocess for adding AR\n",
        "X_l = X.drop(X.index[0])\n",
        "#X_l = X_l.drop(X_l.index[0])\n",
        "X_l.reset_index(inplace=True, drop=True)\n",
        "\n",
        "# Generate AR variable\n",
        "y_l = y.drop(y.index[-1])\n",
        "#y_l = y_l.drop(y_l.index[-1])\n",
        "y_l.reset_index(inplace=True, drop=True)\n",
        "\n",
        "# Add AR into X\n",
        "X_t = pd.concat([y_l, X_l], axis=1)\n",
        "y_t = y.drop(y.index[0])\n",
        "#y_t = y_t.drop(y_t.index[0])\n",
        "X_t.index = y_t.index\n",
        "\n",
        "# Split data into training and test set \n",
        "sp = round(0.8*len(X_t))\n",
        "X_train = X_t[0:sp]\n",
        "X_test = X_t[sp:]\n",
        "y_train = y_t[0:sp]\n",
        "y_test = y_t[sp:]\n",
        "\n",
        "# Fit the model\n",
        "tm = RandomForestRegressor(n_estimators=1000).fit(X_train, y_train)\n",
        "#tm.feature_importances_\n",
        "\n",
        "# Goodness of Fit\n",
        "print(\"Training set score: {:.2f}\".format(tm.score(X_train, y_train)))\n",
        "print(\"Cross-Validation score: {:.2f}\".format(\n",
        "          np.mean(cross_val_score(tm, X_train, y_train, cv=5))))\n",
        "print(\"Test set score: {:.2f}\".format(tm.score(X_test, y_test)))\n",
        "\n",
        "# Calculate the prediction\n",
        "prediction = pd.DataFrame(tm.predict(X_test))\n",
        "pre = prediction.values.tolist()\n",
        "act = y_test.values.tolist()\n",
        "predict = pd.DataFrame(pre, columns=['predict'])\n",
        "actual = pd.DataFrame(act, columns=['actual'])\n",
        "com = pd.concat([predict, actual], axis=1)\n",
        "\n",
        "# Plot the prediction\n",
        "fig = plt.figure()\n",
        "ax = fig.add_subplot(1, 1, 1)\n",
        "ax.plot(X_test.index, com.actual, linestyle='-', color='b', label='actual')\n",
        "ax.plot(X_test.index, com.predict, linestyle='--', color='#e46409', label='predict')\n",
        "ax.legend(loc='best')\n",
        "ax.set_title('Random Forest: Level')\n",
        "plt.savefig(\"images/google_rf.png\")"
      ]
    },
    {
      "cell_type": "code",
      "source": [
        "print(tm.feature_importances_)"
      ],
      "metadata": {
        "colab": {
          "base_uri": "https://localhost:8080/"
        },
        "id": "UX6u2ESGbXc8",
        "outputId": "f9fb59ba-6c4c-4c96-aa00-f3725e13405b"
      },
      "execution_count": 18,
      "outputs": [
        {
          "output_type": "stream",
          "name": "stdout",
          "text": [
            "[0.8067683  0.17642353 0.01680817]\n"
          ]
        }
      ]
    },
    {
      "cell_type": "markdown",
      "metadata": {
        "id": "V32oTQrx6K2j"
      },
      "source": [
        "### RNN-LSTM"
      ]
    },
    {
      "cell_type": "code",
      "execution_count": 19,
      "metadata": {
        "scrolled": true,
        "id": "jF_4vrjN6K2l",
        "outputId": "12cc1a4d-731d-48e0-dec6-9b6532d7d5bb",
        "colab": {
          "base_uri": "https://localhost:8080/",
          "height": 235
        }
      },
      "outputs": [
        {
          "output_type": "execute_result",
          "data": {
            "text/html": [
              "\n",
              "  <div id=\"df-1cdd6a3a-41d0-4826-9a06-bf9c2eb5196e\">\n",
              "    <div class=\"colab-df-container\">\n",
              "      <div>\n",
              "<style scoped>\n",
              "    .dataframe tbody tr th:only-of-type {\n",
              "        vertical-align: middle;\n",
              "    }\n",
              "\n",
              "    .dataframe tbody tr th {\n",
              "        vertical-align: top;\n",
              "    }\n",
              "\n",
              "    .dataframe thead th {\n",
              "        text-align: right;\n",
              "    }\n",
              "</style>\n",
              "<table border=\"1\" class=\"dataframe\">\n",
              "  <thead>\n",
              "    <tr style=\"text-align: right;\">\n",
              "      <th></th>\n",
              "      <th>Coincident Index</th>\n",
              "      <th>unemployment</th>\n",
              "      <th>saving</th>\n",
              "    </tr>\n",
              "    <tr>\n",
              "      <th>time</th>\n",
              "      <th></th>\n",
              "      <th></th>\n",
              "      <th></th>\n",
              "    </tr>\n",
              "  </thead>\n",
              "  <tbody>\n",
              "    <tr>\n",
              "      <th>2021-07-01</th>\n",
              "      <td>94.0</td>\n",
              "      <td>60.047009</td>\n",
              "      <td>63.165016</td>\n",
              "    </tr>\n",
              "    <tr>\n",
              "      <th>2021-08-01</th>\n",
              "      <td>91.0</td>\n",
              "      <td>59.327457</td>\n",
              "      <td>63.407877</td>\n",
              "    </tr>\n",
              "    <tr>\n",
              "      <th>2021-09-01</th>\n",
              "      <td>88.7</td>\n",
              "      <td>58.607906</td>\n",
              "      <td>63.650738</td>\n",
              "    </tr>\n",
              "    <tr>\n",
              "      <th>2021-10-01</th>\n",
              "      <td>89.8</td>\n",
              "      <td>57.888355</td>\n",
              "      <td>63.893599</td>\n",
              "    </tr>\n",
              "    <tr>\n",
              "      <th>2021-11-01</th>\n",
              "      <td>93.6</td>\n",
              "      <td>57.168803</td>\n",
              "      <td>64.136461</td>\n",
              "    </tr>\n",
              "  </tbody>\n",
              "</table>\n",
              "</div>\n",
              "      <button class=\"colab-df-convert\" onclick=\"convertToInteractive('df-1cdd6a3a-41d0-4826-9a06-bf9c2eb5196e')\"\n",
              "              title=\"Convert this dataframe to an interactive table.\"\n",
              "              style=\"display:none;\">\n",
              "        \n",
              "  <svg xmlns=\"http://www.w3.org/2000/svg\" height=\"24px\"viewBox=\"0 0 24 24\"\n",
              "       width=\"24px\">\n",
              "    <path d=\"M0 0h24v24H0V0z\" fill=\"none\"/>\n",
              "    <path d=\"M18.56 5.44l.94 2.06.94-2.06 2.06-.94-2.06-.94-.94-2.06-.94 2.06-2.06.94zm-11 1L8.5 8.5l.94-2.06 2.06-.94-2.06-.94L8.5 2.5l-.94 2.06-2.06.94zm10 10l.94 2.06.94-2.06 2.06-.94-2.06-.94-.94-2.06-.94 2.06-2.06.94z\"/><path d=\"M17.41 7.96l-1.37-1.37c-.4-.4-.92-.59-1.43-.59-.52 0-1.04.2-1.43.59L10.3 9.45l-7.72 7.72c-.78.78-.78 2.05 0 2.83L4 21.41c.39.39.9.59 1.41.59.51 0 1.02-.2 1.41-.59l7.78-7.78 2.81-2.81c.8-.78.8-2.07 0-2.86zM5.41 20L4 18.59l7.72-7.72 1.47 1.35L5.41 20z\"/>\n",
              "  </svg>\n",
              "      </button>\n",
              "      \n",
              "  <style>\n",
              "    .colab-df-container {\n",
              "      display:flex;\n",
              "      flex-wrap:wrap;\n",
              "      gap: 12px;\n",
              "    }\n",
              "\n",
              "    .colab-df-convert {\n",
              "      background-color: #E8F0FE;\n",
              "      border: none;\n",
              "      border-radius: 50%;\n",
              "      cursor: pointer;\n",
              "      display: none;\n",
              "      fill: #1967D2;\n",
              "      height: 32px;\n",
              "      padding: 0 0 0 0;\n",
              "      width: 32px;\n",
              "    }\n",
              "\n",
              "    .colab-df-convert:hover {\n",
              "      background-color: #E2EBFA;\n",
              "      box-shadow: 0px 1px 2px rgba(60, 64, 67, 0.3), 0px 1px 3px 1px rgba(60, 64, 67, 0.15);\n",
              "      fill: #174EA6;\n",
              "    }\n",
              "\n",
              "    [theme=dark] .colab-df-convert {\n",
              "      background-color: #3B4455;\n",
              "      fill: #D2E3FC;\n",
              "    }\n",
              "\n",
              "    [theme=dark] .colab-df-convert:hover {\n",
              "      background-color: #434B5C;\n",
              "      box-shadow: 0px 1px 3px 1px rgba(0, 0, 0, 0.15);\n",
              "      filter: drop-shadow(0px 1px 2px rgba(0, 0, 0, 0.3));\n",
              "      fill: #FFFFFF;\n",
              "    }\n",
              "  </style>\n",
              "\n",
              "      <script>\n",
              "        const buttonEl =\n",
              "          document.querySelector('#df-1cdd6a3a-41d0-4826-9a06-bf9c2eb5196e button.colab-df-convert');\n",
              "        buttonEl.style.display =\n",
              "          google.colab.kernel.accessAllowed ? 'block' : 'none';\n",
              "\n",
              "        async function convertToInteractive(key) {\n",
              "          const element = document.querySelector('#df-1cdd6a3a-41d0-4826-9a06-bf9c2eb5196e');\n",
              "          const dataTable =\n",
              "            await google.colab.kernel.invokeFunction('convertToInteractive',\n",
              "                                                     [key], {});\n",
              "          if (!dataTable) return;\n",
              "\n",
              "          const docLinkHtml = 'Like what you see? Visit the ' +\n",
              "            '<a target=\"_blank\" href=https://colab.research.google.com/notebooks/data_table.ipynb>data table notebook</a>'\n",
              "            + ' to learn more about interactive tables.';\n",
              "          element.innerHTML = '';\n",
              "          dataTable['output_type'] = 'display_data';\n",
              "          await google.colab.output.renderOutput(dataTable, element);\n",
              "          const docLink = document.createElement('div');\n",
              "          docLink.innerHTML = docLinkHtml;\n",
              "          element.appendChild(docLink);\n",
              "        }\n",
              "      </script>\n",
              "    </div>\n",
              "  </div>\n",
              "  "
            ],
            "text/plain": [
              "            Coincident Index  unemployment     saving\n",
              "time                                                 \n",
              "2021-07-01              94.0     60.047009  63.165016\n",
              "2021-08-01              91.0     59.327457  63.407877\n",
              "2021-09-01              88.7     58.607906  63.650738\n",
              "2021-10-01              89.8     57.888355  63.893599\n",
              "2021-11-01              93.6     57.168803  64.136461"
            ]
          },
          "metadata": {},
          "execution_count": 19
        }
      ],
      "source": [
        "# set the dataset\n",
        "features = pd.concat([ts['Coincident Index'], ts.iloc[:,2:4]], axis=1)\n",
        "features.tail()"
      ]
    },
    {
      "cell_type": "code",
      "execution_count": 20,
      "metadata": {
        "id": "gbQ3LWOu6K2p",
        "outputId": "e173466a-833c-4daa-8dd4-777a9fd81c77",
        "colab": {
          "base_uri": "https://localhost:8080/"
        }
      },
      "outputs": [
        {
          "output_type": "stream",
          "name": "stdout",
          "text": [
            "172\n"
          ]
        }
      ],
      "source": [
        "# set training percentage\n",
        "TRAIN_SPLIT = round(0.8*len(features))\n",
        "print(TRAIN_SPLIT)\n",
        "\n",
        "# feature scaling\n",
        "dataset = features.values\n",
        "data_mean = dataset[:TRAIN_SPLIT].mean(axis=0)\n",
        "data_std = dataset[:TRAIN_SPLIT].std(axis=0)\n",
        "dataset = (dataset-data_mean)/data_std"
      ]
    },
    {
      "cell_type": "code",
      "execution_count": 21,
      "metadata": {
        "id": "XxhteUtn6K2t"
      },
      "outputs": [],
      "source": [
        "# create the training and test data\n",
        "\n",
        "past_history = 3\n",
        "future_target = 0\n",
        "STEP = 1\n",
        "\n",
        "x_train_single, y_train_single = multivariate_data(dataset, dataset[:,0], 0, TRAIN_SPLIT, past_history, future_target, STEP, single_step=True)\n",
        "x_val_single, y_val_single = multivariate_data(dataset, dataset[:,0], TRAIN_SPLIT, None, past_history, future_target, STEP, single_step=True)"
      ]
    },
    {
      "cell_type": "code",
      "execution_count": 22,
      "metadata": {
        "scrolled": true,
        "id": "rQtNe9rH6K2w",
        "outputId": "67d9ee7c-bd26-4c65-9348-cb456f78bb76",
        "colab": {
          "base_uri": "https://localhost:8080/",
          "height": 266
        }
      },
      "outputs": [
        {
          "output_type": "execute_result",
          "data": {
            "text/html": [
              "\n",
              "  <div id=\"df-a521d437-c2de-40fa-a9fd-3098380e3222\">\n",
              "    <div class=\"colab-df-container\">\n",
              "      <div>\n",
              "<style scoped>\n",
              "    .dataframe tbody tr th:only-of-type {\n",
              "        vertical-align: middle;\n",
              "    }\n",
              "\n",
              "    .dataframe tbody tr th {\n",
              "        vertical-align: top;\n",
              "    }\n",
              "\n",
              "    .dataframe thead th {\n",
              "        text-align: right;\n",
              "    }\n",
              "</style>\n",
              "<table border=\"1\" class=\"dataframe\">\n",
              "  <thead>\n",
              "    <tr style=\"text-align: right;\">\n",
              "      <th></th>\n",
              "      <th>0</th>\n",
              "      <th>1</th>\n",
              "      <th>2</th>\n",
              "    </tr>\n",
              "  </thead>\n",
              "  <tbody>\n",
              "    <tr>\n",
              "      <th>0</th>\n",
              "      <td>0.032678</td>\n",
              "      <td>-0.047423</td>\n",
              "      <td>-0.915926</td>\n",
              "    </tr>\n",
              "    <tr>\n",
              "      <th>1</th>\n",
              "      <td>0.006228</td>\n",
              "      <td>-0.046282</td>\n",
              "      <td>-0.883825</td>\n",
              "    </tr>\n",
              "    <tr>\n",
              "      <th>2</th>\n",
              "      <td>0.019453</td>\n",
              "      <td>-0.045141</td>\n",
              "      <td>-0.851724</td>\n",
              "    </tr>\n",
              "    <tr>\n",
              "      <th>3</th>\n",
              "      <td>0.151705</td>\n",
              "      <td>-0.044000</td>\n",
              "      <td>-0.819624</td>\n",
              "    </tr>\n",
              "    <tr>\n",
              "      <th>4</th>\n",
              "      <td>0.125255</td>\n",
              "      <td>-0.042858</td>\n",
              "      <td>-0.787523</td>\n",
              "    </tr>\n",
              "    <tr>\n",
              "      <th>5</th>\n",
              "      <td>0.244281</td>\n",
              "      <td>-0.041717</td>\n",
              "      <td>-0.755422</td>\n",
              "    </tr>\n",
              "    <tr>\n",
              "      <th>6</th>\n",
              "      <td>0.402984</td>\n",
              "      <td>-0.179888</td>\n",
              "      <td>-0.629711</td>\n",
              "    </tr>\n",
              "  </tbody>\n",
              "</table>\n",
              "</div>\n",
              "      <button class=\"colab-df-convert\" onclick=\"convertToInteractive('df-a521d437-c2de-40fa-a9fd-3098380e3222')\"\n",
              "              title=\"Convert this dataframe to an interactive table.\"\n",
              "              style=\"display:none;\">\n",
              "        \n",
              "  <svg xmlns=\"http://www.w3.org/2000/svg\" height=\"24px\"viewBox=\"0 0 24 24\"\n",
              "       width=\"24px\">\n",
              "    <path d=\"M0 0h24v24H0V0z\" fill=\"none\"/>\n",
              "    <path d=\"M18.56 5.44l.94 2.06.94-2.06 2.06-.94-2.06-.94-.94-2.06-.94 2.06-2.06.94zm-11 1L8.5 8.5l.94-2.06 2.06-.94-2.06-.94L8.5 2.5l-.94 2.06-2.06.94zm10 10l.94 2.06.94-2.06 2.06-.94-2.06-.94-.94-2.06-.94 2.06-2.06.94z\"/><path d=\"M17.41 7.96l-1.37-1.37c-.4-.4-.92-.59-1.43-.59-.52 0-1.04.2-1.43.59L10.3 9.45l-7.72 7.72c-.78.78-.78 2.05 0 2.83L4 21.41c.39.39.9.59 1.41.59.51 0 1.02-.2 1.41-.59l7.78-7.78 2.81-2.81c.8-.78.8-2.07 0-2.86zM5.41 20L4 18.59l7.72-7.72 1.47 1.35L5.41 20z\"/>\n",
              "  </svg>\n",
              "      </button>\n",
              "      \n",
              "  <style>\n",
              "    .colab-df-container {\n",
              "      display:flex;\n",
              "      flex-wrap:wrap;\n",
              "      gap: 12px;\n",
              "    }\n",
              "\n",
              "    .colab-df-convert {\n",
              "      background-color: #E8F0FE;\n",
              "      border: none;\n",
              "      border-radius: 50%;\n",
              "      cursor: pointer;\n",
              "      display: none;\n",
              "      fill: #1967D2;\n",
              "      height: 32px;\n",
              "      padding: 0 0 0 0;\n",
              "      width: 32px;\n",
              "    }\n",
              "\n",
              "    .colab-df-convert:hover {\n",
              "      background-color: #E2EBFA;\n",
              "      box-shadow: 0px 1px 2px rgba(60, 64, 67, 0.3), 0px 1px 3px 1px rgba(60, 64, 67, 0.15);\n",
              "      fill: #174EA6;\n",
              "    }\n",
              "\n",
              "    [theme=dark] .colab-df-convert {\n",
              "      background-color: #3B4455;\n",
              "      fill: #D2E3FC;\n",
              "    }\n",
              "\n",
              "    [theme=dark] .colab-df-convert:hover {\n",
              "      background-color: #434B5C;\n",
              "      box-shadow: 0px 1px 3px 1px rgba(0, 0, 0, 0.15);\n",
              "      filter: drop-shadow(0px 1px 2px rgba(0, 0, 0, 0.3));\n",
              "      fill: #FFFFFF;\n",
              "    }\n",
              "  </style>\n",
              "\n",
              "      <script>\n",
              "        const buttonEl =\n",
              "          document.querySelector('#df-a521d437-c2de-40fa-a9fd-3098380e3222 button.colab-df-convert');\n",
              "        buttonEl.style.display =\n",
              "          google.colab.kernel.accessAllowed ? 'block' : 'none';\n",
              "\n",
              "        async function convertToInteractive(key) {\n",
              "          const element = document.querySelector('#df-a521d437-c2de-40fa-a9fd-3098380e3222');\n",
              "          const dataTable =\n",
              "            await google.colab.kernel.invokeFunction('convertToInteractive',\n",
              "                                                     [key], {});\n",
              "          if (!dataTable) return;\n",
              "\n",
              "          const docLinkHtml = 'Like what you see? Visit the ' +\n",
              "            '<a target=\"_blank\" href=https://colab.research.google.com/notebooks/data_table.ipynb>data table notebook</a>'\n",
              "            + ' to learn more about interactive tables.';\n",
              "          element.innerHTML = '';\n",
              "          dataTable['output_type'] = 'display_data';\n",
              "          await google.colab.output.renderOutput(dataTable, element);\n",
              "          const docLink = document.createElement('div');\n",
              "          docLink.innerHTML = docLinkHtml;\n",
              "          element.appendChild(docLink);\n",
              "        }\n",
              "      </script>\n",
              "    </div>\n",
              "  </div>\n",
              "  "
            ],
            "text/plain": [
              "          0         1         2\n",
              "0  0.032678 -0.047423 -0.915926\n",
              "1  0.006228 -0.046282 -0.883825\n",
              "2  0.019453 -0.045141 -0.851724\n",
              "3  0.151705 -0.044000 -0.819624\n",
              "4  0.125255 -0.042858 -0.787523\n",
              "5  0.244281 -0.041717 -0.755422\n",
              "6  0.402984 -0.179888 -0.629711"
            ]
          },
          "metadata": {},
          "execution_count": 22
        }
      ],
      "source": [
        "pd.DataFrame(dataset).head(7)"
      ]
    },
    {
      "cell_type": "code",
      "execution_count": 23,
      "metadata": {
        "id": "0s3StVDs6K20",
        "outputId": "651e1f3d-cc42-4c4c-9212-ab7ed0b5c677",
        "colab": {
          "base_uri": "https://localhost:8080/",
          "height": 173
        }
      },
      "outputs": [
        {
          "output_type": "execute_result",
          "data": {
            "text/html": [
              "\n",
              "  <div id=\"df-afea45c9-abb2-4af4-8139-d54806236b08\">\n",
              "    <div class=\"colab-df-container\">\n",
              "      <div>\n",
              "<style scoped>\n",
              "    .dataframe tbody tr th:only-of-type {\n",
              "        vertical-align: middle;\n",
              "    }\n",
              "\n",
              "    .dataframe tbody tr th {\n",
              "        vertical-align: top;\n",
              "    }\n",
              "\n",
              "    .dataframe thead th {\n",
              "        text-align: right;\n",
              "    }\n",
              "</style>\n",
              "<table border=\"1\" class=\"dataframe\">\n",
              "  <thead>\n",
              "    <tr style=\"text-align: right;\">\n",
              "      <th></th>\n",
              "      <th>0</th>\n",
              "      <th>1</th>\n",
              "      <th>2</th>\n",
              "    </tr>\n",
              "  </thead>\n",
              "  <tbody>\n",
              "    <tr>\n",
              "      <th>0</th>\n",
              "      <td>0.032678</td>\n",
              "      <td>-0.047423</td>\n",
              "      <td>-0.915926</td>\n",
              "    </tr>\n",
              "    <tr>\n",
              "      <th>1</th>\n",
              "      <td>0.006228</td>\n",
              "      <td>-0.046282</td>\n",
              "      <td>-0.883825</td>\n",
              "    </tr>\n",
              "    <tr>\n",
              "      <th>2</th>\n",
              "      <td>0.019453</td>\n",
              "      <td>-0.045141</td>\n",
              "      <td>-0.851724</td>\n",
              "    </tr>\n",
              "    <tr>\n",
              "      <th>3</th>\n",
              "      <td>0.019453</td>\n",
              "      <td>-0.044000</td>\n",
              "      <td>-0.819624</td>\n",
              "    </tr>\n",
              "  </tbody>\n",
              "</table>\n",
              "</div>\n",
              "      <button class=\"colab-df-convert\" onclick=\"convertToInteractive('df-afea45c9-abb2-4af4-8139-d54806236b08')\"\n",
              "              title=\"Convert this dataframe to an interactive table.\"\n",
              "              style=\"display:none;\">\n",
              "        \n",
              "  <svg xmlns=\"http://www.w3.org/2000/svg\" height=\"24px\"viewBox=\"0 0 24 24\"\n",
              "       width=\"24px\">\n",
              "    <path d=\"M0 0h24v24H0V0z\" fill=\"none\"/>\n",
              "    <path d=\"M18.56 5.44l.94 2.06.94-2.06 2.06-.94-2.06-.94-.94-2.06-.94 2.06-2.06.94zm-11 1L8.5 8.5l.94-2.06 2.06-.94-2.06-.94L8.5 2.5l-.94 2.06-2.06.94zm10 10l.94 2.06.94-2.06 2.06-.94-2.06-.94-.94-2.06-.94 2.06-2.06.94z\"/><path d=\"M17.41 7.96l-1.37-1.37c-.4-.4-.92-.59-1.43-.59-.52 0-1.04.2-1.43.59L10.3 9.45l-7.72 7.72c-.78.78-.78 2.05 0 2.83L4 21.41c.39.39.9.59 1.41.59.51 0 1.02-.2 1.41-.59l7.78-7.78 2.81-2.81c.8-.78.8-2.07 0-2.86zM5.41 20L4 18.59l7.72-7.72 1.47 1.35L5.41 20z\"/>\n",
              "  </svg>\n",
              "      </button>\n",
              "      \n",
              "  <style>\n",
              "    .colab-df-container {\n",
              "      display:flex;\n",
              "      flex-wrap:wrap;\n",
              "      gap: 12px;\n",
              "    }\n",
              "\n",
              "    .colab-df-convert {\n",
              "      background-color: #E8F0FE;\n",
              "      border: none;\n",
              "      border-radius: 50%;\n",
              "      cursor: pointer;\n",
              "      display: none;\n",
              "      fill: #1967D2;\n",
              "      height: 32px;\n",
              "      padding: 0 0 0 0;\n",
              "      width: 32px;\n",
              "    }\n",
              "\n",
              "    .colab-df-convert:hover {\n",
              "      background-color: #E2EBFA;\n",
              "      box-shadow: 0px 1px 2px rgba(60, 64, 67, 0.3), 0px 1px 3px 1px rgba(60, 64, 67, 0.15);\n",
              "      fill: #174EA6;\n",
              "    }\n",
              "\n",
              "    [theme=dark] .colab-df-convert {\n",
              "      background-color: #3B4455;\n",
              "      fill: #D2E3FC;\n",
              "    }\n",
              "\n",
              "    [theme=dark] .colab-df-convert:hover {\n",
              "      background-color: #434B5C;\n",
              "      box-shadow: 0px 1px 3px 1px rgba(0, 0, 0, 0.15);\n",
              "      filter: drop-shadow(0px 1px 2px rgba(0, 0, 0, 0.3));\n",
              "      fill: #FFFFFF;\n",
              "    }\n",
              "  </style>\n",
              "\n",
              "      <script>\n",
              "        const buttonEl =\n",
              "          document.querySelector('#df-afea45c9-abb2-4af4-8139-d54806236b08 button.colab-df-convert');\n",
              "        buttonEl.style.display =\n",
              "          google.colab.kernel.accessAllowed ? 'block' : 'none';\n",
              "\n",
              "        async function convertToInteractive(key) {\n",
              "          const element = document.querySelector('#df-afea45c9-abb2-4af4-8139-d54806236b08');\n",
              "          const dataTable =\n",
              "            await google.colab.kernel.invokeFunction('convertToInteractive',\n",
              "                                                     [key], {});\n",
              "          if (!dataTable) return;\n",
              "\n",
              "          const docLinkHtml = 'Like what you see? Visit the ' +\n",
              "            '<a target=\"_blank\" href=https://colab.research.google.com/notebooks/data_table.ipynb>data table notebook</a>'\n",
              "            + ' to learn more about interactive tables.';\n",
              "          element.innerHTML = '';\n",
              "          dataTable['output_type'] = 'display_data';\n",
              "          await google.colab.output.renderOutput(dataTable, element);\n",
              "          const docLink = document.createElement('div');\n",
              "          docLink.innerHTML = docLinkHtml;\n",
              "          element.appendChild(docLink);\n",
              "        }\n",
              "      </script>\n",
              "    </div>\n",
              "  </div>\n",
              "  "
            ],
            "text/plain": [
              "          0         1         2\n",
              "0  0.032678 -0.047423 -0.915926\n",
              "1  0.006228 -0.046282 -0.883825\n",
              "2  0.019453 -0.045141 -0.851724\n",
              "3  0.019453 -0.044000 -0.819624"
            ]
          },
          "metadata": {},
          "execution_count": 23
        }
      ],
      "source": [
        "pd.DataFrame(x_train_single[0])"
      ]
    },
    {
      "cell_type": "code",
      "execution_count": 24,
      "metadata": {
        "id": "FBTbWMJu6K24",
        "outputId": "01ccc890-013f-401e-acc1-e896705899aa",
        "colab": {
          "base_uri": "https://localhost:8080/"
        }
      },
      "outputs": [
        {
          "output_type": "execute_result",
          "data": {
            "text/plain": [
              "0.15170511389896058"
            ]
          },
          "metadata": {},
          "execution_count": 24
        }
      ],
      "source": [
        "y_train_single[0]"
      ]
    },
    {
      "cell_type": "code",
      "execution_count": 25,
      "metadata": {
        "id": "AgcxGvnQ6K26"
      },
      "outputs": [],
      "source": [
        "BATCH_SIZE = 32\n",
        "BUFFER_SIZE = 100\n",
        "\n",
        "train_data_single = tf.data.Dataset.from_tensor_slices((x_train_single, y_train_single))\n",
        "train_data_single = train_data_single.cache().shuffle(BUFFER_SIZE).batch(BATCH_SIZE).repeat()\n",
        "\n",
        "val_data_single = tf.data.Dataset.from_tensor_slices((x_val_single, y_val_single))\n",
        "val_data_single = val_data_single.batch(BATCH_SIZE).repeat()"
      ]
    },
    {
      "cell_type": "code",
      "execution_count": 26,
      "metadata": {
        "id": "C_0dJQKl6K28"
      },
      "outputs": [],
      "source": [
        "# construct the model\n",
        "\n",
        "single_step_model = tf.keras.models.Sequential()\n",
        "single_step_model.add(tf.keras.layers.LSTM(8, input_shape=x_train_single.shape[-2:]))\n",
        "#single_step_model.add(tf.keras.layers.LSTM(8, kernel_regularizer=l2(0.01), bias_regularizer=l2(0.01)))\n",
        "#single_step_model.add(tf.keras.layers.LSTM(8, dropout=0.2, recurrent_dropout=0.2, return_sequences=True))\n",
        "#single_step_model.add(tf.keras.layers.Bidirectional(tf.keras.layers.LSTM(4)))\n",
        "single_step_model.add(tf.keras.layers.Dense(1))\n",
        "\n",
        "single_step_model.compile(optimizer=tf.keras.optimizers.RMSprop(learning_rate=0.0001), loss='mae')"
      ]
    },
    {
      "cell_type": "code",
      "execution_count": 27,
      "metadata": {
        "scrolled": true,
        "id": "5bXLhbN_6K29",
        "outputId": "f3b1db0a-d3ed-4054-f057-92433d087e84",
        "colab": {
          "base_uri": "https://localhost:8080/"
        }
      },
      "outputs": [
        {
          "output_type": "stream",
          "name": "stdout",
          "text": [
            "Epoch 1/20\n",
            "200/200 [==============================] - 3s 6ms/step - loss: 0.8291 - val_loss: 0.9536\n",
            "Epoch 2/20\n",
            "200/200 [==============================] - 1s 4ms/step - loss: 0.7064 - val_loss: 0.9007\n",
            "Epoch 3/20\n",
            "200/200 [==============================] - 1s 4ms/step - loss: 0.6005 - val_loss: 0.8448\n",
            "Epoch 4/20\n",
            "200/200 [==============================] - 1s 4ms/step - loss: 0.5232 - val_loss: 0.7837\n",
            "Epoch 5/20\n",
            "200/200 [==============================] - 1s 5ms/step - loss: 0.4544 - val_loss: 0.7167\n",
            "Epoch 6/20\n",
            "200/200 [==============================] - 1s 5ms/step - loss: 0.3896 - val_loss: 0.6409\n",
            "Epoch 7/20\n",
            "200/200 [==============================] - 1s 4ms/step - loss: 0.3340 - val_loss: 0.5601\n",
            "Epoch 8/20\n",
            "200/200 [==============================] - 1s 4ms/step - loss: 0.2907 - val_loss: 0.4952\n",
            "Epoch 9/20\n",
            "200/200 [==============================] - 1s 5ms/step - loss: 0.2628 - val_loss: 0.4471\n",
            "Epoch 10/20\n",
            "200/200 [==============================] - 1s 4ms/step - loss: 0.2457 - val_loss: 0.4149\n",
            "Epoch 11/20\n",
            "200/200 [==============================] - 1s 4ms/step - loss: 0.2325 - val_loss: 0.3901\n",
            "Epoch 12/20\n",
            "200/200 [==============================] - 1s 4ms/step - loss: 0.2205 - val_loss: 0.3785\n",
            "Epoch 13/20\n",
            "200/200 [==============================] - 1s 4ms/step - loss: 0.2111 - val_loss: 0.3648\n",
            "Epoch 14/20\n",
            "200/200 [==============================] - 1s 4ms/step - loss: 0.2001 - val_loss: 0.3505\n",
            "Epoch 15/20\n",
            "200/200 [==============================] - 1s 4ms/step - loss: 0.1927 - val_loss: 0.3412\n",
            "Epoch 16/20\n",
            "200/200 [==============================] - 1s 4ms/step - loss: 0.1852 - val_loss: 0.3330\n",
            "Epoch 17/20\n",
            "200/200 [==============================] - 1s 4ms/step - loss: 0.1794 - val_loss: 0.3217\n",
            "Epoch 18/20\n",
            "200/200 [==============================] - 1s 4ms/step - loss: 0.1732 - val_loss: 0.3190\n",
            "Epoch 19/20\n",
            "200/200 [==============================] - 1s 4ms/step - loss: 0.1682 - val_loss: 0.3181\n",
            "Epoch 20/20\n",
            "200/200 [==============================] - 1s 4ms/step - loss: 0.1647 - val_loss: 0.3152\n"
          ]
        }
      ],
      "source": [
        "# train the model\n",
        "single_step_history = single_step_model.fit(train_data_single, epochs=20, steps_per_epoch=200, validation_data=val_data_single, validation_steps=50)"
      ]
    },
    {
      "cell_type": "code",
      "execution_count": 28,
      "metadata": {
        "id": "Ok4qDpKj6K3A",
        "outputId": "b6eb43c4-dee8-4f4b-c4f9-3b7fd772ed78",
        "colab": {
          "base_uri": "https://localhost:8080/",
          "height": 80
        }
      },
      "outputs": [
        {
          "output_type": "execute_result",
          "data": {
            "text/html": [
              "\n",
              "  <div id=\"df-7db247cf-571f-4d00-ba6d-fdec80f12974\">\n",
              "    <div class=\"colab-df-container\">\n",
              "      <div>\n",
              "<style scoped>\n",
              "    .dataframe tbody tr th:only-of-type {\n",
              "        vertical-align: middle;\n",
              "    }\n",
              "\n",
              "    .dataframe tbody tr th {\n",
              "        vertical-align: top;\n",
              "    }\n",
              "\n",
              "    .dataframe thead th {\n",
              "        text-align: right;\n",
              "    }\n",
              "</style>\n",
              "<table border=\"1\" class=\"dataframe\">\n",
              "  <thead>\n",
              "    <tr style=\"text-align: right;\">\n",
              "      <th></th>\n",
              "      <th>accuracy</th>\n",
              "      <th>f1_score</th>\n",
              "      <th>precision</th>\n",
              "      <th>recall</th>\n",
              "      <th>mse</th>\n",
              "      <th>rmse</th>\n",
              "      <th>mae</th>\n",
              "      <th>r2</th>\n",
              "    </tr>\n",
              "  </thead>\n",
              "  <tbody>\n",
              "    <tr>\n",
              "      <th>0</th>\n",
              "      <td>0</td>\n",
              "      <td>0</td>\n",
              "      <td>0</td>\n",
              "      <td>0</td>\n",
              "      <td>0.206353</td>\n",
              "      <td>0.454261</td>\n",
              "      <td>0.315218</td>\n",
              "      <td>0.806134</td>\n",
              "    </tr>\n",
              "  </tbody>\n",
              "</table>\n",
              "</div>\n",
              "      <button class=\"colab-df-convert\" onclick=\"convertToInteractive('df-7db247cf-571f-4d00-ba6d-fdec80f12974')\"\n",
              "              title=\"Convert this dataframe to an interactive table.\"\n",
              "              style=\"display:none;\">\n",
              "        \n",
              "  <svg xmlns=\"http://www.w3.org/2000/svg\" height=\"24px\"viewBox=\"0 0 24 24\"\n",
              "       width=\"24px\">\n",
              "    <path d=\"M0 0h24v24H0V0z\" fill=\"none\"/>\n",
              "    <path d=\"M18.56 5.44l.94 2.06.94-2.06 2.06-.94-2.06-.94-.94-2.06-.94 2.06-2.06.94zm-11 1L8.5 8.5l.94-2.06 2.06-.94-2.06-.94L8.5 2.5l-.94 2.06-2.06.94zm10 10l.94 2.06.94-2.06 2.06-.94-2.06-.94-.94-2.06-.94 2.06-2.06.94z\"/><path d=\"M17.41 7.96l-1.37-1.37c-.4-.4-.92-.59-1.43-.59-.52 0-1.04.2-1.43.59L10.3 9.45l-7.72 7.72c-.78.78-.78 2.05 0 2.83L4 21.41c.39.39.9.59 1.41.59.51 0 1.02-.2 1.41-.59l7.78-7.78 2.81-2.81c.8-.78.8-2.07 0-2.86zM5.41 20L4 18.59l7.72-7.72 1.47 1.35L5.41 20z\"/>\n",
              "  </svg>\n",
              "      </button>\n",
              "      \n",
              "  <style>\n",
              "    .colab-df-container {\n",
              "      display:flex;\n",
              "      flex-wrap:wrap;\n",
              "      gap: 12px;\n",
              "    }\n",
              "\n",
              "    .colab-df-convert {\n",
              "      background-color: #E8F0FE;\n",
              "      border: none;\n",
              "      border-radius: 50%;\n",
              "      cursor: pointer;\n",
              "      display: none;\n",
              "      fill: #1967D2;\n",
              "      height: 32px;\n",
              "      padding: 0 0 0 0;\n",
              "      width: 32px;\n",
              "    }\n",
              "\n",
              "    .colab-df-convert:hover {\n",
              "      background-color: #E2EBFA;\n",
              "      box-shadow: 0px 1px 2px rgba(60, 64, 67, 0.3), 0px 1px 3px 1px rgba(60, 64, 67, 0.15);\n",
              "      fill: #174EA6;\n",
              "    }\n",
              "\n",
              "    [theme=dark] .colab-df-convert {\n",
              "      background-color: #3B4455;\n",
              "      fill: #D2E3FC;\n",
              "    }\n",
              "\n",
              "    [theme=dark] .colab-df-convert:hover {\n",
              "      background-color: #434B5C;\n",
              "      box-shadow: 0px 1px 3px 1px rgba(0, 0, 0, 0.15);\n",
              "      filter: drop-shadow(0px 1px 2px rgba(0, 0, 0, 0.3));\n",
              "      fill: #FFFFFF;\n",
              "    }\n",
              "  </style>\n",
              "\n",
              "      <script>\n",
              "        const buttonEl =\n",
              "          document.querySelector('#df-7db247cf-571f-4d00-ba6d-fdec80f12974 button.colab-df-convert');\n",
              "        buttonEl.style.display =\n",
              "          google.colab.kernel.accessAllowed ? 'block' : 'none';\n",
              "\n",
              "        async function convertToInteractive(key) {\n",
              "          const element = document.querySelector('#df-7db247cf-571f-4d00-ba6d-fdec80f12974');\n",
              "          const dataTable =\n",
              "            await google.colab.kernel.invokeFunction('convertToInteractive',\n",
              "                                                     [key], {});\n",
              "          if (!dataTable) return;\n",
              "\n",
              "          const docLinkHtml = 'Like what you see? Visit the ' +\n",
              "            '<a target=\"_blank\" href=https://colab.research.google.com/notebooks/data_table.ipynb>data table notebook</a>'\n",
              "            + ' to learn more about interactive tables.';\n",
              "          element.innerHTML = '';\n",
              "          dataTable['output_type'] = 'display_data';\n",
              "          await google.colab.output.renderOutput(dataTable, element);\n",
              "          const docLink = document.createElement('div');\n",
              "          docLink.innerHTML = docLinkHtml;\n",
              "          element.appendChild(docLink);\n",
              "        }\n",
              "      </script>\n",
              "    </div>\n",
              "  </div>\n",
              "  "
            ],
            "text/plain": [
              "   accuracy  f1_score  precision  ...      rmse       mae        r2\n",
              "0         0         0          0  ...  0.454261  0.315218  0.806134\n",
              "\n",
              "[1 rows x 8 columns]"
            ]
          },
          "metadata": {},
          "execution_count": 28
        }
      ],
      "source": [
        "# evaluate the model\n",
        "model_eval_metrics(y_val_single, single_step_model.predict(x_val_single), classification=\"FALSE\")"
      ]
    },
    {
      "cell_type": "code",
      "execution_count": 29,
      "metadata": {
        "scrolled": false,
        "id": "X7DSWWQb6K3E",
        "outputId": "64d142a1-235c-4ede-adaf-e94437b5d7d0",
        "colab": {
          "base_uri": "https://localhost:8080/",
          "height": 300
        }
      },
      "outputs": [
        {
          "output_type": "stream",
          "name": "stdout",
          "text": [
            "Test set score: 0.81\n"
          ]
        },
        {
          "output_type": "display_data",
          "data": {
            "image/png": "[encoded data removed]",
            "text/plain": [
              "<Figure size 432x288 with 1 Axes>"
            ]
          },
          "metadata": {
            "needs_background": "light"
          }
        }
      ],
      "source": [
        "# visualize the result\n",
        "\n",
        "plt.plot(y_val_single*data_std[0]+data_mean[0], label=\"actual\")\n",
        "plt.plot(single_step_model.predict(x_val_single)*data_std[0]+data_mean[0], \"r\", linestyle='--', label=\"predict\")\n",
        "plt.legend(loc='best')\n",
        "plt.title('RNN-LSTM: Level')\n",
        "plt.savefig(\"images/google_lstm.png\")\n",
        "\n",
        "print(\"Test set score: {:.2f}\".format(r2_score(y_val_single, single_step_model.predict(x_val_single))))"
      ]
    },
    {
      "cell_type": "markdown",
      "metadata": {
        "id": "Ejf0lB18P4CB"
      },
      "source": [
        "### Weekly Nowcasting"
      ]
    },
    {
      "cell_type": "code",
      "source": [
        "# Get the weekly google trend data (unemployment)\n",
        "kw_list = [\"失業\"]\n",
        "pytrends.build_payload(kw_list, timeframe='today 5-y', geo='JP')\n",
        "#pytrends.build_payload(kw_list, timeframe='2004-01-01 2020-02-29', geo='JP')\n",
        "gt3 = pytrends.interest_over_time()\n",
        "gt3 = gt3.rename(columns = {\"失業\": \"unemployment\", \"isPartial\": \"info\"})\n",
        "gt3.to_csv(\"data/gt3.csv\")\n",
        "dateparse = lambda dates: pd.datetime.strptime(dates, '%Y-%m-%d')\n",
        "gt3 = pd.read_csv('data/gt3.csv', index_col=0, date_parser=dateparse, dtype='float')\n",
        "\n",
        "# Extract trend factor\n",
        "s3 = seasonal_decompose(gt3.iloc[:,0], extrapolate_trend='freq')\n",
        "t3 = s3.trend\n",
        "gtw_u = pd.DataFrame(t3)\n",
        "gtw_u.to_csv(\"data/gtw_u.csv\")\n",
        "\n",
        "plt.plot(t3)\n",
        "plt.plot(gt3.iloc[:,0], linestyle='--')"
      ],
      "metadata": {
        "colab": {
          "base_uri": "https://localhost:8080/",
          "height": 322
        },
        "id": "7O7aRY3WPskB",
        "outputId": "b9a5170c-84cb-4cf2-843a-d934965c73ca"
      },
      "execution_count": 30,
      "outputs": [
        {
          "output_type": "stream",
          "name": "stderr",
          "text": [
            "/usr/local/lib/python3.7/dist-packages/ipykernel_launcher.py:8: FutureWarning: The pandas.datetime class is deprecated and will be removed from pandas in a future version. Import from datetime module instead.\n",
            "  \n"
          ]
        },
        {
          "output_type": "execute_result",
          "data": {
            "text/plain": [
              "[<matplotlib.lines.Line2D at 0x7ff9656be0d0>]"
            ]
          },
          "metadata": {},
          "execution_count": 30
        },
        {
          "output_type": "display_data",
          "data": {
            "image/png": "[encoded data removed]",
            "text/plain": [
              "<Figure size 432x288 with 1 Axes>"
            ]
          },
          "metadata": {
            "needs_background": "light"
          }
        }
      ]
    },
    {
      "cell_type": "code",
      "source": [
        "# Get the weekly google trend data (saving)\n",
        "kw_list = [\"貯金\"]\n",
        "pytrends.build_payload(kw_list, timeframe='today 5-y', geo='JP')\n",
        "#pytrends.build_payload(kw_list, timeframe='2004-01-01 2020-02-29', geo='JP')\n",
        "gt4 = pytrends.interest_over_time()\n",
        "gt4 = gt4.rename(columns = {\"貯金\": \"saving\", \"isPartial\": \"info\"})\n",
        "gt4.to_csv(\"data/gt4.csv\")\n",
        "dateparse = lambda dates: pd.datetime.strptime(dates, '%Y-%m-%d')\n",
        "gt4 = pd.read_csv('data/gt4.csv', index_col=0, date_parser=dateparse, dtype='float')\n",
        "\n",
        "# Extract trend factor\n",
        "s4 = seasonal_decompose(gt4.iloc[:,0], extrapolate_trend='freq')\n",
        "t4 = s4.trend\n",
        "gtw_s = pd.DataFrame(t4)\n",
        "gtw_s.to_csv(\"data/gtw_s.csv\")\n",
        "\n",
        "plt.plot(t4)\n",
        "plt.plot(gt4.iloc[:,0], linestyle='--')"
      ],
      "metadata": {
        "colab": {
          "base_uri": "https://localhost:8080/",
          "height": 322
        },
        "id": "x4SyrMQjTCD0",
        "outputId": "9faa8535-fd8a-48d7-93e3-045fbea977db"
      },
      "execution_count": 31,
      "outputs": [
        {
          "output_type": "stream",
          "name": "stderr",
          "text": [
            "/usr/local/lib/python3.7/dist-packages/ipykernel_launcher.py:8: FutureWarning: The pandas.datetime class is deprecated and will be removed from pandas in a future version. Import from datetime module instead.\n",
            "  \n"
          ]
        },
        {
          "output_type": "execute_result",
          "data": {
            "text/plain": [
              "[<matplotlib.lines.Line2D at 0x7ff96772efd0>]"
            ]
          },
          "metadata": {},
          "execution_count": 31
        },
        {
          "output_type": "display_data",
          "data": {
            "image/png": "[encoded data removed]",
            "text/plain": [
              "<Figure size 432x288 with 1 Axes>"
            ]
          },
          "metadata": {
            "needs_background": "light"
          }
        }
      ]
    },
    {
      "cell_type": "code",
      "source": [
        "# load the weekly ibc data\n",
        "dateparse = lambda dates: pd.datetime.strptime(dates, '%Y-%m-%d')\n",
        "XX = pd.read_csv('data/gtw_all.csv', index_col=0, date_parser=dateparse, dtype='float')\n",
        "\n",
        "#plt.plot(XX['ibc'])"
      ],
      "metadata": {
        "colab": {
          "base_uri": "https://localhost:8080/"
        },
        "id": "dX0_CRkIUVRD",
        "outputId": "f0d83da4-3800-4584-cc55-e188dae21469"
      },
      "execution_count": 32,
      "outputs": [
        {
          "output_type": "stream",
          "name": "stderr",
          "text": [
            "/usr/local/lib/python3.7/dist-packages/ipykernel_launcher.py:2: FutureWarning: The pandas.datetime class is deprecated and will be removed from pandas in a future version. Import from datetime module instead.\n",
            "  \n"
          ]
        }
      ]
    },
    {
      "cell_type": "code",
      "source": [
        "# feature scaling\n",
        "dataset = XX.iloc[:254,:].values\n",
        "data_mean = dataset.mean(axis=0)\n",
        "data_std = dataset.std(axis=0)\n",
        "dataset = (dataset-data_mean)/data_std\n",
        "\n",
        "# create the test data\n",
        "x_single, y_single = multivariate_data(dataset, dataset[:,0], 0, None, past_history, future_target, STEP, single_step=True)\n",
        "\n",
        "# save the output\n",
        "past_estimate = pd.DataFrame(single_step_model.predict(x_single)*data_std[0]+data_mean[0])\n",
        "plt.plot(past_estimate, \"r\", linestyle='--', label=\"predict\")"
      ],
      "metadata": {
        "colab": {
          "base_uri": "https://localhost:8080/",
          "height": 284
        },
        "id": "HDbhAPQRUeIC",
        "outputId": "b5e49102-858c-49e4-8706-359673049695"
      },
      "execution_count": 33,
      "outputs": [
        {
          "output_type": "execute_result",
          "data": {
            "text/plain": [
              "[<matplotlib.lines.Line2D at 0x7ff95d7d45d0>]"
            ]
          },
          "metadata": {},
          "execution_count": 33
        },
        {
          "output_type": "display_data",
          "data": {
            "image/png": "[encoded data removed]",
            "text/plain": [
              "<Figure size 432x288 with 1 Axes>"
            ]
          },
          "metadata": {
            "needs_background": "light"
          }
        }
      ]
    },
    {
      "cell_type": "code",
      "source": [
        "# compare to IBC graph\n",
        "plt.plot(ts.iloc[156:,0:1])"
      ],
      "metadata": {
        "colab": {
          "base_uri": "https://localhost:8080/",
          "height": 284
        },
        "id": "oaVqild0uNfY",
        "outputId": "c749c7ab-3f4b-4276-f828-afcad85ebf42"
      },
      "execution_count": 34,
      "outputs": [
        {
          "output_type": "execute_result",
          "data": {
            "text/plain": [
              "[<matplotlib.lines.Line2D at 0x7ff97002f650>]"
            ]
          },
          "metadata": {},
          "execution_count": 34
        },
        {
          "output_type": "display_data",
          "data": {
            "image/png": "[encoded data removed]",
            "text/plain": [
              "<Figure size 432x288 with 1 Axes>"
            ]
          },
          "metadata": {
            "needs_background": "light"
          }
        }
      ]
    },
    {
      "cell_type": "code",
      "source": [
        "# nowcast the future IBC\n",
        "for i in range(254, 260):\n",
        "  XX.iat[i,0] = float(single_step_model.predict(x_single)[-1]*data_std[0]+data_mean[0])\n",
        "  #XX.iat[i,0] = XX.iat[i-1,0]\n",
        "  temp = XX.iloc[:i+1,:]\n",
        "  print(temp.tail())\n",
        "  print('-----------------------------------------------')\n",
        "\n",
        "  # feature scaling\n",
        "  dataset = temp.values\n",
        "  data_mean = dataset.mean(axis=0)\n",
        "  data_std = dataset.std(axis=0)\n",
        "  dataset = (dataset-data_mean)/data_std\n",
        "  \n",
        "  # create the test data\n",
        "  x_single, y_single = multivariate_data(dataset, dataset[:,0], 0, None, past_history, future_target, STEP, single_step=True)\n",
        "\n",
        "  XX.iat[i,0] = float(single_step_model.predict(x_single)[-1]*data_std[0]+data_mean[0])\n",
        "  print(XX.tail(10))\n",
        "  print('-----------------------------------------------')\n",
        "\n",
        "# save the output\n",
        "future_estimate = pd.DataFrame(XX.iloc[254:261,0])"
      ],
      "metadata": {
        "colab": {
          "base_uri": "https://localhost:8080/"
        },
        "id": "g7bDWewxUo7_",
        "outputId": "3856cd79-3978-468b-e3d8-21dedf9bda79"
      },
      "execution_count": 35,
      "outputs": [
        {
          "output_type": "stream",
          "name": "stdout",
          "text": [
            "                  ibc  unemployment     saving\n",
            "date                                          \n",
            "2021-11-07  93.600000     43.906232  58.875252\n",
            "2021-11-14  93.600000     43.610624  58.943411\n",
            "2021-11-21  93.600000     43.315017  59.011570\n",
            "2021-11-28  93.600000     43.019409  59.079730\n",
            "2021-12-05  95.422821     42.723801  59.147889\n",
            "-----------------------------------------------\n",
            "                  ibc  unemployment     saving\n",
            "date                                          \n",
            "2021-11-07  93.600000     43.906232  58.875252\n",
            "2021-11-14  93.600000     43.610624  58.943411\n",
            "2021-11-21  93.600000     43.315017  59.011570\n",
            "2021-11-28  93.600000     43.019409  59.079730\n",
            "2021-12-05  95.464783     42.723801  59.147889\n",
            "2021-12-12        NaN     42.428194  59.216049\n",
            "2021-12-19        NaN     42.132586  59.284208\n",
            "2021-12-26        NaN     41.836978  59.352367\n",
            "2022-01-02        NaN     41.541371  59.420527\n",
            "2022-01-09        NaN     41.245763  59.488686\n",
            "-----------------------------------------------\n",
            "                  ibc  unemployment     saving\n",
            "date                                          \n",
            "2021-11-14  93.600000     43.610624  58.943411\n",
            "2021-11-21  93.600000     43.315017  59.011570\n",
            "2021-11-28  93.600000     43.019409  59.079730\n",
            "2021-12-05  95.464783     42.723801  59.147889\n",
            "2021-12-12  95.464783     42.428194  59.216049\n",
            "-----------------------------------------------\n",
            "                  ibc  unemployment     saving\n",
            "date                                          \n",
            "2021-11-07  93.600000     43.906232  58.875252\n",
            "2021-11-14  93.600000     43.610624  58.943411\n",
            "2021-11-21  93.600000     43.315017  59.011570\n",
            "2021-11-28  93.600000     43.019409  59.079730\n",
            "2021-12-05  95.464783     42.723801  59.147889\n",
            "2021-12-12  96.260811     42.428194  59.216049\n",
            "2021-12-19        NaN     42.132586  59.284208\n",
            "2021-12-26        NaN     41.836978  59.352367\n",
            "2022-01-02        NaN     41.541371  59.420527\n",
            "2022-01-09        NaN     41.245763  59.488686\n",
            "-----------------------------------------------\n",
            "                  ibc  unemployment     saving\n",
            "date                                          \n",
            "2021-11-21  93.600000     43.315017  59.011570\n",
            "2021-11-28  93.600000     43.019409  59.079730\n",
            "2021-12-05  95.464783     42.723801  59.147889\n",
            "2021-12-12  96.260811     42.428194  59.216049\n",
            "2021-12-19  96.260811     42.132586  59.284208\n",
            "-----------------------------------------------\n",
            "                  ibc  unemployment     saving\n",
            "date                                          \n",
            "2021-11-07  93.600000     43.906232  58.875252\n",
            "2021-11-14  93.600000     43.610624  58.943411\n",
            "2021-11-21  93.600000     43.315017  59.011570\n",
            "2021-11-28  93.600000     43.019409  59.079730\n",
            "2021-12-05  95.464783     42.723801  59.147889\n",
            "2021-12-12  96.260811     42.428194  59.216049\n",
            "2021-12-19  97.005310     42.132586  59.284208\n",
            "2021-12-26        NaN     41.836978  59.352367\n",
            "2022-01-02        NaN     41.541371  59.420527\n",
            "2022-01-09        NaN     41.245763  59.488686\n",
            "-----------------------------------------------\n",
            "                  ibc  unemployment     saving\n",
            "date                                          \n",
            "2021-11-28  93.600000     43.019409  59.079730\n",
            "2021-12-05  95.464783     42.723801  59.147889\n",
            "2021-12-12  96.260811     42.428194  59.216049\n",
            "2021-12-19  97.005310     42.132586  59.284208\n",
            "2021-12-26  97.005310     41.836978  59.352367\n",
            "-----------------------------------------------\n",
            "                  ibc  unemployment     saving\n",
            "date                                          \n",
            "2021-11-07  93.600000     43.906232  58.875252\n",
            "2021-11-14  93.600000     43.610624  58.943411\n",
            "2021-11-21  93.600000     43.315017  59.011570\n",
            "2021-11-28  93.600000     43.019409  59.079730\n",
            "2021-12-05  95.464783     42.723801  59.147889\n",
            "2021-12-12  96.260811     42.428194  59.216049\n",
            "2021-12-19  97.005310     42.132586  59.284208\n",
            "2021-12-26  97.877007     41.836978  59.352367\n",
            "2022-01-02        NaN     41.541371  59.420527\n",
            "2022-01-09        NaN     41.245763  59.488686\n",
            "-----------------------------------------------\n",
            "                  ibc  unemployment     saving\n",
            "date                                          \n",
            "2021-12-05  95.464783     42.723801  59.147889\n",
            "2021-12-12  96.260811     42.428194  59.216049\n",
            "2021-12-19  97.005310     42.132586  59.284208\n",
            "2021-12-26  97.877007     41.836978  59.352367\n",
            "2022-01-02  97.877007     41.541371  59.420527\n",
            "-----------------------------------------------\n",
            "                  ibc  unemployment     saving\n",
            "date                                          \n",
            "2021-11-07  93.600000     43.906232  58.875252\n",
            "2021-11-14  93.600000     43.610624  58.943411\n",
            "2021-11-21  93.600000     43.315017  59.011570\n",
            "2021-11-28  93.600000     43.019409  59.079730\n",
            "2021-12-05  95.464783     42.723801  59.147889\n",
            "2021-12-12  96.260811     42.428194  59.216049\n",
            "2021-12-19  97.005310     42.132586  59.284208\n",
            "2021-12-26  97.877007     41.836978  59.352367\n",
            "2022-01-02  98.610458     41.541371  59.420527\n",
            "2022-01-09        NaN     41.245763  59.488686\n",
            "-----------------------------------------------\n",
            "                  ibc  unemployment     saving\n",
            "date                                          \n",
            "2021-12-12  96.260811     42.428194  59.216049\n",
            "2021-12-19  97.005310     42.132586  59.284208\n",
            "2021-12-26  97.877007     41.836978  59.352367\n",
            "2022-01-02  98.610458     41.541371  59.420527\n",
            "2022-01-09  98.610458     41.245763  59.488686\n",
            "-----------------------------------------------\n",
            "                  ibc  unemployment     saving\n",
            "date                                          \n",
            "2021-11-07  93.600000     43.906232  58.875252\n",
            "2021-11-14  93.600000     43.610624  58.943411\n",
            "2021-11-21  93.600000     43.315017  59.011570\n",
            "2021-11-28  93.600000     43.019409  59.079730\n",
            "2021-12-05  95.464783     42.723801  59.147889\n",
            "2021-12-12  96.260811     42.428194  59.216049\n",
            "2021-12-19  97.005310     42.132586  59.284208\n",
            "2021-12-26  97.877007     41.836978  59.352367\n",
            "2022-01-02  98.610458     41.541371  59.420527\n",
            "2022-01-09  99.307793     41.245763  59.488686\n",
            "-----------------------------------------------\n"
          ]
        }
      ]
    },
    {
      "cell_type": "code",
      "source": [
        "#plt.plot(XX.iloc[52:112,0], \"r\", linestyle='--', label=\"predict\")\n",
        "plt.plot(single_step_model.predict(x_single)*data_std[0]+data_mean[0], \"r\", linestyle='--', label=\"predict\")"
      ],
      "metadata": {
        "colab": {
          "base_uri": "https://localhost:8080/",
          "height": 284
        },
        "id": "x7TLtfvrUxGf",
        "outputId": "e6f1f425-a393-48cc-bbf1-8261680b33ae"
      },
      "execution_count": 36,
      "outputs": [
        {
          "output_type": "execute_result",
          "data": {
            "text/plain": [
              "[<matplotlib.lines.Line2D at 0x7ff95ecacb90>]"
            ]
          },
          "metadata": {},
          "execution_count": 36
        },
        {
          "output_type": "display_data",
          "data": {
            "image/png": "[encoded data removed]",
            "text/plain": [
              "<Figure size 432x288 with 1 Axes>"
            ]
          },
          "metadata": {
            "needs_background": "light"
          }
        }
      ]
    },
    {
      "cell_type": "code",
      "source": [
        "new = past_estimate.set_axis(['ibc'], axis='columns')\n",
        "df_concat = pd.concat([new, future_estimate])\n",
        "#df_concat\n",
        "#plt.plot(df_concat, \"r\", linestyle='--', label=\"predict\")"
      ],
      "metadata": {
        "id": "uj5G4K_2lyqj"
      },
      "execution_count": 37,
      "outputs": []
    }
  ],
  "metadata": {
    "kernelspec": {
      "display_name": "Python 3",
      "language": "python",
      "name": "python3"
    },
    "language_info": {
      "codemirror_mode": {
        "name": "ipython",
        "version": 3
      },
      "file_extension": ".py",
      "mimetype": "text/x-python",
      "name": "python",
      "nbconvert_exporter": "python",
      "pygments_lexer": "ipython3",
      "version": "3.7.4"
    },
    "colab": {
      "name": "nowcast.ipynb",
      "provenance": [],
      "collapsed_sections": [
        "xflSN4wChbhV",
        "Xr2PamD36Kv_",
        "hiNhjuF-wMpW",
        "WzHv9pQM6K1_",
        "SdD511OM6K2H",
        "PS4NW1Yp6K2O",
        "V32oTQrx6K2j",
        "Klc8ucqV6K3O",
        "HZaPMm-h6K3p",
        "-Hj7JiDF6K32",
        "oTGxVtCn6K3_",
        "e-Goq3qU6K4K",
        "bt9_B3OJ6K4S",
        "hDGFPW506K5E",
        "wz7rYgUU6K5h",
        "jw25VR9e6K5l",
        "qvNQXHc26K5t",
        "sssUeBbs6K5y"
      ],
      "include_colab_link": true
    }
  },
  "nbformat": 4,
  "nbformat_minor": 0
}