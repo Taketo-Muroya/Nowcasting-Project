{
  "cells": [
    {
      "cell_type": "markdown",
      "metadata": {
        "id": "view-in-github",
        "colab_type": "text"
      },
      "source": [
        "<a href=\"https://colab.research.google.com/github/Taketo-Muroya/Nowcasting-Project/blob/main/Colab/nowcast-5.ipynb\" target=\"_parent\"><img src=\"https://colab.research.google.com/assets/colab-badge.svg\" alt=\"Open In Colab\"/></a>"
      ]
    },
    {
      "cell_type": "markdown",
      "metadata": {
        "id": "04bkrl6V6Kub"
      },
      "source": [
        "# The nowcasting of economic conditions in Japan using ML"
      ]
    },
    {
      "cell_type": "markdown",
      "source": [
        "グーグル検索数（失業や貯金などの検索ワードのトレンド）を用いて、景気の動向を予測するPythonコードです。"
      ],
      "metadata": {
        "id": "zdOBVR0ZfFQ7"
      }
    },
    {
      "cell_type": "markdown",
      "metadata": {
        "id": "xflSN4wChbhV"
      },
      "source": [
        "## Setting Up"
      ]
    },
    {
      "cell_type": "code",
      "execution_count": 159,
      "metadata": {
        "colab": {
          "base_uri": "https://localhost:8080/"
        },
        "id": "nNDJg5GtV3-n",
        "outputId": "c1342ff2-2a28-4078-b5fa-825820e6572f"
      },
      "outputs": [
        {
          "output_type": "stream",
          "name": "stdout",
          "text": [
            "Looking in indexes: https://pypi.org/simple, https://us-python.pkg.dev/colab-wheels/public/simple/\n",
            "Requirement already satisfied: pytrends in /usr/local/lib/python3.7/dist-packages (4.8.0)\n",
            "Requirement already satisfied: lxml in /usr/local/lib/python3.7/dist-packages (from pytrends) (4.9.1)\n",
            "Requirement already satisfied: pandas>=0.25 in /usr/local/lib/python3.7/dist-packages (from pytrends) (1.3.5)\n",
            "Requirement already satisfied: requests>=2.0 in /usr/local/lib/python3.7/dist-packages (from pytrends) (2.23.0)\n",
            "Requirement already satisfied: pytz>=2017.3 in /usr/local/lib/python3.7/dist-packages (from pandas>=0.25->pytrends) (2022.2.1)\n",
            "Requirement already satisfied: python-dateutil>=2.7.3 in /usr/local/lib/python3.7/dist-packages (from pandas>=0.25->pytrends) (2.8.2)\n",
            "Requirement already satisfied: numpy>=1.17.3 in /usr/local/lib/python3.7/dist-packages (from pandas>=0.25->pytrends) (1.21.6)\n",
            "Requirement already satisfied: six>=1.5 in /usr/local/lib/python3.7/dist-packages (from python-dateutil>=2.7.3->pandas>=0.25->pytrends) (1.15.0)\n",
            "Requirement already satisfied: idna<3,>=2.5 in /usr/local/lib/python3.7/dist-packages (from requests>=2.0->pytrends) (2.10)\n",
            "Requirement already satisfied: chardet<4,>=3.0.2 in /usr/local/lib/python3.7/dist-packages (from requests>=2.0->pytrends) (3.0.4)\n",
            "Requirement already satisfied: urllib3!=1.25.0,!=1.25.1,<1.26,>=1.21.1 in /usr/local/lib/python3.7/dist-packages (from requests>=2.0->pytrends) (1.24.3)\n",
            "Requirement already satisfied: certifi>=2017.4.17 in /usr/local/lib/python3.7/dist-packages (from requests>=2.0->pytrends) (2022.6.15)\n"
          ]
        }
      ],
      "source": [
        "pip install pytrends"
      ]
    },
    {
      "cell_type": "code",
      "execution_count": 160,
      "metadata": {
        "id": "XVRC4jcI6KvX"
      },
      "outputs": [],
      "source": [
        "# Import packages\n",
        "import re\n",
        "import os\n",
        "import sys\n",
        "import requests\n",
        "import pandas as pd\n",
        "import numpy as np\n",
        "import matplotlib as mpl\n",
        "import matplotlib.pyplot as plt\n",
        "import statsmodels.api as sm\n",
        "import tensorflow as tf\n",
        "\n",
        "from math import sqrt\n",
        "from bs4 import BeautifulSoup\n",
        "from pathlib import Path\n",
        "from subprocess import call\n",
        "from keras.regularizers import l2\n",
        "from statsmodels.tsa.seasonal import seasonal_decompose\n",
        "\n",
        "from sklearn.model_selection import train_test_split\n",
        "from sklearn.model_selection import cross_val_score\n",
        "from sklearn.model_selection import GridSearchCV\n",
        "from sklearn.neighbors import KNeighborsRegressor\n",
        "from sklearn.linear_model import LinearRegression\n",
        "from sklearn.linear_model import Ridge\n",
        "from sklearn.linear_model import Lasso\n",
        "from sklearn.ensemble import RandomForestRegressor\n",
        "from sklearn.metrics import accuracy_score\n",
        "from sklearn.metrics import f1_score\n",
        "from sklearn.metrics import precision_score\n",
        "from sklearn.metrics import recall_score\n",
        "from sklearn.metrics import roc_auc_score\n",
        "from sklearn.metrics import mean_squared_error\n",
        "from sklearn.metrics import r2_score\n",
        "from sklearn.metrics import mean_absolute_error"
      ]
    },
    {
      "cell_type": "markdown",
      "metadata": {
        "id": "Xr2PamD36Kv_"
      },
      "source": [
        "## Target variable: Indexes of Business Conditions (IBC)"
      ]
    },
    {
      "cell_type": "markdown",
      "metadata": {
        "id": "PquS-anG6KwT"
      },
      "source": [
        "まず、景気動向指数をHPからWebスクレイピングで自動取得します。"
      ]
    },
    {
      "cell_type": "code",
      "execution_count": 161,
      "metadata": {
        "colab": {
          "base_uri": "https://localhost:8080/",
          "height": 36
        },
        "id": "JqR70Con6_Nb",
        "outputId": "7c54dab7-0314-460d-9a6b-b53cc9c67e0a"
      },
      "outputs": [
        {
          "output_type": "execute_result",
          "data": {
            "text/plain": [
              "'https://www.esri.cao.go.jp/jp/stat/di/0805ci.xlsx'"
            ],
            "application/vnd.google.colaboratory.intrinsic+json": {
              "type": "string"
            }
          },
          "metadata": {},
          "execution_count": 161
        }
      ],
      "source": [
        "url = 'https://www.esri.cao.go.jp/jp/stat/di/'\n",
        "url_index = url + 'di.html'\n",
        "res = requests.get(url_index)\n",
        "soup = BeautifulSoup(res.text, 'html.parser')\n",
        "\n",
        "name = soup.find_all('a', {'target': '_blank'})[2].attrs['href']\n",
        "input_file_name = url + name\n",
        "input_file_name"
      ]
    },
    {
      "cell_type": "code",
      "execution_count": 162,
      "metadata": {
        "colab": {
          "base_uri": "https://localhost:8080/"
        },
        "id": "NGtdCypmhVTB",
        "outputId": "3e242ab7-1b82-4f2f-f43b-4af6f124ba0d"
      },
      "outputs": [
        {
          "output_type": "stream",
          "name": "stdout",
          "text": [
            "Sheet の数: 1\n",
            "['指数 Indexes']\n"
          ]
        }
      ],
      "source": [
        "#xls book Open (xls, xlsxのどちらでも可能)\n",
        "input_book = pd.ExcelFile(input_file_name)\n",
        "#sheet_namesメソッドでExcelブック内の各シートの名前をリストで取得できる\n",
        "input_sheet_name = input_book.sheet_names\n",
        "#lenでシートの総数を確認\n",
        "num_sheet = len(input_sheet_name)\n",
        "#シートの数とシートの名前のリストの表示\n",
        "print (\"Sheet の数:\", num_sheet)\n",
        "print (input_sheet_name)"
      ]
    },
    {
      "cell_type": "code",
      "execution_count": 163,
      "metadata": {
        "colab": {
          "base_uri": "https://localhost:8080/",
          "height": 419
        },
        "id": "W6xoIMboiDYg",
        "outputId": "964085c6-2a05-4498-d23b-91975eda87d8"
      },
      "outputs": [
        {
          "output_type": "execute_result",
          "data": {
            "text/plain": [
              "             time  Coincident Index  Coincident ann\n",
              "62   1.985000e+09              79.0             NaN\n",
              "63   1.985000e+09              78.7             NaN\n",
              "64   1.985000e+09              78.6             NaN\n",
              "65   1.985000e+09              79.5             NaN\n",
              "66   1.985001e+09              79.5             NaN\n",
              "..            ...               ...             ...\n",
              "507  2.022000e+09              96.3        5.592105\n",
              "508  2.022000e+09              96.8        3.198294\n",
              "509  2.022000e+09              96.8        1.255230\n",
              "510  2.022001e+09              94.9        1.172708\n",
              "511  2.022001e+09              99.0        3.991597\n",
              "\n",
              "[450 rows x 3 columns]"
            ],
            "text/html": [
              "\n",
              "  <div id=\"df-d845d39a-1fe4-4a58-b0d8-c0b1009d10ef\">\n",
              "    <div class=\"colab-df-container\">\n",
              "      <div>\n",
              "<style scoped>\n",
              "    .dataframe tbody tr th:only-of-type {\n",
              "        vertical-align: middle;\n",
              "    }\n",
              "\n",
              "    .dataframe tbody tr th {\n",
              "        vertical-align: top;\n",
              "    }\n",
              "\n",
              "    .dataframe thead th {\n",
              "        text-align: right;\n",
              "    }\n",
              "</style>\n",
              "<table border=\"1\" class=\"dataframe\">\n",
              "  <thead>\n",
              "    <tr style=\"text-align: right;\">\n",
              "      <th></th>\n",
              "      <th>time</th>\n",
              "      <th>Coincident Index</th>\n",
              "      <th>Coincident ann</th>\n",
              "    </tr>\n",
              "  </thead>\n",
              "  <tbody>\n",
              "    <tr>\n",
              "      <th>62</th>\n",
              "      <td>1.985000e+09</td>\n",
              "      <td>79.0</td>\n",
              "      <td>NaN</td>\n",
              "    </tr>\n",
              "    <tr>\n",
              "      <th>63</th>\n",
              "      <td>1.985000e+09</td>\n",
              "      <td>78.7</td>\n",
              "      <td>NaN</td>\n",
              "    </tr>\n",
              "    <tr>\n",
              "      <th>64</th>\n",
              "      <td>1.985000e+09</td>\n",
              "      <td>78.6</td>\n",
              "      <td>NaN</td>\n",
              "    </tr>\n",
              "    <tr>\n",
              "      <th>65</th>\n",
              "      <td>1.985000e+09</td>\n",
              "      <td>79.5</td>\n",
              "      <td>NaN</td>\n",
              "    </tr>\n",
              "    <tr>\n",
              "      <th>66</th>\n",
              "      <td>1.985001e+09</td>\n",
              "      <td>79.5</td>\n",
              "      <td>NaN</td>\n",
              "    </tr>\n",
              "    <tr>\n",
              "      <th>...</th>\n",
              "      <td>...</td>\n",
              "      <td>...</td>\n",
              "      <td>...</td>\n",
              "    </tr>\n",
              "    <tr>\n",
              "      <th>507</th>\n",
              "      <td>2.022000e+09</td>\n",
              "      <td>96.3</td>\n",
              "      <td>5.592105</td>\n",
              "    </tr>\n",
              "    <tr>\n",
              "      <th>508</th>\n",
              "      <td>2.022000e+09</td>\n",
              "      <td>96.8</td>\n",
              "      <td>3.198294</td>\n",
              "    </tr>\n",
              "    <tr>\n",
              "      <th>509</th>\n",
              "      <td>2.022000e+09</td>\n",
              "      <td>96.8</td>\n",
              "      <td>1.255230</td>\n",
              "    </tr>\n",
              "    <tr>\n",
              "      <th>510</th>\n",
              "      <td>2.022001e+09</td>\n",
              "      <td>94.9</td>\n",
              "      <td>1.172708</td>\n",
              "    </tr>\n",
              "    <tr>\n",
              "      <th>511</th>\n",
              "      <td>2.022001e+09</td>\n",
              "      <td>99.0</td>\n",
              "      <td>3.991597</td>\n",
              "    </tr>\n",
              "  </tbody>\n",
              "</table>\n",
              "<p>450 rows × 3 columns</p>\n",
              "</div>\n",
              "      <button class=\"colab-df-convert\" onclick=\"convertToInteractive('df-d845d39a-1fe4-4a58-b0d8-c0b1009d10ef')\"\n",
              "              title=\"Convert this dataframe to an interactive table.\"\n",
              "              style=\"display:none;\">\n",
              "        \n",
              "  <svg xmlns=\"http://www.w3.org/2000/svg\" height=\"24px\"viewBox=\"0 0 24 24\"\n",
              "       width=\"24px\">\n",
              "    <path d=\"M0 0h24v24H0V0z\" fill=\"none\"/>\n",
              "    <path d=\"M18.56 5.44l.94 2.06.94-2.06 2.06-.94-2.06-.94-.94-2.06-.94 2.06-2.06.94zm-11 1L8.5 8.5l.94-2.06 2.06-.94-2.06-.94L8.5 2.5l-.94 2.06-2.06.94zm10 10l.94 2.06.94-2.06 2.06-.94-2.06-.94-.94-2.06-.94 2.06-2.06.94z\"/><path d=\"M17.41 7.96l-1.37-1.37c-.4-.4-.92-.59-1.43-.59-.52 0-1.04.2-1.43.59L10.3 9.45l-7.72 7.72c-.78.78-.78 2.05 0 2.83L4 21.41c.39.39.9.59 1.41.59.51 0 1.02-.2 1.41-.59l7.78-7.78 2.81-2.81c.8-.78.8-2.07 0-2.86zM5.41 20L4 18.59l7.72-7.72 1.47 1.35L5.41 20z\"/>\n",
              "  </svg>\n",
              "      </button>\n",
              "      \n",
              "  <style>\n",
              "    .colab-df-container {\n",
              "      display:flex;\n",
              "      flex-wrap:wrap;\n",
              "      gap: 12px;\n",
              "    }\n",
              "\n",
              "    .colab-df-convert {\n",
              "      background-color: #E8F0FE;\n",
              "      border: none;\n",
              "      border-radius: 50%;\n",
              "      cursor: pointer;\n",
              "      display: none;\n",
              "      fill: #1967D2;\n",
              "      height: 32px;\n",
              "      padding: 0 0 0 0;\n",
              "      width: 32px;\n",
              "    }\n",
              "\n",
              "    .colab-df-convert:hover {\n",
              "      background-color: #E2EBFA;\n",
              "      box-shadow: 0px 1px 2px rgba(60, 64, 67, 0.3), 0px 1px 3px 1px rgba(60, 64, 67, 0.15);\n",
              "      fill: #174EA6;\n",
              "    }\n",
              "\n",
              "    [theme=dark] .colab-df-convert {\n",
              "      background-color: #3B4455;\n",
              "      fill: #D2E3FC;\n",
              "    }\n",
              "\n",
              "    [theme=dark] .colab-df-convert:hover {\n",
              "      background-color: #434B5C;\n",
              "      box-shadow: 0px 1px 3px 1px rgba(0, 0, 0, 0.15);\n",
              "      filter: drop-shadow(0px 1px 2px rgba(0, 0, 0, 0.3));\n",
              "      fill: #FFFFFF;\n",
              "    }\n",
              "  </style>\n",
              "\n",
              "      <script>\n",
              "        const buttonEl =\n",
              "          document.querySelector('#df-d845d39a-1fe4-4a58-b0d8-c0b1009d10ef button.colab-df-convert');\n",
              "        buttonEl.style.display =\n",
              "          google.colab.kernel.accessAllowed ? 'block' : 'none';\n",
              "\n",
              "        async function convertToInteractive(key) {\n",
              "          const element = document.querySelector('#df-d845d39a-1fe4-4a58-b0d8-c0b1009d10ef');\n",
              "          const dataTable =\n",
              "            await google.colab.kernel.invokeFunction('convertToInteractive',\n",
              "                                                     [key], {});\n",
              "          if (!dataTable) return;\n",
              "\n",
              "          const docLinkHtml = 'Like what you see? Visit the ' +\n",
              "            '<a target=\"_blank\" href=https://colab.research.google.com/notebooks/data_table.ipynb>data table notebook</a>'\n",
              "            + ' to learn more about interactive tables.';\n",
              "          element.innerHTML = '';\n",
              "          dataTable['output_type'] = 'display_data';\n",
              "          await google.colab.output.renderOutput(dataTable, element);\n",
              "          const docLink = document.createElement('div');\n",
              "          docLink.innerHTML = docLinkHtml;\n",
              "          element.appendChild(docLink);\n",
              "        }\n",
              "      </script>\n",
              "    </div>\n",
              "  </div>\n",
              "  "
            ]
          },
          "metadata": {},
          "execution_count": 163
        }
      ],
      "source": [
        "#DataFrameとしてsheet1枚のデータを読込み\n",
        "input_sheet_df = input_book.parse(input_sheet_name[0], skiprows=3)\n",
        "input_sheet_df = input_sheet_df.iloc[62:,[0,4]]\n",
        "input_sheet_df = input_sheet_df.rename(columns={'Time (Monthly) Code':'time'})\n",
        "input_sheet_df['time'] = input_sheet_df['time'].astype('int')\n",
        "ibc = input_sheet_df.astype('float')\n",
        "\n",
        "# 前年比もデータセットに追加\n",
        "ibc['Coincident ann'] = 100*ibc['Coincident Index'].pct_change(12)\n",
        "\n",
        "ibc"
      ]
    },
    {
      "cell_type": "markdown",
      "metadata": {
        "id": "bqEWyPPh6K1t"
      },
      "source": [
        "## Google Trend"
      ]
    },
    {
      "cell_type": "markdown",
      "metadata": {
        "id": "4ozBR6qI6K1u"
      },
      "source": [
        "グーグル検索数（グーグルトレンド）をAPIを用いて自動取得して、景気動向指数との相関関係を確認します。"
      ]
    },
    {
      "cell_type": "code",
      "execution_count": 164,
      "metadata": {
        "id": "ZVQwFMwf6K1x",
        "scrolled": true
      },
      "outputs": [],
      "source": [
        "# Import packages\n",
        "from pytrends.request import TrendReq\n",
        "# plt.rcParams['font.family'] = 'IPAexGothic'\n",
        "\n",
        "# API Connection\n",
        "pytrends = TrendReq(hl='ja-JP', tz=360)"
      ]
    },
    {
      "cell_type": "code",
      "execution_count": 165,
      "metadata": {
        "colab": {
          "base_uri": "https://localhost:8080/",
          "height": 586
        },
        "id": "7HkUVeaP5m4w",
        "outputId": "3fede669-6eaa-4514-c427-717fbc6eaddd"
      },
      "outputs": [
        {
          "output_type": "stream",
          "name": "stdout",
          "text": [
            "Correlation of level: -0.89\n",
            "Correlation of YoY: -0.77\n"
          ]
        },
        {
          "output_type": "execute_result",
          "data": {
            "text/plain": [
              "Text(0.5, 1.0, 'Google Search: \"Unemployment\"')"
            ]
          },
          "metadata": {},
          "execution_count": 165
        },
        {
          "output_type": "display_data",
          "data": {
            "text/plain": [
              "<Figure size 432x288 with 1 Axes>"
            ],
            "image/png": "[encoded data removed]"
          },
          "metadata": {
            "needs_background": "light"
          }
        },
        {
          "output_type": "display_data",
          "data": {
            "text/plain": [
              "<Figure size 432x288 with 1 Axes>"
            ],
            "image/png": "[encoded data removed]"
          },
          "metadata": {
            "needs_background": "light"
          }
        }
      ],
      "source": [
        "# Set keyword (\"失業\" = \"unemployment\")\n",
        "kw1 = \"失業\"\n",
        "kw_list1 = [kw1]\n",
        "pytrends.build_payload(kw_list1, timeframe='all', geo='JP')\n",
        "gt1 = pytrends.interest_over_time()\n",
        "gt1 = gt1.rename(columns = {kw1:\"var1\", \"isPartial\":\"info\"})\n",
        "#gt1.to_csv(\"data/gt1.csv\")\n",
        "#dateparse = lambda dates: pd.datetime.strptime(dates, '%Y-%m-%d')\n",
        "#gt1 = pd.read_csv('data/gt1.csv', index_col=0, date_parser=dateparse, dtype='float')\n",
        "\n",
        "# Extract trend factor\n",
        "s1 = seasonal_decompose(gt1.iloc[:,0], extrapolate_trend='freq', period=12)\n",
        "t1 = s1.trend\n",
        "plt.plot(t1)\n",
        "plt.plot(gt1.iloc[:,0], linestyle='--')\n",
        "\n",
        "# Check correlation\n",
        "level = ibc['Coincident Index'][228:]\n",
        "level.index = t1[:len(ibc)-228].index\n",
        "cor = level.corr(t1[:len(ibc)-228])\n",
        "print(\"Correlation of level: {:.2f}\".format(cor))\n",
        "\n",
        "a1 = gt1.iloc[:,0].pct_change(12)\n",
        "ann = ibc['Coincident ann'][228:]\n",
        "ann.index = a1[:len(ibc)-228].index\n",
        "cor = ann.corr(a1[:len(ibc)-228])\n",
        "print(\"Correlation of YoY: {:.2f}\".format(cor))\n",
        "\n",
        "# Plot trend\n",
        "fig = plt.figure()\n",
        "ax = fig.add_subplot(1, 1, 1)\n",
        "ax.plot(t1[:len(ibc)-228].index, ibc['Coincident Index'][228:], linestyle='-', color='b', label='IBC')\n",
        "ax.plot(t1[:len(ibc)-228].index, t1[:len(ibc)-228], linestyle='--', color='#e46409', label='google search: \"unemployment\"')\n",
        "ax.legend(loc='upper left')\n",
        "plt.title('Google Search: \"Unemployment\"')\n",
        "#plt.savefig(\"images/google1.png\")"
      ]
    },
    {
      "cell_type": "code",
      "execution_count": 166,
      "metadata": {
        "colab": {
          "base_uri": "https://localhost:8080/",
          "height": 586
        },
        "id": "bCZOYVBddkZA",
        "outputId": "4308446a-ceb8-45bb-81dc-1cbc5e7d7d1a"
      },
      "outputs": [
        {
          "output_type": "stream",
          "name": "stdout",
          "text": [
            "Correlation of level: 0.44\n",
            "Correlation of YoY: 0.20\n"
          ]
        },
        {
          "output_type": "execute_result",
          "data": {
            "text/plain": [
              "Text(0.5, 1.0, 'Google Search: \"Saving\"')"
            ]
          },
          "metadata": {},
          "execution_count": 166
        },
        {
          "output_type": "display_data",
          "data": {
            "text/plain": [
              "<Figure size 432x288 with 1 Axes>"
            ],
            "image/png": "[encoded data removed]"
          },
          "metadata": {
            "needs_background": "light"
          }
        },
        {
          "output_type": "display_data",
          "data": {
            "text/plain": [
              "<Figure size 432x288 with 1 Axes>"
            ],
            "image/png": "[encoded data removed]"
          },
          "metadata": {
            "needs_background": "light"
          }
        }
      ],
      "source": [
        "# Set keyword (\"貯金\" = \"saving\")\n",
        "kw2 = \"貯金\"\n",
        "kw_list2 = [kw2]\n",
        "pytrends.build_payload(kw_list2, timeframe='all', geo='JP')\n",
        "gt2 = pytrends.interest_over_time()\n",
        "gt2 = gt2.rename(columns = {kw2:\"var2\", \"isPartial\":\"info\"})\n",
        "#gt2.to_csv(\"data/gt2.csv\")\n",
        "#dateparse = lambda dates: pd.datetime.strptime(dates, '%Y-%m-%d')\n",
        "#gt2 = pd.read_csv('data/gt2.csv', index_col=0, date_parser=dateparse, dtype='float')\n",
        "\n",
        "# Extract trend factor\n",
        "s2 = seasonal_decompose(gt2.iloc[:,0], extrapolate_trend='freq', period=12)\n",
        "t2 = s2.trend\n",
        "plt.plot(t2)\n",
        "plt.plot(gt2.iloc[:,0], linestyle='--')\n",
        "\n",
        "# Check correlation\n",
        "level = ibc['Coincident Index'][228:]\n",
        "level.index = t2[:len(ibc)-228].index\n",
        "cor = level.corr(t2[:len(ibc)-228])\n",
        "print(\"Correlation of level: {:.2f}\".format(cor))\n",
        "\n",
        "a2 = gt2.iloc[:,0].pct_change(12)\n",
        "ann = ibc['Coincident ann'][228:]\n",
        "ann.index = a2[:len(ibc)-228].index\n",
        "cor = ann.corr(a2[:len(ibc)-228])\n",
        "print(\"Correlation of YoY: {:.2f}\".format(cor))\n",
        "\n",
        "# Plot trend\n",
        "fig = plt.figure()\n",
        "ax = fig.add_subplot(1, 1, 1)\n",
        "ax.plot(t2[:len(ibc)-228].index, ibc['Coincident Index'][228:], linestyle='-', color='b', label='IBC')\n",
        "ax.plot(t2[:len(ibc)-228].index, t2[:len(ibc)-228], linestyle='--', color='#e46409', label='google search: \"saving\"')\n",
        "ax.legend()\n",
        "plt.title('Google Search: \"Saving\"')\n",
        "#plt.savefig(\"images/google2.png\")"
      ]
    },
    {
      "cell_type": "code",
      "execution_count": 167,
      "metadata": {
        "id": "anpOm6qx6K19"
      },
      "outputs": [],
      "source": [
        "# Combine google trend (level)\n",
        "gtrend_l = pd.concat([t1, t2], axis=1)\n",
        "\n",
        "# Combine google trend (YoY)\n",
        "gtrend_y = pd.concat([a1, a2], axis=1)"
      ]
    },
    {
      "cell_type": "markdown",
      "metadata": {
        "id": "WzHv9pQM6K1_"
      },
      "source": [
        "## Time series analysis"
      ]
    },
    {
      "cell_type": "markdown",
      "source": [
        "景気動向指数とグーグル検索数について、自己相関や単位根、共和分を確認した上で、ARIMA推計を実施します。"
      ],
      "metadata": {
        "id": "xNK7zDIfYQbW"
      }
    },
    {
      "cell_type": "code",
      "execution_count": 168,
      "metadata": {
        "colab": {
          "base_uri": "https://localhost:8080/",
          "height": 450
        },
        "id": "Jl1qFkzFVMlE",
        "outputId": "5da51c67-cf6f-4ea9-e82a-f3d43abc0ba5"
      },
      "outputs": [
        {
          "output_type": "execute_result",
          "data": {
            "text/plain": [
              "            Coincident Index  Coincident ann       var1       var2  var1_rate  \\\n",
              "date                                                                            \n",
              "2004-01-01              98.2        8.508287  50.600233  59.539093        NaN   \n",
              "2004-02-01              97.9        7.346491  50.144959  59.257916        NaN   \n",
              "2004-03-01              98.1        7.802198  49.689685  58.976739        NaN   \n",
              "2004-04-01              99.1        9.502762  49.234411  58.695561        NaN   \n",
              "2004-05-01              98.9        8.324206  48.779138  58.414384        NaN   \n",
              "...                      ...             ...        ...        ...        ...   \n",
              "2022-02-01              96.3        5.592105  54.583333  67.708333  -0.062500   \n",
              "2022-03-01              96.8        3.198294  52.470862  68.467512  -0.029851   \n",
              "2022-04-01              96.8        1.255230  51.994755  68.535402  -0.044118   \n",
              "2022-05-01              94.9        1.172708  51.518648  68.603293   0.000000   \n",
              "2022-06-01              99.0        3.991597  51.042541  68.671183  -0.016667   \n",
              "\n",
              "            var2_rate  \n",
              "date                   \n",
              "2004-01-01        NaN  \n",
              "2004-02-01        NaN  \n",
              "2004-03-01        NaN  \n",
              "2004-04-01        NaN  \n",
              "2004-05-01        NaN  \n",
              "...               ...  \n",
              "2022-02-01  -0.057143  \n",
              "2022-03-01  -0.031250  \n",
              "2022-04-01   0.068966  \n",
              "2022-05-01  -0.015873  \n",
              "2022-06-01   0.081967  \n",
              "\n",
              "[222 rows x 6 columns]"
            ],
            "text/html": [
              "\n",
              "  <div id=\"df-21464a26-09c7-4f48-b242-531a022d1adc\">\n",
              "    <div class=\"colab-df-container\">\n",
              "      <div>\n",
              "<style scoped>\n",
              "    .dataframe tbody tr th:only-of-type {\n",
              "        vertical-align: middle;\n",
              "    }\n",
              "\n",
              "    .dataframe tbody tr th {\n",
              "        vertical-align: top;\n",
              "    }\n",
              "\n",
              "    .dataframe thead th {\n",
              "        text-align: right;\n",
              "    }\n",
              "</style>\n",
              "<table border=\"1\" class=\"dataframe\">\n",
              "  <thead>\n",
              "    <tr style=\"text-align: right;\">\n",
              "      <th></th>\n",
              "      <th>Coincident Index</th>\n",
              "      <th>Coincident ann</th>\n",
              "      <th>var1</th>\n",
              "      <th>var2</th>\n",
              "      <th>var1_rate</th>\n",
              "      <th>var2_rate</th>\n",
              "    </tr>\n",
              "    <tr>\n",
              "      <th>date</th>\n",
              "      <th></th>\n",
              "      <th></th>\n",
              "      <th></th>\n",
              "      <th></th>\n",
              "      <th></th>\n",
              "      <th></th>\n",
              "    </tr>\n",
              "  </thead>\n",
              "  <tbody>\n",
              "    <tr>\n",
              "      <th>2004-01-01</th>\n",
              "      <td>98.2</td>\n",
              "      <td>8.508287</td>\n",
              "      <td>50.600233</td>\n",
              "      <td>59.539093</td>\n",
              "      <td>NaN</td>\n",
              "      <td>NaN</td>\n",
              "    </tr>\n",
              "    <tr>\n",
              "      <th>2004-02-01</th>\n",
              "      <td>97.9</td>\n",
              "      <td>7.346491</td>\n",
              "      <td>50.144959</td>\n",
              "      <td>59.257916</td>\n",
              "      <td>NaN</td>\n",
              "      <td>NaN</td>\n",
              "    </tr>\n",
              "    <tr>\n",
              "      <th>2004-03-01</th>\n",
              "      <td>98.1</td>\n",
              "      <td>7.802198</td>\n",
              "      <td>49.689685</td>\n",
              "      <td>58.976739</td>\n",
              "      <td>NaN</td>\n",
              "      <td>NaN</td>\n",
              "    </tr>\n",
              "    <tr>\n",
              "      <th>2004-04-01</th>\n",
              "      <td>99.1</td>\n",
              "      <td>9.502762</td>\n",
              "      <td>49.234411</td>\n",
              "      <td>58.695561</td>\n",
              "      <td>NaN</td>\n",
              "      <td>NaN</td>\n",
              "    </tr>\n",
              "    <tr>\n",
              "      <th>2004-05-01</th>\n",
              "      <td>98.9</td>\n",
              "      <td>8.324206</td>\n",
              "      <td>48.779138</td>\n",
              "      <td>58.414384</td>\n",
              "      <td>NaN</td>\n",
              "      <td>NaN</td>\n",
              "    </tr>\n",
              "    <tr>\n",
              "      <th>...</th>\n",
              "      <td>...</td>\n",
              "      <td>...</td>\n",
              "      <td>...</td>\n",
              "      <td>...</td>\n",
              "      <td>...</td>\n",
              "      <td>...</td>\n",
              "    </tr>\n",
              "    <tr>\n",
              "      <th>2022-02-01</th>\n",
              "      <td>96.3</td>\n",
              "      <td>5.592105</td>\n",
              "      <td>54.583333</td>\n",
              "      <td>67.708333</td>\n",
              "      <td>-0.062500</td>\n",
              "      <td>-0.057143</td>\n",
              "    </tr>\n",
              "    <tr>\n",
              "      <th>2022-03-01</th>\n",
              "      <td>96.8</td>\n",
              "      <td>3.198294</td>\n",
              "      <td>52.470862</td>\n",
              "      <td>68.467512</td>\n",
              "      <td>-0.029851</td>\n",
              "      <td>-0.031250</td>\n",
              "    </tr>\n",
              "    <tr>\n",
              "      <th>2022-04-01</th>\n",
              "      <td>96.8</td>\n",
              "      <td>1.255230</td>\n",
              "      <td>51.994755</td>\n",
              "      <td>68.535402</td>\n",
              "      <td>-0.044118</td>\n",
              "      <td>0.068966</td>\n",
              "    </tr>\n",
              "    <tr>\n",
              "      <th>2022-05-01</th>\n",
              "      <td>94.9</td>\n",
              "      <td>1.172708</td>\n",
              "      <td>51.518648</td>\n",
              "      <td>68.603293</td>\n",
              "      <td>0.000000</td>\n",
              "      <td>-0.015873</td>\n",
              "    </tr>\n",
              "    <tr>\n",
              "      <th>2022-06-01</th>\n",
              "      <td>99.0</td>\n",
              "      <td>3.991597</td>\n",
              "      <td>51.042541</td>\n",
              "      <td>68.671183</td>\n",
              "      <td>-0.016667</td>\n",
              "      <td>0.081967</td>\n",
              "    </tr>\n",
              "  </tbody>\n",
              "</table>\n",
              "<p>222 rows × 6 columns</p>\n",
              "</div>\n",
              "      <button class=\"colab-df-convert\" onclick=\"convertToInteractive('df-21464a26-09c7-4f48-b242-531a022d1adc')\"\n",
              "              title=\"Convert this dataframe to an interactive table.\"\n",
              "              style=\"display:none;\">\n",
              "        \n",
              "  <svg xmlns=\"http://www.w3.org/2000/svg\" height=\"24px\"viewBox=\"0 0 24 24\"\n",
              "       width=\"24px\">\n",
              "    <path d=\"M0 0h24v24H0V0z\" fill=\"none\"/>\n",
              "    <path d=\"M18.56 5.44l.94 2.06.94-2.06 2.06-.94-2.06-.94-.94-2.06-.94 2.06-2.06.94zm-11 1L8.5 8.5l.94-2.06 2.06-.94-2.06-.94L8.5 2.5l-.94 2.06-2.06.94zm10 10l.94 2.06.94-2.06 2.06-.94-2.06-.94-.94-2.06-.94 2.06-2.06.94z\"/><path d=\"M17.41 7.96l-1.37-1.37c-.4-.4-.92-.59-1.43-.59-.52 0-1.04.2-1.43.59L10.3 9.45l-7.72 7.72c-.78.78-.78 2.05 0 2.83L4 21.41c.39.39.9.59 1.41.59.51 0 1.02-.2 1.41-.59l7.78-7.78 2.81-2.81c.8-.78.8-2.07 0-2.86zM5.41 20L4 18.59l7.72-7.72 1.47 1.35L5.41 20z\"/>\n",
              "  </svg>\n",
              "      </button>\n",
              "      \n",
              "  <style>\n",
              "    .colab-df-container {\n",
              "      display:flex;\n",
              "      flex-wrap:wrap;\n",
              "      gap: 12px;\n",
              "    }\n",
              "\n",
              "    .colab-df-convert {\n",
              "      background-color: #E8F0FE;\n",
              "      border: none;\n",
              "      border-radius: 50%;\n",
              "      cursor: pointer;\n",
              "      display: none;\n",
              "      fill: #1967D2;\n",
              "      height: 32px;\n",
              "      padding: 0 0 0 0;\n",
              "      width: 32px;\n",
              "    }\n",
              "\n",
              "    .colab-df-convert:hover {\n",
              "      background-color: #E2EBFA;\n",
              "      box-shadow: 0px 1px 2px rgba(60, 64, 67, 0.3), 0px 1px 3px 1px rgba(60, 64, 67, 0.15);\n",
              "      fill: #174EA6;\n",
              "    }\n",
              "\n",
              "    [theme=dark] .colab-df-convert {\n",
              "      background-color: #3B4455;\n",
              "      fill: #D2E3FC;\n",
              "    }\n",
              "\n",
              "    [theme=dark] .colab-df-convert:hover {\n",
              "      background-color: #434B5C;\n",
              "      box-shadow: 0px 1px 3px 1px rgba(0, 0, 0, 0.15);\n",
              "      filter: drop-shadow(0px 1px 2px rgba(0, 0, 0, 0.3));\n",
              "      fill: #FFFFFF;\n",
              "    }\n",
              "  </style>\n",
              "\n",
              "      <script>\n",
              "        const buttonEl =\n",
              "          document.querySelector('#df-21464a26-09c7-4f48-b242-531a022d1adc button.colab-df-convert');\n",
              "        buttonEl.style.display =\n",
              "          google.colab.kernel.accessAllowed ? 'block' : 'none';\n",
              "\n",
              "        async function convertToInteractive(key) {\n",
              "          const element = document.querySelector('#df-21464a26-09c7-4f48-b242-531a022d1adc');\n",
              "          const dataTable =\n",
              "            await google.colab.kernel.invokeFunction('convertToInteractive',\n",
              "                                                     [key], {});\n",
              "          if (!dataTable) return;\n",
              "\n",
              "          const docLinkHtml = 'Like what you see? Visit the ' +\n",
              "            '<a target=\"_blank\" href=https://colab.research.google.com/notebooks/data_table.ipynb>data table notebook</a>'\n",
              "            + ' to learn more about interactive tables.';\n",
              "          element.innerHTML = '';\n",
              "          dataTable['output_type'] = 'display_data';\n",
              "          await google.colab.output.renderOutput(dataTable, element);\n",
              "          const docLink = document.createElement('div');\n",
              "          docLink.innerHTML = docLinkHtml;\n",
              "          element.appendChild(docLink);\n",
              "        }\n",
              "      </script>\n",
              "    </div>\n",
              "  </div>\n",
              "  "
            ]
          },
          "metadata": {},
          "execution_count": 168
        }
      ],
      "source": [
        "# Set time series dataset\n",
        "X = pd.merge(gtrend_l, gtrend_y, on='date')\n",
        "y = ibc[228:]\n",
        "y = y.set_index('time')\n",
        "y.index = X[:len(ibc)-228].index\n",
        "ts = pd.merge(y, X, on='date')\n",
        "ts = ts.set_axis(['Coincident Index', 'Coincident ann', 'var1', 'var2', \n",
        "                  'var1_rate', 'var2_rate'], axis='columns')\n",
        "\n",
        "# Split data into training and test set\n",
        "sp = round(0.8*len(ts))\n",
        "train = ts[0:sp]\n",
        "test = ts[sp:]\n",
        "\n",
        "ts"
      ]
    },
    {
      "cell_type": "code",
      "execution_count": 169,
      "metadata": {
        "colab": {
          "base_uri": "https://localhost:8080/",
          "height": 499
        },
        "id": "rY8Gy83YRy47",
        "outputId": "56d5be4e-a96a-4f09-82aa-b9ebc6dd2cc6"
      },
      "outputs": [
        {
          "output_type": "display_data",
          "data": {
            "text/plain": [
              "<Figure size 864x576 with 2 Axes>"
            ],
            "image/png": "[encoded data removed]"
          },
          "metadata": {
            "needs_background": "light"
          }
        }
      ],
      "source": [
        "# Check Autocorrelation of IBC\n",
        "import statsmodels.api as sm\n",
        "fig = plt.figure(figsize=(12,8))\n",
        "ax1 = fig.add_subplot(211)\n",
        "fig = sm.graphics.tsa.plot_acf(ts['Coincident Index'], lags=20, ax=ax1)\n",
        "ax2 = fig.add_subplot(212)\n",
        "fig = sm.graphics.tsa.plot_pacf(ts['Coincident Index'], lags=20, ax=ax2)\n",
        "#plt.savefig(\"images/autocorrelation.png\")"
      ]
    },
    {
      "cell_type": "code",
      "execution_count": 170,
      "metadata": {
        "colab": {
          "base_uri": "https://localhost:8080/"
        },
        "id": "3nJBt8eh6K2E",
        "outputId": "78eb5d59-b9b5-45a4-b1e1-f258d1b436c9"
      },
      "outputs": [
        {
          "output_type": "stream",
          "name": "stdout",
          "text": [
            "Unit root test (y): 0.07\n",
            "Unit root test (diff_y): 0.00\n",
            "Unit root test (var1): 0.08\n",
            "Unit root test (diff_var1): 0.02\n",
            "Unit root test (var2): 0.62\n",
            "Unit root test (diff_var2): 0.14\n",
            "Cointegration test (var1): 0.00\n",
            "Cointegration test (var2): 0.11\n"
          ]
        }
      ],
      "source": [
        "# 単位根、共和分を確認していますが、var2については定常ではない可能性\n",
        "\n",
        "# Unit root test of y (H0: non-stationary)\n",
        "adf_result = sm.tsa.stattools.adfuller(ts['Coincident Index'])\n",
        "print(\"Unit root test (y): {:.2f}\".format(adf_result[1])) # p-value\n",
        "\n",
        "# Take difference of y\n",
        "diff = ts['Coincident Index'].diff()\n",
        "diff = diff.dropna()\n",
        "adf_result = sm.tsa.stattools.adfuller(diff)\n",
        "print(\"Unit root test (diff_y): {:.2f}\".format(adf_result[1])) # p-value\n",
        "\n",
        "# Unit root test of X (H0: non-stationary)\n",
        "adf_result = sm.tsa.stattools.adfuller(ts['var1'])\n",
        "print(\"Unit root test (var1): {:.2f}\".format(adf_result[1])) # p-value\n",
        "\n",
        "# Take difference of X\n",
        "diff = ts['var1'].diff()\n",
        "diff = diff.dropna()\n",
        "adf_result = sm.tsa.stattools.adfuller(diff)\n",
        "print(\"Unit root test (diff_var1): {:.2f}\".format(adf_result[1])) # p-value\n",
        "\n",
        "# Unit root test of X (H0: non-stationary)\n",
        "adf_result = sm.tsa.stattools.adfuller(ts['var2'])\n",
        "print(\"Unit root test (var2): {:.2f}\".format(adf_result[1])) # p-value\n",
        "\n",
        "# Take difference of X\n",
        "diff = ts['var2'].diff()\n",
        "diff = diff.dropna()\n",
        "adf_result = sm.tsa.stattools.adfuller(diff)\n",
        "print(\"Unit root test (diff_var2): {:.2f}\".format(adf_result[1])) # p-value\n",
        "\n",
        "# Cointegration test (H0: non-cointegration)\n",
        "coint_result = sm.tsa.stattools.coint(ts['Coincident Index'], ts['var1'])\n",
        "print(\"Cointegration test (var1): {:.2f}\".format(coint_result[1])) # p-value\n",
        "coint_result = sm.tsa.stattools.coint(ts['Coincident Index'], ts['var2'])\n",
        "print(\"Cointegration test (var2): {:.2f}\".format(coint_result[1])) # p-value"
      ]
    },
    {
      "cell_type": "markdown",
      "metadata": {
        "id": "SdD511OM6K2H"
      },
      "source": [
        "### ARIMA Prediction"
      ]
    },
    {
      "cell_type": "code",
      "execution_count": 171,
      "metadata": {
        "colab": {
          "base_uri": "https://localhost:8080/"
        },
        "id": "MTubl0Nn6K2J",
        "outputId": "4cfd77d7-5787-4dfe-9eb3-6e0908736bee",
        "scrolled": true
      },
      "outputs": [
        {
          "output_type": "stream",
          "name": "stdout",
          "text": [
            "                               SARIMAX Results                                \n",
            "==============================================================================\n",
            "Dep. Variable:       Coincident Index   No. Observations:                  178\n",
            "Model:               SARIMAX(1, 1, 0)   Log Likelihood                -303.120\n",
            "Date:                Thu, 25 Aug 2022   AIC                            614.240\n",
            "Time:                        06:02:50   BIC                            626.945\n",
            "Sample:                    01-01-2004   HQIC                           619.393\n",
            "                         - 10-01-2018                                         \n",
            "Covariance Type:                  opg                                         \n",
            "==============================================================================\n",
            "                 coef    std err          z      P>|z|      [0.025      0.975]\n",
            "------------------------------------------------------------------------------\n",
            "var1          -0.7884      0.148     -5.313      0.000      -1.079      -0.498\n",
            "var2           0.1121      0.255      0.439      0.660      -0.388       0.612\n",
            "ar.L1          0.1527      0.067      2.284      0.022       0.022       0.284\n",
            "sigma2         1.7987      0.099     18.214      0.000       1.605       1.992\n",
            "===================================================================================\n",
            "Ljung-Box (L1) (Q):                   0.09   Jarque-Bera (JB):               401.74\n",
            "Prob(Q):                              0.76   Prob(JB):                         0.00\n",
            "Heteroskedasticity (H):               0.92   Skew:                            -1.65\n",
            "Prob(H) (two-sided):                  0.74   Kurtosis:                         9.60\n",
            "===================================================================================\n",
            "\n",
            "Warnings:\n",
            "[1] Covariance matrix calculated using the outer product of gradients (complex-step).\n"
          ]
        },
        {
          "output_type": "stream",
          "name": "stderr",
          "text": [
            "/usr/local/lib/python3.7/dist-packages/statsmodels/tsa/base/tsa_model.py:527: ValueWarning: No frequency information was provided, so inferred frequency MS will be used.\n",
            "  % freq, ValueWarning)\n"
          ]
        }
      ],
      "source": [
        "# Fit the model\n",
        "SARIMAX = sm.tsa.SARIMAX(train['Coincident Index'], train.iloc[:,2:4], order=(1,1,0), freq='MS').fit()\n",
        "print(SARIMAX.summary())"
      ]
    },
    {
      "cell_type": "code",
      "execution_count": 172,
      "metadata": {
        "colab": {
          "base_uri": "https://localhost:8080/",
          "height": 322
        },
        "id": "aAlUYOP56K2M",
        "outputId": "afacff3c-cd5f-486b-ea9d-19fd6f952c3a",
        "scrolled": false
      },
      "outputs": [
        {
          "output_type": "stream",
          "name": "stderr",
          "text": [
            "/usr/local/lib/python3.7/dist-packages/statsmodels/tsa/base/tsa_model.py:132: FutureWarning: The 'freq' argument in Timestamp is deprecated and will be removed in a future version.\n",
            "  date_key = Timestamp(key, freq=base_index.freq)\n"
          ]
        },
        {
          "output_type": "stream",
          "name": "stdout",
          "text": [
            "Test set score（決定係数）: 0.44\n"
          ]
        },
        {
          "output_type": "display_data",
          "data": {
            "text/plain": [
              "<Figure size 432x288 with 1 Axes>"
            ],
            "image/png": "[encoded data removed]"
          },
          "metadata": {
            "needs_background": "light"
          }
        }
      ],
      "source": [
        "# あまり当てはまりが良くない結果が得られます。\n",
        "\n",
        "pred = SARIMAX.predict(test.index[0], test.index[-1], exog=test.iloc[:,2:4])\n",
        "plt.plot(test['Coincident Index'], label=\"actual\")\n",
        "plt.plot(pred, \"r\", linestyle='--', label=\"predict\")\n",
        "plt.legend(loc='lower right')\n",
        "\n",
        "print(\"Test set score（決定係数）: {:.2f}\".format(r2_score(test['Coincident Index'], pred)))"
      ]
    },
    {
      "cell_type": "markdown",
      "metadata": {
        "id": "PS4NW1Yp6K2O"
      },
      "source": [
        "## Random Forest"
      ]
    },
    {
      "cell_type": "markdown",
      "source": [
        "機械学習手法の一つであるランダムフォレストを用いて推計を行います。"
      ],
      "metadata": {
        "id": "fu-dxrA3dMTq"
      }
    },
    {
      "cell_type": "code",
      "execution_count": 173,
      "metadata": {
        "colab": {
          "base_uri": "https://localhost:8080/",
          "height": 357
        },
        "id": "2ZtnIwgg6K2Q",
        "outputId": "4c829053-d21a-4128-81b5-540612e46eb2",
        "scrolled": true
      },
      "outputs": [
        {
          "output_type": "stream",
          "name": "stdout",
          "text": [
            "Training set score: 1.00\n",
            "Cross-Validation score: 0.58\n",
            "Test set score（決定係数）: 0.75\n"
          ]
        },
        {
          "output_type": "execute_result",
          "data": {
            "text/plain": [
              "Text(0.5, 1.0, 'Random Forest: Level')"
            ]
          },
          "metadata": {},
          "execution_count": 173
        },
        {
          "output_type": "display_data",
          "data": {
            "text/plain": [
              "<Figure size 432x288 with 1 Axes>"
            ],
            "image/png": "[encoded data removed]"
          },
          "metadata": {
            "needs_background": "light"
          }
        }
      ],
      "source": [
        "# Set X and y variables\n",
        "X = ts.iloc[:,2:4]\n",
        "y = ts['Coincident Index']\n",
        "\n",
        "# Preprocess for adding AR\n",
        "X_l = X.drop(X.index[0])\n",
        "#X_l = X_l.drop(X_l.index[0])\n",
        "X_l.reset_index(inplace=True, drop=True)\n",
        "\n",
        "# Generate AR variable\n",
        "y_l = y.drop(y.index[-1])\n",
        "#y_l = y_l.drop(y_l.index[-1])\n",
        "y_l.reset_index(inplace=True, drop=True)\n",
        "\n",
        "# Add AR into X\n",
        "X_t = pd.concat([y_l, X_l], axis=1)\n",
        "y_t = y.drop(y.index[0])\n",
        "#y_t = y_t.drop(y_t.index[0])\n",
        "X_t.index = y_t.index\n",
        "\n",
        "# Split data into training and test set \n",
        "sp = round(0.8*len(X_t))\n",
        "X_train = X_t[0:sp]\n",
        "X_test = X_t[sp:]\n",
        "y_train = y_t[0:sp]\n",
        "y_test = y_t[sp:]\n",
        "\n",
        "# Fit the model\n",
        "tm = RandomForestRegressor(n_estimators=1000).fit(X_train, y_train)\n",
        "#tm.feature_importances_\n",
        "\n",
        "# Goodness of Fit\n",
        "print(\"Training set score: {:.2f}\".format(tm.score(X_train, y_train)))\n",
        "print(\"Cross-Validation score: {:.2f}\".format(\n",
        "          np.mean(cross_val_score(tm, X_train, y_train, cv=5))))\n",
        "print(\"Test set score（決定係数）: {:.2f}\".format(tm.score(X_test, y_test)))\n",
        "\n",
        "# Calculate the prediction\n",
        "prediction = pd.DataFrame(tm.predict(X_test))\n",
        "pre = prediction.values.tolist()\n",
        "act = y_test.values.tolist()\n",
        "predict = pd.DataFrame(pre, columns=['predict'])\n",
        "actual = pd.DataFrame(act, columns=['actual'])\n",
        "com = pd.concat([predict, actual], axis=1)\n",
        "\n",
        "# Plot the prediction\n",
        "fig = plt.figure()\n",
        "ax = fig.add_subplot(1, 1, 1)\n",
        "ax.plot(X_test.index, com.actual, linestyle='-', color='b', label='actual')\n",
        "ax.plot(X_test.index, com.predict, linestyle='--', color='#e46409', label='predict')\n",
        "ax.legend(loc='lower right')\n",
        "ax.set_title('Random Forest: Level')\n",
        "#plt.savefig(\"images/google_rf.png\")"
      ]
    },
    {
      "cell_type": "code",
      "execution_count": 174,
      "metadata": {
        "colab": {
          "base_uri": "https://localhost:8080/"
        },
        "id": "UX6u2ESGbXc8",
        "outputId": "3b858ac5-dbed-41ed-d630-bb7f34712c79"
      },
      "outputs": [
        {
          "output_type": "stream",
          "name": "stdout",
          "text": [
            "[0.90030991 0.0748926  0.02479749]\n"
          ]
        }
      ],
      "source": [
        "# 各変数の重要度を示しています。\n",
        "print(tm.feature_importances_)"
      ]
    },
    {
      "cell_type": "markdown",
      "metadata": {
        "id": "V32oTQrx6K2j"
      },
      "source": [
        "## RNN-LSTM"
      ]
    },
    {
      "cell_type": "markdown",
      "source": [
        "機械学習手法の一つであるニューラルネットワークにおける長期短期記憶モデルを用いて推計を行います。"
      ],
      "metadata": {
        "id": "ejrU3gC6dqNw"
      }
    },
    {
      "cell_type": "code",
      "execution_count": 175,
      "metadata": {
        "colab": {
          "base_uri": "https://localhost:8080/",
          "height": 235
        },
        "id": "jF_4vrjN6K2l",
        "outputId": "54c32342-a5ce-4dfe-8096-80bb57535369",
        "scrolled": true
      },
      "outputs": [
        {
          "output_type": "execute_result",
          "data": {
            "text/plain": [
              "            Coincident Index       var1       var2\n",
              "date                                              \n",
              "2022-02-01              96.3  54.583333  67.708333\n",
              "2022-03-01              96.8  52.470862  68.467512\n",
              "2022-04-01              96.8  51.994755  68.535402\n",
              "2022-05-01              94.9  51.518648  68.603293\n",
              "2022-06-01              99.0  51.042541  68.671183"
            ],
            "text/html": [
              "\n",
              "  <div id=\"df-06ac393f-ae0b-4591-818c-1a22979872d9\">\n",
              "    <div class=\"colab-df-container\">\n",
              "      <div>\n",
              "<style scoped>\n",
              "    .dataframe tbody tr th:only-of-type {\n",
              "        vertical-align: middle;\n",
              "    }\n",
              "\n",
              "    .dataframe tbody tr th {\n",
              "        vertical-align: top;\n",
              "    }\n",
              "\n",
              "    .dataframe thead th {\n",
              "        text-align: right;\n",
              "    }\n",
              "</style>\n",
              "<table border=\"1\" class=\"dataframe\">\n",
              "  <thead>\n",
              "    <tr style=\"text-align: right;\">\n",
              "      <th></th>\n",
              "      <th>Coincident Index</th>\n",
              "      <th>var1</th>\n",
              "      <th>var2</th>\n",
              "    </tr>\n",
              "    <tr>\n",
              "      <th>date</th>\n",
              "      <th></th>\n",
              "      <th></th>\n",
              "      <th></th>\n",
              "    </tr>\n",
              "  </thead>\n",
              "  <tbody>\n",
              "    <tr>\n",
              "      <th>2022-02-01</th>\n",
              "      <td>96.3</td>\n",
              "      <td>54.583333</td>\n",
              "      <td>67.708333</td>\n",
              "    </tr>\n",
              "    <tr>\n",
              "      <th>2022-03-01</th>\n",
              "      <td>96.8</td>\n",
              "      <td>52.470862</td>\n",
              "      <td>68.467512</td>\n",
              "    </tr>\n",
              "    <tr>\n",
              "      <th>2022-04-01</th>\n",
              "      <td>96.8</td>\n",
              "      <td>51.994755</td>\n",
              "      <td>68.535402</td>\n",
              "    </tr>\n",
              "    <tr>\n",
              "      <th>2022-05-01</th>\n",
              "      <td>94.9</td>\n",
              "      <td>51.518648</td>\n",
              "      <td>68.603293</td>\n",
              "    </tr>\n",
              "    <tr>\n",
              "      <th>2022-06-01</th>\n",
              "      <td>99.0</td>\n",
              "      <td>51.042541</td>\n",
              "      <td>68.671183</td>\n",
              "    </tr>\n",
              "  </tbody>\n",
              "</table>\n",
              "</div>\n",
              "      <button class=\"colab-df-convert\" onclick=\"convertToInteractive('df-06ac393f-ae0b-4591-818c-1a22979872d9')\"\n",
              "              title=\"Convert this dataframe to an interactive table.\"\n",
              "              style=\"display:none;\">\n",
              "        \n",
              "  <svg xmlns=\"http://www.w3.org/2000/svg\" height=\"24px\"viewBox=\"0 0 24 24\"\n",
              "       width=\"24px\">\n",
              "    <path d=\"M0 0h24v24H0V0z\" fill=\"none\"/>\n",
              "    <path d=\"M18.56 5.44l.94 2.06.94-2.06 2.06-.94-2.06-.94-.94-2.06-.94 2.06-2.06.94zm-11 1L8.5 8.5l.94-2.06 2.06-.94-2.06-.94L8.5 2.5l-.94 2.06-2.06.94zm10 10l.94 2.06.94-2.06 2.06-.94-2.06-.94-.94-2.06-.94 2.06-2.06.94z\"/><path d=\"M17.41 7.96l-1.37-1.37c-.4-.4-.92-.59-1.43-.59-.52 0-1.04.2-1.43.59L10.3 9.45l-7.72 7.72c-.78.78-.78 2.05 0 2.83L4 21.41c.39.39.9.59 1.41.59.51 0 1.02-.2 1.41-.59l7.78-7.78 2.81-2.81c.8-.78.8-2.07 0-2.86zM5.41 20L4 18.59l7.72-7.72 1.47 1.35L5.41 20z\"/>\n",
              "  </svg>\n",
              "      </button>\n",
              "      \n",
              "  <style>\n",
              "    .colab-df-container {\n",
              "      display:flex;\n",
              "      flex-wrap:wrap;\n",
              "      gap: 12px;\n",
              "    }\n",
              "\n",
              "    .colab-df-convert {\n",
              "      background-color: #E8F0FE;\n",
              "      border: none;\n",
              "      border-radius: 50%;\n",
              "      cursor: pointer;\n",
              "      display: none;\n",
              "      fill: #1967D2;\n",
              "      height: 32px;\n",
              "      padding: 0 0 0 0;\n",
              "      width: 32px;\n",
              "    }\n",
              "\n",
              "    .colab-df-convert:hover {\n",
              "      background-color: #E2EBFA;\n",
              "      box-shadow: 0px 1px 2px rgba(60, 64, 67, 0.3), 0px 1px 3px 1px rgba(60, 64, 67, 0.15);\n",
              "      fill: #174EA6;\n",
              "    }\n",
              "\n",
              "    [theme=dark] .colab-df-convert {\n",
              "      background-color: #3B4455;\n",
              "      fill: #D2E3FC;\n",
              "    }\n",
              "\n",
              "    [theme=dark] .colab-df-convert:hover {\n",
              "      background-color: #434B5C;\n",
              "      box-shadow: 0px 1px 3px 1px rgba(0, 0, 0, 0.15);\n",
              "      filter: drop-shadow(0px 1px 2px rgba(0, 0, 0, 0.3));\n",
              "      fill: #FFFFFF;\n",
              "    }\n",
              "  </style>\n",
              "\n",
              "      <script>\n",
              "        const buttonEl =\n",
              "          document.querySelector('#df-06ac393f-ae0b-4591-818c-1a22979872d9 button.colab-df-convert');\n",
              "        buttonEl.style.display =\n",
              "          google.colab.kernel.accessAllowed ? 'block' : 'none';\n",
              "\n",
              "        async function convertToInteractive(key) {\n",
              "          const element = document.querySelector('#df-06ac393f-ae0b-4591-818c-1a22979872d9');\n",
              "          const dataTable =\n",
              "            await google.colab.kernel.invokeFunction('convertToInteractive',\n",
              "                                                     [key], {});\n",
              "          if (!dataTable) return;\n",
              "\n",
              "          const docLinkHtml = 'Like what you see? Visit the ' +\n",
              "            '<a target=\"_blank\" href=https://colab.research.google.com/notebooks/data_table.ipynb>data table notebook</a>'\n",
              "            + ' to learn more about interactive tables.';\n",
              "          element.innerHTML = '';\n",
              "          dataTable['output_type'] = 'display_data';\n",
              "          await google.colab.output.renderOutput(dataTable, element);\n",
              "          const docLink = document.createElement('div');\n",
              "          docLink.innerHTML = docLinkHtml;\n",
              "          element.appendChild(docLink);\n",
              "        }\n",
              "      </script>\n",
              "    </div>\n",
              "  </div>\n",
              "  "
            ]
          },
          "metadata": {},
          "execution_count": 175
        }
      ],
      "source": [
        "# set the dataset\n",
        "features = pd.concat([ts['Coincident Index'], ts.iloc[:,2:4]], axis=1)\n",
        "features.tail()"
      ]
    },
    {
      "cell_type": "code",
      "execution_count": 176,
      "metadata": {
        "colab": {
          "base_uri": "https://localhost:8080/"
        },
        "id": "gbQ3LWOu6K2p",
        "outputId": "2480ae90-c9b1-4bcd-c208-ce5d16421dc2"
      },
      "outputs": [
        {
          "output_type": "stream",
          "name": "stdout",
          "text": [
            "166\n"
          ]
        }
      ],
      "source": [
        "# set training percentage\n",
        "TRAIN_SPLIT = round(0.75*len(features))\n",
        "print(TRAIN_SPLIT)\n",
        "\n",
        "# feature scaling\n",
        "dataset = features.values\n",
        "data_mean = dataset[:TRAIN_SPLIT].mean(axis=0)\n",
        "data_std = dataset[:TRAIN_SPLIT].std(axis=0)\n",
        "dataset = (dataset-data_mean)/data_std"
      ]
    },
    {
      "cell_type": "code",
      "execution_count": 177,
      "metadata": {
        "id": "9SQHrKQouqyg"
      },
      "outputs": [],
      "source": [
        "def multivariate_data(dataset, target, start_index, end_index, \n",
        "                      history_size, target_size, step, single_step=False):\n",
        "  data = []\n",
        "  labels = []\n",
        "\n",
        "  start_index = start_index + history_size\n",
        "  if end_index is None:\n",
        "    end_index = len(dataset) - target_size\n",
        "\n",
        "  for i in range(start_index, end_index):\n",
        "    # add current dataset\n",
        "    indices = range(i-history_size, i+1, step)\n",
        "    temp = pd.DataFrame(dataset[indices])\n",
        "    # replace current target to previous one\n",
        "    temp.iat[history_size, 0] = temp.iat[history_size-1, 0]\n",
        "    data.append(np.array(temp))\n",
        "\n",
        "    if single_step:\n",
        "      labels.append(target[i+target_size])\n",
        "    else:\n",
        "      labels.append(target[i:i+target_size])\n",
        "\n",
        "  return np.array(data), np.array(labels)"
      ]
    },
    {
      "cell_type": "code",
      "execution_count": 178,
      "metadata": {
        "id": "XxhteUtn6K2t"
      },
      "outputs": [],
      "source": [
        "# create the training and test data\n",
        "\n",
        "past_history = 2\n",
        "future_target = 0\n",
        "STEP = 1\n",
        "\n",
        "x_train_single, y_train_single = multivariate_data(dataset, dataset[:,0], 0, TRAIN_SPLIT, past_history, future_target, STEP, single_step=True)\n",
        "x_val_single, y_val_single = multivariate_data(dataset, dataset[:,0], TRAIN_SPLIT, None, past_history, future_target, STEP, single_step=True)"
      ]
    },
    {
      "cell_type": "code",
      "execution_count": 179,
      "metadata": {
        "colab": {
          "base_uri": "https://localhost:8080/",
          "height": 266
        },
        "id": "rQtNe9rH6K2w",
        "outputId": "bf15522a-ebe6-4726-be24-7460ff3a128b",
        "scrolled": true
      },
      "outputs": [
        {
          "output_type": "execute_result",
          "data": {
            "text/plain": [
              "          0         1         2\n",
              "0  0.070640  0.400937  0.770040\n",
              "1  0.031202  0.332037  0.742151\n",
              "2  0.057494  0.263137  0.714261\n",
              "3  0.188955  0.194237  0.686372\n",
              "4  0.162663  0.125337  0.658482\n",
              "5  0.280977  0.056438  0.630592\n",
              "6  0.438730  0.158762  0.580184"
            ],
            "text/html": [
              "\n",
              "  <div id=\"df-c77d4598-15e7-4e1d-9b6e-1b9a6ae672bf\">\n",
              "    <div class=\"colab-df-container\">\n",
              "      <div>\n",
              "<style scoped>\n",
              "    .dataframe tbody tr th:only-of-type {\n",
              "        vertical-align: middle;\n",
              "    }\n",
              "\n",
              "    .dataframe tbody tr th {\n",
              "        vertical-align: top;\n",
              "    }\n",
              "\n",
              "    .dataframe thead th {\n",
              "        text-align: right;\n",
              "    }\n",
              "</style>\n",
              "<table border=\"1\" class=\"dataframe\">\n",
              "  <thead>\n",
              "    <tr style=\"text-align: right;\">\n",
              "      <th></th>\n",
              "      <th>0</th>\n",
              "      <th>1</th>\n",
              "      <th>2</th>\n",
              "    </tr>\n",
              "  </thead>\n",
              "  <tbody>\n",
              "    <tr>\n",
              "      <th>0</th>\n",
              "      <td>0.070640</td>\n",
              "      <td>0.400937</td>\n",
              "      <td>0.770040</td>\n",
              "    </tr>\n",
              "    <tr>\n",
              "      <th>1</th>\n",
              "      <td>0.031202</td>\n",
              "      <td>0.332037</td>\n",
              "      <td>0.742151</td>\n",
              "    </tr>\n",
              "    <tr>\n",
              "      <th>2</th>\n",
              "      <td>0.057494</td>\n",
              "      <td>0.263137</td>\n",
              "      <td>0.714261</td>\n",
              "    </tr>\n",
              "    <tr>\n",
              "      <th>3</th>\n",
              "      <td>0.188955</td>\n",
              "      <td>0.194237</td>\n",
              "      <td>0.686372</td>\n",
              "    </tr>\n",
              "    <tr>\n",
              "      <th>4</th>\n",
              "      <td>0.162663</td>\n",
              "      <td>0.125337</td>\n",
              "      <td>0.658482</td>\n",
              "    </tr>\n",
              "    <tr>\n",
              "      <th>5</th>\n",
              "      <td>0.280977</td>\n",
              "      <td>0.056438</td>\n",
              "      <td>0.630592</td>\n",
              "    </tr>\n",
              "    <tr>\n",
              "      <th>6</th>\n",
              "      <td>0.438730</td>\n",
              "      <td>0.158762</td>\n",
              "      <td>0.580184</td>\n",
              "    </tr>\n",
              "  </tbody>\n",
              "</table>\n",
              "</div>\n",
              "      <button class=\"colab-df-convert\" onclick=\"convertToInteractive('df-c77d4598-15e7-4e1d-9b6e-1b9a6ae672bf')\"\n",
              "              title=\"Convert this dataframe to an interactive table.\"\n",
              "              style=\"display:none;\">\n",
              "        \n",
              "  <svg xmlns=\"http://www.w3.org/2000/svg\" height=\"24px\"viewBox=\"0 0 24 24\"\n",
              "       width=\"24px\">\n",
              "    <path d=\"M0 0h24v24H0V0z\" fill=\"none\"/>\n",
              "    <path d=\"M18.56 5.44l.94 2.06.94-2.06 2.06-.94-2.06-.94-.94-2.06-.94 2.06-2.06.94zm-11 1L8.5 8.5l.94-2.06 2.06-.94-2.06-.94L8.5 2.5l-.94 2.06-2.06.94zm10 10l.94 2.06.94-2.06 2.06-.94-2.06-.94-.94-2.06-.94 2.06-2.06.94z\"/><path d=\"M17.41 7.96l-1.37-1.37c-.4-.4-.92-.59-1.43-.59-.52 0-1.04.2-1.43.59L10.3 9.45l-7.72 7.72c-.78.78-.78 2.05 0 2.83L4 21.41c.39.39.9.59 1.41.59.51 0 1.02-.2 1.41-.59l7.78-7.78 2.81-2.81c.8-.78.8-2.07 0-2.86zM5.41 20L4 18.59l7.72-7.72 1.47 1.35L5.41 20z\"/>\n",
              "  </svg>\n",
              "      </button>\n",
              "      \n",
              "  <style>\n",
              "    .colab-df-container {\n",
              "      display:flex;\n",
              "      flex-wrap:wrap;\n",
              "      gap: 12px;\n",
              "    }\n",
              "\n",
              "    .colab-df-convert {\n",
              "      background-color: #E8F0FE;\n",
              "      border: none;\n",
              "      border-radius: 50%;\n",
              "      cursor: pointer;\n",
              "      display: none;\n",
              "      fill: #1967D2;\n",
              "      height: 32px;\n",
              "      padding: 0 0 0 0;\n",
              "      width: 32px;\n",
              "    }\n",
              "\n",
              "    .colab-df-convert:hover {\n",
              "      background-color: #E2EBFA;\n",
              "      box-shadow: 0px 1px 2px rgba(60, 64, 67, 0.3), 0px 1px 3px 1px rgba(60, 64, 67, 0.15);\n",
              "      fill: #174EA6;\n",
              "    }\n",
              "\n",
              "    [theme=dark] .colab-df-convert {\n",
              "      background-color: #3B4455;\n",
              "      fill: #D2E3FC;\n",
              "    }\n",
              "\n",
              "    [theme=dark] .colab-df-convert:hover {\n",
              "      background-color: #434B5C;\n",
              "      box-shadow: 0px 1px 3px 1px rgba(0, 0, 0, 0.15);\n",
              "      filter: drop-shadow(0px 1px 2px rgba(0, 0, 0, 0.3));\n",
              "      fill: #FFFFFF;\n",
              "    }\n",
              "  </style>\n",
              "\n",
              "      <script>\n",
              "        const buttonEl =\n",
              "          document.querySelector('#df-c77d4598-15e7-4e1d-9b6e-1b9a6ae672bf button.colab-df-convert');\n",
              "        buttonEl.style.display =\n",
              "          google.colab.kernel.accessAllowed ? 'block' : 'none';\n",
              "\n",
              "        async function convertToInteractive(key) {\n",
              "          const element = document.querySelector('#df-c77d4598-15e7-4e1d-9b6e-1b9a6ae672bf');\n",
              "          const dataTable =\n",
              "            await google.colab.kernel.invokeFunction('convertToInteractive',\n",
              "                                                     [key], {});\n",
              "          if (!dataTable) return;\n",
              "\n",
              "          const docLinkHtml = 'Like what you see? Visit the ' +\n",
              "            '<a target=\"_blank\" href=https://colab.research.google.com/notebooks/data_table.ipynb>data table notebook</a>'\n",
              "            + ' to learn more about interactive tables.';\n",
              "          element.innerHTML = '';\n",
              "          dataTable['output_type'] = 'display_data';\n",
              "          await google.colab.output.renderOutput(dataTable, element);\n",
              "          const docLink = document.createElement('div');\n",
              "          docLink.innerHTML = docLinkHtml;\n",
              "          element.appendChild(docLink);\n",
              "        }\n",
              "      </script>\n",
              "    </div>\n",
              "  </div>\n",
              "  "
            ]
          },
          "metadata": {},
          "execution_count": 179
        }
      ],
      "source": [
        "pd.DataFrame(dataset).head(7)"
      ]
    },
    {
      "cell_type": "code",
      "execution_count": 180,
      "metadata": {
        "colab": {
          "base_uri": "https://localhost:8080/",
          "height": 142
        },
        "id": "0s3StVDs6K20",
        "outputId": "71a509fa-d1ff-4794-8d8b-d0556cd3f7a9"
      },
      "outputs": [
        {
          "output_type": "execute_result",
          "data": {
            "text/plain": [
              "          0         1         2\n",
              "0  0.070640  0.400937  0.770040\n",
              "1  0.031202  0.332037  0.742151\n",
              "2  0.031202  0.263137  0.714261"
            ],
            "text/html": [
              "\n",
              "  <div id=\"df-71d27d38-e0d8-44f0-a7d3-b2ca28e2e007\">\n",
              "    <div class=\"colab-df-container\">\n",
              "      <div>\n",
              "<style scoped>\n",
              "    .dataframe tbody tr th:only-of-type {\n",
              "        vertical-align: middle;\n",
              "    }\n",
              "\n",
              "    .dataframe tbody tr th {\n",
              "        vertical-align: top;\n",
              "    }\n",
              "\n",
              "    .dataframe thead th {\n",
              "        text-align: right;\n",
              "    }\n",
              "</style>\n",
              "<table border=\"1\" class=\"dataframe\">\n",
              "  <thead>\n",
              "    <tr style=\"text-align: right;\">\n",
              "      <th></th>\n",
              "      <th>0</th>\n",
              "      <th>1</th>\n",
              "      <th>2</th>\n",
              "    </tr>\n",
              "  </thead>\n",
              "  <tbody>\n",
              "    <tr>\n",
              "      <th>0</th>\n",
              "      <td>0.070640</td>\n",
              "      <td>0.400937</td>\n",
              "      <td>0.770040</td>\n",
              "    </tr>\n",
              "    <tr>\n",
              "      <th>1</th>\n",
              "      <td>0.031202</td>\n",
              "      <td>0.332037</td>\n",
              "      <td>0.742151</td>\n",
              "    </tr>\n",
              "    <tr>\n",
              "      <th>2</th>\n",
              "      <td>0.031202</td>\n",
              "      <td>0.263137</td>\n",
              "      <td>0.714261</td>\n",
              "    </tr>\n",
              "  </tbody>\n",
              "</table>\n",
              "</div>\n",
              "      <button class=\"colab-df-convert\" onclick=\"convertToInteractive('df-71d27d38-e0d8-44f0-a7d3-b2ca28e2e007')\"\n",
              "              title=\"Convert this dataframe to an interactive table.\"\n",
              "              style=\"display:none;\">\n",
              "        \n",
              "  <svg xmlns=\"http://www.w3.org/2000/svg\" height=\"24px\"viewBox=\"0 0 24 24\"\n",
              "       width=\"24px\">\n",
              "    <path d=\"M0 0h24v24H0V0z\" fill=\"none\"/>\n",
              "    <path d=\"M18.56 5.44l.94 2.06.94-2.06 2.06-.94-2.06-.94-.94-2.06-.94 2.06-2.06.94zm-11 1L8.5 8.5l.94-2.06 2.06-.94-2.06-.94L8.5 2.5l-.94 2.06-2.06.94zm10 10l.94 2.06.94-2.06 2.06-.94-2.06-.94-.94-2.06-.94 2.06-2.06.94z\"/><path d=\"M17.41 7.96l-1.37-1.37c-.4-.4-.92-.59-1.43-.59-.52 0-1.04.2-1.43.59L10.3 9.45l-7.72 7.72c-.78.78-.78 2.05 0 2.83L4 21.41c.39.39.9.59 1.41.59.51 0 1.02-.2 1.41-.59l7.78-7.78 2.81-2.81c.8-.78.8-2.07 0-2.86zM5.41 20L4 18.59l7.72-7.72 1.47 1.35L5.41 20z\"/>\n",
              "  </svg>\n",
              "      </button>\n",
              "      \n",
              "  <style>\n",
              "    .colab-df-container {\n",
              "      display:flex;\n",
              "      flex-wrap:wrap;\n",
              "      gap: 12px;\n",
              "    }\n",
              "\n",
              "    .colab-df-convert {\n",
              "      background-color: #E8F0FE;\n",
              "      border: none;\n",
              "      border-radius: 50%;\n",
              "      cursor: pointer;\n",
              "      display: none;\n",
              "      fill: #1967D2;\n",
              "      height: 32px;\n",
              "      padding: 0 0 0 0;\n",
              "      width: 32px;\n",
              "    }\n",
              "\n",
              "    .colab-df-convert:hover {\n",
              "      background-color: #E2EBFA;\n",
              "      box-shadow: 0px 1px 2px rgba(60, 64, 67, 0.3), 0px 1px 3px 1px rgba(60, 64, 67, 0.15);\n",
              "      fill: #174EA6;\n",
              "    }\n",
              "\n",
              "    [theme=dark] .colab-df-convert {\n",
              "      background-color: #3B4455;\n",
              "      fill: #D2E3FC;\n",
              "    }\n",
              "\n",
              "    [theme=dark] .colab-df-convert:hover {\n",
              "      background-color: #434B5C;\n",
              "      box-shadow: 0px 1px 3px 1px rgba(0, 0, 0, 0.15);\n",
              "      filter: drop-shadow(0px 1px 2px rgba(0, 0, 0, 0.3));\n",
              "      fill: #FFFFFF;\n",
              "    }\n",
              "  </style>\n",
              "\n",
              "      <script>\n",
              "        const buttonEl =\n",
              "          document.querySelector('#df-71d27d38-e0d8-44f0-a7d3-b2ca28e2e007 button.colab-df-convert');\n",
              "        buttonEl.style.display =\n",
              "          google.colab.kernel.accessAllowed ? 'block' : 'none';\n",
              "\n",
              "        async function convertToInteractive(key) {\n",
              "          const element = document.querySelector('#df-71d27d38-e0d8-44f0-a7d3-b2ca28e2e007');\n",
              "          const dataTable =\n",
              "            await google.colab.kernel.invokeFunction('convertToInteractive',\n",
              "                                                     [key], {});\n",
              "          if (!dataTable) return;\n",
              "\n",
              "          const docLinkHtml = 'Like what you see? Visit the ' +\n",
              "            '<a target=\"_blank\" href=https://colab.research.google.com/notebooks/data_table.ipynb>data table notebook</a>'\n",
              "            + ' to learn more about interactive tables.';\n",
              "          element.innerHTML = '';\n",
              "          dataTable['output_type'] = 'display_data';\n",
              "          await google.colab.output.renderOutput(dataTable, element);\n",
              "          const docLink = document.createElement('div');\n",
              "          docLink.innerHTML = docLinkHtml;\n",
              "          element.appendChild(docLink);\n",
              "        }\n",
              "      </script>\n",
              "    </div>\n",
              "  </div>\n",
              "  "
            ]
          },
          "metadata": {},
          "execution_count": 180
        }
      ],
      "source": [
        "# ２期前までの景気動向指数とグーグル検索数のデータを用いて、\n",
        "\n",
        "pd.DataFrame(x_train_single[0])"
      ]
    },
    {
      "cell_type": "code",
      "execution_count": 181,
      "metadata": {
        "colab": {
          "base_uri": "https://localhost:8080/"
        },
        "id": "FBTbWMJu6K24",
        "outputId": "4701a4f3-b63c-420e-804d-da05cd361fc0"
      },
      "outputs": [
        {
          "output_type": "execute_result",
          "data": {
            "text/plain": [
              "0.05749416278184816"
            ]
          },
          "metadata": {},
          "execution_count": 181
        }
      ],
      "source": [
        "# 当該期の景気動向指数を推計するというモデルを組んでいます。\n",
        "\n",
        "y_train_single[0]"
      ]
    },
    {
      "cell_type": "code",
      "execution_count": 182,
      "metadata": {
        "id": "AgcxGvnQ6K26"
      },
      "outputs": [],
      "source": [
        "BATCH_SIZE = 32\n",
        "BUFFER_SIZE = 100\n",
        "\n",
        "train_data_single = tf.data.Dataset.from_tensor_slices((x_train_single, y_train_single))\n",
        "train_data_single = train_data_single.cache().shuffle(BUFFER_SIZE).batch(BATCH_SIZE).repeat()\n",
        "\n",
        "val_data_single = tf.data.Dataset.from_tensor_slices((x_val_single, y_val_single))\n",
        "val_data_single = val_data_single.batch(BATCH_SIZE).repeat()"
      ]
    },
    {
      "cell_type": "code",
      "execution_count": 183,
      "metadata": {
        "id": "C_0dJQKl6K28"
      },
      "outputs": [],
      "source": [
        "# construct the model\n",
        "\n",
        "single_step_model = tf.keras.models.Sequential()\n",
        "single_step_model.add(tf.keras.layers.LSTM(8, input_shape=x_train_single.shape[-2:]))\n",
        "#single_step_model.add(tf.keras.layers.LSTM(8, kernel_regularizer=l2(0.01), bias_regularizer=l2(0.01)))\n",
        "#single_step_model.add(tf.keras.layers.LSTM(8, dropout=0.2, recurrent_dropout=0.2, return_sequences=True))\n",
        "#single_step_model.add(tf.keras.layers.Bidirectional(tf.keras.layers.LSTM(4)))\n",
        "single_step_model.add(tf.keras.layers.Dense(1))\n",
        "\n",
        "single_step_model.compile(optimizer=tf.keras.optimizers.RMSprop(learning_rate=0.0001), loss='mae')"
      ]
    },
    {
      "cell_type": "code",
      "execution_count": 184,
      "metadata": {
        "colab": {
          "base_uri": "https://localhost:8080/"
        },
        "id": "5bXLhbN_6K29",
        "scrolled": true,
        "outputId": "9f2e219b-9dc6-4209-bd3b-36202affff23"
      },
      "outputs": [
        {
          "output_type": "stream",
          "name": "stdout",
          "text": [
            "Epoch 1/30\n",
            "200/200 [==============================] - 8s 14ms/step - loss: 0.5498 - val_loss: 0.6581\n",
            "Epoch 2/30\n",
            "200/200 [==============================] - 2s 8ms/step - loss: 0.5000 - val_loss: 0.6293\n",
            "Epoch 3/30\n",
            "200/200 [==============================] - 2s 8ms/step - loss: 0.4565 - val_loss: 0.5982\n",
            "Epoch 4/30\n",
            "200/200 [==============================] - 2s 10ms/step - loss: 0.4248 - val_loss: 0.5628\n",
            "Epoch 5/30\n",
            "200/200 [==============================] - 1s 7ms/step - loss: 0.3980 - val_loss: 0.5268\n",
            "Epoch 6/30\n",
            "200/200 [==============================] - 2s 8ms/step - loss: 0.3792 - val_loss: 0.4939\n",
            "Epoch 7/30\n",
            "200/200 [==============================] - 2s 8ms/step - loss: 0.3622 - val_loss: 0.4590\n",
            "Epoch 8/30\n",
            "200/200 [==============================] - 2s 8ms/step - loss: 0.3453 - val_loss: 0.4301\n",
            "Epoch 9/30\n",
            "200/200 [==============================] - 2s 8ms/step - loss: 0.3311 - val_loss: 0.3992\n",
            "Epoch 10/30\n",
            "200/200 [==============================] - 1s 7ms/step - loss: 0.3186 - val_loss: 0.3700\n",
            "Epoch 11/30\n",
            "200/200 [==============================] - 1s 7ms/step - loss: 0.3059 - val_loss: 0.3446\n",
            "Epoch 12/30\n",
            "200/200 [==============================] - 2s 8ms/step - loss: 0.2922 - val_loss: 0.3195\n",
            "Epoch 13/30\n",
            "200/200 [==============================] - 1s 5ms/step - loss: 0.2808 - val_loss: 0.2991\n",
            "Epoch 14/30\n",
            "200/200 [==============================] - 1s 4ms/step - loss: 0.2682 - val_loss: 0.2814\n",
            "Epoch 15/30\n",
            "200/200 [==============================] - 1s 4ms/step - loss: 0.2553 - val_loss: 0.2614\n",
            "Epoch 16/30\n",
            "200/200 [==============================] - 1s 5ms/step - loss: 0.2423 - val_loss: 0.2462\n",
            "Epoch 17/30\n",
            "200/200 [==============================] - 1s 4ms/step - loss: 0.2297 - val_loss: 0.2396\n",
            "Epoch 18/30\n",
            "200/200 [==============================] - 1s 4ms/step - loss: 0.2165 - val_loss: 0.2363\n",
            "Epoch 19/30\n",
            "200/200 [==============================] - 1s 4ms/step - loss: 0.2040 - val_loss: 0.2359\n",
            "Epoch 20/30\n",
            "200/200 [==============================] - 1s 4ms/step - loss: 0.1907 - val_loss: 0.2391\n",
            "Epoch 21/30\n",
            "200/200 [==============================] - 1s 5ms/step - loss: 0.1790 - val_loss: 0.2432\n",
            "Epoch 22/30\n",
            "200/200 [==============================] - 1s 4ms/step - loss: 0.1683 - val_loss: 0.2553\n",
            "Epoch 23/30\n",
            "200/200 [==============================] - 1s 4ms/step - loss: 0.1604 - val_loss: 0.2648\n",
            "Epoch 24/30\n",
            "200/200 [==============================] - 1s 4ms/step - loss: 0.1542 - val_loss: 0.2733\n",
            "Epoch 25/30\n",
            "200/200 [==============================] - 1s 4ms/step - loss: 0.1506 - val_loss: 0.2776\n",
            "Epoch 26/30\n",
            "200/200 [==============================] - 1s 4ms/step - loss: 0.1462 - val_loss: 0.2794\n",
            "Epoch 27/30\n",
            "200/200 [==============================] - 1s 4ms/step - loss: 0.1433 - val_loss: 0.2811\n",
            "Epoch 28/30\n",
            "200/200 [==============================] - 1s 4ms/step - loss: 0.1408 - val_loss: 0.2871\n",
            "Epoch 29/30\n",
            "200/200 [==============================] - 1s 4ms/step - loss: 0.1386 - val_loss: 0.2932\n",
            "Epoch 30/30\n",
            "200/200 [==============================] - 1s 4ms/step - loss: 0.1356 - val_loss: 0.3007\n"
          ]
        }
      ],
      "source": [
        "# train the model\n",
        "single_step_history = single_step_model.fit(train_data_single, epochs=30, steps_per_epoch=200, validation_data=val_data_single, validation_steps=50)"
      ]
    },
    {
      "cell_type": "code",
      "execution_count": 185,
      "metadata": {
        "id": "9sCSpqAkuzlm"
      },
      "outputs": [],
      "source": [
        "def model_eval_metrics(y_true, y_pred, classification=\"TRUE\"):\n",
        "     if classification==\"TRUE\":\n",
        "        accuracy_eval = accuracy_score(y_true, y_pred)\n",
        "        f1_score_eval = f1_score(y_true, y_pred,average=\"macro\",zero_division=0)\n",
        "        precision_eval = precision_score(y_true, y_pred,average=\"macro\",zero_division=0)\n",
        "        recall_eval = recall_score(y_true, y_pred,average=\"macro\",zero_division=0)\n",
        "        mse_eval = 0\n",
        "        rmse_eval = 0\n",
        "        mae_eval = 0\n",
        "        r2_eval = 0\n",
        "        metricdata = {'accuracy': [accuracy_eval], 'f1_score': [f1_score_eval], \n",
        "                      'precision': [precision_eval], 'recall': [recall_eval], 'mse': [mse_eval], \n",
        "                      'rmse': [rmse_eval], 'mae': [mae_eval], 'r2': [r2_eval]}\n",
        "        finalmetricdata = pd.DataFrame.from_dict(metricdata)\n",
        "     else:\n",
        "        accuracy_eval = 0\n",
        "        f1_score_eval = 0\n",
        "        precision_eval = 0\n",
        "        recall_eval = 0\n",
        "        mse_eval = mean_squared_error(y_true, y_pred)\n",
        "        rmse_eval = sqrt(mean_squared_error(y_true, y_pred))\n",
        "        mae_eval = mean_absolute_error(y_true, y_pred)\n",
        "        r2_eval = r2_score(y_true, y_pred)\n",
        "        metricdata = {'accuracy': [accuracy_eval], 'f1_score': [f1_score_eval], \n",
        "                      'precision': [precision_eval], 'recall': [recall_eval], 'mse': [mse_eval], \n",
        "                      'rmse': [rmse_eval], 'mae': [mae_eval], 'r2': [r2_eval]}\n",
        "        finalmetricdata = pd.DataFrame.from_dict(metricdata)\n",
        "     return finalmetricdata"
      ]
    },
    {
      "cell_type": "code",
      "execution_count": 186,
      "metadata": {
        "colab": {
          "base_uri": "https://localhost:8080/",
          "height": 80
        },
        "id": "Ok4qDpKj6K3A",
        "outputId": "a2c53f8a-55e7-4d9f-98cf-e2da916a043a"
      },
      "outputs": [
        {
          "output_type": "execute_result",
          "data": {
            "text/plain": [
              "   accuracy  f1_score  precision  recall       mse      rmse      mae  \\\n",
              "0         0         0          0       0  0.164443  0.405516  0.30067   \n",
              "\n",
              "         r2  \n",
              "0  0.819798  "
            ],
            "text/html": [
              "\n",
              "  <div id=\"df-932e6170-c798-44ac-a7f7-e937861c0cc7\">\n",
              "    <div class=\"colab-df-container\">\n",
              "      <div>\n",
              "<style scoped>\n",
              "    .dataframe tbody tr th:only-of-type {\n",
              "        vertical-align: middle;\n",
              "    }\n",
              "\n",
              "    .dataframe tbody tr th {\n",
              "        vertical-align: top;\n",
              "    }\n",
              "\n",
              "    .dataframe thead th {\n",
              "        text-align: right;\n",
              "    }\n",
              "</style>\n",
              "<table border=\"1\" class=\"dataframe\">\n",
              "  <thead>\n",
              "    <tr style=\"text-align: right;\">\n",
              "      <th></th>\n",
              "      <th>accuracy</th>\n",
              "      <th>f1_score</th>\n",
              "      <th>precision</th>\n",
              "      <th>recall</th>\n",
              "      <th>mse</th>\n",
              "      <th>rmse</th>\n",
              "      <th>mae</th>\n",
              "      <th>r2</th>\n",
              "    </tr>\n",
              "  </thead>\n",
              "  <tbody>\n",
              "    <tr>\n",
              "      <th>0</th>\n",
              "      <td>0</td>\n",
              "      <td>0</td>\n",
              "      <td>0</td>\n",
              "      <td>0</td>\n",
              "      <td>0.164443</td>\n",
              "      <td>0.405516</td>\n",
              "      <td>0.30067</td>\n",
              "      <td>0.819798</td>\n",
              "    </tr>\n",
              "  </tbody>\n",
              "</table>\n",
              "</div>\n",
              "      <button class=\"colab-df-convert\" onclick=\"convertToInteractive('df-932e6170-c798-44ac-a7f7-e937861c0cc7')\"\n",
              "              title=\"Convert this dataframe to an interactive table.\"\n",
              "              style=\"display:none;\">\n",
              "        \n",
              "  <svg xmlns=\"http://www.w3.org/2000/svg\" height=\"24px\"viewBox=\"0 0 24 24\"\n",
              "       width=\"24px\">\n",
              "    <path d=\"M0 0h24v24H0V0z\" fill=\"none\"/>\n",
              "    <path d=\"M18.56 5.44l.94 2.06.94-2.06 2.06-.94-2.06-.94-.94-2.06-.94 2.06-2.06.94zm-11 1L8.5 8.5l.94-2.06 2.06-.94-2.06-.94L8.5 2.5l-.94 2.06-2.06.94zm10 10l.94 2.06.94-2.06 2.06-.94-2.06-.94-.94-2.06-.94 2.06-2.06.94z\"/><path d=\"M17.41 7.96l-1.37-1.37c-.4-.4-.92-.59-1.43-.59-.52 0-1.04.2-1.43.59L10.3 9.45l-7.72 7.72c-.78.78-.78 2.05 0 2.83L4 21.41c.39.39.9.59 1.41.59.51 0 1.02-.2 1.41-.59l7.78-7.78 2.81-2.81c.8-.78.8-2.07 0-2.86zM5.41 20L4 18.59l7.72-7.72 1.47 1.35L5.41 20z\"/>\n",
              "  </svg>\n",
              "      </button>\n",
              "      \n",
              "  <style>\n",
              "    .colab-df-container {\n",
              "      display:flex;\n",
              "      flex-wrap:wrap;\n",
              "      gap: 12px;\n",
              "    }\n",
              "\n",
              "    .colab-df-convert {\n",
              "      background-color: #E8F0FE;\n",
              "      border: none;\n",
              "      border-radius: 50%;\n",
              "      cursor: pointer;\n",
              "      display: none;\n",
              "      fill: #1967D2;\n",
              "      height: 32px;\n",
              "      padding: 0 0 0 0;\n",
              "      width: 32px;\n",
              "    }\n",
              "\n",
              "    .colab-df-convert:hover {\n",
              "      background-color: #E2EBFA;\n",
              "      box-shadow: 0px 1px 2px rgba(60, 64, 67, 0.3), 0px 1px 3px 1px rgba(60, 64, 67, 0.15);\n",
              "      fill: #174EA6;\n",
              "    }\n",
              "\n",
              "    [theme=dark] .colab-df-convert {\n",
              "      background-color: #3B4455;\n",
              "      fill: #D2E3FC;\n",
              "    }\n",
              "\n",
              "    [theme=dark] .colab-df-convert:hover {\n",
              "      background-color: #434B5C;\n",
              "      box-shadow: 0px 1px 3px 1px rgba(0, 0, 0, 0.15);\n",
              "      filter: drop-shadow(0px 1px 2px rgba(0, 0, 0, 0.3));\n",
              "      fill: #FFFFFF;\n",
              "    }\n",
              "  </style>\n",
              "\n",
              "      <script>\n",
              "        const buttonEl =\n",
              "          document.querySelector('#df-932e6170-c798-44ac-a7f7-e937861c0cc7 button.colab-df-convert');\n",
              "        buttonEl.style.display =\n",
              "          google.colab.kernel.accessAllowed ? 'block' : 'none';\n",
              "\n",
              "        async function convertToInteractive(key) {\n",
              "          const element = document.querySelector('#df-932e6170-c798-44ac-a7f7-e937861c0cc7');\n",
              "          const dataTable =\n",
              "            await google.colab.kernel.invokeFunction('convertToInteractive',\n",
              "                                                     [key], {});\n",
              "          if (!dataTable) return;\n",
              "\n",
              "          const docLinkHtml = 'Like what you see? Visit the ' +\n",
              "            '<a target=\"_blank\" href=https://colab.research.google.com/notebooks/data_table.ipynb>data table notebook</a>'\n",
              "            + ' to learn more about interactive tables.';\n",
              "          element.innerHTML = '';\n",
              "          dataTable['output_type'] = 'display_data';\n",
              "          await google.colab.output.renderOutput(dataTable, element);\n",
              "          const docLink = document.createElement('div');\n",
              "          docLink.innerHTML = docLinkHtml;\n",
              "          element.appendChild(docLink);\n",
              "        }\n",
              "      </script>\n",
              "    </div>\n",
              "  </div>\n",
              "  "
            ]
          },
          "metadata": {},
          "execution_count": 186
        }
      ],
      "source": [
        "# evaluate the model\n",
        "model_eval_metrics(y_val_single, single_step_model.predict(x_val_single), classification=\"FALSE\")"
      ]
    },
    {
      "cell_type": "code",
      "execution_count": 187,
      "metadata": {
        "colab": {
          "base_uri": "https://localhost:8080/",
          "height": 300
        },
        "id": "uab-eFpfC92x",
        "outputId": "e41c4cb3-cb4d-4126-e744-244038957b65"
      },
      "outputs": [
        {
          "output_type": "stream",
          "name": "stdout",
          "text": [
            "Test set score（決定係数）: 0.82\n"
          ]
        },
        {
          "output_type": "display_data",
          "data": {
            "text/plain": [
              "<Figure size 432x288 with 1 Axes>"
            ],
            "image/png": "[encoded data removed]"
          },
          "metadata": {
            "needs_background": "light"
          }
        }
      ],
      "source": [
        "# visualize the result\n",
        "\n",
        "predict = pd.DataFrame(single_step_model.predict(x_val_single)*data_std[0]+data_mean[0])\n",
        "predict.index = features.iloc[TRAIN_SPLIT+past_history:,:].index\n",
        "\n",
        "actual = pd.DataFrame(y_val_single*data_std[0]+data_mean[0])\n",
        "actual.index = features.iloc[TRAIN_SPLIT+past_history:,:].index\n",
        "\n",
        "plt.plot(features.iloc[TRAIN_SPLIT+past_history:,0], label=\"actual\")\n",
        "plt.plot(predict, \"r\", linestyle='--', label=\"predict\")\n",
        "plt.legend(loc='lower right')\n",
        "plt.title('RNN-LSTM: Level')\n",
        "#plt.savefig(\"images/google_lstm.png\")\n",
        "\n",
        "print(\"Test set score（決定係数）: {:.2f}\".format(r2_score(y_val_single, single_step_model.predict(x_val_single))))\n"
      ]
    },
    {
      "cell_type": "markdown",
      "metadata": {
        "id": "Ejf0lB18P4CB"
      },
      "source": [
        "## Weekly Nowcasting"
      ]
    },
    {
      "cell_type": "markdown",
      "source": [
        "最後に、上記のモデルで構築したグーグル検索数と景気動向指数の関係性に対して、週次のデータを当てはめることで、足下までの景気動向指数をナウキャスティングします。"
      ],
      "metadata": {
        "id": "NVjKgGQFd8at"
      }
    },
    {
      "cell_type": "code",
      "execution_count": 188,
      "metadata": {
        "colab": {
          "base_uri": "https://localhost:8080/",
          "height": 284
        },
        "id": "7O7aRY3WPskB",
        "outputId": "400a6d9e-e1c4-46b8-ceba-a3851b2ab41e"
      },
      "outputs": [
        {
          "output_type": "execute_result",
          "data": {
            "text/plain": [
              "[<matplotlib.lines.Line2D at 0x7faae1fd8310>]"
            ]
          },
          "metadata": {},
          "execution_count": 188
        },
        {
          "output_type": "display_data",
          "data": {
            "text/plain": [
              "<Figure size 432x288 with 1 Axes>"
            ],
            "image/png": "[encoded data removed]"
          },
          "metadata": {
            "needs_background": "light"
          }
        }
      ],
      "source": [
        "# Get the weekly google trend data (unemployment)\n",
        "pytrends.build_payload(kw_list1, timeframe='today 5-y', geo='JP')\n",
        "gt3 = pytrends.interest_over_time()\n",
        "gt3 = gt3.rename(columns = {kw1: \"var1\", \"isPartial\": \"info\"})\n",
        "#gt3.to_csv(\"data/gt3.csv\")\n",
        "#dateparse = lambda dates: pd.datetime.strptime(dates, '%Y-%m-%d')\n",
        "#gt3 = pd.read_csv('data/gt3.csv', index_col=0, date_parser=dateparse, dtype='float')\n",
        "\n",
        "# Extract trend factor\n",
        "s3 = seasonal_decompose(gt3.iloc[:,0], extrapolate_trend='freq', period=12)\n",
        "t3 = s3.trend\n",
        "\n",
        "plt.plot(t3)\n",
        "plt.plot(gt3.iloc[:,0], linestyle='--')"
      ]
    },
    {
      "cell_type": "code",
      "execution_count": 189,
      "metadata": {
        "colab": {
          "base_uri": "https://localhost:8080/",
          "height": 284
        },
        "id": "x4SyrMQjTCD0",
        "outputId": "334d3c0d-0e8a-4715-e861-ac35b074ca02"
      },
      "outputs": [
        {
          "output_type": "execute_result",
          "data": {
            "text/plain": [
              "[<matplotlib.lines.Line2D at 0x7faae23575d0>]"
            ]
          },
          "metadata": {},
          "execution_count": 189
        },
        {
          "output_type": "display_data",
          "data": {
            "text/plain": [
              "<Figure size 432x288 with 1 Axes>"
            ],
            "image/png": "[encoded data removed]"
          },
          "metadata": {
            "needs_background": "light"
          }
        }
      ],
      "source": [
        "# Get the weekly google trend data (saving)\n",
        "pytrends.build_payload(kw_list2, timeframe='today 5-y', geo='JP')\n",
        "gt4 = pytrends.interest_over_time()\n",
        "gt4 = gt4.rename(columns = {kw2: \"var2\", \"isPartial\": \"info\"})\n",
        "#gt4.to_csv(\"data/gt4.csv\")\n",
        "#dateparse = lambda dates: pd.datetime.strptime(dates, '%Y-%m-%d')\n",
        "#gt4 = pd.read_csv('data/gt4.csv', index_col=0, date_parser=dateparse, dtype='float')\n",
        "\n",
        "# Extract trend factor\n",
        "s4 = seasonal_decompose(gt4.iloc[:,0], extrapolate_trend='freq', period=12)\n",
        "t4 = s4.trend\n",
        "\n",
        "plt.plot(t4)\n",
        "plt.plot(gt4.iloc[:,0], linestyle='--')"
      ]
    },
    {
      "cell_type": "code",
      "execution_count": 190,
      "metadata": {
        "colab": {
          "base_uri": "https://localhost:8080/",
          "height": 450
        },
        "id": "xx4bC2OOBtUD",
        "outputId": "045166d0-0d68-40ea-a1ec-47caa5d706b8"
      },
      "outputs": [
        {
          "output_type": "execute_result",
          "data": {
            "text/plain": [
              "            Coincident Index    trend_x    trend_y\n",
              "date_y                                            \n",
              "2017-08-27             104.6  32.970765  55.144862\n",
              "2017-09-03             103.8  32.988102  55.559198\n",
              "2017-09-10             103.8  33.005439  55.973533\n",
              "2017-09-17             103.8  33.022776  56.387869\n",
              "2017-09-24             103.8  33.040113  56.802205\n",
              "...                      ...        ...        ...\n",
              "2022-07-24               NaN  42.548902  60.828817\n",
              "2022-07-31               NaN  42.045260  61.291521\n",
              "2022-08-07               NaN  41.541618  61.754225\n",
              "2022-08-14               NaN  41.037976  62.216929\n",
              "2022-08-21               NaN  40.534334  62.679633\n",
              "\n",
              "[261 rows x 3 columns]"
            ],
            "text/html": [
              "\n",
              "  <div id=\"df-5e7997ac-fa38-442a-aea3-2214a274db50\">\n",
              "    <div class=\"colab-df-container\">\n",
              "      <div>\n",
              "<style scoped>\n",
              "    .dataframe tbody tr th:only-of-type {\n",
              "        vertical-align: middle;\n",
              "    }\n",
              "\n",
              "    .dataframe tbody tr th {\n",
              "        vertical-align: top;\n",
              "    }\n",
              "\n",
              "    .dataframe thead th {\n",
              "        text-align: right;\n",
              "    }\n",
              "</style>\n",
              "<table border=\"1\" class=\"dataframe\">\n",
              "  <thead>\n",
              "    <tr style=\"text-align: right;\">\n",
              "      <th></th>\n",
              "      <th>Coincident Index</th>\n",
              "      <th>trend_x</th>\n",
              "      <th>trend_y</th>\n",
              "    </tr>\n",
              "    <tr>\n",
              "      <th>date_y</th>\n",
              "      <th></th>\n",
              "      <th></th>\n",
              "      <th></th>\n",
              "    </tr>\n",
              "  </thead>\n",
              "  <tbody>\n",
              "    <tr>\n",
              "      <th>2017-08-27</th>\n",
              "      <td>104.6</td>\n",
              "      <td>32.970765</td>\n",
              "      <td>55.144862</td>\n",
              "    </tr>\n",
              "    <tr>\n",
              "      <th>2017-09-03</th>\n",
              "      <td>103.8</td>\n",
              "      <td>32.988102</td>\n",
              "      <td>55.559198</td>\n",
              "    </tr>\n",
              "    <tr>\n",
              "      <th>2017-09-10</th>\n",
              "      <td>103.8</td>\n",
              "      <td>33.005439</td>\n",
              "      <td>55.973533</td>\n",
              "    </tr>\n",
              "    <tr>\n",
              "      <th>2017-09-17</th>\n",
              "      <td>103.8</td>\n",
              "      <td>33.022776</td>\n",
              "      <td>56.387869</td>\n",
              "    </tr>\n",
              "    <tr>\n",
              "      <th>2017-09-24</th>\n",
              "      <td>103.8</td>\n",
              "      <td>33.040113</td>\n",
              "      <td>56.802205</td>\n",
              "    </tr>\n",
              "    <tr>\n",
              "      <th>...</th>\n",
              "      <td>...</td>\n",
              "      <td>...</td>\n",
              "      <td>...</td>\n",
              "    </tr>\n",
              "    <tr>\n",
              "      <th>2022-07-24</th>\n",
              "      <td>NaN</td>\n",
              "      <td>42.548902</td>\n",
              "      <td>60.828817</td>\n",
              "    </tr>\n",
              "    <tr>\n",
              "      <th>2022-07-31</th>\n",
              "      <td>NaN</td>\n",
              "      <td>42.045260</td>\n",
              "      <td>61.291521</td>\n",
              "    </tr>\n",
              "    <tr>\n",
              "      <th>2022-08-07</th>\n",
              "      <td>NaN</td>\n",
              "      <td>41.541618</td>\n",
              "      <td>61.754225</td>\n",
              "    </tr>\n",
              "    <tr>\n",
              "      <th>2022-08-14</th>\n",
              "      <td>NaN</td>\n",
              "      <td>41.037976</td>\n",
              "      <td>62.216929</td>\n",
              "    </tr>\n",
              "    <tr>\n",
              "      <th>2022-08-21</th>\n",
              "      <td>NaN</td>\n",
              "      <td>40.534334</td>\n",
              "      <td>62.679633</td>\n",
              "    </tr>\n",
              "  </tbody>\n",
              "</table>\n",
              "<p>261 rows × 3 columns</p>\n",
              "</div>\n",
              "      <button class=\"colab-df-convert\" onclick=\"convertToInteractive('df-5e7997ac-fa38-442a-aea3-2214a274db50')\"\n",
              "              title=\"Convert this dataframe to an interactive table.\"\n",
              "              style=\"display:none;\">\n",
              "        \n",
              "  <svg xmlns=\"http://www.w3.org/2000/svg\" height=\"24px\"viewBox=\"0 0 24 24\"\n",
              "       width=\"24px\">\n",
              "    <path d=\"M0 0h24v24H0V0z\" fill=\"none\"/>\n",
              "    <path d=\"M18.56 5.44l.94 2.06.94-2.06 2.06-.94-2.06-.94-.94-2.06-.94 2.06-2.06.94zm-11 1L8.5 8.5l.94-2.06 2.06-.94-2.06-.94L8.5 2.5l-.94 2.06-2.06.94zm10 10l.94 2.06.94-2.06 2.06-.94-2.06-.94-.94-2.06-.94 2.06-2.06.94z\"/><path d=\"M17.41 7.96l-1.37-1.37c-.4-.4-.92-.59-1.43-.59-.52 0-1.04.2-1.43.59L10.3 9.45l-7.72 7.72c-.78.78-.78 2.05 0 2.83L4 21.41c.39.39.9.59 1.41.59.51 0 1.02-.2 1.41-.59l7.78-7.78 2.81-2.81c.8-.78.8-2.07 0-2.86zM5.41 20L4 18.59l7.72-7.72 1.47 1.35L5.41 20z\"/>\n",
              "  </svg>\n",
              "      </button>\n",
              "      \n",
              "  <style>\n",
              "    .colab-df-container {\n",
              "      display:flex;\n",
              "      flex-wrap:wrap;\n",
              "      gap: 12px;\n",
              "    }\n",
              "\n",
              "    .colab-df-convert {\n",
              "      background-color: #E8F0FE;\n",
              "      border: none;\n",
              "      border-radius: 50%;\n",
              "      cursor: pointer;\n",
              "      display: none;\n",
              "      fill: #1967D2;\n",
              "      height: 32px;\n",
              "      padding: 0 0 0 0;\n",
              "      width: 32px;\n",
              "    }\n",
              "\n",
              "    .colab-df-convert:hover {\n",
              "      background-color: #E2EBFA;\n",
              "      box-shadow: 0px 1px 2px rgba(60, 64, 67, 0.3), 0px 1px 3px 1px rgba(60, 64, 67, 0.15);\n",
              "      fill: #174EA6;\n",
              "    }\n",
              "\n",
              "    [theme=dark] .colab-df-convert {\n",
              "      background-color: #3B4455;\n",
              "      fill: #D2E3FC;\n",
              "    }\n",
              "\n",
              "    [theme=dark] .colab-df-convert:hover {\n",
              "      background-color: #434B5C;\n",
              "      box-shadow: 0px 1px 3px 1px rgba(0, 0, 0, 0.15);\n",
              "      filter: drop-shadow(0px 1px 2px rgba(0, 0, 0, 0.3));\n",
              "      fill: #FFFFFF;\n",
              "    }\n",
              "  </style>\n",
              "\n",
              "      <script>\n",
              "        const buttonEl =\n",
              "          document.querySelector('#df-5e7997ac-fa38-442a-aea3-2214a274db50 button.colab-df-convert');\n",
              "        buttonEl.style.display =\n",
              "          google.colab.kernel.accessAllowed ? 'block' : 'none';\n",
              "\n",
              "        async function convertToInteractive(key) {\n",
              "          const element = document.querySelector('#df-5e7997ac-fa38-442a-aea3-2214a274db50');\n",
              "          const dataTable =\n",
              "            await google.colab.kernel.invokeFunction('convertToInteractive',\n",
              "                                                     [key], {});\n",
              "          if (!dataTable) return;\n",
              "\n",
              "          const docLinkHtml = 'Like what you see? Visit the ' +\n",
              "            '<a target=\"_blank\" href=https://colab.research.google.com/notebooks/data_table.ipynb>data table notebook</a>'\n",
              "            + ' to learn more about interactive tables.';\n",
              "          element.innerHTML = '';\n",
              "          dataTable['output_type'] = 'display_data';\n",
              "          await google.colab.output.renderOutput(dataTable, element);\n",
              "          const docLink = document.createElement('div');\n",
              "          docLink.innerHTML = docLinkHtml;\n",
              "          element.appendChild(docLink);\n",
              "        }\n",
              "      </script>\n",
              "    </div>\n",
              "  </div>\n",
              "  "
            ]
          },
          "metadata": {},
          "execution_count": 190
        }
      ],
      "source": [
        "# データをすべて週次に変換します。\n",
        "\n",
        "temp1 = ts\n",
        "temp1['monthly'] = ts.index.year.astype('str') + '-' + ts.index.month.astype('str')\n",
        "temp2 = pd.merge(t3, t4, on='date')\n",
        "temp2['monthly'] = temp2.index.year.astype('str') + '-' + temp2.index.month.astype('str')\n",
        "temp3 = temp1.reset_index().set_index('monthly')\n",
        "temp4 = temp2.reset_index().set_index('monthly')\n",
        "temp5 = pd.merge(temp3, temp4, on='monthly', how='right')\n",
        "XX = temp5[['date_y','Coincident Index','trend_x','trend_y']].set_index('date_y')\n",
        "XX"
      ]
    },
    {
      "cell_type": "code",
      "execution_count": 191,
      "metadata": {
        "colab": {
          "base_uri": "https://localhost:8080/",
          "height": 300
        },
        "id": "HDbhAPQRUeIC",
        "outputId": "b9c28154-4a41-4eb7-9ce6-6fc3260748b1"
      },
      "outputs": [
        {
          "output_type": "execute_result",
          "data": {
            "text/plain": [
              "Text(0.5, 1.0, 'RNN-LSTM: weekly')"
            ]
          },
          "metadata": {},
          "execution_count": 191
        },
        {
          "output_type": "display_data",
          "data": {
            "text/plain": [
              "<Figure size 432x288 with 1 Axes>"
            ],
            "image/png": "[encoded data removed]"
          },
          "metadata": {
            "needs_background": "light"
          }
        }
      ],
      "source": [
        "# まず過去の景気動向指数について、週次のグーグル検索数による推計を行います。\n",
        "\n",
        "# feature scaling\n",
        "END = len(XX)-XX['Coincident Index'].isnull().sum()\n",
        "dataset = XX.iloc[:END,:].values\n",
        "data_mean = dataset.mean(axis=0)\n",
        "data_std = dataset.std(axis=0)\n",
        "dataset = (dataset-data_mean)/data_std\n",
        "\n",
        "# create the test data\n",
        "past_history = 2\n",
        "future_target = 0\n",
        "STEP = 1\n",
        "x_single, y_single = multivariate_data(dataset, dataset[:,0], 0, None, past_history, future_target, STEP, single_step=True)\n",
        "\n",
        "# save the output\n",
        "past_estimate = pd.DataFrame(single_step_model.predict(x_single)*data_std[0]+data_mean[0])\n",
        "past_estimate.index = XX.iloc[past_history:END,:].index\n",
        "\n",
        "# visualize the result \n",
        "plt.plot(past_estimate, \"r\", linestyle='--', label=\"predict\")\n",
        "plt.legend(loc='best')\n",
        "plt.title('RNN-LSTM: weekly')\n",
        "#plt.savefig(\"images/google_lstm.png\")\n"
      ]
    },
    {
      "cell_type": "code",
      "execution_count": 192,
      "metadata": {
        "id": "oaVqild0uNfY",
        "colab": {
          "base_uri": "https://localhost:8080/",
          "height": 284
        },
        "outputId": "df09ae33-236c-45f5-a0f4-8628d0128f98"
      },
      "outputs": [
        {
          "output_type": "execute_result",
          "data": {
            "text/plain": [
              "[<matplotlib.lines.Line2D at 0x7faae6a9f290>]"
            ]
          },
          "metadata": {},
          "execution_count": 192
        },
        {
          "output_type": "display_data",
          "data": {
            "text/plain": [
              "<Figure size 432x288 with 1 Axes>"
            ],
            "image/png": "[encoded data removed]"
          },
          "metadata": {
            "needs_background": "light"
          }
        }
      ],
      "source": [
        "# compare to IBC graph\n",
        "plt.plot(ts.iloc[len(ts)-5*12:,0:1])"
      ]
    },
    {
      "cell_type": "code",
      "execution_count": 193,
      "metadata": {
        "id": "g7bDWewxUo7_",
        "colab": {
          "base_uri": "https://localhost:8080/"
        },
        "outputId": "e8354419-55f1-4a3a-af79-0694341a464e"
      },
      "outputs": [
        {
          "output_type": "stream",
          "name": "stdout",
          "text": [
            "            Coincident Index    trend_x    trend_y\n",
            "date_y                                            \n",
            "2022-06-05         99.000000  45.458333  55.291667\n",
            "2022-06-12         99.000000  45.666667  57.000000\n",
            "2022-06-19         99.000000  45.708333  58.708333\n",
            "2022-06-26         99.000000  44.708333  60.250000\n",
            "2022-07-03         99.542213  43.666667  62.166667\n",
            "-----------------------------------------------\n",
            "            Coincident Index    trend_x    trend_y\n",
            "date_y                                            \n",
            "2022-06-19         99.000000  45.708333  58.708333\n",
            "2022-06-26         99.000000  44.708333  60.250000\n",
            "2022-07-03         99.716743  43.666667  62.166667\n",
            "2022-07-10               NaN  42.750000  64.375000\n",
            "2022-07-17               NaN  43.052545  60.366113\n",
            "2022-07-24               NaN  42.548902  60.828817\n",
            "2022-07-31               NaN  42.045260  61.291521\n",
            "2022-08-07               NaN  41.541618  61.754225\n",
            "2022-08-14               NaN  41.037976  62.216929\n",
            "2022-08-21               NaN  40.534334  62.679633\n",
            "-----------------------------------------------\n",
            "            Coincident Index    trend_x    trend_y\n",
            "date_y                                            \n",
            "2022-06-12         99.000000  45.666667  57.000000\n",
            "2022-06-19         99.000000  45.708333  58.708333\n",
            "2022-06-26         99.000000  44.708333  60.250000\n",
            "2022-07-03         99.716743  43.666667  62.166667\n",
            "2022-07-10         99.716743  42.750000  64.375000\n",
            "-----------------------------------------------\n",
            "            Coincident Index    trend_x    trend_y\n",
            "date_y                                            \n",
            "2022-06-19         99.000000  45.708333  58.708333\n",
            "2022-06-26         99.000000  44.708333  60.250000\n",
            "2022-07-03         99.716743  43.666667  62.166667\n",
            "2022-07-10        100.336395  42.750000  64.375000\n",
            "2022-07-17               NaN  43.052545  60.366113\n",
            "2022-07-24               NaN  42.548902  60.828817\n",
            "2022-07-31               NaN  42.045260  61.291521\n",
            "2022-08-07               NaN  41.541618  61.754225\n",
            "2022-08-14               NaN  41.037976  62.216929\n",
            "2022-08-21               NaN  40.534334  62.679633\n",
            "-----------------------------------------------\n",
            "            Coincident Index    trend_x    trend_y\n",
            "date_y                                            \n",
            "2022-06-19         99.000000  45.708333  58.708333\n",
            "2022-06-26         99.000000  44.708333  60.250000\n",
            "2022-07-03         99.716743  43.666667  62.166667\n",
            "2022-07-10        100.336395  42.750000  64.375000\n",
            "2022-07-17        100.336395  43.052545  60.366113\n",
            "-----------------------------------------------\n",
            "            Coincident Index    trend_x    trend_y\n",
            "date_y                                            \n",
            "2022-06-19         99.000000  45.708333  58.708333\n",
            "2022-06-26         99.000000  44.708333  60.250000\n",
            "2022-07-03         99.716743  43.666667  62.166667\n",
            "2022-07-10        100.336395  42.750000  64.375000\n",
            "2022-07-17        100.782516  43.052545  60.366113\n",
            "2022-07-24               NaN  42.548902  60.828817\n",
            "2022-07-31               NaN  42.045260  61.291521\n",
            "2022-08-07               NaN  41.541618  61.754225\n",
            "2022-08-14               NaN  41.037976  62.216929\n",
            "2022-08-21               NaN  40.534334  62.679633\n",
            "-----------------------------------------------\n",
            "            Coincident Index    trend_x    trend_y\n",
            "date_y                                            \n",
            "2022-06-26         99.000000  44.708333  60.250000\n",
            "2022-07-03         99.716743  43.666667  62.166667\n",
            "2022-07-10        100.336395  42.750000  64.375000\n",
            "2022-07-17        100.782516  43.052545  60.366113\n",
            "2022-07-24        100.782516  42.548902  60.828817\n",
            "-----------------------------------------------\n",
            "            Coincident Index    trend_x    trend_y\n",
            "date_y                                            \n",
            "2022-06-19         99.000000  45.708333  58.708333\n",
            "2022-06-26         99.000000  44.708333  60.250000\n",
            "2022-07-03         99.716743  43.666667  62.166667\n",
            "2022-07-10        100.336395  42.750000  64.375000\n",
            "2022-07-17        100.782516  43.052545  60.366113\n",
            "2022-07-24        101.194748  42.548902  60.828817\n",
            "2022-07-31               NaN  42.045260  61.291521\n",
            "2022-08-07               NaN  41.541618  61.754225\n",
            "2022-08-14               NaN  41.037976  62.216929\n",
            "2022-08-21               NaN  40.534334  62.679633\n",
            "-----------------------------------------------\n",
            "            Coincident Index    trend_x    trend_y\n",
            "date_y                                            \n",
            "2022-07-03         99.716743  43.666667  62.166667\n",
            "2022-07-10        100.336395  42.750000  64.375000\n",
            "2022-07-17        100.782516  43.052545  60.366113\n",
            "2022-07-24        101.194748  42.548902  60.828817\n",
            "2022-07-31        101.194748  42.045260  61.291521\n",
            "-----------------------------------------------\n",
            "            Coincident Index    trend_x    trend_y\n",
            "date_y                                            \n",
            "2022-06-19         99.000000  45.708333  58.708333\n",
            "2022-06-26         99.000000  44.708333  60.250000\n",
            "2022-07-03         99.716743  43.666667  62.166667\n",
            "2022-07-10        100.336395  42.750000  64.375000\n",
            "2022-07-17        100.782516  43.052545  60.366113\n",
            "2022-07-24        101.194748  42.548902  60.828817\n",
            "2022-07-31        101.701004  42.045260  61.291521\n",
            "2022-08-07               NaN  41.541618  61.754225\n",
            "2022-08-14               NaN  41.037976  62.216929\n",
            "2022-08-21               NaN  40.534334  62.679633\n",
            "-----------------------------------------------\n",
            "            Coincident Index    trend_x    trend_y\n",
            "date_y                                            \n",
            "2022-07-10        100.336395  42.750000  64.375000\n",
            "2022-07-17        100.782516  43.052545  60.366113\n",
            "2022-07-24        101.194748  42.548902  60.828817\n",
            "2022-07-31        101.701004  42.045260  61.291521\n",
            "2022-08-07        101.701004  41.541618  61.754225\n",
            "-----------------------------------------------\n",
            "            Coincident Index    trend_x    trend_y\n",
            "date_y                                            \n",
            "2022-06-19         99.000000  45.708333  58.708333\n",
            "2022-06-26         99.000000  44.708333  60.250000\n",
            "2022-07-03         99.716743  43.666667  62.166667\n",
            "2022-07-10        100.336395  42.750000  64.375000\n",
            "2022-07-17        100.782516  43.052545  60.366113\n",
            "2022-07-24        101.194748  42.548902  60.828817\n",
            "2022-07-31        101.701004  42.045260  61.291521\n",
            "2022-08-07        102.171555  41.541618  61.754225\n",
            "2022-08-14               NaN  41.037976  62.216929\n",
            "2022-08-21               NaN  40.534334  62.679633\n",
            "-----------------------------------------------\n",
            "            Coincident Index    trend_x    trend_y\n",
            "date_y                                            \n",
            "2022-07-17        100.782516  43.052545  60.366113\n",
            "2022-07-24        101.194748  42.548902  60.828817\n",
            "2022-07-31        101.701004  42.045260  61.291521\n",
            "2022-08-07        102.171555  41.541618  61.754225\n",
            "2022-08-14        102.171555  41.037976  62.216929\n",
            "-----------------------------------------------\n",
            "            Coincident Index    trend_x    trend_y\n",
            "date_y                                            \n",
            "2022-06-19         99.000000  45.708333  58.708333\n",
            "2022-06-26         99.000000  44.708333  60.250000\n",
            "2022-07-03         99.716743  43.666667  62.166667\n",
            "2022-07-10        100.336395  42.750000  64.375000\n",
            "2022-07-17        100.782516  43.052545  60.366113\n",
            "2022-07-24        101.194748  42.548902  60.828817\n",
            "2022-07-31        101.701004  42.045260  61.291521\n",
            "2022-08-07        102.171555  41.541618  61.754225\n",
            "2022-08-14        102.630440  41.037976  62.216929\n",
            "2022-08-21               NaN  40.534334  62.679633\n",
            "-----------------------------------------------\n",
            "            Coincident Index    trend_x    trend_y\n",
            "date_y                                            \n",
            "2022-07-24        101.194748  42.548902  60.828817\n",
            "2022-07-31        101.701004  42.045260  61.291521\n",
            "2022-08-07        102.171555  41.541618  61.754225\n",
            "2022-08-14        102.630440  41.037976  62.216929\n",
            "2022-08-21        102.630440  40.534334  62.679633\n",
            "-----------------------------------------------\n",
            "            Coincident Index    trend_x    trend_y\n",
            "date_y                                            \n",
            "2022-06-19         99.000000  45.708333  58.708333\n",
            "2022-06-26         99.000000  44.708333  60.250000\n",
            "2022-07-03         99.716743  43.666667  62.166667\n",
            "2022-07-10        100.336395  42.750000  64.375000\n",
            "2022-07-17        100.782516  43.052545  60.366113\n",
            "2022-07-24        101.194748  42.548902  60.828817\n",
            "2022-07-31        101.701004  42.045260  61.291521\n",
            "2022-08-07        102.171555  41.541618  61.754225\n",
            "2022-08-14        102.630440  41.037976  62.216929\n",
            "2022-08-21        103.054245  40.534334  62.679633\n",
            "-----------------------------------------------\n"
          ]
        }
      ],
      "source": [
        "# 景気動向指数がまだ公表されていない期間について、ナウキャスティングを行います。\n",
        "\n",
        "# nowcast the future IBC\n",
        "for i in range(END, len(XX)):\n",
        "  XX.iat[i,0] = float(single_step_model.predict(x_single)[-1]*data_std[0]+data_mean[0])\n",
        "  #XX.iat[i,0] = XX.iat[i-1,0]\n",
        "  temp = XX.iloc[:i+1,:]\n",
        "  print(temp.tail())\n",
        "  print('-----------------------------------------------')\n",
        "\n",
        "  # feature scaling\n",
        "  dataset = temp.values\n",
        "  data_mean = dataset.mean(axis=0)\n",
        "  data_std = dataset.std(axis=0)\n",
        "  dataset = (dataset-data_mean)/data_std\n",
        "  \n",
        "  # create the test data\n",
        "  x_single, y_single = multivariate_data(dataset, dataset[:,0], 0, None, past_history, future_target, STEP, single_step=True)\n",
        "\n",
        "  XX.iat[i,0] = float(single_step_model.predict(x_single)[-1]*data_std[0]+data_mean[0])\n",
        "  print(XX.tail(10))\n",
        "  print('-----------------------------------------------')\n",
        "\n",
        "# save the output\n",
        "future_estimate = pd.DataFrame(XX.iloc[END:len(XX)+1,0])"
      ]
    },
    {
      "cell_type": "code",
      "execution_count": 194,
      "metadata": {
        "id": "uj5G4K_2lyqj",
        "colab": {
          "base_uri": "https://localhost:8080/",
          "height": 300
        },
        "outputId": "0e659a54-5c3b-4d15-9ac1-a8cdc109da6a"
      },
      "outputs": [
        {
          "output_type": "execute_result",
          "data": {
            "text/plain": [
              "Text(0.5, 1.0, 'RNN-LSTM: weekly + nowcast')"
            ]
          },
          "metadata": {},
          "execution_count": 194
        },
        {
          "output_type": "display_data",
          "data": {
            "text/plain": [
              "<Figure size 432x288 with 1 Axes>"
            ],
            "image/png": "[encoded data removed]"
          },
          "metadata": {
            "needs_background": "light"
          }
        }
      ],
      "source": [
        "# 推計結果を図示しています。\n",
        "\n",
        "df_concat = pd.concat([past_estimate.set_axis(['Coincident Index'], axis='columns'), future_estimate])\n",
        "plt.plot(past_estimate, linestyle='-', color='b', label='Weekly IBC')\n",
        "plt.plot(future_estimate, linestyle='-', color='#e46409', label='Nowcasting')\n",
        "plt.legend(loc='lower left')\n",
        "plt.title('RNN-LSTM: weekly + nowcast')\n",
        "#plt.savefig(\"images/google_lstm.png\")"
      ]
    }
  ],
  "metadata": {
    "colab": {
      "collapsed_sections": [
        "xflSN4wChbhV",
        "Xr2PamD36Kv_"
      ],
      "name": "nowcast.ipynb",
      "provenance": [],
      "include_colab_link": true
    },
    "kernelspec": {
      "display_name": "Python 3",
      "language": "python",
      "name": "python3"
    },
    "language_info": {
      "codemirror_mode": {
        "name": "ipython",
        "version": 3
      },
      "file_extension": ".py",
      "mimetype": "text/x-python",
      "name": "python",
      "nbconvert_exporter": "python",
      "pygments_lexer": "ipython3",
      "version": "3.7.4"
    }
  },
  "nbformat": 4,
  "nbformat_minor": 0
}