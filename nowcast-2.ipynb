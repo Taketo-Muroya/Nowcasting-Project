{
  "cells": [
    {
      "cell_type": "markdown",
      "metadata": {
        "id": "view-in-github",
        "colab_type": "text"
      },
      "source": [
        "<a href=\"https://colab.research.google.com/github/Taketo-Muroya/Nowcasting-Project/blob/main/nowcast-2.ipynb\" target=\"_parent\"><img src=\"https://colab.research.google.com/assets/colab-badge.svg\" alt=\"Open In Colab\"/></a>"
      ]
    },
    {
      "cell_type": "markdown",
      "metadata": {
        "id": "04bkrl6V6Kub"
      },
      "source": [
        "# The nowcasting of economic conditions in Japan using ML"
      ]
    },
    {
      "cell_type": "markdown",
      "source": [
        "2022/01/18　打ち合わせメモ\n",
        "\n",
        "*   経済マクロデータを変数に含める（所得、エネルギー・食料・サービス価格、金利、インフレ期待、株価の先行き、感染者数）\n",
        "*   見せかけの相関が疑われるので、(1,1,0)のARIMAが望ましいのでは。\n",
        "*   コロナ前のデータとコロナ後で分ける見せ方、説明の仕方も良いかもしれない。"
      ],
      "metadata": {
        "id": "K8rdAPS6ZRKo"
      }
    },
    {
      "cell_type": "markdown",
      "metadata": {
        "id": "xflSN4wChbhV"
      },
      "source": [
        "## Setting Up"
      ]
    },
    {
      "cell_type": "code",
      "source": [
        "from google.colab import drive\n",
        "drive.mount('/content/drive')\n",
        "import os\n",
        "os.chdir('drive/MyDrive/Colab Notebooks/Economic-Nowcasting-in-Japan')"
      ],
      "metadata": {
        "colab": {
          "base_uri": "https://localhost:8080/"
        },
        "id": "G2mZkw6H74ON",
        "outputId": "d1f8435d-4154-49a3-f286-7290f797c86f"
      },
      "execution_count": null,
      "outputs": [
        {
          "output_type": "stream",
          "name": "stdout",
          "text": [
            "Mounted at /content/drive\n"
          ]
        }
      ]
    },
    {
      "cell_type": "code",
      "source": [
        "pip install pytrends"
      ],
      "metadata": {
        "colab": {
          "base_uri": "https://localhost:8080/"
        },
        "id": "nNDJg5GtV3-n",
        "outputId": "ac77086d-e830-4219-b382-d4517bdd091b"
      },
      "execution_count": null,
      "outputs": [
        {
          "output_type": "stream",
          "name": "stdout",
          "text": [
            "Collecting pytrends\n",
            "  Downloading pytrends-4.7.3-py3-none-any.whl (14 kB)\n",
            "Requirement already satisfied: requests in /usr/local/lib/python3.7/dist-packages (from pytrends) (2.23.0)\n",
            "Requirement already satisfied: pandas>=0.25 in /usr/local/lib/python3.7/dist-packages (from pytrends) (1.1.5)\n",
            "Requirement already satisfied: lxml in /usr/local/lib/python3.7/dist-packages (from pytrends) (4.2.6)\n",
            "Requirement already satisfied: python-dateutil>=2.7.3 in /usr/local/lib/python3.7/dist-packages (from pandas>=0.25->pytrends) (2.8.2)\n",
            "Requirement already satisfied: pytz>=2017.2 in /usr/local/lib/python3.7/dist-packages (from pandas>=0.25->pytrends) (2018.9)\n",
            "Requirement already satisfied: numpy>=1.15.4 in /usr/local/lib/python3.7/dist-packages (from pandas>=0.25->pytrends) (1.19.5)\n",
            "Requirement already satisfied: six>=1.5 in /usr/local/lib/python3.7/dist-packages (from python-dateutil>=2.7.3->pandas>=0.25->pytrends) (1.15.0)\n",
            "Requirement already satisfied: certifi>=2017.4.17 in /usr/local/lib/python3.7/dist-packages (from requests->pytrends) (2021.10.8)\n",
            "Requirement already satisfied: urllib3!=1.25.0,!=1.25.1,<1.26,>=1.21.1 in /usr/local/lib/python3.7/dist-packages (from requests->pytrends) (1.24.3)\n",
            "Requirement already satisfied: chardet<4,>=3.0.2 in /usr/local/lib/python3.7/dist-packages (from requests->pytrends) (3.0.4)\n",
            "Requirement already satisfied: idna<3,>=2.5 in /usr/local/lib/python3.7/dist-packages (from requests->pytrends) (2.10)\n",
            "Installing collected packages: pytrends\n",
            "Successfully installed pytrends-4.7.3\n"
          ]
        }
      ]
    },
    {
      "cell_type": "code",
      "execution_count": null,
      "metadata": {
        "id": "XVRC4jcI6KvX",
        "colab": {
          "base_uri": "https://localhost:8080/"
        },
        "outputId": "bc5f6bd6-bb97-461f-f6e5-72f122dac325"
      },
      "outputs": [
        {
          "output_type": "stream",
          "name": "stderr",
          "text": [
            "/usr/local/lib/python3.7/dist-packages/statsmodels/tools/_testing.py:19: FutureWarning: pandas.util.testing is deprecated. Use the functions in the public API at pandas.testing instead.\n",
            "  import pandas.util.testing as tm\n"
          ]
        }
      ],
      "source": [
        "# Import packages\n",
        "import re\n",
        "import os\n",
        "import sys\n",
        "import requests\n",
        "#import MeCab\n",
        "#import oseti\n",
        "#import urllib\n",
        "import pandas as pd\n",
        "import numpy as np\n",
        "import matplotlib as mpl\n",
        "import matplotlib.pyplot as plt\n",
        "import statsmodels.api as sm\n",
        "import tensorflow as tf\n",
        "\n",
        "from math import sqrt\n",
        "from bs4 import BeautifulSoup\n",
        "from pathlib import Path\n",
        "from subprocess import call\n",
        "from keras.regularizers import l2\n",
        "from statsmodels.tsa.seasonal import seasonal_decompose\n",
        "\n",
        "from nltk.corpus import stopwords as sw       \n",
        "from nltk.stem import PorterStemmer\n",
        "from nltk.stem import WordNetLemmatizer\n",
        "from wordcloud import WordCloud, STOPWORDS\n",
        "\n",
        "from sklearn.feature_extraction.text import CountVectorizer\n",
        "from sklearn.feature_extraction.text import TfidfVectorizer\n",
        "from sklearn.decomposition import PCA\n",
        "from sklearn.model_selection import train_test_split\n",
        "from sklearn.model_selection import cross_val_score\n",
        "from sklearn.model_selection import GridSearchCV\n",
        "from sklearn.neighbors import KNeighborsRegressor\n",
        "from sklearn.linear_model import LinearRegression\n",
        "from sklearn.linear_model import Ridge\n",
        "from sklearn.linear_model import Lasso\n",
        "from sklearn.ensemble import RandomForestRegressor\n",
        "from sklearn.metrics import accuracy_score\n",
        "from sklearn.metrics import f1_score\n",
        "from sklearn.metrics import precision_score\n",
        "from sklearn.metrics import recall_score\n",
        "from sklearn.metrics import roc_auc_score\n",
        "from sklearn.metrics import mean_squared_error\n",
        "from sklearn.metrics import r2_score\n",
        "from sklearn.metrics import mean_absolute_error"
      ]
    },
    {
      "cell_type": "code",
      "execution_count": null,
      "metadata": {
        "id": "9SQHrKQouqyg"
      },
      "outputs": [],
      "source": [
        "def multivariate_data(dataset, target, start_index, end_index, \n",
        "                      history_size, target_size, step, single_step=False):\n",
        "  data = []\n",
        "  labels = []\n",
        "\n",
        "  start_index = start_index + history_size\n",
        "  if end_index is None:\n",
        "    end_index = len(dataset) - target_size\n",
        "\n",
        "  for i in range(start_index, end_index):\n",
        "    # add current dataset\n",
        "    indices = range(i-history_size, i+1, step)\n",
        "    temp = pd.DataFrame(dataset[indices])\n",
        "    # replace current target to previous one\n",
        "    temp.iat[history_size, 0] = temp.iat[history_size-1, 0]\n",
        "    data.append(np.array(temp))\n",
        "\n",
        "    if single_step:\n",
        "      labels.append(target[i+target_size])\n",
        "    else:\n",
        "      labels.append(target[i:i+target_size])\n",
        "\n",
        "  return np.array(data), np.array(labels)"
      ]
    },
    {
      "cell_type": "code",
      "execution_count": null,
      "metadata": {
        "id": "9sCSpqAkuzlm"
      },
      "outputs": [],
      "source": [
        "def model_eval_metrics(y_true, y_pred, classification=\"TRUE\"):\n",
        "     if classification==\"TRUE\":\n",
        "        accuracy_eval = accuracy_score(y_true, y_pred)\n",
        "        f1_score_eval = f1_score(y_true, y_pred,average=\"macro\",zero_division=0)\n",
        "        precision_eval = precision_score(y_true, y_pred,average=\"macro\",zero_division=0)\n",
        "        recall_eval = recall_score(y_true, y_pred,average=\"macro\",zero_division=0)\n",
        "        mse_eval = 0\n",
        "        rmse_eval = 0\n",
        "        mae_eval = 0\n",
        "        r2_eval = 0\n",
        "        metricdata = {'accuracy': [accuracy_eval], 'f1_score': [f1_score_eval], \n",
        "                      'precision': [precision_eval], 'recall': [recall_eval], 'mse': [mse_eval], \n",
        "                      'rmse': [rmse_eval], 'mae': [mae_eval], 'r2': [r2_eval]}\n",
        "        finalmetricdata = pd.DataFrame.from_dict(metricdata)\n",
        "     else:\n",
        "        accuracy_eval = 0\n",
        "        f1_score_eval = 0\n",
        "        precision_eval = 0\n",
        "        recall_eval = 0\n",
        "        mse_eval = mean_squared_error(y_true, y_pred)\n",
        "        rmse_eval = sqrt(mean_squared_error(y_true, y_pred))\n",
        "        mae_eval = mean_absolute_error(y_true, y_pred)\n",
        "        r2_eval = r2_score(y_true, y_pred)\n",
        "        metricdata = {'accuracy': [accuracy_eval], 'f1_score': [f1_score_eval], \n",
        "                      'precision': [precision_eval], 'recall': [recall_eval], 'mse': [mse_eval], \n",
        "                      'rmse': [rmse_eval], 'mae': [mae_eval], 'r2': [r2_eval]}\n",
        "        finalmetricdata = pd.DataFrame.from_dict(metricdata)\n",
        "     return finalmetricdata"
      ]
    },
    {
      "cell_type": "markdown",
      "metadata": {
        "id": "Xr2PamD36Kv_"
      },
      "source": [
        "## Target variable: Indexes of Business Conditions (IBC)"
      ]
    },
    {
      "cell_type": "markdown",
      "metadata": {
        "id": "PquS-anG6KwT"
      },
      "source": [
        "The Index of Business Conditions (IBC) represents monthly economic conditions in Japan. This study uses either coincident index (level) or coincident ann (change from the previouse year: Year-over-Year) as a target variable."
      ]
    },
    {
      "cell_type": "code",
      "execution_count": null,
      "metadata": {
        "scrolled": true,
        "colab": {
          "base_uri": "https://localhost:8080/",
          "height": 419
        },
        "id": "7JLjEq3r6KwW",
        "outputId": "beeedd35-b01b-40c3-8bc2-8f3549cbb62d"
      },
      "outputs": [
        {
          "output_type": "execute_result",
          "data": {
            "text/html": [
              "\n",
              "  <div id=\"df-9292d217-fbd1-4b39-bc29-3a1627a3b479\">\n",
              "    <div class=\"colab-df-container\">\n",
              "      <div>\n",
              "<style scoped>\n",
              "    .dataframe tbody tr th:only-of-type {\n",
              "        vertical-align: middle;\n",
              "    }\n",
              "\n",
              "    .dataframe tbody tr th {\n",
              "        vertical-align: top;\n",
              "    }\n",
              "\n",
              "    .dataframe thead th {\n",
              "        text-align: right;\n",
              "    }\n",
              "</style>\n",
              "<table border=\"1\" class=\"dataframe\">\n",
              "  <thead>\n",
              "    <tr style=\"text-align: right;\">\n",
              "      <th></th>\n",
              "      <th>time</th>\n",
              "      <th>Coincident Index</th>\n",
              "      <th>Coincident ann</th>\n",
              "    </tr>\n",
              "  </thead>\n",
              "  <tbody>\n",
              "    <tr>\n",
              "      <th>0</th>\n",
              "      <td>Jan-85</td>\n",
              "      <td>79.1</td>\n",
              "      <td>NaN</td>\n",
              "    </tr>\n",
              "    <tr>\n",
              "      <th>1</th>\n",
              "      <td>Feb-85</td>\n",
              "      <td>78.8</td>\n",
              "      <td>NaN</td>\n",
              "    </tr>\n",
              "    <tr>\n",
              "      <th>2</th>\n",
              "      <td>Mar-85</td>\n",
              "      <td>78.7</td>\n",
              "      <td>NaN</td>\n",
              "    </tr>\n",
              "    <tr>\n",
              "      <th>3</th>\n",
              "      <td>Apr-85</td>\n",
              "      <td>79.6</td>\n",
              "      <td>NaN</td>\n",
              "    </tr>\n",
              "    <tr>\n",
              "      <th>4</th>\n",
              "      <td>May-85</td>\n",
              "      <td>79.5</td>\n",
              "      <td>NaN</td>\n",
              "    </tr>\n",
              "    <tr>\n",
              "      <th>...</th>\n",
              "      <td>...</td>\n",
              "      <td>...</td>\n",
              "      <td>...</td>\n",
              "    </tr>\n",
              "    <tr>\n",
              "      <th>438</th>\n",
              "      <td>Jul-21</td>\n",
              "      <td>94.0</td>\n",
              "      <td>16.480793</td>\n",
              "    </tr>\n",
              "    <tr>\n",
              "      <th>439</th>\n",
              "      <td>Aug-21</td>\n",
              "      <td>91.0</td>\n",
              "      <td>10.840438</td>\n",
              "    </tr>\n",
              "    <tr>\n",
              "      <th>440</th>\n",
              "      <td>Sep-21</td>\n",
              "      <td>88.7</td>\n",
              "      <td>4.722550</td>\n",
              "    </tr>\n",
              "    <tr>\n",
              "      <th>441</th>\n",
              "      <td>Oct-21</td>\n",
              "      <td>89.8</td>\n",
              "      <td>1.468927</td>\n",
              "    </tr>\n",
              "    <tr>\n",
              "      <th>442</th>\n",
              "      <td>Nov-21</td>\n",
              "      <td>93.6</td>\n",
              "      <td>5.643341</td>\n",
              "    </tr>\n",
              "  </tbody>\n",
              "</table>\n",
              "<p>443 rows × 3 columns</p>\n",
              "</div>\n",
              "      <button class=\"colab-df-convert\" onclick=\"convertToInteractive('df-9292d217-fbd1-4b39-bc29-3a1627a3b479')\"\n",
              "              title=\"Convert this dataframe to an interactive table.\"\n",
              "              style=\"display:none;\">\n",
              "        \n",
              "  <svg xmlns=\"http://www.w3.org/2000/svg\" height=\"24px\"viewBox=\"0 0 24 24\"\n",
              "       width=\"24px\">\n",
              "    <path d=\"M0 0h24v24H0V0z\" fill=\"none\"/>\n",
              "    <path d=\"M18.56 5.44l.94 2.06.94-2.06 2.06-.94-2.06-.94-.94-2.06-.94 2.06-2.06.94zm-11 1L8.5 8.5l.94-2.06 2.06-.94-2.06-.94L8.5 2.5l-.94 2.06-2.06.94zm10 10l.94 2.06.94-2.06 2.06-.94-2.06-.94-.94-2.06-.94 2.06-2.06.94z\"/><path d=\"M17.41 7.96l-1.37-1.37c-.4-.4-.92-.59-1.43-.59-.52 0-1.04.2-1.43.59L10.3 9.45l-7.72 7.72c-.78.78-.78 2.05 0 2.83L4 21.41c.39.39.9.59 1.41.59.51 0 1.02-.2 1.41-.59l7.78-7.78 2.81-2.81c.8-.78.8-2.07 0-2.86zM5.41 20L4 18.59l7.72-7.72 1.47 1.35L5.41 20z\"/>\n",
              "  </svg>\n",
              "      </button>\n",
              "      \n",
              "  <style>\n",
              "    .colab-df-container {\n",
              "      display:flex;\n",
              "      flex-wrap:wrap;\n",
              "      gap: 12px;\n",
              "    }\n",
              "\n",
              "    .colab-df-convert {\n",
              "      background-color: #E8F0FE;\n",
              "      border: none;\n",
              "      border-radius: 50%;\n",
              "      cursor: pointer;\n",
              "      display: none;\n",
              "      fill: #1967D2;\n",
              "      height: 32px;\n",
              "      padding: 0 0 0 0;\n",
              "      width: 32px;\n",
              "    }\n",
              "\n",
              "    .colab-df-convert:hover {\n",
              "      background-color: #E2EBFA;\n",
              "      box-shadow: 0px 1px 2px rgba(60, 64, 67, 0.3), 0px 1px 3px 1px rgba(60, 64, 67, 0.15);\n",
              "      fill: #174EA6;\n",
              "    }\n",
              "\n",
              "    [theme=dark] .colab-df-convert {\n",
              "      background-color: #3B4455;\n",
              "      fill: #D2E3FC;\n",
              "    }\n",
              "\n",
              "    [theme=dark] .colab-df-convert:hover {\n",
              "      background-color: #434B5C;\n",
              "      box-shadow: 0px 1px 3px 1px rgba(0, 0, 0, 0.15);\n",
              "      filter: drop-shadow(0px 1px 2px rgba(0, 0, 0, 0.3));\n",
              "      fill: #FFFFFF;\n",
              "    }\n",
              "  </style>\n",
              "\n",
              "      <script>\n",
              "        const buttonEl =\n",
              "          document.querySelector('#df-9292d217-fbd1-4b39-bc29-3a1627a3b479 button.colab-df-convert');\n",
              "        buttonEl.style.display =\n",
              "          google.colab.kernel.accessAllowed ? 'block' : 'none';\n",
              "\n",
              "        async function convertToInteractive(key) {\n",
              "          const element = document.querySelector('#df-9292d217-fbd1-4b39-bc29-3a1627a3b479');\n",
              "          const dataTable =\n",
              "            await google.colab.kernel.invokeFunction('convertToInteractive',\n",
              "                                                     [key], {});\n",
              "          if (!dataTable) return;\n",
              "\n",
              "          const docLinkHtml = 'Like what you see? Visit the ' +\n",
              "            '<a target=\"_blank\" href=https://colab.research.google.com/notebooks/data_table.ipynb>data table notebook</a>'\n",
              "            + ' to learn more about interactive tables.';\n",
              "          element.innerHTML = '';\n",
              "          dataTable['output_type'] = 'display_data';\n",
              "          await google.colab.output.renderOutput(dataTable, element);\n",
              "          const docLink = document.createElement('div');\n",
              "          docLink.innerHTML = docLinkHtml;\n",
              "          element.appendChild(docLink);\n",
              "        }\n",
              "      </script>\n",
              "    </div>\n",
              "  </div>\n",
              "  "
            ],
            "text/plain": [
              "       time  Coincident Index  Coincident ann\n",
              "0    Jan-85              79.1             NaN\n",
              "1    Feb-85              78.8             NaN\n",
              "2    Mar-85              78.7             NaN\n",
              "3    Apr-85              79.6             NaN\n",
              "4    May-85              79.5             NaN\n",
              "..      ...               ...             ...\n",
              "438  Jul-21              94.0       16.480793\n",
              "439  Aug-21              91.0       10.840438\n",
              "440  Sep-21              88.7        4.722550\n",
              "441  Oct-21              89.8        1.468927\n",
              "442  Nov-21              93.6        5.643341\n",
              "\n",
              "[443 rows x 3 columns]"
            ]
          },
          "metadata": {},
          "execution_count": 6
        }
      ],
      "source": [
        "ibc = pd.read_csv('data/ibc_new.csv')\n",
        "ibc['Coincident ann'] = 100*ibc['Coincident Index'].pct_change(12)\n",
        "ibc"
      ]
    },
    {
      "cell_type": "markdown",
      "metadata": {
        "id": "bqEWyPPh6K1t"
      },
      "source": [
        "## Google Trend"
      ]
    },
    {
      "cell_type": "markdown",
      "metadata": {
        "id": "4ozBR6qI6K1u"
      },
      "source": [
        "Use google trend information as predictors"
      ]
    },
    {
      "cell_type": "markdown",
      "metadata": {
        "id": "hiNhjuF-wMpW"
      },
      "source": [
        "### Google Trend API"
      ]
    },
    {
      "cell_type": "code",
      "execution_count": null,
      "metadata": {
        "scrolled": true,
        "id": "ZVQwFMwf6K1x"
      },
      "outputs": [],
      "source": [
        "# Import packages\n",
        "from pytrends.request import TrendReq\n",
        "plt.rcParams['font.family'] = 'IPAexGothic'\n",
        "\n",
        "# API Connection\n",
        "pytrends = TrendReq(hl='ja-JP', tz=360)"
      ]
    },
    {
      "cell_type": "code",
      "source": [
        "# Set keyword (\"失業\" = \"unemployment\")\n",
        "kw_list1 = [\"失業\"]\n",
        "pytrends.build_payload(kw_list1, timeframe='2004-01-01 2021-11-30', geo='JP')\n",
        "gt1 = pytrends.interest_over_time()\n",
        "#gt1 = gt1.rename(columns = {\"失業\": \"unemployment\", \"isPartial\": \"info\"})\n",
        "#gt1.to_csv(\"data/gt1.csv\")\n",
        "#dateparse = lambda dates: pd.datetime.strptime(dates, '%Y-%m-%d')\n",
        "#gt1 = pd.read_csv('data/gt1.csv', index_col=0, date_parser=dateparse, dtype='float')\n",
        "\n",
        "# Extract trend factor\n",
        "s1 = seasonal_decompose(gt1.iloc[:,0], extrapolate_trend='freq')\n",
        "t1 = s1.trend\n",
        "plt.plot(t1)\n",
        "plt.plot(gt1.iloc[:,0], linestyle='--')\n",
        "\n",
        "# Check correlation\n",
        "level = ibc['Coincident Index'][228:]\n",
        "level.index = t1.index\n",
        "cor = level.corr(t1)\n",
        "print(\"Correlation of level: {:.2f}\".format(cor))\n",
        "\n",
        "a1 = gt1.iloc[:,0].pct_change(12)\n",
        "ann = ibc['Coincident ann'][228:]\n",
        "ann.index = a1.index\n",
        "cor = ann.corr(a1)\n",
        "print(\"Correlation of YoY: {:.2f}\".format(cor))\n",
        "\n",
        "# Plot trend\n",
        "fig = plt.figure()\n",
        "ax = fig.add_subplot(1, 1, 1)\n",
        "ax.plot(t1.index, ibc['Coincident Index'][228:], linestyle='-', color='b', label='IBC')\n",
        "ax.plot(t1.index, t1, linestyle='--', color='#e46409', label='google search: \"unemployment\"')\n",
        "ax.legend()\n",
        "plt.title('Google Search: \"Unemployment\"')\n",
        "plt.savefig(\"images/google1.png\")"
      ],
      "metadata": {
        "id": "7HkUVeaP5m4w",
        "colab": {
          "base_uri": "https://localhost:8080/",
          "height": 567
        },
        "outputId": "2f58b3e8-d951-4a37-c873-82c4ee4dd233"
      },
      "execution_count": null,
      "outputs": [
        {
          "output_type": "stream",
          "name": "stdout",
          "text": [
            "Correlation of level: -0.88\n",
            "Correlation of YoY: -0.74\n"
          ]
        },
        {
          "output_type": "display_data",
          "data": {
            "image/png": "[encoded data removed]",
            "text/plain": [
              "<Figure size 432x288 with 1 Axes>"
            ]
          },
          "metadata": {
            "needs_background": "light"
          }
        },
        {
          "output_type": "display_data",
          "data": {
            "image/png": "[encoded data removed]",
            "text/plain": [
              "<Figure size 432x288 with 1 Axes>"
            ]
          },
          "metadata": {
            "needs_background": "light"
          }
        }
      ]
    },
    {
      "cell_type": "code",
      "source": [
        "# Set keyword (\"貯金\" = \"saving\")\n",
        "kw_list2 = [\"貯金\"]\n",
        "pytrends.build_payload(kw_list2, timeframe='2004-01-01 2021-11-30', geo='JP')\n",
        "gt2 = pytrends.interest_over_time()\n",
        "gt2 = gt2.rename(columns = {\"貯金\": \"saving\", \"isPartial\": \"info\"})\n",
        "gt2.to_csv(\"data/gt2.csv\")\n",
        "dateparse = lambda dates: pd.datetime.strptime(dates, '%Y-%m-%d')\n",
        "gt2 = pd.read_csv('data/gt2.csv', index_col=0, date_parser=dateparse, dtype='float')\n",
        "\n",
        "# Extract trend factor\n",
        "s2 = seasonal_decompose(gt2.iloc[:,0], extrapolate_trend='freq')\n",
        "t2 = s2.trend\n",
        "plt.plot(t2)\n",
        "plt.plot(gt2.iloc[:,0], linestyle='--')\n",
        "\n",
        "# Check correlation\n",
        "level = ibc['Coincident Index'][228:]\n",
        "level.index = t2.index\n",
        "cor = level.corr(t2)\n",
        "print(\"Correlation of level: {:.2f}\".format(cor))\n",
        "\n",
        "a2 = gt2.iloc[:,0].pct_change(12)\n",
        "ann = ibc['Coincident ann'][228:]\n",
        "ann.index = a2.index\n",
        "cor = ann.corr(a2)\n",
        "print(\"Correlation of YoY: {:.2f}\".format(cor))\n",
        "\n",
        "# Plot trend\n",
        "fig = plt.figure()\n",
        "ax = fig.add_subplot(1, 1, 1)\n",
        "ax.plot(t2.index, ibc['Coincident Index'][228:], linestyle='-', color='b', label='IBC')\n",
        "ax.plot(t2.index, t2, linestyle='--', color='#e46409', label='google search: \"saving\"')\n",
        "ax.legend()\n",
        "plt.title('Google Search: \"Saving\"')\n",
        "plt.savefig(\"images/google2.png\")"
      ],
      "metadata": {
        "colab": {
          "base_uri": "https://localhost:8080/",
          "height": 605
        },
        "id": "bCZOYVBddkZA",
        "outputId": "208b63b1-789e-42fd-85da-8014240938d3"
      },
      "execution_count": null,
      "outputs": [
        {
          "output_type": "stream",
          "name": "stderr",
          "text": [
            "/usr/local/lib/python3.7/dist-packages/ipykernel_launcher.py:7: FutureWarning: The pandas.datetime class is deprecated and will be removed from pandas in a future version. Import from datetime module instead.\n",
            "  import sys\n"
          ]
        },
        {
          "output_type": "stream",
          "name": "stdout",
          "text": [
            "Correlation of level: 0.34\n",
            "Correlation of YoY: 0.15\n"
          ]
        },
        {
          "output_type": "display_data",
          "data": {
            "image/png": "[encoded data removed]",
            "text/plain": [
              "<Figure size 432x288 with 1 Axes>"
            ]
          },
          "metadata": {
            "needs_background": "light"
          }
        },
        {
          "output_type": "display_data",
          "data": {
            "image/png": "[encoded data removed]",
            "text/plain": [
              "<Figure size 432x288 with 1 Axes>"
            ]
          },
          "metadata": {
            "needs_background": "light"
          }
        }
      ]
    },
    {
      "cell_type": "code",
      "execution_count": null,
      "metadata": {
        "id": "anpOm6qx6K19"
      },
      "outputs": [],
      "source": [
        "# Combine google trend (level)\n",
        "gtrend_l = pd.concat([t1, t2], axis=1)\n",
        "\n",
        "# Combine google trend (YoY)\n",
        "gtrend_y = pd.concat([a1, a2], axis=1)\n",
        "#gtrend_y = gtrend_y.drop(gtrend_y.index[0:12])"
      ]
    },
    {
      "cell_type": "markdown",
      "metadata": {
        "id": "WzHv9pQM6K1_"
      },
      "source": [
        "### Time series analysis"
      ]
    },
    {
      "cell_type": "code",
      "execution_count": null,
      "metadata": {
        "scrolled": true,
        "id": "AdwGQCbQ6K2B",
        "outputId": "7dd7e29c-b66f-404f-a9f3-0405d0e99b94",
        "colab": {
          "base_uri": "https://localhost:8080/",
          "height": 488
        }
      },
      "outputs": [
        {
          "output_type": "stream",
          "name": "stderr",
          "text": [
            "/usr/local/lib/python3.7/dist-packages/ipykernel_launcher.py:8: FutureWarning: The pandas.datetime class is deprecated and will be removed from pandas in a future version. Import from datetime module instead.\n",
            "  \n"
          ]
        },
        {
          "output_type": "execute_result",
          "data": {
            "text/html": [
              "\n",
              "  <div id=\"df-b7272765-c617-4ade-a242-f4741f56e919\">\n",
              "    <div class=\"colab-df-container\">\n",
              "      <div>\n",
              "<style scoped>\n",
              "    .dataframe tbody tr th:only-of-type {\n",
              "        vertical-align: middle;\n",
              "    }\n",
              "\n",
              "    .dataframe tbody tr th {\n",
              "        vertical-align: top;\n",
              "    }\n",
              "\n",
              "    .dataframe thead th {\n",
              "        text-align: right;\n",
              "    }\n",
              "</style>\n",
              "<table border=\"1\" class=\"dataframe\">\n",
              "  <thead>\n",
              "    <tr style=\"text-align: right;\">\n",
              "      <th></th>\n",
              "      <th>Coincident Index</th>\n",
              "      <th>Coincident ann</th>\n",
              "      <th>unemployment</th>\n",
              "      <th>saving</th>\n",
              "      <th>unemployment.1</th>\n",
              "      <th>saving.1</th>\n",
              "    </tr>\n",
              "    <tr>\n",
              "      <th>time</th>\n",
              "      <th></th>\n",
              "      <th></th>\n",
              "      <th></th>\n",
              "      <th></th>\n",
              "      <th></th>\n",
              "      <th></th>\n",
              "    </tr>\n",
              "  </thead>\n",
              "  <tbody>\n",
              "    <tr>\n",
              "      <th>2004-01-01</th>\n",
              "      <td>98.2</td>\n",
              "      <td>8.508287</td>\n",
              "      <td>59.462413</td>\n",
              "      <td>41.803904</td>\n",
              "      <td>NaN</td>\n",
              "      <td>NaN</td>\n",
              "    </tr>\n",
              "    <tr>\n",
              "      <th>2004-02-01</th>\n",
              "      <td>98.0</td>\n",
              "      <td>7.456140</td>\n",
              "      <td>59.109703</td>\n",
              "      <td>41.745775</td>\n",
              "      <td>NaN</td>\n",
              "      <td>NaN</td>\n",
              "    </tr>\n",
              "    <tr>\n",
              "      <th>2004-03-01</th>\n",
              "      <td>98.1</td>\n",
              "      <td>7.802198</td>\n",
              "      <td>58.756993</td>\n",
              "      <td>41.687646</td>\n",
              "      <td>NaN</td>\n",
              "      <td>NaN</td>\n",
              "    </tr>\n",
              "    <tr>\n",
              "      <th>2004-04-01</th>\n",
              "      <td>99.1</td>\n",
              "      <td>9.502762</td>\n",
              "      <td>58.404283</td>\n",
              "      <td>41.629516</td>\n",
              "      <td>NaN</td>\n",
              "      <td>NaN</td>\n",
              "    </tr>\n",
              "    <tr>\n",
              "      <th>2004-05-01</th>\n",
              "      <td>98.9</td>\n",
              "      <td>8.324206</td>\n",
              "      <td>58.051573</td>\n",
              "      <td>41.571387</td>\n",
              "      <td>NaN</td>\n",
              "      <td>NaN</td>\n",
              "    </tr>\n",
              "    <tr>\n",
              "      <th>...</th>\n",
              "      <td>...</td>\n",
              "      <td>...</td>\n",
              "      <td>...</td>\n",
              "      <td>...</td>\n",
              "      <td>...</td>\n",
              "      <td>...</td>\n",
              "    </tr>\n",
              "    <tr>\n",
              "      <th>2021-07-01</th>\n",
              "      <td>94.0</td>\n",
              "      <td>16.480793</td>\n",
              "      <td>66.029769</td>\n",
              "      <td>64.315122</td>\n",
              "      <td>-0.285714</td>\n",
              "      <td>0.237288</td>\n",
              "    </tr>\n",
              "    <tr>\n",
              "      <th>2021-08-01</th>\n",
              "      <td>91.0</td>\n",
              "      <td>10.840438</td>\n",
              "      <td>65.279186</td>\n",
              "      <td>64.594843</td>\n",
              "      <td>-0.166667</td>\n",
              "      <td>0.162500</td>\n",
              "    </tr>\n",
              "    <tr>\n",
              "      <th>2021-09-01</th>\n",
              "      <td>88.7</td>\n",
              "      <td>4.722550</td>\n",
              "      <td>64.528603</td>\n",
              "      <td>64.874563</td>\n",
              "      <td>-0.166667</td>\n",
              "      <td>0.000000</td>\n",
              "    </tr>\n",
              "    <tr>\n",
              "      <th>2021-10-01</th>\n",
              "      <td>89.8</td>\n",
              "      <td>1.468927</td>\n",
              "      <td>63.778021</td>\n",
              "      <td>65.154283</td>\n",
              "      <td>-0.424658</td>\n",
              "      <td>-0.053571</td>\n",
              "    </tr>\n",
              "    <tr>\n",
              "      <th>2021-11-01</th>\n",
              "      <td>93.6</td>\n",
              "      <td>5.643341</td>\n",
              "      <td>63.027438</td>\n",
              "      <td>65.434003</td>\n",
              "      <td>-0.294118</td>\n",
              "      <td>0.054545</td>\n",
              "    </tr>\n",
              "  </tbody>\n",
              "</table>\n",
              "<p>215 rows × 6 columns</p>\n",
              "</div>\n",
              "      <button class=\"colab-df-convert\" onclick=\"convertToInteractive('df-b7272765-c617-4ade-a242-f4741f56e919')\"\n",
              "              title=\"Convert this dataframe to an interactive table.\"\n",
              "              style=\"display:none;\">\n",
              "        \n",
              "  <svg xmlns=\"http://www.w3.org/2000/svg\" height=\"24px\"viewBox=\"0 0 24 24\"\n",
              "       width=\"24px\">\n",
              "    <path d=\"M0 0h24v24H0V0z\" fill=\"none\"/>\n",
              "    <path d=\"M18.56 5.44l.94 2.06.94-2.06 2.06-.94-2.06-.94-.94-2.06-.94 2.06-2.06.94zm-11 1L8.5 8.5l.94-2.06 2.06-.94-2.06-.94L8.5 2.5l-.94 2.06-2.06.94zm10 10l.94 2.06.94-2.06 2.06-.94-2.06-.94-.94-2.06-.94 2.06-2.06.94z\"/><path d=\"M17.41 7.96l-1.37-1.37c-.4-.4-.92-.59-1.43-.59-.52 0-1.04.2-1.43.59L10.3 9.45l-7.72 7.72c-.78.78-.78 2.05 0 2.83L4 21.41c.39.39.9.59 1.41.59.51 0 1.02-.2 1.41-.59l7.78-7.78 2.81-2.81c.8-.78.8-2.07 0-2.86zM5.41 20L4 18.59l7.72-7.72 1.47 1.35L5.41 20z\"/>\n",
              "  </svg>\n",
              "      </button>\n",
              "      \n",
              "  <style>\n",
              "    .colab-df-container {\n",
              "      display:flex;\n",
              "      flex-wrap:wrap;\n",
              "      gap: 12px;\n",
              "    }\n",
              "\n",
              "    .colab-df-convert {\n",
              "      background-color: #E8F0FE;\n",
              "      border: none;\n",
              "      border-radius: 50%;\n",
              "      cursor: pointer;\n",
              "      display: none;\n",
              "      fill: #1967D2;\n",
              "      height: 32px;\n",
              "      padding: 0 0 0 0;\n",
              "      width: 32px;\n",
              "    }\n",
              "\n",
              "    .colab-df-convert:hover {\n",
              "      background-color: #E2EBFA;\n",
              "      box-shadow: 0px 1px 2px rgba(60, 64, 67, 0.3), 0px 1px 3px 1px rgba(60, 64, 67, 0.15);\n",
              "      fill: #174EA6;\n",
              "    }\n",
              "\n",
              "    [theme=dark] .colab-df-convert {\n",
              "      background-color: #3B4455;\n",
              "      fill: #D2E3FC;\n",
              "    }\n",
              "\n",
              "    [theme=dark] .colab-df-convert:hover {\n",
              "      background-color: #434B5C;\n",
              "      box-shadow: 0px 1px 3px 1px rgba(0, 0, 0, 0.15);\n",
              "      filter: drop-shadow(0px 1px 2px rgba(0, 0, 0, 0.3));\n",
              "      fill: #FFFFFF;\n",
              "    }\n",
              "  </style>\n",
              "\n",
              "      <script>\n",
              "        const buttonEl =\n",
              "          document.querySelector('#df-b7272765-c617-4ade-a242-f4741f56e919 button.colab-df-convert');\n",
              "        buttonEl.style.display =\n",
              "          google.colab.kernel.accessAllowed ? 'block' : 'none';\n",
              "\n",
              "        async function convertToInteractive(key) {\n",
              "          const element = document.querySelector('#df-b7272765-c617-4ade-a242-f4741f56e919');\n",
              "          const dataTable =\n",
              "            await google.colab.kernel.invokeFunction('convertToInteractive',\n",
              "                                                     [key], {});\n",
              "          if (!dataTable) return;\n",
              "\n",
              "          const docLinkHtml = 'Like what you see? Visit the ' +\n",
              "            '<a target=\"_blank\" href=https://colab.research.google.com/notebooks/data_table.ipynb>data table notebook</a>'\n",
              "            + ' to learn more about interactive tables.';\n",
              "          element.innerHTML = '';\n",
              "          dataTable['output_type'] = 'display_data';\n",
              "          await google.colab.output.renderOutput(dataTable, element);\n",
              "          const docLink = document.createElement('div');\n",
              "          docLink.innerHTML = docLinkHtml;\n",
              "          element.appendChild(docLink);\n",
              "        }\n",
              "      </script>\n",
              "    </div>\n",
              "  </div>\n",
              "  "
            ],
            "text/plain": [
              "            Coincident Index  Coincident ann  ...  unemployment.1  saving.1\n",
              "time                                          ...                          \n",
              "2004-01-01              98.2        8.508287  ...             NaN       NaN\n",
              "2004-02-01              98.0        7.456140  ...             NaN       NaN\n",
              "2004-03-01              98.1        7.802198  ...             NaN       NaN\n",
              "2004-04-01              99.1        9.502762  ...             NaN       NaN\n",
              "2004-05-01              98.9        8.324206  ...             NaN       NaN\n",
              "...                      ...             ...  ...             ...       ...\n",
              "2021-07-01              94.0       16.480793  ...       -0.285714  0.237288\n",
              "2021-08-01              91.0       10.840438  ...       -0.166667  0.162500\n",
              "2021-09-01              88.7        4.722550  ...       -0.166667  0.000000\n",
              "2021-10-01              89.8        1.468927  ...       -0.424658 -0.053571\n",
              "2021-11-01              93.6        5.643341  ...       -0.294118  0.054545\n",
              "\n",
              "[215 rows x 6 columns]"
            ]
          },
          "metadata": {},
          "execution_count": 51
        }
      ],
      "source": [
        "# Set time series dataset\n",
        "X = pd.concat([gtrend_l, gtrend_y], axis=1)\n",
        "y = ibc[228:]\n",
        "y = y.set_index('time')\n",
        "X.index = y.index\n",
        "ts = pd.concat([y, X], axis=1)\n",
        "ts.to_csv(\"data/ts.csv\")\n",
        "dateparse = lambda dates: pd.datetime.strptime(dates, '%b-%y')\n",
        "ts = pd.read_csv('data/ts.csv', index_col=0, date_parser=dateparse, dtype='float')\n",
        "\n",
        "# Split data into training and test set\n",
        "sp = round(0.8*len(ts))\n",
        "train = ts[0:sp]\n",
        "test = ts[sp:]\n",
        "\n",
        "ts"
      ]
    },
    {
      "cell_type": "code",
      "source": [
        "# Check Autocorrelation of IBC\n",
        "import statsmodels.api as sm\n",
        "fig = plt.figure(figsize=(12,8))\n",
        "ax1 = fig.add_subplot(211)\n",
        "fig = sm.graphics.tsa.plot_acf(ts['Coincident Index'], lags=20, ax=ax1)\n",
        "ax2 = fig.add_subplot(212)\n",
        "fig = sm.graphics.tsa.plot_pacf(ts['Coincident Index'], lags=20, ax=ax2)\n",
        "plt.savefig(\"images/autocorrelation.png\")"
      ],
      "metadata": {
        "colab": {
          "base_uri": "https://localhost:8080/",
          "height": 499
        },
        "id": "rY8Gy83YRy47",
        "outputId": "2a23f433-d1ec-4c8b-8df0-489a4277cb2f"
      },
      "execution_count": null,
      "outputs": [
        {
          "output_type": "display_data",
          "data": {
            "image/png": "[encoded data removed]",
            "text/plain": [
              "<Figure size 864x576 with 2 Axes>"
            ]
          },
          "metadata": {
            "needs_background": "light"
          }
        }
      ]
    },
    {
      "cell_type": "code",
      "execution_count": null,
      "metadata": {
        "id": "3nJBt8eh6K2E",
        "outputId": "e2098f27-3542-4c26-e334-3e0b3ce96a72",
        "colab": {
          "base_uri": "https://localhost:8080/"
        }
      },
      "outputs": [
        {
          "output_type": "stream",
          "name": "stdout",
          "text": [
            "Unit root test (y): 0.07\n",
            "Unit root test (diff_y): 0.00\n",
            "Unit root test (X): 0.09\n",
            "Unit root test (diff_X): 0.03\n",
            "Cointegration test (unemployment): 0.00\n",
            "Cointegration test (saving): 0.25\n"
          ]
        }
      ],
      "source": [
        "# Unit root test of y (H0: non-stationary)\n",
        "adf_result = sm.tsa.stattools.adfuller(ts['Coincident Index'])\n",
        "print(\"Unit root test (y): {:.2f}\".format(adf_result[1])) # p-value\n",
        "\n",
        "# Take difference of y\n",
        "diff = ts['Coincident Index'].diff()\n",
        "diff = diff.dropna()\n",
        "adf_result = sm.tsa.stattools.adfuller(diff)\n",
        "print(\"Unit root test (diff_y): {:.2f}\".format(adf_result[1])) # p-value\n",
        "\n",
        "# Unit root test of X (H0: non-stationary)\n",
        "adf_result = sm.tsa.stattools.adfuller(ts['unemployment'])\n",
        "print(\"Unit root test (X): {:.2f}\".format(adf_result[1])) # p-value\n",
        "\n",
        "# Take difference of X\n",
        "diff = ts['unemployment'].diff()\n",
        "diff = diff.dropna()\n",
        "adf_result = sm.tsa.stattools.adfuller(diff)\n",
        "print(\"Unit root test (diff_X): {:.2f}\".format(adf_result[1])) # p-value\n",
        "\n",
        "# Cointegration test (H0: non-cointegration)\n",
        "coint_result = sm.tsa.stattools.coint(ts['Coincident Index'], ts['unemployment'])\n",
        "print(\"Cointegration test (unemployment): {:.2f}\".format(coint_result[1])) # p-value\n",
        "coint_result = sm.tsa.stattools.coint(ts['Coincident Index'], ts['saving'])\n",
        "print(\"Cointegration test (saving): {:.2f}\".format(coint_result[1])) # p-value"
      ]
    },
    {
      "cell_type": "markdown",
      "metadata": {
        "id": "SdD511OM6K2H"
      },
      "source": [
        "### ARIMA Prediction"
      ]
    },
    {
      "cell_type": "code",
      "execution_count": null,
      "metadata": {
        "scrolled": true,
        "id": "MTubl0Nn6K2J",
        "outputId": "853feea9-0c72-4c7e-b8a4-ed6815489a82",
        "colab": {
          "base_uri": "https://localhost:8080/"
        }
      },
      "outputs": [
        {
          "output_type": "stream",
          "name": "stdout",
          "text": [
            "                           Statespace Model Results                           \n",
            "==============================================================================\n",
            "Dep. Variable:       Coincident Index   No. Observations:                  172\n",
            "Model:               SARIMAX(1, 1, 0)   Log Likelihood                -287.379\n",
            "Date:                Fri, 21 Jan 2022   AIC                            582.757\n",
            "Time:                        05:22:02   BIC                            595.324\n",
            "Sample:                    01-01-2004   HQIC                           587.856\n",
            "                         - 04-01-2018                                         \n",
            "Covariance Type:                  opg                                         \n",
            "================================================================================\n",
            "                   coef    std err          z      P>|z|      [0.025      0.975]\n",
            "--------------------------------------------------------------------------------\n",
            "unemployment    -0.7762      0.106     -7.341      0.000      -0.983      -0.569\n",
            "saving           0.1730      0.188      0.918      0.359      -0.196       0.542\n",
            "ar.L1            0.1170      0.078      1.508      0.131      -0.035       0.269\n",
            "sigma2           1.6874      0.088     19.272      0.000       1.516       1.859\n",
            "===================================================================================\n",
            "Ljung-Box (Q):                       60.62   Jarque-Bera (JB):               488.43\n",
            "Prob(Q):                              0.02   Prob(JB):                         0.00\n",
            "Heteroskedasticity (H):               1.17   Skew:                            -1.74\n",
            "Prob(H) (two-sided):                  0.55   Kurtosis:                        10.51\n",
            "===================================================================================\n",
            "\n",
            "Warnings:\n",
            "[1] Covariance matrix calculated using the outer product of gradients (complex-step).\n"
          ]
        }
      ],
      "source": [
        "# Fit the model\n",
        "SARIMAX = sm.tsa.SARIMAX(train['Coincident Index'], train.iloc[:,2:4], order=(1,1,0), freq='MS').fit()\n",
        "print(SARIMAX.summary())"
      ]
    },
    {
      "cell_type": "code",
      "execution_count": null,
      "metadata": {
        "scrolled": false,
        "id": "aAlUYOP56K2M",
        "outputId": "44516844-d5b6-4376-b585-4fa810410176",
        "colab": {
          "base_uri": "https://localhost:8080/"
        }
      },
      "outputs": [
        {
          "output_type": "stream",
          "name": "stdout",
          "text": [
            "Test set score: 0.80\n"
          ]
        },
        {
          "output_type": "display_data",
          "data": {
            "image/png": "[encoded data removed]",
            "text/plain": [
              "<Figure size 432x288 with 1 Axes>"
            ]
          },
          "metadata": {
            "needs_background": "light"
          }
        }
      ],
      "source": [
        "pred = SARIMAX.predict('2018-05-01', '2021-11-01', exog=test.iloc[:,2:4])\n",
        "plt.plot(test['Coincident Index'], label=\"actual\")\n",
        "plt.plot(pred, \"r\", linestyle='--', label=\"predict\")\n",
        "plt.legend(loc='best')\n",
        "\n",
        "print(\"Test set score: {:.2f}\".format(r2_score(test['Coincident Index'], pred)))"
      ]
    },
    {
      "cell_type": "markdown",
      "metadata": {
        "id": "PS4NW1Yp6K2O"
      },
      "source": [
        "### Random Forest"
      ]
    },
    {
      "cell_type": "code",
      "execution_count": null,
      "metadata": {
        "scrolled": true,
        "id": "2ZtnIwgg6K2Q",
        "outputId": "6d710d55-075a-4d62-ce5a-9f0550a1994e",
        "colab": {
          "base_uri": "https://localhost:8080/",
          "height": 338
        }
      },
      "outputs": [
        {
          "output_type": "stream",
          "name": "stdout",
          "text": [
            "Training set score: 0.99\n",
            "Cross-Validation score: 0.68\n",
            "Test set score: 0.82\n"
          ]
        },
        {
          "output_type": "display_data",
          "data": {
            "image/png": "[encoded data removed]",
            "text/plain": [
              "<Figure size 432x288 with 1 Axes>"
            ]
          },
          "metadata": {
            "needs_background": "light"
          }
        }
      ],
      "source": [
        "# Set X and y variables\n",
        "X = ts.iloc[:,2:4]\n",
        "y = ts['Coincident Index']\n",
        "\n",
        "# Preprocess for adding AR\n",
        "X_l = X.drop(X.index[0])\n",
        "#X_l = X_l.drop(X_l.index[0])\n",
        "X_l.reset_index(inplace=True, drop=True)\n",
        "\n",
        "# Generate AR variable\n",
        "y_l = y.drop(y.index[-1])\n",
        "#y_l = y_l.drop(y_l.index[-1])\n",
        "y_l.reset_index(inplace=True, drop=True)\n",
        "\n",
        "# Add AR into X\n",
        "X_t = pd.concat([y_l, X_l], axis=1)\n",
        "y_t = y.drop(y.index[0])\n",
        "#y_t = y_t.drop(y_t.index[0])\n",
        "X_t.index = y_t.index\n",
        "\n",
        "# Split data into training and test set \n",
        "sp = round(0.8*len(X_t))\n",
        "X_train = X_t[0:sp]\n",
        "X_test = X_t[sp:]\n",
        "y_train = y_t[0:sp]\n",
        "y_test = y_t[sp:]\n",
        "\n",
        "# Fit the model\n",
        "tm = RandomForestRegressor(n_estimators=1000).fit(X_train, y_train)\n",
        "#tm.feature_importances_\n",
        "\n",
        "# Goodness of Fit\n",
        "print(\"Training set score: {:.2f}\".format(tm.score(X_train, y_train)))\n",
        "print(\"Cross-Validation score: {:.2f}\".format(\n",
        "          np.mean(cross_val_score(tm, X_train, y_train, cv=5))))\n",
        "print(\"Test set score: {:.2f}\".format(tm.score(X_test, y_test)))\n",
        "\n",
        "# Calculate the prediction\n",
        "prediction = pd.DataFrame(tm.predict(X_test))\n",
        "pre = prediction.values.tolist()\n",
        "act = y_test.values.tolist()\n",
        "predict = pd.DataFrame(pre, columns=['predict'])\n",
        "actual = pd.DataFrame(act, columns=['actual'])\n",
        "com = pd.concat([predict, actual], axis=1)\n",
        "\n",
        "# Plot the prediction\n",
        "fig = plt.figure()\n",
        "ax = fig.add_subplot(1, 1, 1)\n",
        "ax.plot(X_test.index, com.actual, linestyle='-', color='b', label='actual')\n",
        "ax.plot(X_test.index, com.predict, linestyle='--', color='#e46409', label='predict')\n",
        "ax.legend(loc='best')\n",
        "ax.set_title('Random Forest: Level')\n",
        "plt.savefig(\"images/google_rf.png\")"
      ]
    },
    {
      "cell_type": "code",
      "source": [
        "print(tm.feature_importances_)"
      ],
      "metadata": {
        "colab": {
          "base_uri": "https://localhost:8080/"
        },
        "id": "UX6u2ESGbXc8",
        "outputId": "0119b5c4-27d5-46a8-858c-05d7c680efc6"
      },
      "execution_count": null,
      "outputs": [
        {
          "output_type": "stream",
          "name": "stdout",
          "text": [
            "[0.79866936 0.17201404 0.0293166 ]\n"
          ]
        }
      ]
    },
    {
      "cell_type": "markdown",
      "metadata": {
        "id": "V32oTQrx6K2j"
      },
      "source": [
        "### RNN-LSTM"
      ]
    },
    {
      "cell_type": "code",
      "execution_count": null,
      "metadata": {
        "scrolled": true,
        "id": "jF_4vrjN6K2l",
        "outputId": "57f57641-b58a-4a3e-b929-e5d52823b394",
        "colab": {
          "base_uri": "https://localhost:8080/",
          "height": 235
        }
      },
      "outputs": [
        {
          "output_type": "execute_result",
          "data": {
            "text/html": [
              "\n",
              "  <div id=\"df-647880c4-5d59-47df-82fd-9e77b14c0c9b\">\n",
              "    <div class=\"colab-df-container\">\n",
              "      <div>\n",
              "<style scoped>\n",
              "    .dataframe tbody tr th:only-of-type {\n",
              "        vertical-align: middle;\n",
              "    }\n",
              "\n",
              "    .dataframe tbody tr th {\n",
              "        vertical-align: top;\n",
              "    }\n",
              "\n",
              "    .dataframe thead th {\n",
              "        text-align: right;\n",
              "    }\n",
              "</style>\n",
              "<table border=\"1\" class=\"dataframe\">\n",
              "  <thead>\n",
              "    <tr style=\"text-align: right;\">\n",
              "      <th></th>\n",
              "      <th>Coincident Index</th>\n",
              "      <th>unemployment</th>\n",
              "      <th>saving</th>\n",
              "    </tr>\n",
              "    <tr>\n",
              "      <th>time</th>\n",
              "      <th></th>\n",
              "      <th></th>\n",
              "      <th></th>\n",
              "    </tr>\n",
              "  </thead>\n",
              "  <tbody>\n",
              "    <tr>\n",
              "      <th>2021-07-01</th>\n",
              "      <td>94.0</td>\n",
              "      <td>66.029769</td>\n",
              "      <td>64.315122</td>\n",
              "    </tr>\n",
              "    <tr>\n",
              "      <th>2021-08-01</th>\n",
              "      <td>91.0</td>\n",
              "      <td>65.279186</td>\n",
              "      <td>64.594843</td>\n",
              "    </tr>\n",
              "    <tr>\n",
              "      <th>2021-09-01</th>\n",
              "      <td>88.7</td>\n",
              "      <td>64.528603</td>\n",
              "      <td>64.874563</td>\n",
              "    </tr>\n",
              "    <tr>\n",
              "      <th>2021-10-01</th>\n",
              "      <td>89.8</td>\n",
              "      <td>63.778021</td>\n",
              "      <td>65.154283</td>\n",
              "    </tr>\n",
              "    <tr>\n",
              "      <th>2021-11-01</th>\n",
              "      <td>93.6</td>\n",
              "      <td>63.027438</td>\n",
              "      <td>65.434003</td>\n",
              "    </tr>\n",
              "  </tbody>\n",
              "</table>\n",
              "</div>\n",
              "      <button class=\"colab-df-convert\" onclick=\"convertToInteractive('df-647880c4-5d59-47df-82fd-9e77b14c0c9b')\"\n",
              "              title=\"Convert this dataframe to an interactive table.\"\n",
              "              style=\"display:none;\">\n",
              "        \n",
              "  <svg xmlns=\"http://www.w3.org/2000/svg\" height=\"24px\"viewBox=\"0 0 24 24\"\n",
              "       width=\"24px\">\n",
              "    <path d=\"M0 0h24v24H0V0z\" fill=\"none\"/>\n",
              "    <path d=\"M18.56 5.44l.94 2.06.94-2.06 2.06-.94-2.06-.94-.94-2.06-.94 2.06-2.06.94zm-11 1L8.5 8.5l.94-2.06 2.06-.94-2.06-.94L8.5 2.5l-.94 2.06-2.06.94zm10 10l.94 2.06.94-2.06 2.06-.94-2.06-.94-.94-2.06-.94 2.06-2.06.94z\"/><path d=\"M17.41 7.96l-1.37-1.37c-.4-.4-.92-.59-1.43-.59-.52 0-1.04.2-1.43.59L10.3 9.45l-7.72 7.72c-.78.78-.78 2.05 0 2.83L4 21.41c.39.39.9.59 1.41.59.51 0 1.02-.2 1.41-.59l7.78-7.78 2.81-2.81c.8-.78.8-2.07 0-2.86zM5.41 20L4 18.59l7.72-7.72 1.47 1.35L5.41 20z\"/>\n",
              "  </svg>\n",
              "      </button>\n",
              "      \n",
              "  <style>\n",
              "    .colab-df-container {\n",
              "      display:flex;\n",
              "      flex-wrap:wrap;\n",
              "      gap: 12px;\n",
              "    }\n",
              "\n",
              "    .colab-df-convert {\n",
              "      background-color: #E8F0FE;\n",
              "      border: none;\n",
              "      border-radius: 50%;\n",
              "      cursor: pointer;\n",
              "      display: none;\n",
              "      fill: #1967D2;\n",
              "      height: 32px;\n",
              "      padding: 0 0 0 0;\n",
              "      width: 32px;\n",
              "    }\n",
              "\n",
              "    .colab-df-convert:hover {\n",
              "      background-color: #E2EBFA;\n",
              "      box-shadow: 0px 1px 2px rgba(60, 64, 67, 0.3), 0px 1px 3px 1px rgba(60, 64, 67, 0.15);\n",
              "      fill: #174EA6;\n",
              "    }\n",
              "\n",
              "    [theme=dark] .colab-df-convert {\n",
              "      background-color: #3B4455;\n",
              "      fill: #D2E3FC;\n",
              "    }\n",
              "\n",
              "    [theme=dark] .colab-df-convert:hover {\n",
              "      background-color: #434B5C;\n",
              "      box-shadow: 0px 1px 3px 1px rgba(0, 0, 0, 0.15);\n",
              "      filter: drop-shadow(0px 1px 2px rgba(0, 0, 0, 0.3));\n",
              "      fill: #FFFFFF;\n",
              "    }\n",
              "  </style>\n",
              "\n",
              "      <script>\n",
              "        const buttonEl =\n",
              "          document.querySelector('#df-647880c4-5d59-47df-82fd-9e77b14c0c9b button.colab-df-convert');\n",
              "        buttonEl.style.display =\n",
              "          google.colab.kernel.accessAllowed ? 'block' : 'none';\n",
              "\n",
              "        async function convertToInteractive(key) {\n",
              "          const element = document.querySelector('#df-647880c4-5d59-47df-82fd-9e77b14c0c9b');\n",
              "          const dataTable =\n",
              "            await google.colab.kernel.invokeFunction('convertToInteractive',\n",
              "                                                     [key], {});\n",
              "          if (!dataTable) return;\n",
              "\n",
              "          const docLinkHtml = 'Like what you see? Visit the ' +\n",
              "            '<a target=\"_blank\" href=https://colab.research.google.com/notebooks/data_table.ipynb>data table notebook</a>'\n",
              "            + ' to learn more about interactive tables.';\n",
              "          element.innerHTML = '';\n",
              "          dataTable['output_type'] = 'display_data';\n",
              "          await google.colab.output.renderOutput(dataTable, element);\n",
              "          const docLink = document.createElement('div');\n",
              "          docLink.innerHTML = docLinkHtml;\n",
              "          element.appendChild(docLink);\n",
              "        }\n",
              "      </script>\n",
              "    </div>\n",
              "  </div>\n",
              "  "
            ],
            "text/plain": [
              "            Coincident Index  unemployment     saving\n",
              "time                                                 \n",
              "2021-07-01              94.0     66.029769  64.315122\n",
              "2021-08-01              91.0     65.279186  64.594843\n",
              "2021-09-01              88.7     64.528603  64.874563\n",
              "2021-10-01              89.8     63.778021  65.154283\n",
              "2021-11-01              93.6     63.027438  65.434003"
            ]
          },
          "metadata": {},
          "execution_count": 18
        }
      ],
      "source": [
        "# set the dataset\n",
        "features = pd.concat([ts['Coincident Index'], ts.iloc[:,2:4]], axis=1)\n",
        "features.tail()"
      ]
    },
    {
      "cell_type": "code",
      "execution_count": null,
      "metadata": {
        "id": "gbQ3LWOu6K2p",
        "outputId": "f3360997-806c-4738-b7b8-14d8b9ef3f50",
        "colab": {
          "base_uri": "https://localhost:8080/"
        }
      },
      "outputs": [
        {
          "output_type": "stream",
          "name": "stdout",
          "text": [
            "172\n"
          ]
        }
      ],
      "source": [
        "# set training percentage\n",
        "TRAIN_SPLIT = round(0.8*len(features))\n",
        "print(TRAIN_SPLIT)\n",
        "\n",
        "# feature scaling\n",
        "dataset = features.values\n",
        "data_mean = dataset[:TRAIN_SPLIT].mean(axis=0)\n",
        "data_std = dataset[:TRAIN_SPLIT].std(axis=0)\n",
        "dataset = (dataset-data_mean)/data_std"
      ]
    },
    {
      "cell_type": "code",
      "execution_count": null,
      "metadata": {
        "id": "XxhteUtn6K2t"
      },
      "outputs": [],
      "source": [
        "# create the training and test data\n",
        "\n",
        "past_history = 3\n",
        "future_target = 0\n",
        "STEP = 1\n",
        "\n",
        "x_train_single, y_train_single = multivariate_data(dataset, dataset[:,0], 0, TRAIN_SPLIT, past_history, future_target, STEP, single_step=True)\n",
        "x_val_single, y_val_single = multivariate_data(dataset, dataset[:,0], TRAIN_SPLIT, None, past_history, future_target, STEP, single_step=True)"
      ]
    },
    {
      "cell_type": "code",
      "execution_count": null,
      "metadata": {
        "scrolled": true,
        "id": "rQtNe9rH6K2w",
        "outputId": "8e77dcd0-4f98-4907-f2ba-868bed907fbf",
        "colab": {
          "base_uri": "https://localhost:8080/",
          "height": 266
        }
      },
      "outputs": [
        {
          "output_type": "execute_result",
          "data": {
            "text/html": [
              "\n",
              "  <div id=\"df-0e44c052-2b91-407b-80fd-17186da0edbd\">\n",
              "    <div class=\"colab-df-container\">\n",
              "      <div>\n",
              "<style scoped>\n",
              "    .dataframe tbody tr th:only-of-type {\n",
              "        vertical-align: middle;\n",
              "    }\n",
              "\n",
              "    .dataframe tbody tr th {\n",
              "        vertical-align: top;\n",
              "    }\n",
              "\n",
              "    .dataframe thead th {\n",
              "        text-align: right;\n",
              "    }\n",
              "</style>\n",
              "<table border=\"1\" class=\"dataframe\">\n",
              "  <thead>\n",
              "    <tr style=\"text-align: right;\">\n",
              "      <th></th>\n",
              "      <th>0</th>\n",
              "      <th>1</th>\n",
              "      <th>2</th>\n",
              "    </tr>\n",
              "  </thead>\n",
              "  <tbody>\n",
              "    <tr>\n",
              "      <th>0</th>\n",
              "      <td>0.032678</td>\n",
              "      <td>0.664727</td>\n",
              "      <td>-0.603627</td>\n",
              "    </tr>\n",
              "    <tr>\n",
              "      <th>1</th>\n",
              "      <td>0.006228</td>\n",
              "      <td>0.614257</td>\n",
              "      <td>-0.608871</td>\n",
              "    </tr>\n",
              "    <tr>\n",
              "      <th>2</th>\n",
              "      <td>0.019453</td>\n",
              "      <td>0.563786</td>\n",
              "      <td>-0.614115</td>\n",
              "    </tr>\n",
              "    <tr>\n",
              "      <th>3</th>\n",
              "      <td>0.151705</td>\n",
              "      <td>0.513316</td>\n",
              "      <td>-0.619359</td>\n",
              "    </tr>\n",
              "    <tr>\n",
              "      <th>4</th>\n",
              "      <td>0.125255</td>\n",
              "      <td>0.462845</td>\n",
              "      <td>-0.624603</td>\n",
              "    </tr>\n",
              "    <tr>\n",
              "      <th>5</th>\n",
              "      <td>0.244281</td>\n",
              "      <td>0.412375</td>\n",
              "      <td>-0.629848</td>\n",
              "    </tr>\n",
              "    <tr>\n",
              "      <th>6</th>\n",
              "      <td>0.402984</td>\n",
              "      <td>0.455466</td>\n",
              "      <td>-0.450613</td>\n",
              "    </tr>\n",
              "  </tbody>\n",
              "</table>\n",
              "</div>\n",
              "      <button class=\"colab-df-convert\" onclick=\"convertToInteractive('df-0e44c052-2b91-407b-80fd-17186da0edbd')\"\n",
              "              title=\"Convert this dataframe to an interactive table.\"\n",
              "              style=\"display:none;\">\n",
              "        \n",
              "  <svg xmlns=\"http://www.w3.org/2000/svg\" height=\"24px\"viewBox=\"0 0 24 24\"\n",
              "       width=\"24px\">\n",
              "    <path d=\"M0 0h24v24H0V0z\" fill=\"none\"/>\n",
              "    <path d=\"M18.56 5.44l.94 2.06.94-2.06 2.06-.94-2.06-.94-.94-2.06-.94 2.06-2.06.94zm-11 1L8.5 8.5l.94-2.06 2.06-.94-2.06-.94L8.5 2.5l-.94 2.06-2.06.94zm10 10l.94 2.06.94-2.06 2.06-.94-2.06-.94-.94-2.06-.94 2.06-2.06.94z\"/><path d=\"M17.41 7.96l-1.37-1.37c-.4-.4-.92-.59-1.43-.59-.52 0-1.04.2-1.43.59L10.3 9.45l-7.72 7.72c-.78.78-.78 2.05 0 2.83L4 21.41c.39.39.9.59 1.41.59.51 0 1.02-.2 1.41-.59l7.78-7.78 2.81-2.81c.8-.78.8-2.07 0-2.86zM5.41 20L4 18.59l7.72-7.72 1.47 1.35L5.41 20z\"/>\n",
              "  </svg>\n",
              "      </button>\n",
              "      \n",
              "  <style>\n",
              "    .colab-df-container {\n",
              "      display:flex;\n",
              "      flex-wrap:wrap;\n",
              "      gap: 12px;\n",
              "    }\n",
              "\n",
              "    .colab-df-convert {\n",
              "      background-color: #E8F0FE;\n",
              "      border: none;\n",
              "      border-radius: 50%;\n",
              "      cursor: pointer;\n",
              "      display: none;\n",
              "      fill: #1967D2;\n",
              "      height: 32px;\n",
              "      padding: 0 0 0 0;\n",
              "      width: 32px;\n",
              "    }\n",
              "\n",
              "    .colab-df-convert:hover {\n",
              "      background-color: #E2EBFA;\n",
              "      box-shadow: 0px 1px 2px rgba(60, 64, 67, 0.3), 0px 1px 3px 1px rgba(60, 64, 67, 0.15);\n",
              "      fill: #174EA6;\n",
              "    }\n",
              "\n",
              "    [theme=dark] .colab-df-convert {\n",
              "      background-color: #3B4455;\n",
              "      fill: #D2E3FC;\n",
              "    }\n",
              "\n",
              "    [theme=dark] .colab-df-convert:hover {\n",
              "      background-color: #434B5C;\n",
              "      box-shadow: 0px 1px 3px 1px rgba(0, 0, 0, 0.15);\n",
              "      filter: drop-shadow(0px 1px 2px rgba(0, 0, 0, 0.3));\n",
              "      fill: #FFFFFF;\n",
              "    }\n",
              "  </style>\n",
              "\n",
              "      <script>\n",
              "        const buttonEl =\n",
              "          document.querySelector('#df-0e44c052-2b91-407b-80fd-17186da0edbd button.colab-df-convert');\n",
              "        buttonEl.style.display =\n",
              "          google.colab.kernel.accessAllowed ? 'block' : 'none';\n",
              "\n",
              "        async function convertToInteractive(key) {\n",
              "          const element = document.querySelector('#df-0e44c052-2b91-407b-80fd-17186da0edbd');\n",
              "          const dataTable =\n",
              "            await google.colab.kernel.invokeFunction('convertToInteractive',\n",
              "                                                     [key], {});\n",
              "          if (!dataTable) return;\n",
              "\n",
              "          const docLinkHtml = 'Like what you see? Visit the ' +\n",
              "            '<a target=\"_blank\" href=https://colab.research.google.com/notebooks/data_table.ipynb>data table notebook</a>'\n",
              "            + ' to learn more about interactive tables.';\n",
              "          element.innerHTML = '';\n",
              "          dataTable['output_type'] = 'display_data';\n",
              "          await google.colab.output.renderOutput(dataTable, element);\n",
              "          const docLink = document.createElement('div');\n",
              "          docLink.innerHTML = docLinkHtml;\n",
              "          element.appendChild(docLink);\n",
              "        }\n",
              "      </script>\n",
              "    </div>\n",
              "  </div>\n",
              "  "
            ],
            "text/plain": [
              "          0         1         2\n",
              "0  0.032678  0.664727 -0.603627\n",
              "1  0.006228  0.614257 -0.608871\n",
              "2  0.019453  0.563786 -0.614115\n",
              "3  0.151705  0.513316 -0.619359\n",
              "4  0.125255  0.462845 -0.624603\n",
              "5  0.244281  0.412375 -0.629848\n",
              "6  0.402984  0.455466 -0.450613"
            ]
          },
          "metadata": {},
          "execution_count": 21
        }
      ],
      "source": [
        "pd.DataFrame(dataset).head(7)"
      ]
    },
    {
      "cell_type": "code",
      "execution_count": null,
      "metadata": {
        "id": "0s3StVDs6K20",
        "outputId": "4b2022cd-9e31-470e-fc34-23cf0a469d73",
        "colab": {
          "base_uri": "https://localhost:8080/",
          "height": 173
        }
      },
      "outputs": [
        {
          "output_type": "execute_result",
          "data": {
            "text/html": [
              "\n",
              "  <div id=\"df-577ae146-0fda-4e67-b541-869270a61811\">\n",
              "    <div class=\"colab-df-container\">\n",
              "      <div>\n",
              "<style scoped>\n",
              "    .dataframe tbody tr th:only-of-type {\n",
              "        vertical-align: middle;\n",
              "    }\n",
              "\n",
              "    .dataframe tbody tr th {\n",
              "        vertical-align: top;\n",
              "    }\n",
              "\n",
              "    .dataframe thead th {\n",
              "        text-align: right;\n",
              "    }\n",
              "</style>\n",
              "<table border=\"1\" class=\"dataframe\">\n",
              "  <thead>\n",
              "    <tr style=\"text-align: right;\">\n",
              "      <th></th>\n",
              "      <th>0</th>\n",
              "      <th>1</th>\n",
              "      <th>2</th>\n",
              "    </tr>\n",
              "  </thead>\n",
              "  <tbody>\n",
              "    <tr>\n",
              "      <th>0</th>\n",
              "      <td>0.032678</td>\n",
              "      <td>0.664727</td>\n",
              "      <td>-0.603627</td>\n",
              "    </tr>\n",
              "    <tr>\n",
              "      <th>1</th>\n",
              "      <td>0.006228</td>\n",
              "      <td>0.614257</td>\n",
              "      <td>-0.608871</td>\n",
              "    </tr>\n",
              "    <tr>\n",
              "      <th>2</th>\n",
              "      <td>0.019453</td>\n",
              "      <td>0.563786</td>\n",
              "      <td>-0.614115</td>\n",
              "    </tr>\n",
              "    <tr>\n",
              "      <th>3</th>\n",
              "      <td>0.019453</td>\n",
              "      <td>0.513316</td>\n",
              "      <td>-0.619359</td>\n",
              "    </tr>\n",
              "  </tbody>\n",
              "</table>\n",
              "</div>\n",
              "      <button class=\"colab-df-convert\" onclick=\"convertToInteractive('df-577ae146-0fda-4e67-b541-869270a61811')\"\n",
              "              title=\"Convert this dataframe to an interactive table.\"\n",
              "              style=\"display:none;\">\n",
              "        \n",
              "  <svg xmlns=\"http://www.w3.org/2000/svg\" height=\"24px\"viewBox=\"0 0 24 24\"\n",
              "       width=\"24px\">\n",
              "    <path d=\"M0 0h24v24H0V0z\" fill=\"none\"/>\n",
              "    <path d=\"M18.56 5.44l.94 2.06.94-2.06 2.06-.94-2.06-.94-.94-2.06-.94 2.06-2.06.94zm-11 1L8.5 8.5l.94-2.06 2.06-.94-2.06-.94L8.5 2.5l-.94 2.06-2.06.94zm10 10l.94 2.06.94-2.06 2.06-.94-2.06-.94-.94-2.06-.94 2.06-2.06.94z\"/><path d=\"M17.41 7.96l-1.37-1.37c-.4-.4-.92-.59-1.43-.59-.52 0-1.04.2-1.43.59L10.3 9.45l-7.72 7.72c-.78.78-.78 2.05 0 2.83L4 21.41c.39.39.9.59 1.41.59.51 0 1.02-.2 1.41-.59l7.78-7.78 2.81-2.81c.8-.78.8-2.07 0-2.86zM5.41 20L4 18.59l7.72-7.72 1.47 1.35L5.41 20z\"/>\n",
              "  </svg>\n",
              "      </button>\n",
              "      \n",
              "  <style>\n",
              "    .colab-df-container {\n",
              "      display:flex;\n",
              "      flex-wrap:wrap;\n",
              "      gap: 12px;\n",
              "    }\n",
              "\n",
              "    .colab-df-convert {\n",
              "      background-color: #E8F0FE;\n",
              "      border: none;\n",
              "      border-radius: 50%;\n",
              "      cursor: pointer;\n",
              "      display: none;\n",
              "      fill: #1967D2;\n",
              "      height: 32px;\n",
              "      padding: 0 0 0 0;\n",
              "      width: 32px;\n",
              "    }\n",
              "\n",
              "    .colab-df-convert:hover {\n",
              "      background-color: #E2EBFA;\n",
              "      box-shadow: 0px 1px 2px rgba(60, 64, 67, 0.3), 0px 1px 3px 1px rgba(60, 64, 67, 0.15);\n",
              "      fill: #174EA6;\n",
              "    }\n",
              "\n",
              "    [theme=dark] .colab-df-convert {\n",
              "      background-color: #3B4455;\n",
              "      fill: #D2E3FC;\n",
              "    }\n",
              "\n",
              "    [theme=dark] .colab-df-convert:hover {\n",
              "      background-color: #434B5C;\n",
              "      box-shadow: 0px 1px 3px 1px rgba(0, 0, 0, 0.15);\n",
              "      filter: drop-shadow(0px 1px 2px rgba(0, 0, 0, 0.3));\n",
              "      fill: #FFFFFF;\n",
              "    }\n",
              "  </style>\n",
              "\n",
              "      <script>\n",
              "        const buttonEl =\n",
              "          document.querySelector('#df-577ae146-0fda-4e67-b541-869270a61811 button.colab-df-convert');\n",
              "        buttonEl.style.display =\n",
              "          google.colab.kernel.accessAllowed ? 'block' : 'none';\n",
              "\n",
              "        async function convertToInteractive(key) {\n",
              "          const element = document.querySelector('#df-577ae146-0fda-4e67-b541-869270a61811');\n",
              "          const dataTable =\n",
              "            await google.colab.kernel.invokeFunction('convertToInteractive',\n",
              "                                                     [key], {});\n",
              "          if (!dataTable) return;\n",
              "\n",
              "          const docLinkHtml = 'Like what you see? Visit the ' +\n",
              "            '<a target=\"_blank\" href=https://colab.research.google.com/notebooks/data_table.ipynb>data table notebook</a>'\n",
              "            + ' to learn more about interactive tables.';\n",
              "          element.innerHTML = '';\n",
              "          dataTable['output_type'] = 'display_data';\n",
              "          await google.colab.output.renderOutput(dataTable, element);\n",
              "          const docLink = document.createElement('div');\n",
              "          docLink.innerHTML = docLinkHtml;\n",
              "          element.appendChild(docLink);\n",
              "        }\n",
              "      </script>\n",
              "    </div>\n",
              "  </div>\n",
              "  "
            ],
            "text/plain": [
              "          0         1         2\n",
              "0  0.032678  0.664727 -0.603627\n",
              "1  0.006228  0.614257 -0.608871\n",
              "2  0.019453  0.563786 -0.614115\n",
              "3  0.019453  0.513316 -0.619359"
            ]
          },
          "metadata": {},
          "execution_count": 22
        }
      ],
      "source": [
        "pd.DataFrame(x_train_single[0])"
      ]
    },
    {
      "cell_type": "code",
      "execution_count": null,
      "metadata": {
        "id": "FBTbWMJu6K24",
        "outputId": "97fc4ecd-a95b-4521-ca8a-d1dd783c29bb",
        "colab": {
          "base_uri": "https://localhost:8080/"
        }
      },
      "outputs": [
        {
          "output_type": "execute_result",
          "data": {
            "text/plain": [
              "0.15170511389896058"
            ]
          },
          "metadata": {},
          "execution_count": 23
        }
      ],
      "source": [
        "y_train_single[0]"
      ]
    },
    {
      "cell_type": "code",
      "execution_count": null,
      "metadata": {
        "id": "AgcxGvnQ6K26"
      },
      "outputs": [],
      "source": [
        "BATCH_SIZE = 32\n",
        "BUFFER_SIZE = 100\n",
        "\n",
        "train_data_single = tf.data.Dataset.from_tensor_slices((x_train_single, y_train_single))\n",
        "train_data_single = train_data_single.cache().shuffle(BUFFER_SIZE).batch(BATCH_SIZE).repeat()\n",
        "\n",
        "val_data_single = tf.data.Dataset.from_tensor_slices((x_val_single, y_val_single))\n",
        "val_data_single = val_data_single.batch(BATCH_SIZE).repeat()"
      ]
    },
    {
      "cell_type": "code",
      "execution_count": null,
      "metadata": {
        "id": "C_0dJQKl6K28"
      },
      "outputs": [],
      "source": [
        "# construct the model\n",
        "\n",
        "single_step_model = tf.keras.models.Sequential()\n",
        "single_step_model.add(tf.keras.layers.LSTM(8, input_shape=x_train_single.shape[-2:]))\n",
        "#single_step_model.add(tf.keras.layers.LSTM(8, kernel_regularizer=l2(0.01), bias_regularizer=l2(0.01)))\n",
        "#single_step_model.add(tf.keras.layers.LSTM(8, dropout=0.2, recurrent_dropout=0.2, return_sequences=True))\n",
        "#single_step_model.add(tf.keras.layers.Bidirectional(tf.keras.layers.LSTM(4)))\n",
        "single_step_model.add(tf.keras.layers.Dense(1))\n",
        "\n",
        "single_step_model.compile(optimizer=tf.keras.optimizers.RMSprop(learning_rate=0.0001), loss='mae')"
      ]
    },
    {
      "cell_type": "code",
      "execution_count": null,
      "metadata": {
        "scrolled": true,
        "id": "5bXLhbN_6K29",
        "outputId": "c22df89a-4c52-40de-fb9d-18eaa2937f10",
        "colab": {
          "base_uri": "https://localhost:8080/"
        }
      },
      "outputs": [
        {
          "output_type": "stream",
          "name": "stdout",
          "text": [
            "Epoch 1/20\n",
            "200/200 [==============================] - 4s 7ms/step - loss: 0.6951 - val_loss: 0.9718\n",
            "Epoch 2/20\n",
            "200/200 [==============================] - 1s 5ms/step - loss: 0.6165 - val_loss: 0.9391\n",
            "Epoch 3/20\n",
            "200/200 [==============================] - 1s 5ms/step - loss: 0.5519 - val_loss: 0.8997\n",
            "Epoch 4/20\n",
            "200/200 [==============================] - 1s 5ms/step - loss: 0.4934 - val_loss: 0.8488\n",
            "Epoch 5/20\n",
            "200/200 [==============================] - 1s 5ms/step - loss: 0.4376 - val_loss: 0.7846\n",
            "Epoch 6/20\n",
            "200/200 [==============================] - 1s 5ms/step - loss: 0.3806 - val_loss: 0.7154\n",
            "Epoch 7/20\n",
            "200/200 [==============================] - 1s 5ms/step - loss: 0.3308 - val_loss: 0.6485\n",
            "Epoch 8/20\n",
            "200/200 [==============================] - 1s 4ms/step - loss: 0.2994 - val_loss: 0.5936\n",
            "Epoch 9/20\n",
            "200/200 [==============================] - 1s 5ms/step - loss: 0.2758 - val_loss: 0.5448\n",
            "Epoch 10/20\n",
            "200/200 [==============================] - 1s 5ms/step - loss: 0.2600 - val_loss: 0.5055\n",
            "Epoch 11/20\n",
            "200/200 [==============================] - 1s 5ms/step - loss: 0.2443 - val_loss: 0.4789\n",
            "Epoch 12/20\n",
            "200/200 [==============================] - 1s 5ms/step - loss: 0.2330 - val_loss: 0.4530\n",
            "Epoch 13/20\n",
            "200/200 [==============================] - 1s 4ms/step - loss: 0.2223 - val_loss: 0.4327\n",
            "Epoch 14/20\n",
            "200/200 [==============================] - 1s 5ms/step - loss: 0.2118 - val_loss: 0.4171\n",
            "Epoch 15/20\n",
            "200/200 [==============================] - 1s 5ms/step - loss: 0.2032 - val_loss: 0.4009\n",
            "Epoch 16/20\n",
            "200/200 [==============================] - 1s 5ms/step - loss: 0.1953 - val_loss: 0.3802\n",
            "Epoch 17/20\n",
            "200/200 [==============================] - 1s 5ms/step - loss: 0.1885 - val_loss: 0.3720\n",
            "Epoch 18/20\n",
            "200/200 [==============================] - 1s 5ms/step - loss: 0.1827 - val_loss: 0.3600\n",
            "Epoch 19/20\n",
            "200/200 [==============================] - 1s 4ms/step - loss: 0.1780 - val_loss: 0.3506\n",
            "Epoch 20/20\n",
            "200/200 [==============================] - 1s 4ms/step - loss: 0.1727 - val_loss: 0.3428\n"
          ]
        }
      ],
      "source": [
        "# train the model\n",
        "single_step_history = single_step_model.fit(train_data_single, epochs=20, steps_per_epoch=200, validation_data=val_data_single, validation_steps=50)"
      ]
    },
    {
      "cell_type": "code",
      "execution_count": null,
      "metadata": {
        "id": "Ok4qDpKj6K3A",
        "outputId": "0a3c644a-3fb6-4951-d8d9-90f815c320ea",
        "colab": {
          "base_uri": "https://localhost:8080/",
          "height": 80
        }
      },
      "outputs": [
        {
          "output_type": "execute_result",
          "data": {
            "text/html": [
              "\n",
              "  <div id=\"df-65b614cd-5153-45a6-b201-9b897e769cb7\">\n",
              "    <div class=\"colab-df-container\">\n",
              "      <div>\n",
              "<style scoped>\n",
              "    .dataframe tbody tr th:only-of-type {\n",
              "        vertical-align: middle;\n",
              "    }\n",
              "\n",
              "    .dataframe tbody tr th {\n",
              "        vertical-align: top;\n",
              "    }\n",
              "\n",
              "    .dataframe thead th {\n",
              "        text-align: right;\n",
              "    }\n",
              "</style>\n",
              "<table border=\"1\" class=\"dataframe\">\n",
              "  <thead>\n",
              "    <tr style=\"text-align: right;\">\n",
              "      <th></th>\n",
              "      <th>accuracy</th>\n",
              "      <th>f1_score</th>\n",
              "      <th>precision</th>\n",
              "      <th>recall</th>\n",
              "      <th>mse</th>\n",
              "      <th>rmse</th>\n",
              "      <th>mae</th>\n",
              "      <th>r2</th>\n",
              "    </tr>\n",
              "  </thead>\n",
              "  <tbody>\n",
              "    <tr>\n",
              "      <th>0</th>\n",
              "      <td>0</td>\n",
              "      <td>0</td>\n",
              "      <td>0</td>\n",
              "      <td>0</td>\n",
              "      <td>0.275979</td>\n",
              "      <td>0.525337</td>\n",
              "      <td>0.342762</td>\n",
              "      <td>0.740722</td>\n",
              "    </tr>\n",
              "  </tbody>\n",
              "</table>\n",
              "</div>\n",
              "      <button class=\"colab-df-convert\" onclick=\"convertToInteractive('df-65b614cd-5153-45a6-b201-9b897e769cb7')\"\n",
              "              title=\"Convert this dataframe to an interactive table.\"\n",
              "              style=\"display:none;\">\n",
              "        \n",
              "  <svg xmlns=\"http://www.w3.org/2000/svg\" height=\"24px\"viewBox=\"0 0 24 24\"\n",
              "       width=\"24px\">\n",
              "    <path d=\"M0 0h24v24H0V0z\" fill=\"none\"/>\n",
              "    <path d=\"M18.56 5.44l.94 2.06.94-2.06 2.06-.94-2.06-.94-.94-2.06-.94 2.06-2.06.94zm-11 1L8.5 8.5l.94-2.06 2.06-.94-2.06-.94L8.5 2.5l-.94 2.06-2.06.94zm10 10l.94 2.06.94-2.06 2.06-.94-2.06-.94-.94-2.06-.94 2.06-2.06.94z\"/><path d=\"M17.41 7.96l-1.37-1.37c-.4-.4-.92-.59-1.43-.59-.52 0-1.04.2-1.43.59L10.3 9.45l-7.72 7.72c-.78.78-.78 2.05 0 2.83L4 21.41c.39.39.9.59 1.41.59.51 0 1.02-.2 1.41-.59l7.78-7.78 2.81-2.81c.8-.78.8-2.07 0-2.86zM5.41 20L4 18.59l7.72-7.72 1.47 1.35L5.41 20z\"/>\n",
              "  </svg>\n",
              "      </button>\n",
              "      \n",
              "  <style>\n",
              "    .colab-df-container {\n",
              "      display:flex;\n",
              "      flex-wrap:wrap;\n",
              "      gap: 12px;\n",
              "    }\n",
              "\n",
              "    .colab-df-convert {\n",
              "      background-color: #E8F0FE;\n",
              "      border: none;\n",
              "      border-radius: 50%;\n",
              "      cursor: pointer;\n",
              "      display: none;\n",
              "      fill: #1967D2;\n",
              "      height: 32px;\n",
              "      padding: 0 0 0 0;\n",
              "      width: 32px;\n",
              "    }\n",
              "\n",
              "    .colab-df-convert:hover {\n",
              "      background-color: #E2EBFA;\n",
              "      box-shadow: 0px 1px 2px rgba(60, 64, 67, 0.3), 0px 1px 3px 1px rgba(60, 64, 67, 0.15);\n",
              "      fill: #174EA6;\n",
              "    }\n",
              "\n",
              "    [theme=dark] .colab-df-convert {\n",
              "      background-color: #3B4455;\n",
              "      fill: #D2E3FC;\n",
              "    }\n",
              "\n",
              "    [theme=dark] .colab-df-convert:hover {\n",
              "      background-color: #434B5C;\n",
              "      box-shadow: 0px 1px 3px 1px rgba(0, 0, 0, 0.15);\n",
              "      filter: drop-shadow(0px 1px 2px rgba(0, 0, 0, 0.3));\n",
              "      fill: #FFFFFF;\n",
              "    }\n",
              "  </style>\n",
              "\n",
              "      <script>\n",
              "        const buttonEl =\n",
              "          document.querySelector('#df-65b614cd-5153-45a6-b201-9b897e769cb7 button.colab-df-convert');\n",
              "        buttonEl.style.display =\n",
              "          google.colab.kernel.accessAllowed ? 'block' : 'none';\n",
              "\n",
              "        async function convertToInteractive(key) {\n",
              "          const element = document.querySelector('#df-65b614cd-5153-45a6-b201-9b897e769cb7');\n",
              "          const dataTable =\n",
              "            await google.colab.kernel.invokeFunction('convertToInteractive',\n",
              "                                                     [key], {});\n",
              "          if (!dataTable) return;\n",
              "\n",
              "          const docLinkHtml = 'Like what you see? Visit the ' +\n",
              "            '<a target=\"_blank\" href=https://colab.research.google.com/notebooks/data_table.ipynb>data table notebook</a>'\n",
              "            + ' to learn more about interactive tables.';\n",
              "          element.innerHTML = '';\n",
              "          dataTable['output_type'] = 'display_data';\n",
              "          await google.colab.output.renderOutput(dataTable, element);\n",
              "          const docLink = document.createElement('div');\n",
              "          docLink.innerHTML = docLinkHtml;\n",
              "          element.appendChild(docLink);\n",
              "        }\n",
              "      </script>\n",
              "    </div>\n",
              "  </div>\n",
              "  "
            ],
            "text/plain": [
              "   accuracy  f1_score  precision  ...      rmse       mae        r2\n",
              "0         0         0          0  ...  0.525337  0.342762  0.740722\n",
              "\n",
              "[1 rows x 8 columns]"
            ]
          },
          "metadata": {},
          "execution_count": 27
        }
      ],
      "source": [
        "# evaluate the model\n",
        "model_eval_metrics(y_val_single, single_step_model.predict(x_val_single), classification=\"FALSE\")"
      ]
    },
    {
      "cell_type": "code",
      "execution_count": null,
      "metadata": {
        "scrolled": false,
        "id": "X7DSWWQb6K3E",
        "outputId": "0c84fc2b-7257-41d2-a6ec-008bfc62780b",
        "colab": {
          "base_uri": "https://localhost:8080/",
          "height": 300
        }
      },
      "outputs": [
        {
          "output_type": "stream",
          "name": "stdout",
          "text": [
            "Test set score: 0.74\n"
          ]
        },
        {
          "output_type": "display_data",
          "data": {
            "image/png": "[encoded data removed]",
            "text/plain": [
              "<Figure size 432x288 with 1 Axes>"
            ]
          },
          "metadata": {
            "needs_background": "light"
          }
        }
      ],
      "source": [
        "# visualize the result\n",
        "\n",
        "plt.plot(y_val_single*data_std[0]+data_mean[0], label=\"actual\")\n",
        "plt.plot(single_step_model.predict(x_val_single)*data_std[0]+data_mean[0], \"r\", linestyle='--', label=\"predict\")\n",
        "plt.legend(loc='best')\n",
        "plt.title('RNN-LSTM: Level')\n",
        "plt.savefig(\"images/google_lstm.png\")\n",
        "\n",
        "print(\"Test set score: {:.2f}\".format(r2_score(y_val_single, single_step_model.predict(x_val_single))))"
      ]
    },
    {
      "cell_type": "markdown",
      "metadata": {
        "id": "Ejf0lB18P4CB"
      },
      "source": [
        "### Weekly Nowcasting"
      ]
    },
    {
      "cell_type": "code",
      "source": [
        "# Get the weekly google trend data (unemployment)\n",
        "pytrends.build_payload(kw_list1, timeframe='today 5-y', geo='JP')\n",
        "#pytrends.build_payload(kw_list, timeframe='2017-01-01 2021-01-16', geo='JP')\n",
        "gt3 = pytrends.interest_over_time()\n",
        "gt3 = gt3.rename(columns = {\"失業\": \"unemployment\", \"isPartial\": \"info\"})\n",
        "gt3.to_csv(\"data/gt3.csv\")\n",
        "dateparse = lambda dates: pd.datetime.strptime(dates, '%Y-%m-%d')\n",
        "gt3 = pd.read_csv('data/gt3.csv', index_col=0, date_parser=dateparse, dtype='float')\n",
        "\n",
        "# Extract trend factor\n",
        "s3 = seasonal_decompose(gt3.iloc[:,0], freq=12, extrapolate_trend='freq')\n",
        "t3 = s3.trend\n",
        "gtw_u = pd.DataFrame(t3)\n",
        "gtw_u.to_csv(\"data/gtw_u.csv\")\n",
        "\n",
        "plt.plot(t3)\n",
        "plt.plot(gt3.iloc[:,0], linestyle='--')"
      ],
      "metadata": {
        "colab": {
          "base_uri": "https://localhost:8080/",
          "height": 322
        },
        "id": "7O7aRY3WPskB",
        "outputId": "9704256a-9b0d-4a42-dca8-4702eecf0b85"
      },
      "execution_count": null,
      "outputs": [
        {
          "output_type": "stream",
          "name": "stderr",
          "text": [
            "/usr/local/lib/python3.7/dist-packages/ipykernel_launcher.py:7: FutureWarning: The pandas.datetime class is deprecated and will be removed from pandas in a future version. Import from datetime module instead.\n",
            "  import sys\n"
          ]
        },
        {
          "output_type": "execute_result",
          "data": {
            "text/plain": [
              "[<matplotlib.lines.Line2D at 0x7fd3f75712d0>]"
            ]
          },
          "metadata": {},
          "execution_count": 29
        },
        {
          "output_type": "display_data",
          "data": {
            "image/png": "[encoded data removed]",
            "text/plain": [
              "<Figure size 432x288 with 1 Axes>"
            ]
          },
          "metadata": {
            "needs_background": "light"
          }
        }
      ]
    },
    {
      "cell_type": "code",
      "source": [
        "# Get the weekly google trend data (saving)\n",
        "pytrends.build_payload(kw_list2, timeframe='today 5-y', geo='JP')\n",
        "#pytrends.build_payload(kw_list, timeframe='2004-01-01 2020-02-29', geo='JP')\n",
        "gt4 = pytrends.interest_over_time()\n",
        "gt4 = gt4.rename(columns = {\"貯金\": \"saving\", \"isPartial\": \"info\"})\n",
        "gt4.to_csv(\"data/gt4.csv\")\n",
        "dateparse = lambda dates: pd.datetime.strptime(dates, '%Y-%m-%d')\n",
        "gt4 = pd.read_csv('data/gt4.csv', index_col=0, date_parser=dateparse, dtype='float')\n",
        "\n",
        "# Extract trend factor\n",
        "s4 = seasonal_decompose(gt4.iloc[:,0], freq=12, extrapolate_trend='freq')\n",
        "t4 = s4.trend\n",
        "gtw_s = pd.DataFrame(t4)\n",
        "gtw_s.to_csv(\"data/gtw_s.csv\")\n",
        "\n",
        "plt.plot(t4)\n",
        "plt.plot(gt4.iloc[:,0], linestyle='--')"
      ],
      "metadata": {
        "colab": {
          "base_uri": "https://localhost:8080/",
          "height": 322
        },
        "id": "x4SyrMQjTCD0",
        "outputId": "c9561757-3dca-48a9-eae5-ab2f22b99b8a"
      },
      "execution_count": null,
      "outputs": [
        {
          "output_type": "stream",
          "name": "stderr",
          "text": [
            "/usr/local/lib/python3.7/dist-packages/ipykernel_launcher.py:7: FutureWarning: The pandas.datetime class is deprecated and will be removed from pandas in a future version. Import from datetime module instead.\n",
            "  import sys\n"
          ]
        },
        {
          "output_type": "execute_result",
          "data": {
            "text/plain": [
              "[<matplotlib.lines.Line2D at 0x7fd3f8263910>]"
            ]
          },
          "metadata": {},
          "execution_count": 30
        },
        {
          "output_type": "display_data",
          "data": {
            "image/png": "[encoded data removed]",
            "text/plain": [
              "<Figure size 432x288 with 1 Axes>"
            ]
          },
          "metadata": {
            "needs_background": "light"
          }
        }
      ]
    },
    {
      "cell_type": "code",
      "source": [
        "# load the weekly ibc data\n",
        "dateparse = lambda dates: pd.datetime.strptime(dates, '%Y-%m-%d')\n",
        "wibc = pd.read_csv('data/wibc.csv', index_col=0, date_parser=dateparse, dtype='float')\n",
        "\n",
        "# merge google trend with ibc data\n",
        "temp = pd.merge(t3, t4, on='date')\n",
        "XX = pd.merge(wibc, temp, on='date')\n",
        "XX"
      ],
      "metadata": {
        "colab": {
          "base_uri": "https://localhost:8080/",
          "height": 488
        },
        "id": "Xpvr-3LGxfT9",
        "outputId": "0bea89b2-571a-4019-8826-d147948b95a5"
      },
      "execution_count": null,
      "outputs": [
        {
          "output_type": "stream",
          "name": "stderr",
          "text": [
            "/usr/local/lib/python3.7/dist-packages/ipykernel_launcher.py:2: FutureWarning: The pandas.datetime class is deprecated and will be removed from pandas in a future version. Import from datetime module instead.\n",
            "  \n"
          ]
        },
        {
          "output_type": "execute_result",
          "data": {
            "text/html": [
              "\n",
              "  <div id=\"df-ea290b86-77da-4141-84cb-ac8c346266c6\">\n",
              "    <div class=\"colab-df-container\">\n",
              "      <div>\n",
              "<style scoped>\n",
              "    .dataframe tbody tr th:only-of-type {\n",
              "        vertical-align: middle;\n",
              "    }\n",
              "\n",
              "    .dataframe tbody tr th {\n",
              "        vertical-align: top;\n",
              "    }\n",
              "\n",
              "    .dataframe thead th {\n",
              "        text-align: right;\n",
              "    }\n",
              "</style>\n",
              "<table border=\"1\" class=\"dataframe\">\n",
              "  <thead>\n",
              "    <tr style=\"text-align: right;\">\n",
              "      <th></th>\n",
              "      <th>ibc</th>\n",
              "      <th>unemployment</th>\n",
              "      <th>saving</th>\n",
              "    </tr>\n",
              "    <tr>\n",
              "      <th>date</th>\n",
              "      <th></th>\n",
              "      <th></th>\n",
              "      <th></th>\n",
              "    </tr>\n",
              "  </thead>\n",
              "  <tbody>\n",
              "    <tr>\n",
              "      <th>2017-01-22</th>\n",
              "      <td>101.5</td>\n",
              "      <td>45.464112</td>\n",
              "      <td>56.331974</td>\n",
              "    </tr>\n",
              "    <tr>\n",
              "      <th>2017-01-29</th>\n",
              "      <td>101.5</td>\n",
              "      <td>45.136315</td>\n",
              "      <td>56.012044</td>\n",
              "    </tr>\n",
              "    <tr>\n",
              "      <th>2017-02-05</th>\n",
              "      <td>102.3</td>\n",
              "      <td>44.808518</td>\n",
              "      <td>55.692113</td>\n",
              "    </tr>\n",
              "    <tr>\n",
              "      <th>2017-02-12</th>\n",
              "      <td>102.3</td>\n",
              "      <td>44.480721</td>\n",
              "      <td>55.372183</td>\n",
              "    </tr>\n",
              "    <tr>\n",
              "      <th>2017-02-19</th>\n",
              "      <td>102.3</td>\n",
              "      <td>44.152923</td>\n",
              "      <td>55.052253</td>\n",
              "    </tr>\n",
              "    <tr>\n",
              "      <th>...</th>\n",
              "      <td>...</td>\n",
              "      <td>...</td>\n",
              "      <td>...</td>\n",
              "    </tr>\n",
              "    <tr>\n",
              "      <th>2021-12-19</th>\n",
              "      <td>NaN</td>\n",
              "      <td>31.115482</td>\n",
              "      <td>43.950466</td>\n",
              "    </tr>\n",
              "    <tr>\n",
              "      <th>2021-12-26</th>\n",
              "      <td>NaN</td>\n",
              "      <td>30.290016</td>\n",
              "      <td>43.194639</td>\n",
              "    </tr>\n",
              "    <tr>\n",
              "      <th>2022-01-02</th>\n",
              "      <td>NaN</td>\n",
              "      <td>29.464549</td>\n",
              "      <td>42.438811</td>\n",
              "    </tr>\n",
              "    <tr>\n",
              "      <th>2022-01-09</th>\n",
              "      <td>NaN</td>\n",
              "      <td>28.639083</td>\n",
              "      <td>41.682984</td>\n",
              "    </tr>\n",
              "    <tr>\n",
              "      <th>2022-01-16</th>\n",
              "      <td>NaN</td>\n",
              "      <td>27.813617</td>\n",
              "      <td>40.927156</td>\n",
              "    </tr>\n",
              "  </tbody>\n",
              "</table>\n",
              "<p>261 rows × 3 columns</p>\n",
              "</div>\n",
              "      <button class=\"colab-df-convert\" onclick=\"convertToInteractive('df-ea290b86-77da-4141-84cb-ac8c346266c6')\"\n",
              "              title=\"Convert this dataframe to an interactive table.\"\n",
              "              style=\"display:none;\">\n",
              "        \n",
              "  <svg xmlns=\"http://www.w3.org/2000/svg\" height=\"24px\"viewBox=\"0 0 24 24\"\n",
              "       width=\"24px\">\n",
              "    <path d=\"M0 0h24v24H0V0z\" fill=\"none\"/>\n",
              "    <path d=\"M18.56 5.44l.94 2.06.94-2.06 2.06-.94-2.06-.94-.94-2.06-.94 2.06-2.06.94zm-11 1L8.5 8.5l.94-2.06 2.06-.94-2.06-.94L8.5 2.5l-.94 2.06-2.06.94zm10 10l.94 2.06.94-2.06 2.06-.94-2.06-.94-.94-2.06-.94 2.06-2.06.94z\"/><path d=\"M17.41 7.96l-1.37-1.37c-.4-.4-.92-.59-1.43-.59-.52 0-1.04.2-1.43.59L10.3 9.45l-7.72 7.72c-.78.78-.78 2.05 0 2.83L4 21.41c.39.39.9.59 1.41.59.51 0 1.02-.2 1.41-.59l7.78-7.78 2.81-2.81c.8-.78.8-2.07 0-2.86zM5.41 20L4 18.59l7.72-7.72 1.47 1.35L5.41 20z\"/>\n",
              "  </svg>\n",
              "      </button>\n",
              "      \n",
              "  <style>\n",
              "    .colab-df-container {\n",
              "      display:flex;\n",
              "      flex-wrap:wrap;\n",
              "      gap: 12px;\n",
              "    }\n",
              "\n",
              "    .colab-df-convert {\n",
              "      background-color: #E8F0FE;\n",
              "      border: none;\n",
              "      border-radius: 50%;\n",
              "      cursor: pointer;\n",
              "      display: none;\n",
              "      fill: #1967D2;\n",
              "      height: 32px;\n",
              "      padding: 0 0 0 0;\n",
              "      width: 32px;\n",
              "    }\n",
              "\n",
              "    .colab-df-convert:hover {\n",
              "      background-color: #E2EBFA;\n",
              "      box-shadow: 0px 1px 2px rgba(60, 64, 67, 0.3), 0px 1px 3px 1px rgba(60, 64, 67, 0.15);\n",
              "      fill: #174EA6;\n",
              "    }\n",
              "\n",
              "    [theme=dark] .colab-df-convert {\n",
              "      background-color: #3B4455;\n",
              "      fill: #D2E3FC;\n",
              "    }\n",
              "\n",
              "    [theme=dark] .colab-df-convert:hover {\n",
              "      background-color: #434B5C;\n",
              "      box-shadow: 0px 1px 3px 1px rgba(0, 0, 0, 0.15);\n",
              "      filter: drop-shadow(0px 1px 2px rgba(0, 0, 0, 0.3));\n",
              "      fill: #FFFFFF;\n",
              "    }\n",
              "  </style>\n",
              "\n",
              "      <script>\n",
              "        const buttonEl =\n",
              "          document.querySelector('#df-ea290b86-77da-4141-84cb-ac8c346266c6 button.colab-df-convert');\n",
              "        buttonEl.style.display =\n",
              "          google.colab.kernel.accessAllowed ? 'block' : 'none';\n",
              "\n",
              "        async function convertToInteractive(key) {\n",
              "          const element = document.querySelector('#df-ea290b86-77da-4141-84cb-ac8c346266c6');\n",
              "          const dataTable =\n",
              "            await google.colab.kernel.invokeFunction('convertToInteractive',\n",
              "                                                     [key], {});\n",
              "          if (!dataTable) return;\n",
              "\n",
              "          const docLinkHtml = 'Like what you see? Visit the ' +\n",
              "            '<a target=\"_blank\" href=https://colab.research.google.com/notebooks/data_table.ipynb>data table notebook</a>'\n",
              "            + ' to learn more about interactive tables.';\n",
              "          element.innerHTML = '';\n",
              "          dataTable['output_type'] = 'display_data';\n",
              "          await google.colab.output.renderOutput(dataTable, element);\n",
              "          const docLink = document.createElement('div');\n",
              "          docLink.innerHTML = docLinkHtml;\n",
              "          element.appendChild(docLink);\n",
              "        }\n",
              "      </script>\n",
              "    </div>\n",
              "  </div>\n",
              "  "
            ],
            "text/plain": [
              "              ibc  unemployment     saving\n",
              "date                                      \n",
              "2017-01-22  101.5     45.464112  56.331974\n",
              "2017-01-29  101.5     45.136315  56.012044\n",
              "2017-02-05  102.3     44.808518  55.692113\n",
              "2017-02-12  102.3     44.480721  55.372183\n",
              "2017-02-19  102.3     44.152923  55.052253\n",
              "...           ...           ...        ...\n",
              "2021-12-19    NaN     31.115482  43.950466\n",
              "2021-12-26    NaN     30.290016  43.194639\n",
              "2022-01-02    NaN     29.464549  42.438811\n",
              "2022-01-09    NaN     28.639083  41.682984\n",
              "2022-01-16    NaN     27.813617  40.927156\n",
              "\n",
              "[261 rows x 3 columns]"
            ]
          },
          "metadata": {},
          "execution_count": 31
        }
      ]
    },
    {
      "cell_type": "code",
      "source": [
        "# feature scaling\n",
        "dataset = XX.iloc[:254,:].values\n",
        "data_mean = dataset.mean(axis=0)\n",
        "data_std = dataset.std(axis=0)\n",
        "dataset = (dataset-data_mean)/data_std\n",
        "\n",
        "# create the test data\n",
        "x_single, y_single = multivariate_data(dataset, dataset[:,0], 0, None, past_history, future_target, STEP, single_step=True)\n",
        "\n",
        "# save the output\n",
        "past_estimate = pd.DataFrame(single_step_model.predict(x_single)*data_std[0]+data_mean[0])\n",
        "plt.plot(past_estimate, \"r\", linestyle='--', label=\"predict\")"
      ],
      "metadata": {
        "colab": {
          "base_uri": "https://localhost:8080/",
          "height": 284
        },
        "id": "HDbhAPQRUeIC",
        "outputId": "c4436dd3-8a7a-4ab2-b2b2-6d7fdc45616d"
      },
      "execution_count": null,
      "outputs": [
        {
          "output_type": "execute_result",
          "data": {
            "text/plain": [
              "[<matplotlib.lines.Line2D at 0x7fd4095fead0>]"
            ]
          },
          "metadata": {},
          "execution_count": 32
        },
        {
          "output_type": "display_data",
          "data": {
            "image/png": "[encoded data removed]",
            "text/plain": [
              "<Figure size 432x288 with 1 Axes>"
            ]
          },
          "metadata": {
            "needs_background": "light"
          }
        }
      ]
    },
    {
      "cell_type": "code",
      "source": [
        "# compare to IBC graph\n",
        "plt.plot(ts.iloc[156:,0:1])"
      ],
      "metadata": {
        "colab": {
          "base_uri": "https://localhost:8080/",
          "height": 284
        },
        "id": "oaVqild0uNfY",
        "outputId": "9346f153-89e6-4ede-a8e0-20101d2a1f7b"
      },
      "execution_count": null,
      "outputs": [
        {
          "output_type": "execute_result",
          "data": {
            "text/plain": [
              "[<matplotlib.lines.Line2D at 0x7fd3f6cdc450>]"
            ]
          },
          "metadata": {},
          "execution_count": 33
        },
        {
          "output_type": "display_data",
          "data": {
            "image/png": "[encoded data removed]",
            "text/plain": [
              "<Figure size 432x288 with 1 Axes>"
            ]
          },
          "metadata": {
            "needs_background": "light"
          }
        }
      ]
    },
    {
      "cell_type": "code",
      "source": [
        "# nowcast the future IBC\n",
        "for i in range(254, len(XX)):\n",
        "  XX.iat[i,0] = float(single_step_model.predict(x_single)[-1]*data_std[0]+data_mean[0])\n",
        "  #XX.iat[i,0] = XX.iat[i-1,0]\n",
        "  temp = XX.iloc[:i+1,:]\n",
        "  print(temp.tail())\n",
        "  print('-----------------------------------------------')\n",
        "\n",
        "  # feature scaling\n",
        "  dataset = temp.values\n",
        "  data_mean = dataset.mean(axis=0)\n",
        "  data_std = dataset.std(axis=0)\n",
        "  dataset = (dataset-data_mean)/data_std\n",
        "  \n",
        "  # create the test data\n",
        "  x_single, y_single = multivariate_data(dataset, dataset[:,0], 0, None, past_history, future_target, STEP, single_step=True)\n",
        "\n",
        "  XX.iat[i,0] = float(single_step_model.predict(x_single)[-1]*data_std[0]+data_mean[0])\n",
        "  print(XX.tail(10))\n",
        "  print('-----------------------------------------------')\n",
        "\n",
        "# save the output\n",
        "future_estimate = pd.DataFrame(XX.iloc[254:len(XX)+1,0])"
      ],
      "metadata": {
        "colab": {
          "base_uri": "https://localhost:8080/"
        },
        "id": "g7bDWewxUo7_",
        "outputId": "cb80d6f8-1d49-463b-a2aa-e1259219f120"
      },
      "execution_count": null,
      "outputs": [
        {
          "output_type": "stream",
          "name": "stdout",
          "text": [
            "                  ibc  unemployment     saving\n",
            "date                                          \n",
            "2021-11-07  93.600000     36.125000  47.791667\n",
            "2021-11-14  93.600000     34.708333  47.458333\n",
            "2021-11-21  93.600000     34.000000  48.166667\n",
            "2021-11-28  93.600000     34.250000  49.958333\n",
            "2021-12-05  95.187416     34.541667  51.666667\n",
            "-----------------------------------------------\n",
            "                  ibc  unemployment     saving\n",
            "date                                          \n",
            "2021-11-14  93.600000     34.708333  47.458333\n",
            "2021-11-21  93.600000     34.000000  48.166667\n",
            "2021-11-28  93.600000     34.250000  49.958333\n",
            "2021-12-05  95.086449     34.541667  51.666667\n",
            "2021-12-12        NaN     31.940948  44.706294\n",
            "2021-12-19        NaN     31.115482  43.950466\n",
            "2021-12-26        NaN     30.290016  43.194639\n",
            "2022-01-02        NaN     29.464549  42.438811\n",
            "2022-01-09        NaN     28.639083  41.682984\n",
            "2022-01-16        NaN     27.813617  40.927156\n",
            "-----------------------------------------------\n",
            "                  ibc  unemployment     saving\n",
            "date                                          \n",
            "2021-11-14  93.600000     34.708333  47.458333\n",
            "2021-11-21  93.600000     34.000000  48.166667\n",
            "2021-11-28  93.600000     34.250000  49.958333\n",
            "2021-12-05  95.086449     34.541667  51.666667\n",
            "2021-12-12  95.086449     31.940948  44.706294\n",
            "-----------------------------------------------\n",
            "                  ibc  unemployment     saving\n",
            "date                                          \n",
            "2021-11-14  93.600000     34.708333  47.458333\n",
            "2021-11-21  93.600000     34.000000  48.166667\n",
            "2021-11-28  93.600000     34.250000  49.958333\n",
            "2021-12-05  95.086449     34.541667  51.666667\n",
            "2021-12-12  95.545662     31.940948  44.706294\n",
            "2021-12-19        NaN     31.115482  43.950466\n",
            "2021-12-26        NaN     30.290016  43.194639\n",
            "2022-01-02        NaN     29.464549  42.438811\n",
            "2022-01-09        NaN     28.639083  41.682984\n",
            "2022-01-16        NaN     27.813617  40.927156\n",
            "-----------------------------------------------\n",
            "                  ibc  unemployment     saving\n",
            "date                                          \n",
            "2021-11-21  93.600000     34.000000  48.166667\n",
            "2021-11-28  93.600000     34.250000  49.958333\n",
            "2021-12-05  95.086449     34.541667  51.666667\n",
            "2021-12-12  95.545662     31.940948  44.706294\n",
            "2021-12-19  95.545662     31.115482  43.950466\n",
            "-----------------------------------------------\n",
            "                  ibc  unemployment     saving\n",
            "date                                          \n",
            "2021-11-14  93.600000     34.708333  47.458333\n",
            "2021-11-21  93.600000     34.000000  48.166667\n",
            "2021-11-28  93.600000     34.250000  49.958333\n",
            "2021-12-05  95.086449     34.541667  51.666667\n",
            "2021-12-12  95.545662     31.940948  44.706294\n",
            "2021-12-19  95.856438     31.115482  43.950466\n",
            "2021-12-26        NaN     30.290016  43.194639\n",
            "2022-01-02        NaN     29.464549  42.438811\n",
            "2022-01-09        NaN     28.639083  41.682984\n",
            "2022-01-16        NaN     27.813617  40.927156\n",
            "-----------------------------------------------\n",
            "                  ibc  unemployment     saving\n",
            "date                                          \n",
            "2021-11-28  93.600000     34.250000  49.958333\n",
            "2021-12-05  95.086449     34.541667  51.666667\n",
            "2021-12-12  95.545662     31.940948  44.706294\n",
            "2021-12-19  95.856438     31.115482  43.950466\n",
            "2021-12-26  95.856438     30.290016  43.194639\n",
            "-----------------------------------------------\n",
            "                  ibc  unemployment     saving\n",
            "date                                          \n",
            "2021-11-14  93.600000     34.708333  47.458333\n",
            "2021-11-21  93.600000     34.000000  48.166667\n",
            "2021-11-28  93.600000     34.250000  49.958333\n",
            "2021-12-05  95.086449     34.541667  51.666667\n",
            "2021-12-12  95.545662     31.940948  44.706294\n",
            "2021-12-19  95.856438     31.115482  43.950466\n",
            "2021-12-26  96.138359     30.290016  43.194639\n",
            "2022-01-02        NaN     29.464549  42.438811\n",
            "2022-01-09        NaN     28.639083  41.682984\n",
            "2022-01-16        NaN     27.813617  40.927156\n",
            "-----------------------------------------------\n",
            "                  ibc  unemployment     saving\n",
            "date                                          \n",
            "2021-12-05  95.086449     34.541667  51.666667\n",
            "2021-12-12  95.545662     31.940948  44.706294\n",
            "2021-12-19  95.856438     31.115482  43.950466\n",
            "2021-12-26  96.138359     30.290016  43.194639\n",
            "2022-01-02  96.138359     29.464549  42.438811\n",
            "-----------------------------------------------\n",
            "                  ibc  unemployment     saving\n",
            "date                                          \n",
            "2021-11-14  93.600000     34.708333  47.458333\n",
            "2021-11-21  93.600000     34.000000  48.166667\n",
            "2021-11-28  93.600000     34.250000  49.958333\n",
            "2021-12-05  95.086449     34.541667  51.666667\n",
            "2021-12-12  95.545662     31.940948  44.706294\n",
            "2021-12-19  95.856438     31.115482  43.950466\n",
            "2021-12-26  96.138359     30.290016  43.194639\n",
            "2022-01-02  96.301323     29.464549  42.438811\n",
            "2022-01-09        NaN     28.639083  41.682984\n",
            "2022-01-16        NaN     27.813617  40.927156\n",
            "-----------------------------------------------\n",
            "                  ibc  unemployment     saving\n",
            "date                                          \n",
            "2021-12-12  95.545662     31.940948  44.706294\n",
            "2021-12-19  95.856438     31.115482  43.950466\n",
            "2021-12-26  96.138359     30.290016  43.194639\n",
            "2022-01-02  96.301323     29.464549  42.438811\n",
            "2022-01-09  96.301323     28.639083  41.682984\n",
            "-----------------------------------------------\n",
            "                  ibc  unemployment     saving\n",
            "date                                          \n",
            "2021-11-14  93.600000     34.708333  47.458333\n",
            "2021-11-21  93.600000     34.000000  48.166667\n",
            "2021-11-28  93.600000     34.250000  49.958333\n",
            "2021-12-05  95.086449     34.541667  51.666667\n",
            "2021-12-12  95.545662     31.940948  44.706294\n",
            "2021-12-19  95.856438     31.115482  43.950466\n",
            "2021-12-26  96.138359     30.290016  43.194639\n",
            "2022-01-02  96.301323     29.464549  42.438811\n",
            "2022-01-09  96.363754     28.639083  41.682984\n",
            "2022-01-16        NaN     27.813617  40.927156\n",
            "-----------------------------------------------\n",
            "                  ibc  unemployment     saving\n",
            "date                                          \n",
            "2021-12-19  95.856438     31.115482  43.950466\n",
            "2021-12-26  96.138359     30.290016  43.194639\n",
            "2022-01-02  96.301323     29.464549  42.438811\n",
            "2022-01-09  96.363754     28.639083  41.682984\n",
            "2022-01-16  96.363754     27.813617  40.927156\n",
            "-----------------------------------------------\n",
            "                  ibc  unemployment     saving\n",
            "date                                          \n",
            "2021-11-14  93.600000     34.708333  47.458333\n",
            "2021-11-21  93.600000     34.000000  48.166667\n",
            "2021-11-28  93.600000     34.250000  49.958333\n",
            "2021-12-05  95.086449     34.541667  51.666667\n",
            "2021-12-12  95.545662     31.940948  44.706294\n",
            "2021-12-19  95.856438     31.115482  43.950466\n",
            "2021-12-26  96.138359     30.290016  43.194639\n",
            "2022-01-02  96.301323     29.464549  42.438811\n",
            "2022-01-09  96.363754     28.639083  41.682984\n",
            "2022-01-16  96.386467     27.813617  40.927156\n",
            "-----------------------------------------------\n"
          ]
        }
      ]
    },
    {
      "cell_type": "code",
      "source": [
        "plt.plot(single_step_model.predict(x_single)*data_std[0]+data_mean[0], \"r\", linestyle='--', label=\"predict\")"
      ],
      "metadata": {
        "colab": {
          "base_uri": "https://localhost:8080/",
          "height": 284
        },
        "id": "x7TLtfvrUxGf",
        "outputId": "0e22e002-91a2-487c-83d5-d17a17e2b986"
      },
      "execution_count": null,
      "outputs": [
        {
          "output_type": "execute_result",
          "data": {
            "text/plain": [
              "[<matplotlib.lines.Line2D at 0x7fd3f81b0a50>]"
            ]
          },
          "metadata": {},
          "execution_count": 35
        },
        {
          "output_type": "display_data",
          "data": {
            "image/png": "[encoded data removed]",
            "text/plain": [
              "<Figure size 432x288 with 1 Axes>"
            ]
          },
          "metadata": {
            "needs_background": "light"
          }
        }
      ]
    },
    {
      "cell_type": "code",
      "source": [
        "new = past_estimate.set_axis(['ibc'], axis='columns')\n",
        "df_concat = pd.concat([new, future_estimate])\n",
        "#df_concat\n",
        "#plt.plot(df_concat, \"r\", linestyle='--', label=\"predict\")"
      ],
      "metadata": {
        "id": "uj5G4K_2lyqj"
      },
      "execution_count": null,
      "outputs": []
    }
  ],
  "metadata": {
    "kernelspec": {
      "display_name": "Python 3",
      "language": "python",
      "name": "python3"
    },
    "language_info": {
      "codemirror_mode": {
        "name": "ipython",
        "version": 3
      },
      "file_extension": ".py",
      "mimetype": "text/x-python",
      "name": "python",
      "nbconvert_exporter": "python",
      "pygments_lexer": "ipython3",
      "version": "3.7.4"
    },
    "colab": {
      "name": "nowcast.ipynb",
      "provenance": [],
      "collapsed_sections": [
        "xflSN4wChbhV",
        "Xr2PamD36Kv_",
        "hiNhjuF-wMpW",
        "WzHv9pQM6K1_",
        "SdD511OM6K2H",
        "PS4NW1Yp6K2O",
        "V32oTQrx6K2j",
        "Klc8ucqV6K3O",
        "HZaPMm-h6K3p",
        "-Hj7JiDF6K32",
        "oTGxVtCn6K3_",
        "e-Goq3qU6K4K",
        "bt9_B3OJ6K4S",
        "hDGFPW506K5E",
        "wz7rYgUU6K5h",
        "jw25VR9e6K5l",
        "qvNQXHc26K5t",
        "sssUeBbs6K5y"
      ],
      "include_colab_link": true
    }
  },
  "nbformat": 4,
  "nbformat_minor": 0
}