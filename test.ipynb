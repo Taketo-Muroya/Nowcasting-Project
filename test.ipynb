{
  "nbformat": 4,
  "nbformat_minor": 0,
  "metadata": {
    "colab": {
      "name": "test.ipynb",
      "provenance": [],
      "authorship_tag": "ABX9TyNn0pKyJ0vZtmnMGGqqJNiV",
      "include_colab_link": true
    },
    "kernelspec": {
      "name": "python3",
      "display_name": "Python 3"
    },
    "language_info": {
      "name": "python"
    }
  },
  "cells": [
    {
      "cell_type": "markdown",
      "metadata": {
        "id": "view-in-github",
        "colab_type": "text"
      },
      "source": [
        "<a href=\"https://colab.research.google.com/github/Taketo-Muroya/Nowcasting-Project/blob/main/test.ipynb\" target=\"_parent\"><img src=\"https://colab.research.google.com/assets/colab-badge.svg\" alt=\"Open In Colab\"/></a>"
      ]
    },
    {
      "cell_type": "code",
      "source": [
        "from time import time\n",
        "import streamlit as st\n",
        "import numpy as np\n",
        "import pandas as pd\n",
        "from PIL import Image\n",
        "\n",
        "st.title(\"Streamlit 超入門\")\n",
        "\n",
        "st.write(\"DataFrame\")\n",
        "\n",
        "df = pd.DataFrame({\n",
        "    '１列目':[1,2,3,4],\n",
        "    '２列名':[10,20,30,40]\n",
        "})\n",
        "\n",
        "st.write(df)\n",
        "\n",
        "st.dataframe(df.style.highlight_max(axis=0), width=500, height=500)\n",
        "\n",
        "st.table(df.style.highlight_max(axis=0))\n",
        "\n",
        "\"\"\"\n",
        "# 章\n",
        "## 節\n",
        "### 項\n",
        "\n",
        "```python\n",
        "import streamlit as st\n",
        "import numpy as np\n",
        "import pandas as pd\n",
        "```\n",
        "\n",
        "\"\"\"\n",
        "\n",
        "df2 = pd.DataFrame(\n",
        "    np.random.rand(20, 3),\n",
        "    columns=['a', 'b', 'c']\n",
        ")\n",
        "\n",
        "st.line_chart(df2)\n",
        "\n",
        "st.area_chart(df2)\n",
        "\n",
        "st.bar_chart(df2)\n",
        "\n",
        "df3 = pd.DataFrame(\n",
        "    np.random.rand(100, 2)/[50, 50] + [35.69, 139.70],\n",
        "    columns=['lat', 'lon']\n",
        ")\n",
        "\n",
        "st.map(df3)\n",
        "\n",
        "st.write('Display Image')\n",
        "img = Image.open('sample.png')\n",
        "st.image(img, caption='Word Cloud', use_column_width=True)\n",
        "\n",
        "# interactive\n",
        "\n",
        "st.write('Display Image')\n",
        "if st.checkbox('Show Image'):\n",
        "    img = Image.open('sample.png')\n",
        "    st.image(img, caption='Word Cloud', use_column_width=True)\n",
        "\n",
        "option = st.selectbox(\n",
        "    'あなたが好きな数字を教えてください。',\n",
        "    list(range(1, 11))\n",
        ")\n",
        "\n",
        "'あなたの式な数字は、', option, 'です。'\n",
        "\n",
        "#txt = st.text_input('あなたの趣味を教えてください')\n",
        "#'あなたの趣味：', txt\n",
        "\n",
        "#con = st.slider('あなたの今の調子は？', 0, 100, 50)\n",
        "#'コンディション：', con\n",
        "\n",
        "# layout\n",
        "\n",
        "st.sidebar.write('Side Bar')\n",
        "\n",
        "txt = st.sidebar.text_input('あなたの趣味を教えてください')\n",
        "'あなたの趣味：', txt\n",
        "\n",
        "con = st.sidebar.slider('あなたの今の調子は？', 0, 100, 50)\n",
        "'コンディション：', con\n",
        "\n",
        "left_column, right_column = st.columns(2)\n",
        "button = left_column.button('右カラムに文字を表示')\n",
        "if button:\n",
        "    right_column.write('ここは右カラム')\n",
        "\n",
        "ex = st.expander('問い合わせ')\n",
        "ex.write('問い合わせ内容を書く')\n",
        "ex.write('問い合わせ内容を書く')\n",
        "ex.write('問い合わせ内容を書く')\n",
        "ex.write('問い合わせ内容を書く')\n",
        "\n",
        "# Progress Bar\n",
        "\n",
        "'Start!!'\n",
        "\n",
        "latest_iteration = st.empty()\n",
        "bar = st.progress(0)\n",
        "\n",
        "import time\n",
        "for i in range(100):\n",
        "    latest_iteration.text(f'Iteration {i+1}')\n",
        "    bar.progress(i+1)\n",
        "    time.sleep(0.1)\n",
        "\n",
        "'Done!!'"
      ],
      "metadata": {
        "colab": {
          "base_uri": "https://localhost:8080/",
          "height": 36
        },
        "id": "KXQWknw4_KXV",
        "outputId": "51d5e4be-ec88-4285-b675-63e53c2935f4"
      },
      "execution_count": 3,
      "outputs": [
        {
          "output_type": "execute_result",
          "data": {
            "application/vnd.google.colaboratory.intrinsic+json": {
              "type": "string"
            },
            "text/plain": [
              "'Done!!'"
            ]
          },
          "metadata": {},
          "execution_count": 3
        }
      ]
    }
  ]
}